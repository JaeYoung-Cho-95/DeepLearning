{
 "cells": [
  {
   "cell_type": "markdown",
   "id": "2472c6ab-2087-406f-92e4-fb29c63a827c",
   "metadata": {},
   "source": [
    "# 5. 오차역전파법"
   ]
  },
  {
   "cell_type": "markdown",
   "id": "1aabb07a-cd68-4324-ba98-e80587f6a355",
   "metadata": {},
   "source": [
    "## 5.1 계산 그래프\n",
    "- 계산 과정을 그래프로 나타낸다.\n",
    "- 노드와 엣지로 표현"
   ]
  },
  {
   "cell_type": "markdown",
   "id": "31bd37c2-d891-4686-bf3d-2fc94c59440b",
   "metadata": {},
   "source": [
    "### 5.1.1 계산 그래프로 풀다.\n",
    "\n",
    "- 노드와 엣지를 이용한 간단한 문제풀이"
   ]
  },
  {
   "cell_type": "markdown",
   "id": "596ed3ba-fb55-4095-af5c-4dab3721bde4",
   "metadata": {},
   "source": [
    "### 5.1.2 국소적 계산\n",
    "- 마지막 계산값과 별개로 노드에서 국소적 계산만 신경쓰면 된다."
   ]
  },
  {
   "cell_type": "markdown",
   "id": "ff143747-7e4e-4be0-8d9e-abca788eb714",
   "metadata": {},
   "source": [
    "### 5.1.3 왜 계산 그래프로 푸는가?\n",
    "- 전체 연산이 복잡해도 각 노드에선는 단순한 계산에 집중해 문제를 단순화 할 수 있다.\n",
    "- 중간 계산 결과를 모두 보관할 수 있다.\n",
    "- 역전파를 통해 미분을 효율적으로 계산할 수 있다."
   ]
  },
  {
   "cell_type": "markdown",
   "id": "01e332ff-29e1-416d-b2cc-0fe8bbdd82ad",
   "metadata": {},
   "source": [
    "## 5.2 연쇄법칙\n",
    "- 각 노드에서 저장되는 미분값들을 이용해 최종 미분값을 효율적으로 계산할 수 있는데, 이 때 사용되는 법칙이다.\n",
    "- 각 노드의 미분식들을 이어붙여 정리해면 된다."
   ]
  },
  {
   "cell_type": "markdown",
   "id": "f14698e9-d434-49c7-90f7-b22a047c05c3",
   "metadata": {},
   "source": [
    "> summary\n",
    "- 계산 그래프를 활용하면 계산과정을 시각적으로 파악할 수 있다.\n",
    "- 계산 그래프의 노드는 국소적 계산으로 구성된다. 국소적 계산을 조합해 전체 계산을 구성한다.\n",
    "- 계산 그래프의 순전파는 통상의 계산을 수행한다. 한편, 계산 그래프의 역전파로는 각 노드의 미분을 구할 수 있다.\n",
    "- 신경망의 구성요소를 계층으로 구현하여 기울기를 효율적으로 계산할 수 있다.(오차역전파)"
   ]
  },
  {
   "cell_type": "code",
   "execution_count": null,
   "id": "4eca84c7-1b0b-4b75-8684-40ddc56c6b1f",
   "metadata": {},
   "outputs": [],
   "source": []
  }
 ],
 "metadata": {
  "kernelspec": {
   "display_name": "Python 3 (ipykernel)",
   "language": "python",
   "name": "python3"
  },
  "language_info": {
   "codemirror_mode": {
    "name": "ipython",
    "version": 3
   },
   "file_extension": ".py",
   "mimetype": "text/x-python",
   "name": "python",
   "nbconvert_exporter": "python",
   "pygments_lexer": "ipython3",
   "version": "3.7.0"
  }
 },
 "nbformat": 4,
 "nbformat_minor": 5
}
