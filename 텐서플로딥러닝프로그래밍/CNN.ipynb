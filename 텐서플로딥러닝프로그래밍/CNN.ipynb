{
 "cells": [
  {
   "cell_type": "code",
   "execution_count": 1,
   "id": "0283edce-4077-47ab-8bee-1ea3afc18b74",
   "metadata": {},
   "outputs": [],
   "source": [
    "import tensorflow as tf\n",
    "import numpy as np"
   ]
  },
  {
   "cell_type": "code",
   "execution_count": 3,
   "id": "2ac68005-03d8-4a19-8fdf-7efee5b18f2c",
   "metadata": {},
   "outputs": [],
   "source": [
    "a = np.array([[1,2,3],[4,5,6],[7,8,9]]).astype('float32')\n",
    "a = a.reshape(-1,3,3,1)"
   ]
  },
  {
   "cell_type": "code",
   "execution_count": 5,
   "id": "4c9f9714-4e30-43e2-a002-0fffe1892f9a",
   "metadata": {},
   "outputs": [
    {
     "data": {
      "text/plain": [
       "(1, 3, 3, 1)"
      ]
     },
     "execution_count": 5,
     "metadata": {},
     "output_type": "execute_result"
    }
   ],
   "source": [
    "a.shape"
   ]
  },
  {
   "cell_type": "code",
   "execution_count": 8,
   "id": "242489be-841e-4b9f-9241-0932bd555033",
   "metadata": {},
   "outputs": [
    {
     "name": "stdout",
     "output_type": "stream",
     "text": [
      "Model: \"sequential_1\"\n",
      "_________________________________________________________________\n",
      "Layer (type)                 Output Shape              Param #   \n",
      "=================================================================\n",
      "zero_padding2d_1 (ZeroPaddin (None, 5, 7, 1)           0         \n",
      "=================================================================\n",
      "Total params: 0\n",
      "Trainable params: 0\n",
      "Non-trainable params: 0\n",
      "_________________________________________________________________\n"
     ]
    }
   ],
   "source": [
    "pads = np.array([[1,1],[2,2]])\n",
    "model = tf.keras.models.Sequential()\n",
    "model.add(tf.keras.layers.Input(shape = a.shape[1:]))\n",
    "model.add(tf.keras.layers.ZeroPadding2D(padding = pads))\n",
    "model.summary()"
   ]
  },
  {
   "cell_type": "code",
   "execution_count": 9,
   "id": "987089a6-97bc-4ffd-bbff-ead0599a623e",
   "metadata": {},
   "outputs": [],
   "source": [
    "output = model(a)"
   ]
  },
  {
   "cell_type": "code",
   "execution_count": 10,
   "id": "897d87f5-9f3e-4724-b5b0-37ac85e946c3",
   "metadata": {},
   "outputs": [
    {
     "data": {
      "text/plain": [
       "<tf.Tensor: shape=(1, 5, 7, 1), dtype=float32, numpy=\n",
       "array([[[[0.],\n",
       "         [0.],\n",
       "         [0.],\n",
       "         [0.],\n",
       "         [0.],\n",
       "         [0.],\n",
       "         [0.]],\n",
       "\n",
       "        [[0.],\n",
       "         [0.],\n",
       "         [1.],\n",
       "         [2.],\n",
       "         [3.],\n",
       "         [0.],\n",
       "         [0.]],\n",
       "\n",
       "        [[0.],\n",
       "         [0.],\n",
       "         [4.],\n",
       "         [5.],\n",
       "         [6.],\n",
       "         [0.],\n",
       "         [0.]],\n",
       "\n",
       "        [[0.],\n",
       "         [0.],\n",
       "         [7.],\n",
       "         [8.],\n",
       "         [9.],\n",
       "         [0.],\n",
       "         [0.]],\n",
       "\n",
       "        [[0.],\n",
       "         [0.],\n",
       "         [0.],\n",
       "         [0.],\n",
       "         [0.],\n",
       "         [0.],\n",
       "         [0.]]]], dtype=float32)>"
      ]
     },
     "execution_count": 10,
     "metadata": {},
     "output_type": "execute_result"
    }
   ],
   "source": [
    "output"
   ]
  },
  {
   "cell_type": "code",
   "execution_count": null,
   "id": "9c16fbaf-cb67-4710-b130-57e8ba9570f5",
   "metadata": {},
   "outputs": [],
   "source": []
  },
  {
   "cell_type": "code",
   "execution_count": null,
   "id": "20aec300-d5f0-484f-b8a2-127dbd0ce476",
   "metadata": {},
   "outputs": [],
   "source": []
  },
  {
   "cell_type": "code",
   "execution_count": null,
   "id": "1d061e76-b92e-4e58-99bc-4469ba2f646f",
   "metadata": {},
   "outputs": [],
   "source": []
  },
  {
   "cell_type": "code",
   "execution_count": null,
   "id": "f54807e6-6355-440b-aab8-2325f17088b7",
   "metadata": {},
   "outputs": [],
   "source": []
  },
  {
   "cell_type": "code",
   "execution_count": 11,
   "id": "54f22eb9-09b2-44b6-b496-41fa5d7b7071",
   "metadata": {},
   "outputs": [],
   "source": [
    "import tensorflow as tf\n",
    "import numpy as np"
   ]
  },
  {
   "cell_type": "code",
   "execution_count": 12,
   "id": "c1264299-3693-4956-9df5-3cbaa2170108",
   "metadata": {},
   "outputs": [],
   "source": [
    "A = np.array([[1,2,3,4,5],[4,3,2,1,0],[5,6,7,8,9],[4,3,2,1,0],[0,1,2,3,4]]).astype('float32')\n",
    "A = A.reshape(-1,5,5,1)"
   ]
  },
  {
   "cell_type": "code",
   "execution_count": 14,
   "id": "f4051f43-1262-4f4b-8389-f15848cfaff7",
   "metadata": {},
   "outputs": [
    {
     "name": "stdout",
     "output_type": "stream",
     "text": [
      "Model: \"sequential_2\"\n",
      "_________________________________________________________________\n",
      "Layer (type)                 Output Shape              Param #   \n",
      "=================================================================\n",
      "max_pooling2d (MaxPooling2D) (None, 2, 2, 1)           0         \n",
      "=================================================================\n",
      "Total params: 0\n",
      "Trainable params: 0\n",
      "Non-trainable params: 0\n",
      "_________________________________________________________________\n"
     ]
    }
   ],
   "source": [
    "model = tf.keras.models.Sequential()\n",
    "model.add(tf.keras.layers.Input(shape = (5,5,1)))\n",
    "model.add(tf.keras.layers.MaxPool2D())\n",
    "model.summary()"
   ]
  },
  {
   "cell_type": "code",
   "execution_count": 15,
   "id": "2ccfab0b-1654-4974-b3c4-92b590c8825e",
   "metadata": {},
   "outputs": [],
   "source": [
    "B = model.predict(A)"
   ]
  },
  {
   "cell_type": "code",
   "execution_count": 16,
   "id": "301e29ce-784b-45c9-afd7-afd9220433d2",
   "metadata": {},
   "outputs": [
    {
     "data": {
      "text/plain": [
       "array([[[[4.],\n",
       "         [4.]],\n",
       "\n",
       "        [[6.],\n",
       "         [8.]]]], dtype=float32)"
      ]
     },
     "execution_count": 16,
     "metadata": {},
     "output_type": "execute_result"
    }
   ],
   "source": [
    "B"
   ]
  },
  {
   "cell_type": "code",
   "execution_count": null,
   "id": "71fd3e7e-f71f-4a30-a525-541cebba1355",
   "metadata": {},
   "outputs": [],
   "source": []
  },
  {
   "cell_type": "code",
   "execution_count": null,
   "id": "cdeeb045-c835-4bf7-91fb-34d4ba3fece4",
   "metadata": {},
   "outputs": [],
   "source": []
  },
  {
   "cell_type": "code",
   "execution_count": 20,
   "id": "57d7ff1f-bc7d-4986-a501-334dbc28a355",
   "metadata": {},
   "outputs": [],
   "source": [
    "import tensorflow as tf\n",
    "import numpy as np\n",
    "from tensorflow.keras.datasets import cifar10\n",
    "import matplotlib.pyplot as plt"
   ]
  },
  {
   "cell_type": "code",
   "execution_count": 21,
   "id": "4cae1eb9-b355-4471-9f97-adad04cc3b99",
   "metadata": {},
   "outputs": [],
   "source": [
    "(x_train, y_train),(x_test, y_test) = cifar10.load_data()\n",
    "x_train = x_train.astype('float32')\n",
    "x_test = x_test.astype('float32')\n",
    "x_train = x_train / 255.0\n",
    "x_test = x_test / 255.0"
   ]
  },
  {
   "cell_type": "code",
   "execution_count": 28,
   "id": "ffffbacf-19d6-4574-8a29-c57bc1174450",
   "metadata": {},
   "outputs": [],
   "source": [
    "y_train = tf.keras.utils.to_categorical(y_train)\n",
    "y_test = tf.keras.utils.to_categorical(y_test)"
   ]
  },
  {
   "cell_type": "code",
   "execution_count": 30,
   "id": "b3e0e16a-5898-4656-9bfc-28198ece57aa",
   "metadata": {},
   "outputs": [
    {
     "data": {
      "text/plain": [
       "(50000, 32, 32, 3)"
      ]
     },
     "execution_count": 30,
     "metadata": {},
     "output_type": "execute_result"
    }
   ],
   "source": [
    "x_train.shape"
   ]
  },
  {
   "cell_type": "code",
   "execution_count": 32,
   "id": "34c1f866-51de-43d2-b0be-5748ec2ca5d9",
   "metadata": {},
   "outputs": [
    {
     "name": "stdout",
     "output_type": "stream",
     "text": [
      "Model: \"sequential_4\"\n",
      "_________________________________________________________________\n",
      "Layer (type)                 Output Shape              Param #   \n",
      "=================================================================\n",
      "max_pooling2d_1 (MaxPooling2 (None, 16, 16, 3)         0         \n",
      "=================================================================\n",
      "Total params: 0\n",
      "Trainable params: 0\n",
      "Non-trainable params: 0\n",
      "_________________________________________________________________\n"
     ]
    }
   ],
   "source": [
    "model = tf.keras.models.Sequential()\n",
    "model.add(tf.keras.layers.Input(shape = x_train.shape[1:]))\n",
    "model.add(tf.keras.layers.MaxPool2D())\n",
    "model.summary()"
   ]
  },
  {
   "cell_type": "code",
   "execution_count": 33,
   "id": "ed2fa9ee-09a3-403a-98a9-6a894b0aaf07",
   "metadata": {},
   "outputs": [],
   "source": [
    "output = model.predict(x_train[:8])"
   ]
  },
  {
   "cell_type": "code",
   "execution_count": 38,
   "id": "5775675d-8a2e-44d5-aa44-c3c262f8397e",
   "metadata": {
    "scrolled": true,
    "tags": []
   },
   "outputs": [
    {
     "data": {
      "text/plain": [
       "array([[[[0.23137255, 0.24313726, 0.24705882],\n",
       "         [0.26666668, 0.21176471, 0.16862746],\n",
       "         [0.47058824, 0.35686275, 0.24705882],\n",
       "         ...,\n",
       "         [0.65882355, 0.53333336, 0.42352942],\n",
       "         [0.61960787, 0.5176471 , 0.42352942],\n",
       "         [0.59607846, 0.49019608, 0.40392157]],\n",
       "\n",
       "        [[0.14901961, 0.09803922, 0.08235294],\n",
       "         [0.41568628, 0.24705882, 0.10980392],\n",
       "         [0.5058824 , 0.36078432, 0.21176471],\n",
       "         ...,\n",
       "         [0.5568628 , 0.4117647 , 0.26666668],\n",
       "         [0.50980395, 0.36862746, 0.22745098],\n",
       "         [0.4745098 , 0.33333334, 0.19607843]],\n",
       "\n",
       "        [[0.32941177, 0.20784314, 0.11372549],\n",
       "         [0.5058824 , 0.32156864, 0.15294118],\n",
       "         [0.53333336, 0.34509805, 0.1764706 ],\n",
       "         ...,\n",
       "         [0.4745098 , 0.3137255 , 0.1764706 ],\n",
       "         [0.40392157, 0.2627451 , 0.1254902 ],\n",
       "         [0.29411766, 0.18431373, 0.09803922]],\n",
       "\n",
       "        ...,\n",
       "\n",
       "        [[0.84705883, 0.68235296, 0.34117648],\n",
       "         [0.65882355, 0.47843137, 0.13725491],\n",
       "         [0.5254902 , 0.34509805, 0.19215687],\n",
       "         ...,\n",
       "         [0.56078434, 0.41960785, 0.22352941],\n",
       "         [0.84313726, 0.7176471 , 0.41568628],\n",
       "         [0.7294118 , 0.60784316, 0.35686275]],\n",
       "\n",
       "        [[0.8627451 , 0.7137255 , 0.3764706 ],\n",
       "         [0.7764706 , 0.6313726 , 0.10980392],\n",
       "         [0.7176471 , 0.57254905, 0.13333334],\n",
       "         ...,\n",
       "         [0.49803922, 0.39607844, 0.23137255],\n",
       "         [0.7294118 , 0.60784316, 0.38431373],\n",
       "         [0.21960784, 0.13333334, 0.07843138]],\n",
       "\n",
       "        [[0.7058824 , 0.5647059 , 0.45490196],\n",
       "         [0.7607843 , 0.6       , 0.34117648],\n",
       "         [0.85490197, 0.7411765 , 0.29803923],\n",
       "         ...,\n",
       "         [0.40392157, 0.30588236, 0.22352941],\n",
       "         [0.84705883, 0.72156864, 0.54901963],\n",
       "         [0.5921569 , 0.4627451 , 0.32941177]]],\n",
       "\n",
       "\n",
       "       [[[0.6039216 , 0.69411767, 0.73333335],\n",
       "         [0.49019608, 0.5058824 , 0.5176471 ],\n",
       "         [0.60784316, 0.6509804 , 0.7058824 ],\n",
       "         ...,\n",
       "         [0.32941177, 0.3372549 , 0.29803923],\n",
       "         [0.3764706 , 0.3882353 , 0.32941177],\n",
       "         [0.34117648, 0.3529412 , 0.2784314 ]],\n",
       "\n",
       "        [[0.54901963, 0.60784316, 0.6431373 ],\n",
       "         [0.5764706 , 0.6       , 0.62352943],\n",
       "         [0.70980394, 0.75686276, 0.7764706 ],\n",
       "         ...,\n",
       "         [0.38039216, 0.39215687, 0.3137255 ],\n",
       "         [0.3529412 , 0.3647059 , 0.29411766],\n",
       "         [0.2784314 , 0.28627452, 0.23137255]],\n",
       "\n",
       "        [[0.5529412 , 0.58431375, 0.64705884],\n",
       "         [0.7294118 , 0.7294118 , 0.74509805],\n",
       "         [0.84313726, 0.8627451 , 0.8901961 ],\n",
       "         ...,\n",
       "         [0.38431373, 0.3882353 , 0.3019608 ],\n",
       "         [0.29803923, 0.3019608 , 0.23529412],\n",
       "         [0.35686275, 0.3647059 , 0.31764707]],\n",
       "\n",
       "        ...,\n",
       "\n",
       "        [[0.68235296, 0.6431373 , 0.6745098 ],\n",
       "         [0.4862745 , 0.49411765, 0.54901963],\n",
       "         [0.5764706 , 0.5803922 , 0.627451  ],\n",
       "         ...,\n",
       "         [0.28235295, 0.2509804 , 0.2627451 ],\n",
       "         [0.40392157, 0.42352942, 0.48235294],\n",
       "         [0.4862745 , 0.48235294, 0.52156866]],\n",
       "\n",
       "        [[0.6862745 , 0.654902  , 0.6509804 ],\n",
       "         [0.6039216 , 0.627451  , 0.6666667 ],\n",
       "         [0.6313726 , 0.6039216 , 0.67058825],\n",
       "         ...,\n",
       "         [0.3372549 , 0.31764707, 0.34117648],\n",
       "         [0.3019608 , 0.3019608 , 0.32941177],\n",
       "         [0.36862746, 0.34509805, 0.36862746]],\n",
       "\n",
       "        [[0.64705884, 0.6039216 , 0.50980395],\n",
       "         [0.6392157 , 0.6313726 , 0.5568628 ],\n",
       "         [0.4       , 0.36078432, 0.40784314],\n",
       "         ...,\n",
       "         [0.5254902 , 0.49803922, 0.52156866],\n",
       "         [0.56078434, 0.52156866, 0.54509807],\n",
       "         [0.56078434, 0.5254902 , 0.5647059 ]]],\n",
       "\n",
       "\n",
       "       [[[1.        , 1.        , 1.        ],\n",
       "         [1.        , 1.        , 1.        ],\n",
       "         [1.        , 1.        , 1.        ],\n",
       "         ...,\n",
       "         [1.        , 1.        , 1.        ],\n",
       "         [1.        , 1.        , 1.        ],\n",
       "         [1.        , 1.        , 1.        ]],\n",
       "\n",
       "        [[1.        , 1.        , 1.        ],\n",
       "         [1.        , 1.        , 1.        ],\n",
       "         [1.        , 1.        , 1.        ],\n",
       "         ...,\n",
       "         [1.        , 1.        , 1.        ],\n",
       "         [1.        , 1.        , 1.        ],\n",
       "         [1.        , 1.        , 1.        ]],\n",
       "\n",
       "        [[1.        , 1.        , 1.        ],\n",
       "         [1.        , 1.        , 1.        ],\n",
       "         [1.        , 1.        , 1.        ],\n",
       "         ...,\n",
       "         [1.        , 1.        , 1.        ],\n",
       "         [1.        , 1.        , 1.        ],\n",
       "         [1.        , 1.        , 1.        ]],\n",
       "\n",
       "        ...,\n",
       "\n",
       "        [[0.39215687, 0.41568628, 0.39607844],\n",
       "         [0.38039216, 0.40392157, 0.39215687],\n",
       "         [0.34901962, 0.39215687, 0.38039216],\n",
       "         ...,\n",
       "         [0.2509804 , 0.30588236, 0.31764707],\n",
       "         [0.2509804 , 0.2901961 , 0.29803923],\n",
       "         [0.28627452, 0.3254902 , 0.32941177]],\n",
       "\n",
       "        [[0.44313726, 0.47058824, 0.4392157 ],\n",
       "         [0.43137255, 0.45490196, 0.44313726],\n",
       "         [0.34901962, 0.39215687, 0.3764706 ],\n",
       "         ...,\n",
       "         [0.22352941, 0.2784314 , 0.28235295],\n",
       "         [0.28235295, 0.31764707, 0.31764707],\n",
       "         [0.29803923, 0.33333334, 0.3372549 ]],\n",
       "\n",
       "        [[0.43529412, 0.4627451 , 0.43137255],\n",
       "         [0.3882353 , 0.41568628, 0.38431373],\n",
       "         [0.32156864, 0.36078432, 0.34117648],\n",
       "         ...,\n",
       "         [0.24313726, 0.29803923, 0.29803923],\n",
       "         [0.30588236, 0.33333334, 0.3254902 ],\n",
       "         [0.3137255 , 0.3372549 , 0.32941177]]],\n",
       "\n",
       "\n",
       "       ...,\n",
       "\n",
       "\n",
       "       [[[0.62352943, 0.4       , 0.39607844],\n",
       "         [0.60784316, 0.4862745 , 0.47843137],\n",
       "         [0.72156864, 0.58431375, 0.5372549 ],\n",
       "         ...,\n",
       "         [0.41960785, 0.3019608 , 0.22745098],\n",
       "         [0.49803922, 0.4117647 , 0.2784314 ],\n",
       "         [0.47843137, 0.43529412, 0.3647059 ]],\n",
       "\n",
       "        [[0.42745098, 0.27450982, 0.29803923],\n",
       "         [0.4117647 , 0.3019608 , 0.32941177],\n",
       "         [0.6431373 , 0.37254903, 0.40392157],\n",
       "         ...,\n",
       "         [0.5176471 , 0.4       , 0.3647059 ],\n",
       "         [0.5372549 , 0.4392157 , 0.43137255],\n",
       "         [0.6431373 , 0.5176471 , 0.4117647 ]],\n",
       "\n",
       "        [[0.5764706 , 0.37254903, 0.3137255 ],\n",
       "         [0.7647059 , 0.39215687, 0.39607844],\n",
       "         [0.69411767, 0.39607844, 0.3529412 ],\n",
       "         ...,\n",
       "         [0.3882353 , 0.31764707, 0.40784314],\n",
       "         [0.6156863 , 0.5764706 , 0.65882355],\n",
       "         [0.67058825, 0.57254905, 0.627451  ]],\n",
       "\n",
       "        ...,\n",
       "\n",
       "        [[0.9607843 , 0.5058824 , 0.27058825],\n",
       "         [0.9411765 , 0.4627451 , 0.23529412],\n",
       "         [0.92941177, 0.4627451 , 0.21176471],\n",
       "         ...,\n",
       "         [0.4862745 , 0.14117648, 0.08235294],\n",
       "         [0.7647059 , 0.3372549 , 0.20784314],\n",
       "         [0.92156863, 0.39215687, 0.21568628]],\n",
       "\n",
       "        [[0.95686275, 0.5058824 , 0.27450982],\n",
       "         [0.94509804, 0.49019608, 0.27058825],\n",
       "         [0.94509804, 0.45882353, 0.23137255],\n",
       "         ...,\n",
       "         [0.49803922, 0.14117648, 0.04705882],\n",
       "         [0.6392157 , 0.2       , 0.10196079],\n",
       "         [0.8117647 , 0.31764707, 0.16862746]],\n",
       "\n",
       "        [[0.9647059 , 0.54509807, 0.32156864],\n",
       "         [0.95686275, 0.53333336, 0.31764707],\n",
       "         [0.9529412 , 0.49411765, 0.27058825],\n",
       "         ...,\n",
       "         [0.5803922 , 0.14509805, 0.0627451 ],\n",
       "         [0.6509804 , 0.18431373, 0.05490196],\n",
       "         [0.7529412 , 0.25490198, 0.10588235]]],\n",
       "\n",
       "\n",
       "       [[[0.654902  , 0.8352941 , 0.32941177],\n",
       "         [0.5058824 , 0.61960787, 0.4509804 ],\n",
       "         [0.57254905, 0.6666667 , 0.4862745 ],\n",
       "         ...,\n",
       "         [0.5882353 , 0.73333335, 0.47058824],\n",
       "         [0.48235294, 0.62352943, 0.34509805],\n",
       "         [0.42352942, 0.5764706 , 0.28235295]],\n",
       "\n",
       "        [[0.5568628 , 0.75686276, 0.28627452],\n",
       "         [0.59607846, 0.7921569 , 0.49803922],\n",
       "         [0.5372549 , 0.6862745 , 0.47843137],\n",
       "         ...,\n",
       "         [0.5294118 , 0.69411767, 0.41960785],\n",
       "         [0.42352942, 0.5647059 , 0.32941177],\n",
       "         [0.32941177, 0.47058824, 0.22745098]],\n",
       "\n",
       "        [[0.39607844, 0.6       , 0.2509804 ],\n",
       "         [0.47058824, 0.6745098 , 0.3137255 ],\n",
       "         [0.5254902 , 0.7254902 , 0.38039216],\n",
       "         ...,\n",
       "         [0.41960785, 0.58431375, 0.32156864],\n",
       "         [0.38431373, 0.5294118 , 0.27450982],\n",
       "         [0.3254902 , 0.4627451 , 0.24313726]],\n",
       "\n",
       "        ...,\n",
       "\n",
       "        [[0.68235296, 0.7490196 , 0.6666667 ],\n",
       "         [0.6666667 , 0.6627451 , 0.6313726 ],\n",
       "         [0.4745098 , 0.53333336, 0.19215687],\n",
       "         ...,\n",
       "         [0.3372549 , 0.49411765, 0.12156863],\n",
       "         [0.5372549 , 0.7176471 , 0.2784314 ],\n",
       "         [0.6862745 , 0.8627451 , 0.3647059 ]],\n",
       "\n",
       "        [[0.5803922 , 0.6509804 , 0.4745098 ],\n",
       "         [0.5803922 , 0.6627451 , 0.36078432],\n",
       "         [0.5686275 , 0.65882355, 0.29803923],\n",
       "         ...,\n",
       "         [0.26666668, 0.3647059 , 0.12941177],\n",
       "         [0.39607844, 0.57254905, 0.1764706 ],\n",
       "         [0.5372549 , 0.7372549 , 0.21960784]],\n",
       "\n",
       "        [[0.7176471 , 0.7137255 , 0.45490196],\n",
       "         [0.6039216 , 0.6784314 , 0.39215687],\n",
       "         [0.5921569 , 0.74509805, 0.3254902 ],\n",
       "         ...,\n",
       "         [0.43137255, 0.6156863 , 0.2509804 ],\n",
       "         [0.43137255, 0.6039216 , 0.16078432],\n",
       "         [0.49803922, 0.69803923, 0.1882353 ]]],\n",
       "\n",
       "\n",
       "       [[[0.11764706, 0.13725491, 0.17254902],\n",
       "         [0.24313726, 0.3254902 , 0.28235295],\n",
       "         [0.24705882, 0.32941177, 0.28235295],\n",
       "         ...,\n",
       "         [0.35686275, 0.4745098 , 0.3137255 ],\n",
       "         [0.4392157 , 0.53333336, 0.38039216],\n",
       "         [0.45882353, 0.54901963, 0.39607844]],\n",
       "\n",
       "        [[0.19215687, 0.20392157, 0.1882353 ],\n",
       "         [0.21568628, 0.23921569, 0.25882354],\n",
       "         [0.3254902 , 0.37254903, 0.3372549 ],\n",
       "         ...,\n",
       "         [0.79607844, 0.8784314 , 0.6156863 ],\n",
       "         [0.7529412 , 0.8862745 , 0.5882353 ],\n",
       "         [0.7411765 , 0.8784314 , 0.5764706 ]],\n",
       "\n",
       "        [[0.58431375, 0.6862745 , 0.50980395],\n",
       "         [0.31764707, 0.2901961 , 0.25882354],\n",
       "         [0.18039216, 0.16862746, 0.2       ],\n",
       "         ...,\n",
       "         [0.70980394, 0.72156864, 0.5137255 ],\n",
       "         [0.74509805, 0.87058824, 0.57254905],\n",
       "         [0.7529412 , 0.88235295, 0.5803922 ]],\n",
       "\n",
       "        ...,\n",
       "\n",
       "        [[0.69803923, 0.83137256, 0.56078434],\n",
       "         [0.7529412 , 0.88235295, 0.59607846],\n",
       "         [0.77254903, 0.9019608 , 0.6313726 ],\n",
       "         ...,\n",
       "         [0.5137255 , 0.6509804 , 0.42352942],\n",
       "         [0.5294118 , 0.65882355, 0.4392157 ],\n",
       "         [0.5254902 , 0.6431373 , 0.45490196]],\n",
       "\n",
       "        [[0.61960787, 0.7490196 , 0.49803922],\n",
       "         [0.6901961 , 0.81960785, 0.5647059 ],\n",
       "         [0.7294118 , 0.85490197, 0.5921569 ],\n",
       "         ...,\n",
       "         [0.5411765 , 0.6862745 , 0.4745098 ],\n",
       "         [0.5254902 , 0.6862745 , 0.46666667],\n",
       "         [0.5254902 , 0.6862745 , 0.46666667]],\n",
       "\n",
       "        [[0.5686275 , 0.7058824 , 0.5058824 ],\n",
       "         [0.5882353 , 0.7294118 , 0.5254902 ],\n",
       "         [0.54509807, 0.67058825, 0.47058824],\n",
       "         ...,\n",
       "         [0.5686275 , 0.7176471 , 0.5019608 ],\n",
       "         [0.5568628 , 0.7058824 , 0.49411765],\n",
       "         [0.50980395, 0.6666667 , 0.46666667]]]], dtype=float32)"
      ]
     },
     "execution_count": 38,
     "metadata": {},
     "output_type": "execute_result"
    }
   ],
   "source": [
    "output"
   ]
  },
  {
   "cell_type": "code",
   "execution_count": null,
   "id": "4d5b1310-72b8-4e14-9e7c-42f9761ce903",
   "metadata": {},
   "outputs": [],
   "source": []
  },
  {
   "cell_type": "code",
   "execution_count": null,
   "id": "ba34b196-04e9-4b87-a44a-d1b075782b84",
   "metadata": {},
   "outputs": [],
   "source": []
  },
  {
   "cell_type": "code",
   "execution_count": 40,
   "id": "ea010951-3b9c-464b-ab15-21801aeb9009",
   "metadata": {},
   "outputs": [],
   "source": [
    "import tensorflow as tf\n",
    "from tensorflow.keras.datasets import cifar10\n",
    "import numpy as np\n",
    "import matplotlib.pyplot as plt"
   ]
  },
  {
   "cell_type": "code",
   "execution_count": 53,
   "id": "3d4caf70-110b-4476-9424-9a766fa56b4c",
   "metadata": {},
   "outputs": [],
   "source": [
    "(x_train, y_train),(x_test, y_test) = cifar10.load_data()"
   ]
  },
  {
   "cell_type": "code",
   "execution_count": 54,
   "id": "7fe01303-53af-43dc-82b3-c73198626d42",
   "metadata": {},
   "outputs": [],
   "source": [
    "x_train = x_train.astype('float32')\n",
    "x_test = x_test.astype('float32')"
   ]
  },
  {
   "cell_type": "code",
   "execution_count": 58,
   "id": "58ece2c8-6481-4f42-b5ad-633411f21903",
   "metadata": {},
   "outputs": [
    {
     "name": "stdout",
     "output_type": "stream",
     "text": [
      "Model: \"sequential_7\"\n",
      "_________________________________________________________________\n",
      "Layer (type)                 Output Shape              Param #   \n",
      "=================================================================\n",
      "conv2d (Conv2D)              (None, 32, 32, 1)         28        \n",
      "=================================================================\n",
      "Total params: 28\n",
      "Trainable params: 28\n",
      "Non-trainable params: 0\n",
      "_________________________________________________________________\n"
     ]
    }
   ],
   "source": [
    "model = tf.keras.Sequential()\n",
    "model.add(tf.keras.layers.Input(shape = x_train.shape[1:]))\n",
    "model.add(tf.keras.layers.Conv2D(filters = 1,kernel_size = (3,3), padding = 'same', strides = (1,1)))\n",
    "model.summary()"
   ]
  },
  {
   "cell_type": "code",
   "execution_count": 55,
   "id": "1371088d-d69c-4824-80b5-215d8304fb4d",
   "metadata": {},
   "outputs": [
    {
     "data": {
      "text/plain": [
       "(50000, 32, 32, 3)"
      ]
     },
     "execution_count": 55,
     "metadata": {},
     "output_type": "execute_result"
    }
   ],
   "source": [
    "x_train.shape"
   ]
  },
  {
   "cell_type": "code",
   "execution_count": null,
   "id": "92b13527-47ec-483d-be88-82c9264f1568",
   "metadata": {},
   "outputs": [],
   "source": []
  },
  {
   "cell_type": "code",
   "execution_count": null,
   "id": "f4f0b0c7-6eae-4b7c-a1a7-14c3638b63bb",
   "metadata": {},
   "outputs": [],
   "source": []
  },
  {
   "cell_type": "code",
   "execution_count": 62,
   "id": "641539fe-298f-4d5f-b9d0-93a8049b7167",
   "metadata": {},
   "outputs": [],
   "source": [
    "import tensorflow as tf\n",
    "import numpy as np\n",
    "from tensorflow.keras.datasets import mnist\n",
    "from tensorflow.keras.callbacks import TensorBoard\n",
    "from tensorflow.keras.layers import Input, Dense, Conv2D, MaxPool2D, BatchNormalization, Dropout, Flatten\n",
    "from tensorflow.keras.optimizers import RMSprop"
   ]
  },
  {
   "cell_type": "code",
   "execution_count": 83,
   "id": "75c50c3f-4223-48d5-9c68-3c905522388f",
   "metadata": {},
   "outputs": [],
   "source": [
    "(x_train, y_train), (x_test, y_test) = mnist.load_data()\n",
    "x_train = x_train.astype('float32')\n",
    "x_test = x_test.astype('float32')\n",
    "x_train = x_train / 255.0\n",
    "x_test = x_test / 255.0\n",
    "x_train = x_train.reshape(-1,28,28,1)\n",
    "x_test = x_test.reshape(-1,28,28,1)\n",
    "\n",
    "y_train = tf.keras.utils.to_categorical(y_train)\n",
    "y_test = tf.keras.utils.to_categorical(y_test)"
   ]
  },
  {
   "cell_type": "code",
   "execution_count": 85,
   "id": "3ffbd094-dd64-429d-8f3b-9c848f0c6d45",
   "metadata": {},
   "outputs": [
    {
     "name": "stdout",
     "output_type": "stream",
     "text": [
      "Model: \"sequential_12\"\n",
      "_________________________________________________________________\n",
      "Layer (type)                 Output Shape              Param #   \n",
      "=================================================================\n",
      "conv2d_4 (Conv2D)            (None, 26, 26, 16)        160       \n",
      "_________________________________________________________________\n",
      "batch_normalization_1 (Batch (None, 26, 26, 16)        64        \n",
      "_________________________________________________________________\n",
      "max_pooling2d_4 (MaxPooling2 (None, 13, 13, 16)        0         \n",
      "_________________________________________________________________\n",
      "conv2d_5 (Conv2D)            (None, 11, 11, 32)        4640      \n",
      "_________________________________________________________________\n",
      "max_pooling2d_5 (MaxPooling2 (None, 5, 5, 32)          0         \n",
      "_________________________________________________________________\n",
      "dropout_1 (Dropout)          (None, 5, 5, 32)          0         \n",
      "_________________________________________________________________\n",
      "flatten_1 (Flatten)          (None, 800)               0         \n",
      "_________________________________________________________________\n",
      "dense_1 (Dense)              (None, 10)                8010      \n",
      "=================================================================\n",
      "Total params: 12,874\n",
      "Trainable params: 12,842\n",
      "Non-trainable params: 32\n",
      "_________________________________________________________________\n"
     ]
    }
   ],
   "source": [
    "model = tf.keras.models.Sequential()\n",
    "model.add(Input(shape = (28,28,1)))\n",
    "model.add(Conv2D(filters=16,kernel_size = (3,3),activation = 'relu'))\n",
    "model.add(BatchNormalization())\n",
    "model.add(MaxPool2D())\n",
    "\n",
    "model.add(Conv2D(filters=32,kernel_size = (3,3), activation = 'relu'))\n",
    "model.add(MaxPool2D())\n",
    "model.add(Dropout(rate = 0.2))\n",
    "\n",
    "model.add(Flatten())\n",
    "model.add(Dense(units =10,activation = 'softmax'))\n",
    "model.summary()"
   ]
  },
  {
   "cell_type": "code",
   "execution_count": 88,
   "id": "282e63a7-6054-4c5e-ac00-3dec4f0be5b8",
   "metadata": {},
   "outputs": [],
   "source": [
    "model.compile(optimizer=RMSprop(learning_rate=0.01),loss = 'categorical_crossentropy',metrics=['accuracy'])\n",
    "\n",
    "import os\n",
    "path = './log/20210926_2/'\n",
    "if not os.path.isdir(path):\n",
    "    os.mkdir(path)\n",
    "callback = TensorBoard(log_dir = path)"
   ]
  },
  {
   "cell_type": "code",
   "execution_count": 93,
   "id": "2038ac3e-7bff-49a4-a0d6-a17ed3de72a6",
   "metadata": {},
   "outputs": [
    {
     "data": {
      "text/plain": [
       "<tensorflow.python.keras.callbacks.History at 0x233f9e39a58>"
      ]
     },
     "execution_count": 93,
     "metadata": {},
     "output_type": "execute_result"
    }
   ],
   "source": [
    "model.fit(x_train, y_train, epochs=100, batch_size = 200, callbacks=[callback], validation_split=0.2, verbose = 0)"
   ]
  },
  {
   "cell_type": "code",
   "execution_count": null,
   "id": "694fd3ca-3df1-4881-87ef-f33476f465d9",
   "metadata": {},
   "outputs": [],
   "source": []
  },
  {
   "cell_type": "code",
   "execution_count": 94,
   "id": "b47d63b8-2aaf-4992-a7b0-4a84cc308821",
   "metadata": {},
   "outputs": [],
   "source": [
    "import tensorflow as tf\n",
    "import numpy as np\n",
    "from tensorflow.keras.models import Sequential\n",
    "from tensorflow.keras.layers import Input, Conv2D, MaxPool2D, BatchNormalization, Dropout, Flatten, Dense\n",
    "from tensorflow.keras.optimizers import RMSprop\n",
    "from tensorflow.keras.callbacks import TensorBoard"
   ]
  },
  {
   "cell_type": "code",
   "execution_count": 95,
   "id": "349b539a-c156-46ea-a3bb-97944023f84c",
   "metadata": {},
   "outputs": [
    {
     "name": "stdout",
     "output_type": "stream",
     "text": [
      "Downloading data from https://www.cs.toronto.edu/~kriz/cifar-100-python.tar.gz\n",
      "169009152/169001437 [==============================] - 37s 0us/step\n"
     ]
    }
   ],
   "source": [
    "(x_train, y_train),(x_test, y_test) = tf.keras.datasets.cifar100.load_data()"
   ]
  },
  {
   "cell_type": "code",
   "execution_count": 97,
   "id": "3126dd44-13e0-467a-9fca-ca35fbe61fdf",
   "metadata": {},
   "outputs": [],
   "source": [
    "x_train = x_train.astype('float32')\n",
    "x_test = x_test.astype('float32')\n",
    "x_train = x_train /255.0\n",
    "x_test = x_test / 255.0"
   ]
  },
  {
   "cell_type": "code",
   "execution_count": 99,
   "id": "385b4a7c-395e-493e-97f5-ed8f24829292",
   "metadata": {},
   "outputs": [],
   "source": [
    "y_train = tf.keras.utils.to_categorical(y_train)\n",
    "y_test = tf.keras.utils.to_categorical(y_test)"
   ]
  },
  {
   "cell_type": "code",
   "execution_count": 106,
   "id": "114d7cec-c3e0-4f69-b117-e3ad3419b77d",
   "metadata": {},
   "outputs": [
    {
     "name": "stdout",
     "output_type": "stream",
     "text": [
      "Model: \"sequential_15\"\n",
      "_________________________________________________________________\n",
      "Layer (type)                 Output Shape              Param #   \n",
      "=================================================================\n",
      "conv2d_10 (Conv2D)           (None, 32, 32, 16)        448       \n",
      "_________________________________________________________________\n",
      "batch_normalization_4 (Batch (None, 32, 32, 16)        64        \n",
      "_________________________________________________________________\n",
      "max_pooling2d_10 (MaxPooling (None, 16, 16, 16)        0         \n",
      "_________________________________________________________________\n",
      "conv2d_11 (Conv2D)           (None, 16, 16, 32)        4640      \n",
      "_________________________________________________________________\n",
      "batch_normalization_5 (Batch (None, 16, 16, 32)        128       \n",
      "_________________________________________________________________\n",
      "max_pooling2d_11 (MaxPooling (None, 8, 8, 32)          0         \n",
      "_________________________________________________________________\n",
      "dropout_4 (Dropout)          (None, 8, 8, 32)          0         \n",
      "_________________________________________________________________\n",
      "conv2d_12 (Conv2D)           (None, 8, 8, 64)          18496     \n",
      "_________________________________________________________________\n",
      "batch_normalization_6 (Batch (None, 8, 8, 64)          256       \n",
      "_________________________________________________________________\n",
      "max_pooling2d_12 (MaxPooling (None, 4, 4, 64)          0         \n",
      "_________________________________________________________________\n",
      "dropout_5 (Dropout)          (None, 4, 4, 64)          0         \n",
      "_________________________________________________________________\n",
      "flatten_4 (Flatten)          (None, 1024)              0         \n",
      "_________________________________________________________________\n",
      "dense_4 (Dense)              (None, 100)               102500    \n",
      "=================================================================\n",
      "Total params: 126,532\n",
      "Trainable params: 126,308\n",
      "Non-trainable params: 224\n",
      "_________________________________________________________________\n"
     ]
    }
   ],
   "source": [
    "model = Sequential()\n",
    "model.add(Input(shape = x_train.shape[1:]))\n",
    "model.add(Conv2D(filters = 16, kernel_size = (3,3), padding = 'same',activation = 'relu'))\n",
    "model.add(BatchNormalization())\n",
    "model.add(MaxPool2D())\n",
    "\n",
    "model.add(Conv2D(filters=32, kernel_size = (3,3), padding = 'same',activation = 'relu'))\n",
    "model.add(BatchNormalization())\n",
    "model.add(MaxPool2D())\n",
    "model.add(Dropout(rate = 0.25))\n",
    "\n",
    "model.add(Conv2D(filters=64, kernel_size = (3,3), padding = 'same',activation = 'relu'))\n",
    "model.add(BatchNormalization())\n",
    "model.add(MaxPool2D())\n",
    "model.add(Dropout(rate = 0.5))\n",
    "\n",
    "model.add(Flatten())\n",
    "model.add(Dense(units=100, activation = 'softmax'))\n",
    "\n",
    "model.summary()"
   ]
  },
  {
   "cell_type": "code",
   "execution_count": 111,
   "id": "33ba3389-7ed2-490e-b3c5-3c1485af95a8",
   "metadata": {},
   "outputs": [
    {
     "name": "stdout",
     "output_type": "stream",
     "text": [
      "Epoch 1/100\n",
      "200/200 - 4s - loss: 2.6056 - accuracy: 0.3582 - val_loss: 2.3103 - val_accuracy: 0.4162\n",
      "Epoch 2/100\n",
      "200/200 - 2s - loss: 2.3522 - accuracy: 0.4011 - val_loss: 2.3185 - val_accuracy: 0.4099\n",
      "Epoch 3/100\n",
      "200/200 - 2s - loss: 2.2803 - accuracy: 0.4154 - val_loss: 2.2058 - val_accuracy: 0.4357\n",
      "Epoch 4/100\n",
      "200/200 - 2s - loss: 2.2166 - accuracy: 0.4286 - val_loss: 2.2180 - val_accuracy: 0.4268\n",
      "Epoch 5/100\n",
      "200/200 - 2s - loss: 2.1913 - accuracy: 0.4326 - val_loss: 2.2034 - val_accuracy: 0.4355\n",
      "Epoch 6/100\n",
      "200/200 - 2s - loss: 2.1574 - accuracy: 0.4424 - val_loss: 2.2582 - val_accuracy: 0.4205\n",
      "Epoch 7/100\n",
      "200/200 - 2s - loss: 2.1497 - accuracy: 0.4426 - val_loss: 2.1723 - val_accuracy: 0.4414\n",
      "Epoch 8/100\n",
      "200/200 - 2s - loss: 2.1244 - accuracy: 0.4445 - val_loss: 2.3701 - val_accuracy: 0.3993\n",
      "Epoch 9/100\n",
      "200/200 - 2s - loss: 2.1166 - accuracy: 0.4478 - val_loss: 2.1670 - val_accuracy: 0.4407\n",
      "Epoch 10/100\n",
      "200/200 - 2s - loss: 2.0880 - accuracy: 0.4516 - val_loss: 2.1490 - val_accuracy: 0.4475\n",
      "Epoch 11/100\n",
      "200/200 - 2s - loss: 2.0808 - accuracy: 0.4543 - val_loss: 2.2750 - val_accuracy: 0.4255\n",
      "Epoch 12/100\n",
      "200/200 - 2s - loss: 2.0725 - accuracy: 0.4556 - val_loss: 2.1737 - val_accuracy: 0.4380\n",
      "Epoch 13/100\n",
      "200/200 - 2s - loss: 2.0628 - accuracy: 0.4590 - val_loss: 2.1201 - val_accuracy: 0.4518\n",
      "Epoch 14/100\n",
      "200/200 - 2s - loss: 2.0551 - accuracy: 0.4600 - val_loss: 2.2911 - val_accuracy: 0.4191\n",
      "Epoch 15/100\n",
      "200/200 - 2s - loss: 2.0454 - accuracy: 0.4610 - val_loss: 2.1057 - val_accuracy: 0.4579\n",
      "Epoch 16/100\n",
      "200/200 - 2s - loss: 2.0365 - accuracy: 0.4633 - val_loss: 2.1073 - val_accuracy: 0.4518\n",
      "Epoch 17/100\n",
      "200/200 - 2s - loss: 2.0175 - accuracy: 0.4688 - val_loss: 2.1672 - val_accuracy: 0.4380\n",
      "Epoch 18/100\n",
      "200/200 - 2s - loss: 2.0150 - accuracy: 0.4718 - val_loss: 2.4752 - val_accuracy: 0.3890\n",
      "Epoch 19/100\n",
      "200/200 - 2s - loss: 2.0006 - accuracy: 0.4708 - val_loss: 2.1312 - val_accuracy: 0.4516\n",
      "Epoch 20/100\n",
      "200/200 - 2s - loss: 1.9995 - accuracy: 0.4728 - val_loss: 2.1817 - val_accuracy: 0.4378\n",
      "Epoch 21/100\n",
      "200/200 - 2s - loss: 2.0021 - accuracy: 0.4730 - val_loss: 2.0654 - val_accuracy: 0.4657\n",
      "Epoch 22/100\n",
      "200/200 - 2s - loss: 1.9842 - accuracy: 0.4770 - val_loss: 2.1311 - val_accuracy: 0.4510\n",
      "Epoch 23/100\n",
      "200/200 - 2s - loss: 1.9783 - accuracy: 0.4761 - val_loss: 2.1137 - val_accuracy: 0.4536\n",
      "Epoch 24/100\n",
      "200/200 - 2s - loss: 1.9757 - accuracy: 0.4760 - val_loss: 2.0713 - val_accuracy: 0.4602\n",
      "Epoch 25/100\n",
      "200/200 - 2s - loss: 1.9648 - accuracy: 0.4777 - val_loss: 2.2273 - val_accuracy: 0.4332\n",
      "Epoch 26/100\n",
      "200/200 - 2s - loss: 1.9709 - accuracy: 0.4770 - val_loss: 2.1943 - val_accuracy: 0.4315\n",
      "Epoch 27/100\n",
      "200/200 - 2s - loss: 1.9537 - accuracy: 0.4803 - val_loss: 2.2563 - val_accuracy: 0.4211\n",
      "Epoch 28/100\n",
      "200/200 - 2s - loss: 1.9530 - accuracy: 0.4823 - val_loss: 2.0440 - val_accuracy: 0.4756\n",
      "Epoch 29/100\n",
      "200/200 - 2s - loss: 1.9538 - accuracy: 0.4830 - val_loss: 2.2267 - val_accuracy: 0.4308\n",
      "Epoch 30/100\n",
      "200/200 - 2s - loss: 1.9541 - accuracy: 0.4829 - val_loss: 2.3643 - val_accuracy: 0.4053\n",
      "Epoch 31/100\n",
      "200/200 - 2s - loss: 1.9336 - accuracy: 0.4855 - val_loss: 2.0860 - val_accuracy: 0.4625\n",
      "Epoch 32/100\n",
      "200/200 - 2s - loss: 1.9360 - accuracy: 0.4852 - val_loss: 2.1161 - val_accuracy: 0.4568\n",
      "Epoch 33/100\n",
      "200/200 - 2s - loss: 1.9251 - accuracy: 0.4871 - val_loss: 2.0619 - val_accuracy: 0.4637\n",
      "Epoch 34/100\n",
      "200/200 - 2s - loss: 1.9306 - accuracy: 0.4836 - val_loss: 2.0619 - val_accuracy: 0.4671\n",
      "Epoch 35/100\n",
      "200/200 - 2s - loss: 1.9065 - accuracy: 0.4936 - val_loss: 2.2066 - val_accuracy: 0.4399\n",
      "Epoch 36/100\n",
      "200/200 - 2s - loss: 1.9119 - accuracy: 0.4905 - val_loss: 2.2083 - val_accuracy: 0.4309\n",
      "Epoch 37/100\n",
      "200/200 - 2s - loss: 1.9114 - accuracy: 0.4916 - val_loss: 2.0262 - val_accuracy: 0.4685\n",
      "Epoch 38/100\n",
      "200/200 - 2s - loss: 1.8976 - accuracy: 0.4939 - val_loss: 2.1236 - val_accuracy: 0.4453\n",
      "Epoch 39/100\n",
      "200/200 - 2s - loss: 1.9027 - accuracy: 0.4948 - val_loss: 2.0143 - val_accuracy: 0.4747\n",
      "Epoch 40/100\n",
      "200/200 - 2s - loss: 1.8967 - accuracy: 0.4946 - val_loss: 2.1391 - val_accuracy: 0.4512\n",
      "Epoch 41/100\n",
      "200/200 - 2s - loss: 1.9016 - accuracy: 0.4933 - val_loss: 2.1046 - val_accuracy: 0.4590\n",
      "Epoch 42/100\n",
      "200/200 - 2s - loss: 1.8882 - accuracy: 0.4961 - val_loss: 2.0718 - val_accuracy: 0.4615\n",
      "Epoch 43/100\n",
      "200/200 - 2s - loss: 1.8852 - accuracy: 0.4947 - val_loss: 2.0484 - val_accuracy: 0.4642\n",
      "Epoch 44/100\n",
      "200/200 - 2s - loss: 1.8885 - accuracy: 0.4954 - val_loss: 2.0732 - val_accuracy: 0.4590\n",
      "Epoch 45/100\n",
      "200/200 - 2s - loss: 1.8799 - accuracy: 0.4981 - val_loss: 2.1202 - val_accuracy: 0.4486\n",
      "Epoch 46/100\n",
      "200/200 - 2s - loss: 1.8728 - accuracy: 0.5017 - val_loss: 2.0188 - val_accuracy: 0.4771\n",
      "Epoch 47/100\n",
      "200/200 - 2s - loss: 1.8763 - accuracy: 0.4979 - val_loss: 2.1154 - val_accuracy: 0.4481\n",
      "Epoch 48/100\n",
      "200/200 - 2s - loss: 1.8683 - accuracy: 0.5006 - val_loss: 2.1738 - val_accuracy: 0.4476\n",
      "Epoch 49/100\n",
      "200/200 - 2s - loss: 1.8667 - accuracy: 0.5003 - val_loss: 2.0211 - val_accuracy: 0.4773\n",
      "Epoch 50/100\n",
      "200/200 - 2s - loss: 1.8602 - accuracy: 0.5015 - val_loss: 2.0609 - val_accuracy: 0.4630\n",
      "Epoch 51/100\n",
      "200/200 - 2s - loss: 1.8576 - accuracy: 0.5032 - val_loss: 2.0529 - val_accuracy: 0.4622\n",
      "Epoch 52/100\n",
      "200/200 - 2s - loss: 1.8627 - accuracy: 0.5011 - val_loss: 2.0614 - val_accuracy: 0.4693\n",
      "Epoch 53/100\n",
      "200/200 - 2s - loss: 1.8597 - accuracy: 0.5046 - val_loss: 2.1542 - val_accuracy: 0.4509\n",
      "Epoch 54/100\n",
      "200/200 - 2s - loss: 1.8572 - accuracy: 0.5048 - val_loss: 2.0431 - val_accuracy: 0.4727\n",
      "Epoch 55/100\n",
      "200/200 - 2s - loss: 1.8412 - accuracy: 0.5077 - val_loss: 2.3064 - val_accuracy: 0.4172\n",
      "Epoch 56/100\n",
      "200/200 - 2s - loss: 1.8435 - accuracy: 0.5047 - val_loss: 2.0699 - val_accuracy: 0.4609\n",
      "Epoch 57/100\n",
      "200/200 - 2s - loss: 1.8431 - accuracy: 0.5066 - val_loss: 2.0404 - val_accuracy: 0.4656\n",
      "Epoch 58/100\n",
      "200/200 - 2s - loss: 1.8370 - accuracy: 0.5067 - val_loss: 2.0189 - val_accuracy: 0.4749\n",
      "Epoch 59/100\n",
      "200/200 - 2s - loss: 1.8443 - accuracy: 0.5071 - val_loss: 2.4849 - val_accuracy: 0.3872\n",
      "Epoch 60/100\n",
      "200/200 - 2s - loss: 1.8485 - accuracy: 0.5015 - val_loss: 2.0210 - val_accuracy: 0.4687\n",
      "Epoch 61/100\n",
      "200/200 - 2s - loss: 1.8384 - accuracy: 0.5043 - val_loss: 2.1730 - val_accuracy: 0.4399\n",
      "Epoch 62/100\n",
      "200/200 - 2s - loss: 1.8347 - accuracy: 0.5080 - val_loss: 2.0327 - val_accuracy: 0.4716\n",
      "Epoch 63/100\n",
      "200/200 - 2s - loss: 1.8222 - accuracy: 0.5091 - val_loss: 2.0647 - val_accuracy: 0.4673\n",
      "Epoch 64/100\n",
      "200/200 - 2s - loss: 1.8221 - accuracy: 0.5110 - val_loss: 2.0839 - val_accuracy: 0.4586\n",
      "Epoch 65/100\n",
      "200/200 - 2s - loss: 1.8292 - accuracy: 0.5072 - val_loss: 2.1661 - val_accuracy: 0.4473\n",
      "Epoch 66/100\n",
      "200/200 - 2s - loss: 1.8306 - accuracy: 0.5089 - val_loss: 2.0342 - val_accuracy: 0.4685\n",
      "Epoch 67/100\n",
      "200/200 - 2s - loss: 1.8244 - accuracy: 0.5112 - val_loss: 2.0959 - val_accuracy: 0.4643\n",
      "Epoch 68/100\n",
      "200/200 - 2s - loss: 1.8156 - accuracy: 0.5114 - val_loss: 2.0031 - val_accuracy: 0.4777\n",
      "Epoch 69/100\n",
      "200/200 - 2s - loss: 1.8217 - accuracy: 0.5091 - val_loss: 1.9965 - val_accuracy: 0.4808\n",
      "Epoch 70/100\n",
      "200/200 - 2s - loss: 1.8167 - accuracy: 0.5105 - val_loss: 2.0468 - val_accuracy: 0.4737\n",
      "Epoch 71/100\n",
      "200/200 - 2s - loss: 1.8128 - accuracy: 0.5120 - val_loss: 2.2328 - val_accuracy: 0.4344\n",
      "Epoch 72/100\n",
      "200/200 - 2s - loss: 1.8042 - accuracy: 0.5148 - val_loss: 2.2614 - val_accuracy: 0.4335\n",
      "Epoch 73/100\n",
      "200/200 - 2s - loss: 1.8113 - accuracy: 0.5124 - val_loss: 2.2334 - val_accuracy: 0.4316\n",
      "Epoch 74/100\n",
      "200/200 - 2s - loss: 1.8090 - accuracy: 0.5126 - val_loss: 2.1619 - val_accuracy: 0.4459\n",
      "Epoch 75/100\n",
      "200/200 - 2s - loss: 1.8046 - accuracy: 0.5132 - val_loss: 2.0635 - val_accuracy: 0.4638\n",
      "Epoch 76/100\n",
      "200/200 - 2s - loss: 1.8024 - accuracy: 0.5152 - val_loss: 2.1387 - val_accuracy: 0.4477\n",
      "Epoch 77/100\n",
      "200/200 - 2s - loss: 1.7975 - accuracy: 0.5162 - val_loss: 2.0792 - val_accuracy: 0.4608\n",
      "Epoch 78/100\n",
      "200/200 - 2s - loss: 1.8044 - accuracy: 0.5117 - val_loss: 2.1169 - val_accuracy: 0.4561\n",
      "Epoch 79/100\n",
      "200/200 - 2s - loss: 1.8008 - accuracy: 0.5175 - val_loss: 2.0723 - val_accuracy: 0.4566\n",
      "Epoch 80/100\n",
      "200/200 - 2s - loss: 1.7882 - accuracy: 0.5174 - val_loss: 2.0025 - val_accuracy: 0.4786\n",
      "Epoch 81/100\n",
      "200/200 - 2s - loss: 1.8011 - accuracy: 0.5141 - val_loss: 1.9698 - val_accuracy: 0.4835\n",
      "Epoch 82/100\n",
      "200/200 - 2s - loss: 1.7960 - accuracy: 0.5167 - val_loss: 1.9879 - val_accuracy: 0.4812\n",
      "Epoch 83/100\n",
      "200/200 - 2s - loss: 1.7843 - accuracy: 0.5175 - val_loss: 2.0552 - val_accuracy: 0.4635\n",
      "Epoch 84/100\n",
      "200/200 - 2s - loss: 1.7921 - accuracy: 0.5181 - val_loss: 2.1170 - val_accuracy: 0.4491\n",
      "Epoch 85/100\n",
      "200/200 - 2s - loss: 1.8002 - accuracy: 0.5150 - val_loss: 2.0793 - val_accuracy: 0.4647\n",
      "Epoch 86/100\n",
      "200/200 - 2s - loss: 1.7872 - accuracy: 0.5197 - val_loss: 2.2340 - val_accuracy: 0.4357\n",
      "Epoch 87/100\n",
      "200/200 - 2s - loss: 1.7885 - accuracy: 0.5178 - val_loss: 2.1317 - val_accuracy: 0.4556\n",
      "Epoch 88/100\n",
      "200/200 - 2s - loss: 1.7878 - accuracy: 0.5156 - val_loss: 2.0799 - val_accuracy: 0.4597\n",
      "Epoch 89/100\n",
      "200/200 - 2s - loss: 1.7784 - accuracy: 0.5213 - val_loss: 2.1035 - val_accuracy: 0.4552\n",
      "Epoch 90/100\n",
      "200/200 - 2s - loss: 1.7819 - accuracy: 0.5186 - val_loss: 1.9726 - val_accuracy: 0.4866\n",
      "Epoch 91/100\n",
      "200/200 - 2s - loss: 1.7848 - accuracy: 0.5175 - val_loss: 2.0125 - val_accuracy: 0.4740\n",
      "Epoch 92/100\n",
      "200/200 - 2s - loss: 1.7796 - accuracy: 0.5189 - val_loss: 2.0636 - val_accuracy: 0.4714\n",
      "Epoch 93/100\n",
      "200/200 - 2s - loss: 1.7798 - accuracy: 0.5205 - val_loss: 2.1633 - val_accuracy: 0.4452\n",
      "Epoch 94/100\n",
      "200/200 - 2s - loss: 1.7684 - accuracy: 0.5226 - val_loss: 2.2007 - val_accuracy: 0.4345\n",
      "Epoch 95/100\n",
      "200/200 - 2s - loss: 1.7736 - accuracy: 0.5185 - val_loss: 2.0767 - val_accuracy: 0.4653\n",
      "Epoch 96/100\n",
      "200/200 - 2s - loss: 1.7814 - accuracy: 0.5218 - val_loss: 1.9552 - val_accuracy: 0.4872\n",
      "Epoch 97/100\n",
      "200/200 - 2s - loss: 1.7754 - accuracy: 0.5223 - val_loss: 2.0450 - val_accuracy: 0.4713\n",
      "Epoch 98/100\n",
      "200/200 - 2s - loss: 1.7644 - accuracy: 0.5221 - val_loss: 1.9621 - val_accuracy: 0.4890\n",
      "Epoch 99/100\n",
      "200/200 - 2s - loss: 1.7655 - accuracy: 0.5213 - val_loss: 2.0398 - val_accuracy: 0.4682\n",
      "Epoch 100/100\n",
      "200/200 - 2s - loss: 1.7600 - accuracy: 0.5215 - val_loss: 2.0456 - val_accuracy: 0.4711\n"
     ]
    },
    {
     "data": {
      "text/plain": [
       "<tensorflow.python.keras.callbacks.History at 0x2344435a710>"
      ]
     },
     "execution_count": 111,
     "metadata": {},
     "output_type": "execute_result"
    }
   ],
   "source": [
    "model.compile(optimizer=RMSprop(), loss = 'categorical_crossentropy', metrics = ['accuracy'])\n",
    "os.mkdir('./log/20210926_4/')\n",
    "callback_1 = TensorBoard(log_dir = './log/20210926_4/')\n",
    "model.fit(x_train, y_train, validation_split=0.2, epochs = 100, batch_size = 200, callbacks=[callback_1],verbose=2)"
   ]
  },
  {
   "cell_type": "code",
   "execution_count": null,
   "id": "17d912c5-9f3c-4dc8-96f8-061afd7ce6c6",
   "metadata": {},
   "outputs": [],
   "source": []
  }
 ],
 "metadata": {
  "kernelspec": {
   "display_name": "Python 3 (ipykernel)",
   "language": "python",
   "name": "python3"
  },
  "language_info": {
   "codemirror_mode": {
    "name": "ipython",
    "version": 3
   },
   "file_extension": ".py",
   "mimetype": "text/x-python",
   "name": "python",
   "nbconvert_exporter": "python",
   "pygments_lexer": "ipython3",
   "version": "3.7.1"
  }
 },
 "nbformat": 4,
 "nbformat_minor": 5
}
