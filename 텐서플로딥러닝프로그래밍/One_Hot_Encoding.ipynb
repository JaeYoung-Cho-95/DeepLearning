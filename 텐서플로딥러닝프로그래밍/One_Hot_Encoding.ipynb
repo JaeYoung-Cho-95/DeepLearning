{
 "cells": [
  {
   "cell_type": "markdown",
   "id": "710ba69f-c651-41cc-8347-041d948844e6",
   "metadata": {},
   "source": [
    "# 1. one_hot_encoding"
   ]
  },
  {
   "cell_type": "code",
   "execution_count": 5,
   "id": "a8f95132-f63b-447f-9d65-f743565f5122",
   "metadata": {},
   "outputs": [],
   "source": [
    "import tensorflow as tf\n",
    "import numpy as np"
   ]
  },
  {
   "cell_type": "code",
   "execution_count": 6,
   "id": "a05ca2f4-68ba-4b55-9c21-635ebe07ca02",
   "metadata": {},
   "outputs": [
    {
     "name": "stdout",
     "output_type": "stream",
     "text": [
      "[0 1 2 3 4 5 6 7 8 9]\n"
     ]
    }
   ],
   "source": [
    "y = np.arange(10)\n",
    "print(y)"
   ]
  },
  {
   "cell_type": "code",
   "execution_count": 7,
   "id": "8480393b-f125-480c-beaa-336016cc60c6",
   "metadata": {},
   "outputs": [],
   "source": [
    "from tensorflow.keras.utils import to_categorical\n",
    "y1 = tf.keras.utils.to_categorical(y)"
   ]
  },
  {
   "cell_type": "code",
   "execution_count": 8,
   "id": "99178ef2-04d4-4e56-858f-c45294074a70",
   "metadata": {},
   "outputs": [
    {
     "data": {
      "text/plain": [
       "array([[1., 0., 0., 0., 0., 0., 0., 0., 0., 0.],\n",
       "       [0., 1., 0., 0., 0., 0., 0., 0., 0., 0.],\n",
       "       [0., 0., 1., 0., 0., 0., 0., 0., 0., 0.],\n",
       "       [0., 0., 0., 1., 0., 0., 0., 0., 0., 0.],\n",
       "       [0., 0., 0., 0., 1., 0., 0., 0., 0., 0.],\n",
       "       [0., 0., 0., 0., 0., 1., 0., 0., 0., 0.],\n",
       "       [0., 0., 0., 0., 0., 0., 1., 0., 0., 0.],\n",
       "       [0., 0., 0., 0., 0., 0., 0., 1., 0., 0.],\n",
       "       [0., 0., 0., 0., 0., 0., 0., 0., 1., 0.],\n",
       "       [0., 0., 0., 0., 0., 0., 0., 0., 0., 1.]], dtype=float32)"
      ]
     },
     "execution_count": 8,
     "metadata": {},
     "output_type": "execute_result"
    }
   ],
   "source": [
    "y1"
   ]
  },
  {
   "cell_type": "markdown",
   "id": "2da3f77c-da59-44b2-8f72-61e260be2242",
   "metadata": {},
   "source": [
    "# 2. 분류문제(or recognition 문제)에서 loss function"
   ]
  },
  {
   "cell_type": "markdown",
   "id": "315c3900-44fc-464a-8a5b-a0a74f0aa918",
   "metadata": {},
   "source": [
    "## 만약, 이진분류 문제 라면?\n",
    "- 출력층의 활성화 함수 : sigmoid\n",
    "- 손실함수 : binary_crossenctropy"
   ]
  },
  {
   "cell_type": "markdown",
   "id": "16bd5429-398b-4abe-be3e-f95be6c1df7b",
   "metadata": {},
   "source": [
    "## 만약, 다중분류 문제 라면?\n",
    "- 출력층의 활성화 함수 : softmax\n",
    "- 손실함수 : sparse_categorical_crossentropy"
   ]
  },
  {
   "cell_type": "markdown",
   "id": "adfbcc8d-ca66-4d55-8798-556b9bbf55a0",
   "metadata": {},
   "source": [
    "# 3. 활성화 함수"
   ]
  },
  {
   "cell_type": "markdown",
   "id": "c7e25b1c-a5a3-418b-8c8c-8116dd48e8e3",
   "metadata": {},
   "source": [
    "from tensorflow.keras.layers import Dense\n",
    "\n",
    "1. Dense(units,activation='linear') \n",
    "- x 그대로 출력\n",
    "\n",
    "2. Dense(units,activation='sigmoid')\n",
    "- 0~1 범위값으로 출력\n",
    "\n",
    "3. Dense(units,activation='tanh')\n",
    "- -1~1 범위값으로 출력\n",
    "\n",
    "4. Dense(units,activation='relu')\n",
    "- 양수는 그대로, 음수는 0으로 변환해 출력\n",
    "\n",
    "5. Dense(units,activation=tf.keras.layers.LeakyReLU())\n",
    "- 양수는 그대로, 음수는 조금 변환\n",
    "\n",
    "6. Dense(units,activation='softmax')\n",
    "- 지수함수를 사용해 입력 벡터 x를 확률로 변환해 출력"
   ]
  }
 ],
 "metadata": {
  "kernelspec": {
   "display_name": "Python 3 (ipykernel)",
   "language": "python",
   "name": "python3"
  },
  "language_info": {
   "codemirror_mode": {
    "name": "ipython",
    "version": 3
   },
   "file_extension": ".py",
   "mimetype": "text/x-python",
   "name": "python",
   "nbconvert_exporter": "python",
   "pygments_lexer": "ipython3",
   "version": "3.7.1"
  }
 },
 "nbformat": 4,
 "nbformat_minor": 5
}
