{
 "cells": [
  {
   "cell_type": "markdown",
   "id": "a6a57feb-7c2b-40f4-8ece-d25e80af8418",
   "metadata": {},
   "source": [
    "# 모델 저장 및 로드"
   ]
  },
  {
   "cell_type": "code",
   "execution_count": 42,
   "id": "4b0c4781-5604-440d-b13b-847a8b3fd6be",
   "metadata": {},
   "outputs": [],
   "source": [
    "from tensorflow.keras.models import Model\n",
    "from tensorflow.keras.layers import Dense, Input\n",
    "from tensorflow.keras.optimizers import RMSprop\n",
    "import numpy as np"
   ]
  },
  {
   "cell_type": "code",
   "execution_count": 43,
   "id": "d3e72125-c3e3-4851-a0a6-6bd54a18e946",
   "metadata": {},
   "outputs": [],
   "source": [
    "import tensorflow as tf\n",
    "def dataset(train_size = 100):\n",
    "    tf.random.set_seed(1)\n",
    "    x = tf.linspace(-5.0, 5.0, num = train_size)\n",
    "    y = 3.0 * x ** 3 + 2.0 * x ** 2 + x + 4.0\n",
    "    y += tf.random.normal([train_size], mean = 0.0, stddev=30.0)\n",
    "    return x,y"
   ]
  },
  {
   "cell_type": "code",
   "execution_count": 44,
   "id": "5d5fe25f-b580-45ae-8549-7a6db97ad7ae",
   "metadata": {},
   "outputs": [],
   "source": [
    "x,y = dataset(100)\n",
    "n = 3\n",
    "X = np.ones(shape = (len(x), n + 1), dtype=np.float32)\n",
    "for i in range(1,n+1):\n",
    "    X[:,i] = x ** i"
   ]
  },
  {
   "cell_type": "code",
   "execution_count": 45,
   "id": "0e99ffb0-af9f-44bb-a471-dfa2a3c9c07b",
   "metadata": {},
   "outputs": [
    {
     "name": "stdout",
     "output_type": "stream",
     "text": [
      "Model: \"model_6\"\n",
      "_________________________________________________________________\n",
      "Layer (type)                 Output Shape              Param #   \n",
      "=================================================================\n",
      "input_7 (InputLayer)         [(None, 4)]               0         \n",
      "_________________________________________________________________\n",
      "dense_6 (Dense)              (None, 1)                 5         \n",
      "=================================================================\n",
      "Total params: 5\n",
      "Trainable params: 5\n",
      "Non-trainable params: 0\n",
      "_________________________________________________________________\n"
     ]
    }
   ],
   "source": [
    "inputs = Input(shape=(4,))\n",
    "outputs = Dense(1)(inputs)\n",
    "model = Model(inputs=inputs, outputs=outputs)\n",
    "model.summary()"
   ]
  },
  {
   "cell_type": "code",
   "execution_count": 46,
   "id": "8d559e64-49f4-41d6-9c89-d71798c5eea8",
   "metadata": {},
   "outputs": [],
   "source": [
    "rms = RMSprop(learning_rate=0.1)\n",
    "model.compile(optimizer=rms, loss='mse')\n",
    "ret = model.fit(X,y,epochs=100,verbose=0)"
   ]
  },
  {
   "cell_type": "code",
   "execution_count": 47,
   "id": "e86e4429-2702-4bec-8160-f11d81cd3498",
   "metadata": {},
   "outputs": [],
   "source": [
    "# 모델 저장\n",
    "import os\n",
    "if not os.path.exists('./models'):\n",
    "    os.mkdir('./models')\n",
    "model.save('./models/hihi.h5')"
   ]
  },
  {
   "cell_type": "code",
   "execution_count": 48,
   "id": "603c78e4-652e-4428-9b46-eb2caf689cbe",
   "metadata": {},
   "outputs": [],
   "source": [
    "# 모델 주고 저장\n",
    "json_string = model.to_json()\n",
    "import json\n",
    "file = open('./models/hihi.model','w')\n",
    "json.dump(json_string,file)\n",
    "file.close()"
   ]
  },
  {
   "cell_type": "code",
   "execution_count": 49,
   "id": "bcbdd5f7-f3fe-4d7c-be4b-fdff08908066",
   "metadata": {},
   "outputs": [
    {
     "data": {
      "text/plain": [
       "'{\"class_name\": \"Functional\", \"config\": {\"name\": \"model_6\", \"layers\": [{\"class_name\": \"InputLayer\", \"config\": {\"batch_input_shape\": [null, 4], \"dtype\": \"float32\", \"sparse\": false, \"ragged\": false, \"name\": \"input_7\"}, \"name\": \"input_7\", \"inbound_nodes\": []}, {\"class_name\": \"Dense\", \"config\": {\"name\": \"dense_6\", \"trainable\": true, \"dtype\": \"float32\", \"units\": 1, \"activation\": \"linear\", \"use_bias\": true, \"kernel_initializer\": {\"class_name\": \"GlorotUniform\", \"config\": {\"seed\": null}}, \"bias_initializer\": {\"class_name\": \"Zeros\", \"config\": {}}, \"kernel_regularizer\": null, \"bias_regularizer\": null, \"activity_regularizer\": null, \"kernel_constraint\": null, \"bias_constraint\": null}, \"name\": \"dense_6\", \"inbound_nodes\": [[[\"input_7\", 0, 0, {}]]]}], \"input_layers\": [[\"input_7\", 0, 0]], \"output_layers\": [[\"dense_6\", 0, 0]]}, \"keras_version\": \"2.4.0\", \"backend\": \"tensorflow\"}'"
      ]
     },
     "execution_count": 49,
     "metadata": {},
     "output_type": "execute_result"
    }
   ],
   "source": [
    "json_string"
   ]
  },
  {
   "cell_type": "code",
   "execution_count": 50,
   "id": "b6c2f367-d8c8-4b0b-8292-46d8fa622d64",
   "metadata": {},
   "outputs": [],
   "source": [
    "# 가중치 저장\n",
    "model.save_weights('./models/hihi')"
   ]
  },
  {
   "cell_type": "code",
   "execution_count": 52,
   "id": "9464f36c-51ea-4f21-b50a-813022d9fcf2",
   "metadata": {},
   "outputs": [],
   "source": [
    "if not os.path.exists('./models/ckpt'):\n",
    "    os.mkdir('./models/ckpt')\n",
    "filepath = './models/ckpt/hihi_{epoch:04d}.ckpt'\n",
    "cp_callback = tf.keras.callbacks.ModelCheckpoint(filepath, verbose=0, save_weights_only=True, save_freq=50)\n",
    "ret = model.fit(X,y,epochs=100, callbacks = [cp_callback], verbose = 0)"
   ]
  }
 ],
 "metadata": {
  "kernelspec": {
   "display_name": "Python 3 (ipykernel)",
   "language": "python",
   "name": "python3"
  },
  "language_info": {
   "codemirror_mode": {
    "name": "ipython",
    "version": 3
   },
   "file_extension": ".py",
   "mimetype": "text/x-python",
   "name": "python",
   "nbconvert_exporter": "python",
   "pygments_lexer": "ipython3",
   "version": "3.7.1"
  }
 },
 "nbformat": 4,
 "nbformat_minor": 5
}
