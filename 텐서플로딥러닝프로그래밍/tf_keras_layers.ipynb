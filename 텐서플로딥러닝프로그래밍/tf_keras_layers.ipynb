{
 "cells": [
  {
   "cell_type": "code",
   "execution_count": 1,
   "id": "6fa6db18-ec28-4988-bf7a-afa542582cb4",
   "metadata": {},
   "outputs": [],
   "source": [
    "from tensorflow.keras.layers import Permute, Reshape"
   ]
  },
  {
   "cell_type": "code",
   "execution_count": 2,
   "id": "4bb8bcf8-26de-4ba0-ba64-2324205fc596",
   "metadata": {},
   "outputs": [],
   "source": [
    "import numpy as np\n",
    "import tensorflow as tf"
   ]
  },
  {
   "cell_type": "code",
   "execution_count": 4,
   "id": "366681ef-6d66-4221-ac06-14855f2aeee1",
   "metadata": {},
   "outputs": [],
   "source": [
    "A = np.array([[1,2,3,4],[5,7,8,9]], dtype = 'float32')\n",
    "A = A.reshape(1,2,4,1)\n",
    "# 1, 2, 4, 1 에서 1:배치사이즈, 2:row 크기, 3:cols, 4:channels "
   ]
  },
  {
   "cell_type": "code",
   "execution_count": 30,
   "id": "2b0740c5-4749-4170-9193-1537371acdf7",
   "metadata": {},
   "outputs": [
    {
     "name": "stdout",
     "output_type": "stream",
     "text": [
      "Model: \"model_6\"\n",
      "__________________________________________________________________________________________________\n",
      "Layer (type)                    Output Shape         Param #     Connected to                     \n",
      "==================================================================================================\n",
      "input_9 (InputLayer)            [(None, 2, 4, 1)]    0                                            \n",
      "__________________________________________________________________________________________________\n",
      "reshape_8 (Reshape)             (None, 4, 2, 1)      0           input_9[0][0]                    \n",
      "__________________________________________________________________________________________________\n",
      "permute_8 (Permute)             (None, 4, 2, 1)      0           input_9[0][0]                    \n",
      "__________________________________________________________________________________________________\n",
      "up_sampling2d_3 (UpSampling2D)  (None, 4, 8, 1)      0           input_9[0][0]                    \n",
      "==================================================================================================\n",
      "Total params: 0\n",
      "Trainable params: 0\n",
      "Non-trainable params: 0\n",
      "__________________________________________________________________________________________________\n"
     ]
    }
   ],
   "source": [
    "x = tf.keras.layers.Input(shape=(2,4,1))\n",
    "# reshape 해준다.\n",
    "y = tf.keras.layers.Reshape([4,2,1])(x)\n",
    "\n",
    "# 차원의 축을 변경한다.\n",
    "z = tf.keras.layers.Permute([2,1,3])(x)\n",
    "\n",
    "# 각 데이터를 (2,2)로 늘려준다.\n",
    "k = tf.keras.layers.UpSampling2D()(x)\n",
    "\n",
    "model = tf.keras.Model(inputs = x, outputs = [y,z,k])\n",
    "model.summary()"
   ]
  },
  {
   "cell_type": "code",
   "execution_count": 31,
   "id": "e13262ed-ce2e-4666-bea0-ae5a89672b42",
   "metadata": {},
   "outputs": [
    {
     "name": "stdout",
     "output_type": "stream",
     "text": [
      "WARNING:tensorflow:6 out of the last 8 calls to <function Model.make_predict_function.<locals>.predict_function at 0x00000161900E5AE8> triggered tf.function retracing. Tracing is expensive and the excessive number of tracings could be due to (1) creating @tf.function repeatedly in a loop, (2) passing tensors with different shapes, (3) passing Python objects instead of tensors. For (1), please define your @tf.function outside of the loop. For (2), @tf.function has experimental_relax_shapes=True option that relaxes argument shapes that can avoid unnecessary retracing. For (3), please refer to https://www.tensorflow.org/guide/function#controlling_retracing and https://www.tensorflow.org/api_docs/python/tf/function for  more details.\n"
     ]
    },
    {
     "data": {
      "text/plain": [
       "array([[1., 2.],\n",
       "       [3., 4.],\n",
       "       [5., 7.],\n",
       "       [8., 9.]], dtype=float32)"
      ]
     },
     "execution_count": 31,
     "metadata": {},
     "output_type": "execute_result"
    }
   ],
   "source": [
    "output = model.predict(A)\n",
    "output[0][0,:,:,0]"
   ]
  },
  {
   "cell_type": "code",
   "execution_count": 32,
   "id": "248d9650-4f4b-4fd7-aa71-cb058bd1dc24",
   "metadata": {},
   "outputs": [
    {
     "data": {
      "text/plain": [
       "array([[1., 5.],\n",
       "       [2., 7.],\n",
       "       [3., 8.],\n",
       "       [4., 9.]], dtype=float32)"
      ]
     },
     "execution_count": 32,
     "metadata": {},
     "output_type": "execute_result"
    }
   ],
   "source": [
    "output[1][0,:,:,0]"
   ]
  },
  {
   "cell_type": "code",
   "execution_count": 33,
   "id": "e37f66ff-25a7-46b0-bf31-2d70436d4e08",
   "metadata": {},
   "outputs": [
    {
     "data": {
      "text/plain": [
       "array([[1., 1., 2., 2., 3., 3., 4., 4.],\n",
       "       [1., 1., 2., 2., 3., 3., 4., 4.],\n",
       "       [5., 5., 7., 7., 8., 8., 9., 9.],\n",
       "       [5., 5., 7., 7., 8., 8., 9., 9.]], dtype=float32)"
      ]
     },
     "execution_count": 33,
     "metadata": {},
     "output_type": "execute_result"
    }
   ],
   "source": [
    "output[2][0,:,:,0]"
   ]
  }
 ],
 "metadata": {
  "kernelspec": {
   "display_name": "Python 3 (ipykernel)",
   "language": "python",
   "name": "python3"
  },
  "language_info": {
   "codemirror_mode": {
    "name": "ipython",
    "version": 3
   },
   "file_extension": ".py",
   "mimetype": "text/x-python",
   "name": "python",
   "nbconvert_exporter": "python",
   "pygments_lexer": "ipython3",
   "version": "3.7.1"
  }
 },
 "nbformat": 4,
 "nbformat_minor": 5
}
