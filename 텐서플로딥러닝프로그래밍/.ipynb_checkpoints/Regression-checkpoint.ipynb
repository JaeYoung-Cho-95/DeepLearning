{
 "cells": [
  {
   "cell_type": "markdown",
   "id": "82a52313-fbb9-4cc7-9de6-f4f29a0fb702",
   "metadata": {},
   "source": [
    "# Sequential model"
   ]
  },
  {
   "cell_type": "markdown",
   "id": "ca0631e7-e6a0-4a36-910f-6d723ffe96cf",
   "metadata": {},
   "source": [
    "## 단순 선형 회귀"
   ]
  },
  {
   "cell_type": "code",
   "execution_count": 1,
   "id": "80c22aa5-f6c2-49a5-ae48-107d6e5c0e0a",
   "metadata": {},
   "outputs": [],
   "source": [
    "import tensorflow as tf\n",
    "import numpy as np\n",
    "import matplotlib.pyplot as plt"
   ]
  },
  {
   "cell_type": "code",
   "execution_count": 2,
   "id": "18a583a6-d347-4cc5-82c7-b69cd6bb0d1d",
   "metadata": {},
   "outputs": [],
   "source": [
    "def dataset(train_size = 100):\n",
    "    np.random.seed(2)\n",
    "    x = np.linspace(0.0,10.0,num = train_size)\n",
    "    y = x * 3 - 10\n",
    "    y += np.random.normal(loc = 0.0, scale = 2.0, size = train_size)\n",
    "    return x,y"
   ]
  },
  {
   "cell_type": "code",
   "execution_count": 3,
   "id": "18d45d5f-d24c-41e8-9d30-ba956971f9c5",
   "metadata": {},
   "outputs": [],
   "source": [
    "x,y_true = dataset(100)"
   ]
  },
  {
   "cell_type": "code",
   "execution_count": 4,
   "id": "5b45c500-9952-488c-ad73-54c343ece238",
   "metadata": {},
   "outputs": [
    {
     "name": "stdout",
     "output_type": "stream",
     "text": [
      "Model: \"sequential\"\n",
      "_________________________________________________________________\n",
      "Layer (type)                 Output Shape              Param #   \n",
      "=================================================================\n",
      "dense (Dense)                (None, 1)                 2         \n",
      "=================================================================\n",
      "Total params: 2\n",
      "Trainable params: 2\n",
      "Non-trainable params: 0\n",
      "_________________________________________________________________\n"
     ]
    }
   ],
   "source": [
    "from tensorflow.keras.layers import Dense\n",
    "model = tf.keras.Sequential()\n",
    "model.add(Dense(units=1,input_shape= (1,)))\n",
    "model.summary()"
   ]
  },
  {
   "cell_type": "code",
   "execution_count": 5,
   "id": "a6ca181b-f6f6-4d32-9c65-7d01315c5a18",
   "metadata": {},
   "outputs": [],
   "source": [
    "from tensorflow.keras.optimizers import Adam, RMSprop\n",
    "from tensorflow.keras.optimizers import SGD\n",
    "opt_adam = Adam()\n",
    "opt_RMSprop = RMSprop()\n",
    "sgd = SGD()\n",
    "model.compile(optimizer=sgd, loss = 'mse')"
   ]
  },
  {
   "cell_type": "code",
   "execution_count": 6,
   "id": "7a218760-be33-4fa6-9383-e28b9aca94e9",
   "metadata": {
    "tags": []
   },
   "outputs": [
    {
     "name": "stdout",
     "output_type": "stream",
     "text": [
      "Epoch 1/10\n",
      "25/25 - 1s - loss: 55.2939\n",
      "Epoch 2/10\n",
      "25/25 - 0s - loss: 27.0711\n",
      "Epoch 3/10\n",
      "25/25 - 0s - loss: 21.8315\n",
      "Epoch 4/10\n",
      "25/25 - 0s - loss: 18.3807\n",
      "Epoch 5/10\n",
      "25/25 - 0s - loss: 15.7422\n",
      "Epoch 6/10\n",
      "25/25 - 0s - loss: 13.2460\n",
      "Epoch 7/10\n",
      "25/25 - 0s - loss: 11.3303\n",
      "Epoch 8/10\n",
      "25/25 - 0s - loss: 9.7445\n",
      "Epoch 9/10\n",
      "25/25 - 0s - loss: 9.4476\n",
      "Epoch 10/10\n",
      "25/25 - 0s - loss: 8.6117\n"
     ]
    }
   ],
   "source": [
    "ret = model.fit(x,y_true, epochs=10, batch_size = 4, verbose = 2)\n",
    "y_pred = model.predict(x)"
   ]
  },
  {
   "cell_type": "code",
   "execution_count": 7,
   "id": "71ef58c7-7d37-4dbc-8aba-94e10b9a1ccd",
   "metadata": {},
   "outputs": [
    {
     "data": {
      "image/png": "[encoded data removed]",
      "text/plain": [
       "<Figure size 432x288 with 1 Axes>"
      ]
     },
     "metadata": {
      "needs_background": "light"
     },
     "output_type": "display_data"
    }
   ],
   "source": [
    "plt.scatter(x,y_true)\n",
    "plt.plot(x,y_pred)\n",
    "plt.show()"
   ]
  },
  {
   "cell_type": "markdown",
   "id": "1d87cef9-04ba-461a-827b-de6891a94b2d",
   "metadata": {},
   "source": [
    "## 2변수 선형 회귀"
   ]
  },
  {
   "cell_type": "code",
   "execution_count": 8,
   "id": "72b9fde3-d8be-4699-8d83-2f6ac738443d",
   "metadata": {},
   "outputs": [],
   "source": [
    "train_data = np.array([[1,0,4],[2,0,5],[3,0,6],[4,0,7],[1,1,6],[2,1,7],[3,1,8],[4,1,9]])"
   ]
  },
  {
   "cell_type": "code",
   "execution_count": 12,
   "id": "4509ea93-2844-4c3b-aed6-33ed54d86f86",
   "metadata": {},
   "outputs": [],
   "source": [
    "x = train_data[:,:-1]\n",
    "y = train_data[:,-1:]"
   ]
  },
  {
   "cell_type": "code",
   "execution_count": 13,
   "id": "2f7471f4-8cc6-4289-b131-d427133aa7f9",
   "metadata": {},
   "outputs": [],
   "source": [
    "from tensorflow.keras.models import Sequential\n",
    "from tensorflow.keras.layers import Dense"
   ]
  },
  {
   "cell_type": "code",
   "execution_count": 15,
   "id": "d0ad9b2d-dedd-45fa-a012-1cdf3f8a2994",
   "metadata": {},
   "outputs": [
    {
     "name": "stdout",
     "output_type": "stream",
     "text": [
      "Model: \"sequential_2\"\n",
      "_________________________________________________________________\n",
      "Layer (type)                 Output Shape              Param #   \n",
      "=================================================================\n",
      "dense_2 (Dense)              (None, 1)                 3         \n",
      "=================================================================\n",
      "Total params: 3\n",
      "Trainable params: 3\n",
      "Non-trainable params: 0\n",
      "_________________________________________________________________\n"
     ]
    }
   ],
   "source": [
    "model = Sequential()\n",
    "model.add(Dense(units = 1, input_shape = (2,)))\n",
    "model.summary()          "
   ]
  },
  {
   "cell_type": "code",
   "execution_count": 26,
   "id": "7dbceb17-25e1-40b6-82a4-404a939c6d74",
   "metadata": {},
   "outputs": [],
   "source": [
    "from tensorflow.keras.optimizers import SGD, Adam, RMSprop\n",
    "sgd = SGD()\n",
    "adam = Adam()\n",
    "rmsprop = RMSprop()"
   ]
  },
  {
   "cell_type": "code",
   "execution_count": 27,
   "id": "be9920de-8efe-4de5-b0c1-dde5c2c8173a",
   "metadata": {
    "collapsed": true,
    "jupyter": {
     "outputs_hidden": true
    },
    "tags": []
   },
   "outputs": [
    {
     "name": "stdout",
     "output_type": "stream",
     "text": [
      "Epoch 1/100\n",
      "2/2 - 0s - loss: 0.3673\n",
      "Epoch 2/100\n",
      "2/2 - 0s - loss: 0.3578\n",
      "Epoch 3/100\n",
      "2/2 - 0s - loss: 0.3509\n",
      "Epoch 4/100\n",
      "2/2 - 0s - loss: 0.3403\n",
      "Epoch 5/100\n",
      "2/2 - 0s - loss: 0.3369\n",
      "Epoch 6/100\n",
      "2/2 - 0s - loss: 0.3305\n",
      "Epoch 7/100\n",
      "2/2 - 0s - loss: 0.3316\n",
      "Epoch 8/100\n",
      "2/2 - 0s - loss: 0.3128\n",
      "Epoch 9/100\n",
      "2/2 - 0s - loss: 0.3261\n",
      "Epoch 10/100\n",
      "2/2 - 0s - loss: 0.3002\n",
      "Epoch 11/100\n",
      "2/2 - 0s - loss: 0.3116\n",
      "Epoch 12/100\n",
      "2/2 - 0s - loss: 0.2867\n",
      "Epoch 13/100\n",
      "2/2 - 0s - loss: 0.3024\n",
      "Epoch 14/100\n",
      "2/2 - 0s - loss: 0.2781\n",
      "Epoch 15/100\n",
      "2/2 - 0s - loss: 0.2771\n",
      "Epoch 16/100\n",
      "2/2 - 0s - loss: 0.2603\n",
      "Epoch 17/100\n",
      "2/2 - 0s - loss: 0.2590\n",
      "Epoch 18/100\n",
      "2/2 - 0s - loss: 0.2579\n",
      "Epoch 19/100\n",
      "2/2 - 0s - loss: 0.2517\n",
      "Epoch 20/100\n",
      "2/2 - 0s - loss: 0.2412\n",
      "Epoch 21/100\n",
      "2/2 - 0s - loss: 0.2379\n",
      "Epoch 22/100\n",
      "2/2 - 0s - loss: 0.2292\n",
      "Epoch 23/100\n",
      "2/2 - 0s - loss: 0.2239\n",
      "Epoch 24/100\n",
      "2/2 - 0s - loss: 0.2244\n",
      "Epoch 25/100\n",
      "2/2 - 0s - loss: 0.2157\n",
      "Epoch 26/100\n",
      "2/2 - 0s - loss: 0.2119\n",
      "Epoch 27/100\n",
      "2/2 - 0s - loss: 0.2077\n",
      "Epoch 28/100\n",
      "2/2 - 0s - loss: 0.2022\n",
      "Epoch 29/100\n",
      "2/2 - 0s - loss: 0.1980\n",
      "Epoch 30/100\n",
      "2/2 - 0s - loss: 0.1949\n",
      "Epoch 31/100\n",
      "2/2 - 0s - loss: 0.1950\n",
      "Epoch 32/100\n",
      "2/2 - 0s - loss: 0.1847\n",
      "Epoch 33/100\n",
      "2/2 - 0s - loss: 0.1889\n",
      "Epoch 34/100\n",
      "2/2 - 0s - loss: 0.1800\n",
      "Epoch 35/100\n",
      "2/2 - 0s - loss: 0.1742\n",
      "Epoch 36/100\n",
      "2/2 - 0s - loss: 0.1805\n",
      "Epoch 37/100\n",
      "2/2 - 0s - loss: 0.1773\n",
      "Epoch 38/100\n",
      "2/2 - 0s - loss: 0.1624\n",
      "Epoch 39/100\n",
      "2/2 - 0s - loss: 0.1665\n",
      "Epoch 40/100\n",
      "2/2 - 0s - loss: 0.1576\n",
      "Epoch 41/100\n",
      "2/2 - 0s - loss: 0.1535\n",
      "Epoch 42/100\n",
      "2/2 - 0s - loss: 0.1536\n",
      "Epoch 43/100\n",
      "2/2 - 0s - loss: 0.1474\n",
      "Epoch 44/100\n",
      "2/2 - 0s - loss: 0.1440\n",
      "Epoch 45/100\n",
      "2/2 - 0s - loss: 0.1436\n",
      "Epoch 46/100\n",
      "2/2 - 0s - loss: 0.1388\n",
      "Epoch 47/100\n",
      "2/2 - 0s - loss: 0.1357\n",
      "Epoch 48/100\n",
      "2/2 - 0s - loss: 0.1323\n",
      "Epoch 49/100\n",
      "2/2 - 0s - loss: 0.1304\n",
      "Epoch 50/100\n",
      "2/2 - 0s - loss: 0.1279\n",
      "Epoch 51/100\n",
      "2/2 - 0s - loss: 0.1252\n",
      "Epoch 52/100\n",
      "2/2 - 0s - loss: 0.1270\n",
      "Epoch 53/100\n",
      "2/2 - 0s - loss: 0.1229\n",
      "Epoch 54/100\n",
      "2/2 - 0s - loss: 0.1183\n",
      "Epoch 55/100\n",
      "2/2 - 0s - loss: 0.1230\n",
      "Epoch 56/100\n",
      "2/2 - 0s - loss: 0.1135\n",
      "Epoch 57/100\n",
      "2/2 - 0s - loss: 0.1102\n",
      "Epoch 58/100\n",
      "2/2 - 0s - loss: 0.1087\n",
      "Epoch 59/100\n",
      "2/2 - 0s - loss: 0.1062\n",
      "Epoch 60/100\n",
      "2/2 - 0s - loss: 0.1050\n",
      "Epoch 61/100\n",
      "2/2 - 0s - loss: 0.1027\n",
      "Epoch 62/100\n",
      "2/2 - 0s - loss: 0.0997\n",
      "Epoch 63/100\n",
      "2/2 - 0s - loss: 0.1008\n",
      "Epoch 64/100\n",
      "2/2 - 0s - loss: 0.0962\n",
      "Epoch 65/100\n",
      "2/2 - 0s - loss: 0.0956\n",
      "Epoch 66/100\n",
      "2/2 - 0s - loss: 0.0926\n",
      "Epoch 67/100\n",
      "2/2 - 0s - loss: 0.0912\n",
      "Epoch 68/100\n",
      "2/2 - 0s - loss: 0.0939\n",
      "Epoch 69/100\n",
      "2/2 - 0s - loss: 0.0876\n",
      "Epoch 70/100\n",
      "2/2 - 0s - loss: 0.0856\n",
      "Epoch 71/100\n",
      "2/2 - 0s - loss: 0.0835\n",
      "Epoch 72/100\n",
      "2/2 - 0s - loss: 0.0821\n",
      "Epoch 73/100\n",
      "2/2 - 0s - loss: 0.0822\n",
      "Epoch 74/100\n",
      "2/2 - 0s - loss: 0.0801\n",
      "Epoch 75/100\n",
      "2/2 - 0s - loss: 0.0774\n",
      "Epoch 76/100\n",
      "2/2 - 0s - loss: 0.0766\n",
      "Epoch 77/100\n",
      "2/2 - 0s - loss: 0.0758\n",
      "Epoch 78/100\n",
      "2/2 - 0s - loss: 0.0763\n",
      "Epoch 79/100\n",
      "2/2 - 0s - loss: 0.0777\n",
      "Epoch 80/100\n",
      "2/2 - 0s - loss: 0.0709\n",
      "Epoch 81/100\n",
      "2/2 - 0s - loss: 0.0700\n",
      "Epoch 82/100\n",
      "2/2 - 0s - loss: 0.0692\n",
      "Epoch 83/100\n",
      "2/2 - 0s - loss: 0.0675\n",
      "Epoch 84/100\n",
      "2/2 - 0s - loss: 0.0703\n",
      "Epoch 85/100\n",
      "2/2 - 0s - loss: 0.0652\n",
      "Epoch 86/100\n",
      "2/2 - 0s - loss: 0.0630\n",
      "Epoch 87/100\n",
      "2/2 - 0s - loss: 0.0618\n",
      "Epoch 88/100\n",
      "2/2 - 0s - loss: 0.0623\n",
      "Epoch 89/100\n",
      "2/2 - 0s - loss: 0.0599\n",
      "Epoch 90/100\n",
      "2/2 - 0s - loss: 0.0605\n",
      "Epoch 91/100\n",
      "2/2 - 0s - loss: 0.0580\n",
      "Epoch 92/100\n",
      "2/2 - 0s - loss: 0.0572\n",
      "Epoch 93/100\n",
      "2/2 - 0s - loss: 0.0565\n",
      "Epoch 94/100\n",
      "2/2 - 0s - loss: 0.0549\n",
      "Epoch 95/100\n",
      "2/2 - 0s - loss: 0.0536\n",
      "Epoch 96/100\n",
      "2/2 - 0s - loss: 0.0527\n",
      "Epoch 97/100\n",
      "2/2 - 0s - loss: 0.0520\n",
      "Epoch 98/100\n",
      "2/2 - 0s - loss: 0.0513\n",
      "Epoch 99/100\n",
      "2/2 - 0s - loss: 0.0498\n",
      "Epoch 100/100\n",
      "2/2 - 0s - loss: 0.0515\n"
     ]
    }
   ],
   "source": [
    "model.compile(optimizer=sgd, loss= 'mse')\n",
    "ret = model.fit(x,y,epochs=100,batch_size= 4, verbose = 2)"
   ]
  },
  {
   "cell_type": "code",
   "execution_count": 39,
   "id": "6ee24edd-de8c-4cc2-9310-be6b201bed86",
   "metadata": {},
   "outputs": [
    {
     "name": "stdout",
     "output_type": "stream",
     "text": [
      "[[1.1808   ]\n",
      " [1.9165378]]\n",
      "[2.5149832]\n"
     ]
    }
   ],
   "source": [
    "print(model.layers[0].weights[0].numpy())\n",
    "print(model.layers[0].weights[1].numpy())"
   ]
  },
  {
   "cell_type": "code",
   "execution_count": 40,
   "id": "af7e0aeb-1a43-4523-8e04-7e4cfdde846b",
   "metadata": {},
   "outputs": [
    {
     "name": "stdout",
     "output_type": "stream",
     "text": [
      "[[1.1808   ]\n",
      " [1.9165378]]\n",
      "[2.5149832]\n"
     ]
    }
   ],
   "source": [
    "print(model.layers[-1].weights[0].numpy())\n",
    "print(model.layers[-1].weights[1].numpy())"
   ]
  },
  {
   "cell_type": "markdown",
   "id": "03e9db84-8fe0-499a-a2e1-1efe1715eaa1",
   "metadata": {},
   "source": [
    "## n차 다항식 회귀"
   ]
  },
  {
   "cell_type": "code",
   "execution_count": 4,
   "id": "473beb5b-9074-47ae-9fec-31a13bccf423",
   "metadata": {},
   "outputs": [],
   "source": [
    "from tensorflow.keras.models import Sequential\n",
    "from tensorflow.keras.layers import Dense\n",
    "import numpy as np"
   ]
  },
  {
   "cell_type": "code",
   "execution_count": 5,
   "id": "1a646b6d-9b1d-46e3-8146-ced0df27ddb2",
   "metadata": {},
   "outputs": [],
   "source": [
    "import tensorflow as tf\n",
    "def dataset(train_size = 100):\n",
    "    tf.random.set_seed(1)\n",
    "    x = tf.linspace(-5.0, 5.0, num = train_size)\n",
    "    y = 3.0 * x ** 3 + 2.0 * x ** 2 + x + 4.0\n",
    "    y += tf.random.normal([train_size], mean = 0.0, stddev=30.0)\n",
    "    return x,y"
   ]
  },
  {
   "cell_type": "code",
   "execution_count": 6,
   "id": "3a209e20-5809-4c78-9094-e005e41ceeb3",
   "metadata": {},
   "outputs": [],
   "source": [
    "x,y = dataset(100)\n",
    "n = 3\n",
    "X = np.ones(shape = (len(x), n + 1), dtype=np.float32)\n",
    "for i in range(1,n+1):\n",
    "    X[:,i] = x ** i"
   ]
  },
  {
   "cell_type": "code",
   "execution_count": 22,
   "id": "5161687b-12d1-49ae-b2c1-1c0d033ee773",
   "metadata": {},
   "outputs": [],
   "source": [
    "from tensorflow.keras.models import Sequential\n",
    "from tensorflow.keras.layers import Dense\n",
    "from tensorflow.keras.optimizers import SGD, RMSprop, Adam"
   ]
  },
  {
   "cell_type": "code",
   "execution_count": 37,
   "id": "c23861fc-2c2c-4c1a-8b47-44eb847f5bb8",
   "metadata": {},
   "outputs": [],
   "source": [
    "sgd = SGD()\n",
    "adam = Adam()\n",
    "rms = RMSprop(learning_rate=0.1)"
   ]
  },
  {
   "cell_type": "code",
   "execution_count": 38,
   "id": "3d1c67e5-0f93-419a-8664-910671677b4b",
   "metadata": {},
   "outputs": [
    {
     "name": "stdout",
     "output_type": "stream",
     "text": [
      "Model: \"sequential_3\"\n",
      "_________________________________________________________________\n",
      "Layer (type)                 Output Shape              Param #   \n",
      "=================================================================\n",
      "dense_3 (Dense)              (None, 1)                 4         \n",
      "=================================================================\n",
      "Total params: 4\n",
      "Trainable params: 4\n",
      "Non-trainable params: 0\n",
      "_________________________________________________________________\n"
     ]
    }
   ],
   "source": [
    "model = Sequential()\n",
    "model.add(Dense(units = 1, input_shape = (4,), use_bias = False))\n",
    "model.summary()"
   ]
  },
  {
   "cell_type": "code",
   "execution_count": 39,
   "id": "ca85d01d-9c1c-4166-8b02-0240470ce987",
   "metadata": {},
   "outputs": [],
   "source": [
    "model.compile(optimizer=rms, loss = 'mse')\n",
    "ret = model.fit(X,y,epochs=100, verbose = 0)"
   ]
  },
  {
   "cell_type": "code",
   "execution_count": 40,
   "id": "bf1056a4-aa22-47ca-b8ca-87b54198bc3a",
   "metadata": {},
   "outputs": [
    {
     "data": {
      "text/plain": [
       "<tf.Variable 'dense_3/kernel:0' shape=(4, 1) dtype=float32, numpy=\n",
       "array([[ 3.679848 ],\n",
       "       [-0.8995144],\n",
       "       [ 1.7964481],\n",
       "       [ 3.3312545]], dtype=float32)>"
      ]
     },
     "execution_count": 40,
     "metadata": {},
     "output_type": "execute_result"
    }
   ],
   "source": [
    "model.layers[-1].weights[0]"
   ]
  },
  {
   "cell_type": "code",
   "execution_count": 41,
   "id": "e6f66016-f5e3-41ad-9aef-6e29686be7cd",
   "metadata": {},
   "outputs": [],
   "source": [
    "y_pred = model.predict(X)"
   ]
  },
  {
   "cell_type": "code",
   "execution_count": 42,
   "id": "59a79506-7618-46b4-b081-95610eaa7b0d",
   "metadata": {},
   "outputs": [
    {
     "data": {
      "image/png": "[encoded data removed]",
      "text/plain": [
       "<Figure size 432x288 with 1 Axes>"
      ]
     },
     "metadata": {
      "needs_background": "light"
     },
     "output_type": "display_data"
    }
   ],
   "source": [
    "import matplotlib.pyplot as plt\n",
    "plt.plot(x,y_pred)\n",
    "plt.scatter(x,y)\n",
    "plt.show()"
   ]
  },
  {
   "cell_type": "code",
   "execution_count": null,
   "id": "0ef9dd58-d2c8-4069-b6e9-30ef098deec9",
   "metadata": {},
   "outputs": [],
   "source": []
  },
  {
   "cell_type": "markdown",
   "id": "4a4b9f83-123b-4061-b790-78da7572ee95",
   "metadata": {},
   "source": [
    "# 함수형 Model"
   ]
  },
  {
   "cell_type": "markdown",
   "id": "40adc5d7-b790-453f-bfe3-f35cbd7cca62",
   "metadata": {},
   "source": [
    "## 단순 선형 회귀"
   ]
  },
  {
   "cell_type": "code",
   "execution_count": 44,
   "id": "0bdb1a47-6c71-4edb-ae77-792e09c8fc86",
   "metadata": {},
   "outputs": [],
   "source": [
    "import tensorflow as tf\n",
    "import numpy as np\n",
    "import matplotlib.pyplot as plt"
   ]
  },
  {
   "cell_type": "code",
   "execution_count": 45,
   "id": "98d1d9cc-a8b7-4d9c-addc-8dd35ebd67c8",
   "metadata": {},
   "outputs": [],
   "source": [
    "def dataset(train_size = 100):\n",
    "    tf.random.set_seed(1)\n",
    "    x = tf.linspace(0.0, 10.0, num = train_size)\n",
    "    y = 3.0 * x - 10.0\n",
    "    y += tf.random.normal([train_size], mean = 0.0, stddev = 2.0)\n",
    "    return x,y"
   ]
  },
  {
   "cell_type": "code",
   "execution_count": 46,
   "id": "7828b276-4f4a-432d-8bfd-200f27b24788",
   "metadata": {},
   "outputs": [],
   "source": [
    "x, y = dataset(20)"
   ]
  },
  {
   "cell_type": "code",
   "execution_count": 47,
   "id": "6e7ddd99-611b-44f4-802d-00e93b83445f",
   "metadata": {},
   "outputs": [],
   "source": [
    "from tensorflow.keras.models import Model\n",
    "from tensorflow.keras.layers import Input, Dense"
   ]
  },
  {
   "cell_type": "code",
   "execution_count": 54,
   "id": "9878c99a-aa0c-444f-bbd6-34b91b7b1f06",
   "metadata": {},
   "outputs": [
    {
     "name": "stdout",
     "output_type": "stream",
     "text": [
      "Model: \"model_6\"\n",
      "_________________________________________________________________\n",
      "Layer (type)                 Output Shape              Param #   \n",
      "=================================================================\n",
      "input_7 (InputLayer)         [(None, 1)]               0         \n",
      "_________________________________________________________________\n",
      "dense_10 (Dense)             (None, 1)                 2         \n",
      "=================================================================\n",
      "Total params: 2\n",
      "Trainable params: 2\n",
      "Non-trainable params: 0\n",
      "_________________________________________________________________\n"
     ]
    }
   ],
   "source": [
    "inputs = tf.keras.layers.Input(shape = (1,))\n",
    "outputs = tf.keras.layers.Dense(1)(inputs)\n",
    "model = tf.keras.Model(inputs=inputs, outputs = outputs)\n",
    "model.summary()\n",
    "from tensorflow.keras.optimizers import RMSprop\n",
    "rms = RMSprop(learning_rate=0.1)"
   ]
  },
  {
   "cell_type": "code",
   "execution_count": 55,
   "id": "1c3b2455-fa38-4cee-b2f9-1a4cc65848da",
   "metadata": {},
   "outputs": [],
   "source": [
    "model.compile(optimizer=rms, loss='mse')\n",
    "ret = model.fit(x,y, epochs=100, batch_size = 4, verbose = 0)"
   ]
  },
  {
   "cell_type": "code",
   "execution_count": 59,
   "id": "c1daffae-d65e-410d-8165-255fe0609bc3",
   "metadata": {},
   "outputs": [
    {
     "name": "stdout",
     "output_type": "stream",
     "text": [
      "[[3.1796997]]\n",
      "[-10.9801855]\n"
     ]
    }
   ],
   "source": [
    "print(model.layers[-1].weights[0].numpy())\n",
    "print(model.layers[-1].weights[1].numpy())"
   ]
  },
  {
   "cell_type": "markdown",
   "id": "ccc11508-6436-4191-b67e-57989fb414c2",
   "metadata": {},
   "source": [
    "## 2변수 선형 회귀"
   ]
  },
  {
   "cell_type": "code",
   "execution_count": 61,
   "id": "35cb8477-f0a9-43ea-b4ae-6190e511f929",
   "metadata": {},
   "outputs": [],
   "source": [
    "train_data = np.array([[1,0,4],[2,0,5],[3,0,6],[4,0,7],[1,1,6],[2,1,7],[3,1,8],[4,1,9]])\n",
    "x = train_data[:,:-1]\n",
    "y = train_data[:,-1:]"
   ]
  },
  {
   "cell_type": "code",
   "execution_count": 64,
   "id": "4c35d972-275e-43ef-93da-10555429492c",
   "metadata": {},
   "outputs": [],
   "source": [
    "from tensorflow.keras.models import Model\n",
    "from tensorflow.keras.layers import Dense, Input"
   ]
  },
  {
   "cell_type": "code",
   "execution_count": 90,
   "id": "a28d8f8a-9258-4dfa-864d-ebf8c261e523",
   "metadata": {},
   "outputs": [
    {
     "name": "stdout",
     "output_type": "stream",
     "text": [
      "Model: \"model_11\"\n",
      "_________________________________________________________________\n",
      "Layer (type)                 Output Shape              Param #   \n",
      "=================================================================\n",
      "input_12 (InputLayer)        [(None, 2)]               0         \n",
      "_________________________________________________________________\n",
      "dense_18 (Dense)             (None, 1)                 3         \n",
      "=================================================================\n",
      "Total params: 3\n",
      "Trainable params: 3\n",
      "Non-trainable params: 0\n",
      "_________________________________________________________________\n"
     ]
    }
   ],
   "source": [
    "inputs = Input(shape = (2,))\n",
    "outputs = Dense(1)(inputs)\n",
    "model = Model(inputs = inputs, outputs = outputs)\n",
    "model.summary()"
   ]
  },
  {
   "cell_type": "code",
   "execution_count": 91,
   "id": "b3f17b32-b690-45b8-b7b4-b00b4a522150",
   "metadata": {},
   "outputs": [],
   "source": [
    "model.compile(rms, 'mse')"
   ]
  },
  {
   "cell_type": "code",
   "execution_count": 92,
   "id": "5232da75-0906-4004-aa8a-15f1737c2dcb",
   "metadata": {},
   "outputs": [],
   "source": [
    "ret = model.fit(x,y,epochs=100,verbose=0)"
   ]
  },
  {
   "cell_type": "code",
   "execution_count": 93,
   "id": "42856eaf-e34c-4961-8b29-fa5ca877aa05",
   "metadata": {},
   "outputs": [
    {
     "data": {
      "text/plain": [
       "2"
      ]
     },
     "execution_count": 93,
     "metadata": {},
     "output_type": "execute_result"
    }
   ],
   "source": [
    "len(model.layers)"
   ]
  },
  {
   "cell_type": "code",
   "execution_count": 97,
   "id": "69f7ddbf-7954-439e-8e6d-68bc2ce10b46",
   "metadata": {},
   "outputs": [
    {
     "data": {
      "text/plain": [
       "array([[1.0028394],\n",
       "       [2.0029316]], dtype=float32)"
      ]
     },
     "execution_count": 97,
     "metadata": {},
     "output_type": "execute_result"
    }
   ],
   "source": [
    "model.layers[1].weights[0].numpy()"
   ]
  },
  {
   "cell_type": "code",
   "execution_count": 98,
   "id": "8b17c155-7f43-41a1-9a1f-03a154458775",
   "metadata": {},
   "outputs": [
    {
     "data": {
      "text/plain": [
       "array([2.9617198], dtype=float32)"
      ]
     },
     "execution_count": 98,
     "metadata": {},
     "output_type": "execute_result"
    }
   ],
   "source": [
    "model.layers[1].weights[1].numpy()"
   ]
  },
  {
   "cell_type": "code",
   "execution_count": null,
   "id": "88a503a7-81b4-4037-b08c-d88eba0fa360",
   "metadata": {},
   "outputs": [],
   "source": []
  }
 ],
 "metadata": {
  "kernelspec": {
   "display_name": "Python 3 (ipykernel)",
   "language": "python",
   "name": "python3"
  },
  "language_info": {
   "codemirror_mode": {
    "name": "ipython",
    "version": 3
   },
   "file_extension": ".py",
   "mimetype": "text/x-python",
   "name": "python",
   "nbconvert_exporter": "python",
   "pygments_lexer": "ipython3",
   "version": "3.7.1"
  }
 },
 "nbformat": 4,
 "nbformat_minor": 5
}
