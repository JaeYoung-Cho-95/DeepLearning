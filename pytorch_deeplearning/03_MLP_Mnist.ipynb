{
 "cells": [
  {
   "cell_type": "code",
   "execution_count": 2,
   "metadata": {},
   "outputs": [],
   "source": [
    "import numpy as np\n",
    "import matplotlib.pyplot as plt\n",
    "import torch\n",
    "import torch.nn as nn\n",
    "import torch.nn.functional as F\n",
    "from torch.utils.data import DataLoader\n",
    "from torchvision import transforms, datasets"
   ]
  },
  {
   "cell_type": "code",
   "execution_count": 3,
   "metadata": {},
   "outputs": [],
   "source": [
    "if torch.cuda.is_available():\n",
    "    DEVICE = 'cuda'\n",
    "else:\n",
    "    DEVICE = 'cpu'"
   ]
  },
  {
   "cell_type": "code",
   "execution_count": 4,
   "metadata": {},
   "outputs": [],
   "source": [
    "BATCH_SIZE = 32\n",
    "EPOCHS = 10"
   ]
  },
  {
   "cell_type": "code",
   "execution_count": 7,
   "metadata": {},
   "outputs": [],
   "source": [
    "# MNIST DATA Download & train test split\n",
    "# root 저장될 공간, train 훈련데이터 여부, download 다운로드 여부, transform 다운과 동시에 데이터 전처리 가능\n",
    "# transforms.ToTensor() torch모델로 집어넣기 때문에 torch.Tensor로 변환시켜주고, \n",
    "# 동시에 너무 큰 값을 갖는 데이터는 불안정하거나 과적합되는 방향으로 진행될 가능성이 있기때문에 0~1사이의 값을 갖는 정규화 진행\n",
    "train_dataset = datasets.MNIST(root = './Data/MNIST',train = True,download = True, transform=transforms.ToTensor())\n",
    "test_dataset = datasets.MNIST(root = './Data/MNIST',train = False,download = True, transform=transforms.ToTensor())\n",
    "\n",
    "# 다운로드한 dataset들을 배치사이즈로 분리해 지정한다. 즉, 배치사이즈 만큼의 미니배치를 구성하는 것을 DataLoader를 통해 할 수 있다.\n",
    "train_loader = DataLoader(dataset = train_dataset, batch_size = BATCH_SIZE, shuffle = True)\n",
    "test_loader = DataLoader(dataset = test_dataset, batch_size = BATCH_SIZE, shuffle = False)"
   ]
  },
  {
   "cell_type": "code",
   "execution_count": 17,
   "metadata": {},
   "outputs": [
    {
     "name": "stdout",
     "output_type": "stream",
     "text": [
      "torch.Size([32, 1, 28, 28])\n",
      "torch.Size([32])\n"
     ]
    }
   ],
   "source": [
    "for (x_train,y_train) in train_loader:\n",
    "    print(x_train.size())\n",
    "    print(y_train.size())\n",
    "    break"
   ]
  },
  {
   "cell_type": "code",
   "execution_count": 18,
   "metadata": {},
   "outputs": [
    {
     "name": "stdout",
     "output_type": "stream",
     "text": [
      "X_train :  torch.Size([32, 1, 28, 28])  type :  torch.FloatTensor\n",
      "y_train :  torch.Size([32])  type :  torch.LongTensor\n"
     ]
    }
   ],
   "source": [
    "# 데이터 확인해보기\n",
    "for (x_train,y_train) in train_loader:\n",
    "    print('X_train : ',x_train.size(), ' type : ',x_train.type())\n",
    "    print('y_train : ',y_train.size(), ' type : ',y_train.type())\n",
    "    break"
   ]
  },
  {
   "cell_type": "code",
   "execution_count": 23,
   "metadata": {},
   "outputs": [
    {
     "data": {
      "image/png": "[encoded data removed]",
      "text/plain": [
       "<Figure size 720x72 with 10 Axes>"
      ]
     },
     "metadata": {
      "needs_background": "light"
     },
     "output_type": "display_data"
    }
   ],
   "source": [
    "# 데이터 확인해보기 (2)\n",
    "pltsize = 1\n",
    "plt.figure(figsize=(10*pltsize, pltsize))\n",
    "for i in range(10):\n",
    "    plt.subplot(1,10,i+1)\n",
    "    plt.axis('off')\n",
    "    plt.imshow(x_train[i,:,:,:].numpy().reshape(28,28), cmap = 'gray_r')\n",
    "    plt.title('Class : ' + str(y_train[i].item()))"
   ]
  },
  {
   "cell_type": "code",
   "execution_count": 24,
   "metadata": {},
   "outputs": [],
   "source": [
    "# MLP 모델 설계하기\n",
    "class MNIST_Model(nn.Module):\n",
    "    def __init__(self):\n",
    "        # nn.Module의 메소드 상속\n",
    "        super(MNIST_Model,self).__init__()\n",
    "        self.fc1 = nn.Linear(28*28,512)\n",
    "        self.fc2 = nn.Linear(512,256)\n",
    "        self.fc3 = nn.Linear(256,10)\n",
    "    \n",
    "    def forward(self,x):\n",
    "        x = x.view(-1,28*28)\n",
    "        x = self.fc1(x)\n",
    "        # torch model 설계에 유용한 함수들을 모아놓은 torch.nn.functional\n",
    "        x = F.sigmoid(x)\n",
    "        x = self.fc2(x)\n",
    "        x = F.sigmoid(x)\n",
    "        x = self.fc3(x)\n",
    "        x = F.log_softmax(x, dim=1)\n",
    "        return x"
   ]
  },
  {
   "cell_type": "code",
   "execution_count": 31,
   "metadata": {},
   "outputs": [
    {
     "name": "stdout",
     "output_type": "stream",
     "text": [
      "MNIST_Model(\n",
      "  (fc1): Linear(in_features=784, out_features=512, bias=True)\n",
      "  (fc2): Linear(in_features=512, out_features=256, bias=True)\n",
      "  (fc3): Linear(in_features=256, out_features=10, bias=True)\n",
      ")\n"
     ]
    }
   ],
   "source": [
    "# model 을 cuda 에 할당\n",
    "model = MNIST_Model().to(DEVICE)\n",
    "# loss값들을 최소화하는 방법으로 SGD를 선택했고, 가중치를 업데이트하는 것은 model.parameters(), 학습률은 0.01, 옵티마이저 관성 : 0.5로 설정\n",
    "optimizer = torch.optim.SGD(model.parameters(),lr = 0.01, momentum=0.5)\n",
    "# 원핫인코딩\n",
    "criterion = nn.CrossEntropyLoss()\n",
    "\n",
    "print(model)"
   ]
  },
  {
   "cell_type": "code",
   "execution_count": 32,
   "metadata": {},
   "outputs": [],
   "source": [
    "# MLP 모델 학습을 진행하며 학습 데이터에 대한 모델 성능을 확인하는 함수 정의\n",
    "def train(model, train_loader, optimizer, log_interval):\n",
    "    # 기존에 정의한 모델을 학습상태로 지정\n",
    "    model.train()\n",
    "    for batch_idx, (image,label) in enumerate(train_loader):\n",
    "        # 기존에 정의한 장비에 할당\n",
    "        image = image.to(DEVICE)\n",
    "        label = label.to(DEVICE)\n",
    "\n",
    "        # 기존에 정의한 장비에 이미지 데이터와 레이블 데이터를 할당할 경우, 과거에 이용한 loss의 gradient가 optimizer에 할당되어 있으므로 초기화\n",
    "        optimizer.zero_grad()\n",
    "\n",
    "        # 장비에 할당한 이미지 데이터를 MLP 모델의 Input값으로 넣어 예측\n",
    "        output = model(image)\n",
    "\n",
    "        # 계산된 Output과 장비에 할당된 레이블 데이터를 기존에 정의한 CrossEntropy를 이용해 Loss값을 계산\n",
    "        loss = criterion(output,label)\n",
    "\n",
    "        # loss값을 계산한 결과를 바탕으로 Back Propagation 을 통해 계산된 Gradient 값을 각 파라미터에 할당\n",
    "        loss.backward()\n",
    "\n",
    "        # 각 파라미터에 할당된 Gradient값을 이용해 파라미터 값을 업데이트한다.\n",
    "        optimizer.step()\n",
    "\n",
    "        if batch_idx % log_interval == 0:\n",
    "            print(\"Train Epoch : {} [{}/{} ({:.0f}%)]\\t Train Loss : {:.6f}\".format(Epoch,batch_idx*len(image),len(train_loader.dataset),100. * batch_idx / len(train_loader),loss.item()))\n"
   ]
  },
  {
   "cell_type": "code",
   "execution_count": 33,
   "metadata": {},
   "outputs": [],
   "source": [
    "# 검증 데이터에 대한 모델 성능을 확인하는 함수\n",
    "def evaluate(model,test_loader):\n",
    "    # 이미 학습이 완료가 된 모델에 대해 더 이상 학습을 통해 파라미터가 진행되는 상태가 아닌, 평가 상태로 지정\n",
    "    model.eval()\n",
    "\n",
    "    # test_loss 값을 계산하기 위해 초기화\n",
    "    test_loss = 0\n",
    "    # 올바르게 분류한 경우를 세기 위해 correct 변수 초기화\n",
    "    correct = 0\n",
    "    \n",
    "    # gradient를 통해 파라미터 값이 업데이트되는 현상을 방지하기 위해 torch.no_grad를 사용해 흐름을 억제한다.\n",
    "    with torch.no_grad():\n",
    "        # test image , label를 뽑아냄\n",
    "        for image, label in test_loader:\n",
    "            # 이미지, 라벨을 cuda 에 할당\n",
    "            image = image.to(DEVICE)\n",
    "            label = label.to(DEVICE)\n",
    "\n",
    "            # image를 모델에 넣어 예측 > 결과값\n",
    "            output = model(image)\n",
    "\n",
    "            # crossentropy 객체에 output값과 라벨 값을 넣어주고 test_loss에 더해준다.\n",
    "            test_loss += criterion(output,label).item()\n",
    "\n",
    "            # 결과값은 크기가 10인 벡터값이니 가장 큰값의 위치에 대해 대응하는 클래스로 예측했다고 판단\n",
    "            prediction = output.max(1, keepdim = True)[1]\n",
    "\n",
    "            # 예측값과 실제 라벨값이 일치하게 되면 correct에 더해준다.\n",
    "            correct += prediction.eq(label.view_as(prediction)).sum().item()\n",
    "    \n",
    "    # test_loss 의 값을 데이터 크기 만큼 나눠서 평균값을 구한다.\n",
    "    test_loss /= len(test_loader.dataset)\n",
    "    # 데이터 크기 만큼 나눠 평균값을 구한다.\n",
    "    test_accuracy = 100. * correct / len(test_loader.dataset)\n",
    "    \n",
    "    return test_loss, test_accuracy"
   ]
  },
  {
   "cell_type": "code",
   "execution_count": 34,
   "metadata": {},
   "outputs": [
    {
     "name": "stdout",
     "output_type": "stream",
     "text": [
      "Train Epoch : 1 [0/60000 (0%)]\t Train Loss : 2.352414\n",
      "Train Epoch : 1 [6400/60000 (11%)]\t Train Loss : 2.259543\n",
      "Train Epoch : 1 [12800/60000 (21%)]\t Train Loss : 2.291816\n",
      "Train Epoch : 1 [19200/60000 (32%)]\t Train Loss : 2.289183\n",
      "Train Epoch : 1 [25600/60000 (43%)]\t Train Loss : 2.310908\n",
      "Train Epoch : 1 [32000/60000 (53%)]\t Train Loss : 2.279367\n",
      "Train Epoch : 1 [38400/60000 (64%)]\t Train Loss : 2.297324\n",
      "Train Epoch : 1 [44800/60000 (75%)]\t Train Loss : 2.284940\n",
      "Train Epoch : 1 [51200/60000 (85%)]\t Train Loss : 2.299412\n",
      "Train Epoch : 1 [57600/60000 (96%)]\t Train Loss : 2.277715\n",
      "\\[EPOCH : 1], \tTest Loss : 0.0696, \tTest Accuracy : 28.62 %\n",
      "\n",
      "Train Epoch : 2 [0/60000 (0%)]\t Train Loss : 2.208535\n",
      "Train Epoch : 2 [6400/60000 (11%)]\t Train Loss : 2.205148\n",
      "Train Epoch : 2 [12800/60000 (21%)]\t Train Loss : 2.173249\n",
      "Train Epoch : 2 [19200/60000 (32%)]\t Train Loss : 2.133495\n",
      "Train Epoch : 2 [25600/60000 (43%)]\t Train Loss : 2.042274\n",
      "Train Epoch : 2 [32000/60000 (53%)]\t Train Loss : 1.924998\n",
      "Train Epoch : 2 [38400/60000 (64%)]\t Train Loss : 1.740543\n",
      "Train Epoch : 2 [44800/60000 (75%)]\t Train Loss : 1.340151\n",
      "Train Epoch : 2 [51200/60000 (85%)]\t Train Loss : 1.514390\n",
      "Train Epoch : 2 [57600/60000 (96%)]\t Train Loss : 1.418793\n",
      "\\[EPOCH : 2], \tTest Loss : 0.0386, \tTest Accuracy : 62.83 %\n",
      "\n",
      "Train Epoch : 3 [0/60000 (0%)]\t Train Loss : 1.435920\n",
      "Train Epoch : 3 [6400/60000 (11%)]\t Train Loss : 1.232359\n",
      "Train Epoch : 3 [12800/60000 (21%)]\t Train Loss : 0.863312\n",
      "Train Epoch : 3 [19200/60000 (32%)]\t Train Loss : 1.164876\n",
      "Train Epoch : 3 [25600/60000 (43%)]\t Train Loss : 0.938893\n",
      "Train Epoch : 3 [32000/60000 (53%)]\t Train Loss : 1.216183\n",
      "Train Epoch : 3 [38400/60000 (64%)]\t Train Loss : 0.879808\n",
      "Train Epoch : 3 [44800/60000 (75%)]\t Train Loss : 0.752610\n",
      "Train Epoch : 3 [51200/60000 (85%)]\t Train Loss : 0.573741\n",
      "Train Epoch : 3 [57600/60000 (96%)]\t Train Loss : 1.093946\n",
      "\\[EPOCH : 3], \tTest Loss : 0.0233, \tTest Accuracy : 77.43 %\n",
      "\n",
      "Train Epoch : 4 [0/60000 (0%)]\t Train Loss : 0.646321\n",
      "Train Epoch : 4 [6400/60000 (11%)]\t Train Loss : 0.646977\n",
      "Train Epoch : 4 [12800/60000 (21%)]\t Train Loss : 0.737141\n",
      "Train Epoch : 4 [19200/60000 (32%)]\t Train Loss : 0.873167\n",
      "Train Epoch : 4 [25600/60000 (43%)]\t Train Loss : 0.443778\n",
      "Train Epoch : 4 [32000/60000 (53%)]\t Train Loss : 0.496790\n",
      "Train Epoch : 4 [38400/60000 (64%)]\t Train Loss : 0.660810\n",
      "Train Epoch : 4 [44800/60000 (75%)]\t Train Loss : 0.622823\n",
      "Train Epoch : 4 [51200/60000 (85%)]\t Train Loss : 0.716655\n",
      "Train Epoch : 4 [57600/60000 (96%)]\t Train Loss : 0.661651\n",
      "\\[EPOCH : 4], \tTest Loss : 0.0178, \tTest Accuracy : 83.61 %\n",
      "\n",
      "Train Epoch : 5 [0/60000 (0%)]\t Train Loss : 0.594919\n",
      "Train Epoch : 5 [6400/60000 (11%)]\t Train Loss : 0.542139\n",
      "Train Epoch : 5 [12800/60000 (21%)]\t Train Loss : 0.507891\n",
      "Train Epoch : 5 [19200/60000 (32%)]\t Train Loss : 0.414685\n",
      "Train Epoch : 5 [25600/60000 (43%)]\t Train Loss : 0.496755\n",
      "Train Epoch : 5 [32000/60000 (53%)]\t Train Loss : 0.253371\n",
      "Train Epoch : 5 [38400/60000 (64%)]\t Train Loss : 0.416929\n",
      "Train Epoch : 5 [44800/60000 (75%)]\t Train Loss : 0.684093\n",
      "Train Epoch : 5 [51200/60000 (85%)]\t Train Loss : 0.562805\n",
      "Train Epoch : 5 [57600/60000 (96%)]\t Train Loss : 0.631631\n",
      "\\[EPOCH : 5], \tTest Loss : 0.0145, \tTest Accuracy : 86.18 %\n",
      "\n",
      "Train Epoch : 6 [0/60000 (0%)]\t Train Loss : 0.305969\n",
      "Train Epoch : 6 [6400/60000 (11%)]\t Train Loss : 0.306587\n",
      "Train Epoch : 6 [12800/60000 (21%)]\t Train Loss : 0.297498\n",
      "Train Epoch : 6 [19200/60000 (32%)]\t Train Loss : 0.627533\n",
      "Train Epoch : 6 [25600/60000 (43%)]\t Train Loss : 0.384594\n",
      "Train Epoch : 6 [32000/60000 (53%)]\t Train Loss : 0.371753\n",
      "Train Epoch : 6 [38400/60000 (64%)]\t Train Loss : 0.382017\n",
      "Train Epoch : 6 [44800/60000 (75%)]\t Train Loss : 0.415553\n",
      "Train Epoch : 6 [51200/60000 (85%)]\t Train Loss : 0.389920\n",
      "Train Epoch : 6 [57600/60000 (96%)]\t Train Loss : 0.414692\n",
      "\\[EPOCH : 6], \tTest Loss : 0.0130, \tTest Accuracy : 87.79 %\n",
      "\n",
      "Train Epoch : 7 [0/60000 (0%)]\t Train Loss : 0.569956\n",
      "Train Epoch : 7 [6400/60000 (11%)]\t Train Loss : 0.307874\n",
      "Train Epoch : 7 [12800/60000 (21%)]\t Train Loss : 0.396119\n",
      "Train Epoch : 7 [19200/60000 (32%)]\t Train Loss : 0.490706\n",
      "Train Epoch : 7 [25600/60000 (43%)]\t Train Loss : 0.411275\n",
      "Train Epoch : 7 [32000/60000 (53%)]\t Train Loss : 0.305208\n",
      "Train Epoch : 7 [38400/60000 (64%)]\t Train Loss : 0.447717\n",
      "Train Epoch : 7 [44800/60000 (75%)]\t Train Loss : 0.373623\n",
      "Train Epoch : 7 [51200/60000 (85%)]\t Train Loss : 0.338788\n",
      "Train Epoch : 7 [57600/60000 (96%)]\t Train Loss : 0.328160\n",
      "\\[EPOCH : 7], \tTest Loss : 0.0121, \tTest Accuracy : 88.52 %\n",
      "\n",
      "Train Epoch : 8 [0/60000 (0%)]\t Train Loss : 0.197887\n",
      "Train Epoch : 8 [6400/60000 (11%)]\t Train Loss : 0.795321\n",
      "Train Epoch : 8 [12800/60000 (21%)]\t Train Loss : 0.255248\n",
      "Train Epoch : 8 [19200/60000 (32%)]\t Train Loss : 0.189241\n",
      "Train Epoch : 8 [25600/60000 (43%)]\t Train Loss : 0.237060\n",
      "Train Epoch : 8 [32000/60000 (53%)]\t Train Loss : 0.244778\n",
      "Train Epoch : 8 [38400/60000 (64%)]\t Train Loss : 0.325788\n",
      "Train Epoch : 8 [44800/60000 (75%)]\t Train Loss : 0.339650\n",
      "Train Epoch : 8 [51200/60000 (85%)]\t Train Loss : 0.344632\n",
      "Train Epoch : 8 [57600/60000 (96%)]\t Train Loss : 0.619243\n",
      "\\[EPOCH : 8], \tTest Loss : 0.0114, \tTest Accuracy : 89.37 %\n",
      "\n",
      "Train Epoch : 9 [0/60000 (0%)]\t Train Loss : 0.449382\n",
      "Train Epoch : 9 [6400/60000 (11%)]\t Train Loss : 0.277328\n",
      "Train Epoch : 9 [12800/60000 (21%)]\t Train Loss : 0.497503\n",
      "Train Epoch : 9 [19200/60000 (32%)]\t Train Loss : 0.177331\n",
      "Train Epoch : 9 [25600/60000 (43%)]\t Train Loss : 0.343710\n",
      "Train Epoch : 9 [32000/60000 (53%)]\t Train Loss : 0.524248\n",
      "Train Epoch : 9 [38400/60000 (64%)]\t Train Loss : 0.392611\n",
      "Train Epoch : 9 [44800/60000 (75%)]\t Train Loss : 0.558873\n",
      "Train Epoch : 9 [51200/60000 (85%)]\t Train Loss : 0.296165\n",
      "Train Epoch : 9 [57600/60000 (96%)]\t Train Loss : 0.174988\n",
      "\\[EPOCH : 9], \tTest Loss : 0.0109, \tTest Accuracy : 89.97 %\n",
      "\n",
      "Train Epoch : 10 [0/60000 (0%)]\t Train Loss : 0.387005\n",
      "Train Epoch : 10 [6400/60000 (11%)]\t Train Loss : 0.355990\n",
      "Train Epoch : 10 [12800/60000 (21%)]\t Train Loss : 0.262197\n",
      "Train Epoch : 10 [19200/60000 (32%)]\t Train Loss : 0.447581\n",
      "Train Epoch : 10 [25600/60000 (43%)]\t Train Loss : 0.520918\n",
      "Train Epoch : 10 [32000/60000 (53%)]\t Train Loss : 0.158686\n",
      "Train Epoch : 10 [38400/60000 (64%)]\t Train Loss : 0.177948\n",
      "Train Epoch : 10 [44800/60000 (75%)]\t Train Loss : 0.454687\n",
      "Train Epoch : 10 [51200/60000 (85%)]\t Train Loss : 0.444990\n",
      "Train Epoch : 10 [57600/60000 (96%)]\t Train Loss : 0.389938\n",
      "\\[EPOCH : 10], \tTest Loss : 0.0105, \tTest Accuracy : 90.29 %\n",
      "\n"
     ]
    }
   ],
   "source": [
    "## MLP 학습을 실행하면서 Train, Test_set 의 Loss 및 Test set Accuracy 를 확인하기\n",
    "for Epoch in range(1,EPOCHS+1):\n",
    "    train(model, train_loader, optimizer, log_interval=200)\n",
    "    test_loss, test_accuracy = evaluate(model,test_loader)\n",
    "    print(\"\\[EPOCH : {}], \\tTest Loss : {:.4f}, \\tTest Accuracy : {:.2f} %\\n\".format(Epoch, test_loss, test_accuracy))"
   ]
  },
  {
   "cell_type": "code",
   "execution_count": null,
   "metadata": {},
   "outputs": [],
   "source": []
  },
  {
   "cell_type": "code",
   "execution_count": null,
   "metadata": {},
   "outputs": [],
   "source": []
  }
 ],
 "metadata": {
  "interpreter": {
   "hash": "c3a6afb4ca1356324ac719a8f4904d3d9af325fac862a66ccc73b4ecb2536197"
  },
  "kernelspec": {
   "display_name": "Python 3.8.0 64-bit ('torch1.7': conda)",
   "language": "python",
   "name": "python3"
  },
  "language_info": {
   "codemirror_mode": {
    "name": "ipython",
    "version": 3
   },
   "file_extension": ".py",
   "mimetype": "text/x-python",
   "name": "python",
   "nbconvert_exporter": "python",
   "pygments_lexer": "ipython3",
   "version": "3.8.0"
  },
  "orig_nbformat": 4
 },
 "nbformat": 4,
 "nbformat_minor": 2
}
