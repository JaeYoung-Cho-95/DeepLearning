{
 "cells": [
  {
   "cell_type": "code",
   "execution_count": 8,
   "metadata": {},
   "outputs": [],
   "source": [
    "import numpy as np\n",
    "import matplotlib.pyplot as plt\n",
    "import torch\n",
    "import torch.nn as nn\n",
    "import torch.nn.functional as F\n",
    "from torch.utils.data import DataLoader\n",
    "from torchvision import transforms, datasets"
   ]
  },
  {
   "cell_type": "code",
   "execution_count": 9,
   "metadata": {},
   "outputs": [],
   "source": [
    "if torch.cuda.is_available():\n",
    "    DEVICE = 'cuda'\n",
    "else:\n",
    "    DEVICE = 'cpu'"
   ]
  },
  {
   "cell_type": "code",
   "execution_count": 10,
   "metadata": {},
   "outputs": [],
   "source": [
    "BATCH_SIZE = 32\n",
    "EPOCHS = 10"
   ]
  },
  {
   "cell_type": "code",
   "execution_count": 15,
   "metadata": {},
   "outputs": [],
   "source": [
    "# MNIST DATA Download & train test split\n",
    "# root 저장될 공간, train 훈련데이터 여부, download 다운로드 여부, transform 다운과 동시에 데이터 전처리 가능\n",
    "# transforms.ToTensor() torch모델로 집어넣기 때문에 torch.Tensor로 변환시켜주고, \n",
    "# 동시에 너무 큰 값을 갖는 데이터는 불안정하거나 과적합되는 방향으로 진행될 가능성이 있기때문에 0~1사이의 값을 갖는 정규화 진행\n",
    "train_dataset = datasets.MNIST(root = './Data/MNIST',train = True,download = True, transform=transforms.ToTensor())\n",
    "test_dataset = datasets.MNIST(root = './Data/MNIST',train = False,download = True, transform=transforms.ToTensor())\n",
    "\n",
    "# 다운로드한 dataset들을 배치사이즈로 분리해 지정한다. 즉, 배치사이즈 만큼의 미니배치를 구성하는 것을 DataLoader를 통해 할 수 있다.\n",
    "train_loader = DataLoader(dataset = train_dataset, batch_size = BATCH_SIZE, shuffle = True)\n",
    "test_loader = DataLoader(dataset = test_dataset, batch_size = BATCH_SIZE, shuffle = False)"
   ]
  },
  {
   "cell_type": "code",
   "execution_count": 16,
   "metadata": {},
   "outputs": [
    {
     "name": "stdout",
     "output_type": "stream",
     "text": [
      "X_train :  torch.Size([32, 1, 28, 28])  type :  torch.FloatTensor\n",
      "y_train :  torch.Size([32])  type :  torch.LongTensor\n"
     ]
    }
   ],
   "source": [
    "# 데이터 확인해보기\n",
    "for (x_train,y_train) in train_loader:\n",
    "    print('X_train : ',x_train.size(), ' type : ',x_train.type())\n",
    "    print('y_train : ',y_train.size(), ' type : ',y_train.type())\n",
    "    break"
   ]
  },
  {
   "cell_type": "code",
   "execution_count": 18,
   "metadata": {},
   "outputs": [
    {
     "data": {
      "image/png": "[encoded data removed]",
      "text/plain": [
       "<Figure size 720x72 with 10 Axes>"
      ]
     },
     "metadata": {
      "needs_background": "light"
     },
     "output_type": "display_data"
    }
   ],
   "source": [
    "# 데이터 확인해보기 (2)\n",
    "pltsize = 1\n",
    "plt.figure(figsize=(10*pltsize, pltsize))\n",
    "for i in range(10):\n",
    "    plt.subplot(1,10,i+1)\n",
    "    plt.axis('off')\n",
    "    plt.imshow(x_train[i,:,:,:].numpy().reshape(28,28), cmap = 'gray_r')\n",
    "    plt.title('Class : ' + str(y_train[i].item()))"
   ]
  },
  {
   "cell_type": "code",
   "execution_count": 22,
   "metadata": {},
   "outputs": [],
   "source": [
    "# MLP 모델 설계하기\n",
    "class MNIST_Model(nn.Module):\n",
    "    def __init__(self):\n",
    "        # nn.Module의 메소드 상속\n",
    "        super(MNIST_Model,self).__init__()\n",
    "        self.fc1 = nn.Linear(28,28,512)\n",
    "        self.fc2 = nn.Linear(512,256)\n",
    "        self.fc3 = nn.Linear(256,10)\n",
    "    \n",
    "    def forward(self,x):\n",
    "        x = x.view(-1,28*28)\n",
    "        x = self.fc1(x)\n",
    "        # torch model 설계에 유용한 함수들을 모아놓은 torch.nn.functional\n",
    "        x = F.sigmoid(x)\n",
    "        x = self.fc2(x)\n",
    "        x = F.sigmoid(x)\n",
    "        x = self.fc3(x)\n",
    "        x = F.log_softmax(x, dim=1)\n",
    "        return x"
   ]
  },
  {
   "cell_type": "code",
   "execution_count": 25,
   "metadata": {},
   "outputs": [
    {
     "name": "stdout",
     "output_type": "stream",
     "text": [
      "MNIST_Model(\n",
      "  (fc1): Linear(in_features=28, out_features=28, bias=True)\n",
      "  (fc2): Linear(in_features=512, out_features=256, bias=True)\n",
      "  (fc3): Linear(in_features=256, out_features=10, bias=True)\n",
      ")\n"
     ]
    }
   ],
   "source": [
    "# model 을 cuda 에 할당\n",
    "model = MNIST_Model().to(DEVICE)\n",
    "# loss값들을 최소화하는 방법으로 SGD를 선택했고, 가중치를 업데이트하는 것은 model.parameters(), 학습률은 0.01, 옵티마이저 관성 : 0.5로 설정\n",
    "optimizer = torch.optim.SGD(model.parameters(),lr = 0.01, momentum=0.5)\n",
    "# 원핫인코딩\n",
    "criterion = nn.CrossEntropyLoss()\n",
    "\n",
    "print(model)"
   ]
  },
  {
   "cell_type": "code",
   "execution_count": 34,
   "metadata": {},
   "outputs": [],
   "source": [
    "# MLP 모델 학습을 진행하며 학습 데이터에 대한 모델 성능을 확인하는 함수 정의\n",
    "def train(model, train_loader, optimizer, log_interval):\n",
    "    # 기존에 정의한 모델을 학습상태로 지정\n",
    "    model.train()\n",
    "    for batch_idx, (image,label) in enumerate(train_loader):\n",
    "        # 기존에 정의한 장비에 할당\n",
    "        image = image.to(DEVICE)\n",
    "        label = label.to(DEVICE)\n",
    "\n",
    "        # 기존에 정의한 장비에 이미지 데이터와 레이블 데이터를 할당할 경우, 과거에 이용한 loss의 gradient가 optimizer에 할당되어 있으므로 초기화\n",
    "        optimizer.zero_grad()\n",
    "\n",
    "        # 장비에 할당한 이미지 데이터를 MLP 모델의 Input값으로 넣어 예측\n",
    "        output = model(image)\n",
    "\n",
    "        # 계산된 Output과 장비에 할당된 레이블 데이터를 기존에 정의한 CrossEntropy를 이용해 Loss값을 계산\n",
    "        loss = criterion(output,label)\n",
    "\n",
    "        # loss값을 계산한 결과를 바탕으로 Back Propagation 을 통해 계산된 Gradient 값을 각 파라미터에 할당\n",
    "        loss.backward()\n",
    "\n",
    "        # 각 파라미터에 할당된 Gradient값을 이용해 파라미터 값을 업데이트한다.\n",
    "        optimizer.step()\n",
    "\n",
    "        if batch_idx % log_interval == 0:\n",
    "            print(\"Train Epoch : {} [{}/{} ({:.0f}%)]\\t Train Loss : {:.6f}\".format(Epoch,batch_idx*len(image),len(train_loader.dataset),100. * batch_idx / len(train_loader),loss.item()))\n"
   ]
  },
  {
   "cell_type": "code",
   "execution_count": 35,
   "metadata": {},
   "outputs": [],
   "source": [
    "# 검증 데이터에 대한 모델 성능을 확인하는 함수\n",
    "def evaluation(model,test_loader):\n",
    "    model.eval()\n",
    "    test_loss = 0\n",
    "    correct = 0\n",
    "\n",
    "    with torch.no_grad():\n",
    "        for image, label in test_loader:\n",
    "            image = image.to(DEVICE)\n",
    "            label = label.to(DEVICE)\n",
    "            output = model(image)\n",
    "\n",
    "            test_loss += criterion(output,label).item()\n",
    "            prediction = output.max(1, keepdim = True)[1]\n",
    "            correct += prediction.eq(label.view_as(prediction)).sum().item()\n",
    "    \n",
    "    test_loss /= len(test_loader.dataset)\n",
    "    test_accuracy = 100. * correct / len(test_loader.dataset)\n",
    "    \n",
    "    return test_loss, test_accuracy"
   ]
  }
 ],
 "metadata": {
  "interpreter": {
   "hash": "c3a6afb4ca1356324ac719a8f4904d3d9af325fac862a66ccc73b4ecb2536197"
  },
  "kernelspec": {
   "display_name": "Python 3.8.0 64-bit ('torch1.7': conda)",
   "language": "python",
   "name": "python3"
  },
  "language_info": {
   "codemirror_mode": {
    "name": "ipython",
    "version": 3
   },
   "file_extension": ".py",
   "mimetype": "text/x-python",
   "name": "python",
   "nbconvert_exporter": "python",
   "pygments_lexer": "ipython3",
   "version": "3.8.0"
  },
  "orig_nbformat": 4
 },
 "nbformat": 4,
 "nbformat_minor": 2
}
