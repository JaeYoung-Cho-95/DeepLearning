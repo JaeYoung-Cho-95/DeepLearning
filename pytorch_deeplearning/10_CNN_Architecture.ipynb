{
 "cells": [
  {
   "cell_type": "markdown",
   "metadata": {},
   "source": [
    "### 1. Image Net\n",
    "- 이미지 분류를 위해 가장 많이 사용하는 데이터 셋\n",
    "- 학습 데이터 셋은 138GB, 총 2만개 이상의 클래스와 약 1,400만장의 이미지로 구성돼 있다.\n",
    "### 2. Representive CNN Models(자세한 설명은 구글링)\n",
    "#### (1) LeNet\n",
    "- 32 * 32 Input 과 Convolution layer 2개, Pooling Layer 2개, Fully Connected Layer 형태\n",
    "#### (2) AlexNet\n",
    "#### (3) VGG16, VGG19 Net\n",
    "- kernel size 3의 conv layer가 Fully Connected Layer와 다 합쳐 16, 19개로 이루어져있는 Neural Network\n",
    "#### (4) GoogLeNet = Inception Net\n",
    "- Layer 내에서 서로 다른 연산을 거친 후 Feature Map 을 다시 합치는 방식\n",
    "#### (5) ResNet(Residual Network)\n",
    "- 이전 Layer의 Feature Map을 다음 Layer Feature Map에 더해주는 개념\n",
    "- 네트워크가 깊어짐에 따라 앞 단의 Layer에 대한 정보는 뒤의 Layer에서는 희석될 수 밖에 없는데 이를 보완\n",
    "#### (6) DenseNet\n",
    "- Resnet 의 확정 버전\n",
    "- Resnet은 이전 Layer와 다음 Layer에 Skip Connection 을 적용하는 모델이라면, DenseNet은 모든 Layer 에 Skip connection 을 적용하는 모델\n",
    "- 첫 번째 Layer의 정보를 두 번째, 세 번째, 그리고 마지막 Layer 까지 함께 학습을 진행시켜주는 것"
   ]
  }
 ],
 "metadata": {
  "language_info": {
   "name": "python"
  },
  "orig_nbformat": 4
 },
 "nbformat": 4,
 "nbformat_minor": 2
}
