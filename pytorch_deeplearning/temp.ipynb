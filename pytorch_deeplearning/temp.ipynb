{
 "cells": [
  {
   "cell_type": "code",
   "execution_count": 11,
   "metadata": {},
   "outputs": [],
   "source": [
    "# 선형 대수와 관련된 함수를 쉽게 이용할 수 있는 모듈\n",
    "import numpy as np\n",
    "# 시각화 라이브러리\n",
    "import matplotlib.pyplot as plt\n",
    "# 파이토치의 기본 모듈\n",
    "import torch\n",
    "# 파이토치 모듈 중 인공 신경망 모델을 설계할 때 필요한 함수를 모아 놓은 모듈이다.\n",
    "import torch.nn as nn\n",
    "# torch.nn 모듈 중 자주 사용되는 함수를 'F' 로 지정\n",
    "import torch.nn.functional as F\n",
    "from torchvision import transforms, datasets\n",
    "from torch.utils.data import DataLoader"
   ]
  },
  {
   "cell_type": "code",
   "execution_count": 8,
   "metadata": {},
   "outputs": [
    {
     "name": "stdout",
     "output_type": "stream",
     "text": [
      "1.7.1\n",
      "cuda\n"
     ]
    }
   ],
   "source": [
    "if torch.cuda.is_available():\n",
    "    device = torch.device('cuda')\n",
    "else:\n",
    "    device = torch.device('cpu')\n",
    "print(torch.__version__)\n",
    "print(device)"
   ]
  },
  {
   "cell_type": "code",
   "execution_count": 9,
   "metadata": {},
   "outputs": [],
   "source": [
    "# 파이썬 코드 내 하이퍼파라미터를 지정할 때 보통 영어 대문자로 표기\n",
    "BATCH_SIZE = 32\n",
    "EPOCHS = 10"
   ]
  },
  {
   "cell_type": "code",
   "execution_count": 14,
   "metadata": {},
   "outputs": [],
   "source": [
    "# root는 데이터가 저장될 장소를 지정\n",
    "# transform에서 transform.ToTensor는 해당 데이터를 tensor로 표현하며, 0~1사이의 정규화까지 진행시켜 준다.\n",
    "train_dataset = datasets.MNIST(root = './data/', train=True, download=True, transform = transforms.ToTensor())\n",
    "test_dataset = datasets.MNIST(root='./data/',train = False, download=True, transform = transforms.ToTensor())"
   ]
  },
  {
   "cell_type": "code",
   "execution_count": 15,
   "metadata": {},
   "outputs": [],
   "source": [
    "train_loader = DataLoader(dataset=train_dataset, batch_size=BATCH_SIZE, shuffle=True)\n",
    "test_loader = DataLoader(dataset=test_dataset, batch_size=BATCH_SIZE, shuffle=True)"
   ]
  },
  {
   "cell_type": "code",
   "execution_count": 18,
   "metadata": {},
   "outputs": [
    {
     "name": "stdout",
     "output_type": "stream",
     "text": [
      "<class 'torch.Tensor'>\n",
      "<class 'torch.Tensor'>\n",
      "torch.Size([32, 1, 28, 28])\n",
      "torch.Size([32])\n"
     ]
    }
   ],
   "source": [
    "# 데이터 확인하기\n",
    "for x,y in train_loader:\n",
    "    print(type(x))\n",
    "    print(type(y))\n",
    "    print(x.size())\n",
    "    print(y.size())\n",
    "    break"
   ]
  },
  {
   "cell_type": "code",
   "execution_count": 21,
   "metadata": {},
   "outputs": [
    {
     "data": {
      "image/png": "[encoded data removed]",
      "text/plain": [
       "<Figure size 720x72 with 10 Axes>"
      ]
     },
     "metadata": {
      "needs_background": "light"
     },
     "output_type": "display_data"
    }
   ],
   "source": [
    "pltsize = 1\n",
    "plt.figure(figsize = (10 * pltsize, pltsize))\n",
    "for i in range(10):\n",
    "    plt.subplot(1,10,i+1)\n",
    "    plt.axis('off')\n",
    "    plt.imshow(x[i].view(28,28).numpy(),cmap = 'gray_r')\n",
    "    plt.title('class : ' + str(y[i].item()))"
   ]
  },
  {
   "cell_type": "code",
   "execution_count": 26,
   "metadata": {},
   "outputs": [],
   "source": [
    "# Net 클래스를 정의하고, nn.Module 을 상속받는다.\n",
    "class Net(nn.Module):\n",
    "    # Net 클래스의 인스턴스를 생성했을 때, 지니게 되는 성질을 정의해주는 메서드\n",
    "    def __init__(self):\n",
    "        # nn.Module 내에 있는 메서드를 상속받아 이용한다.\n",
    "        super().__init__() \n",
    "        self.fc1 = nn.Linear(28*28,512)\n",
    "        self.fc2 = nn.Linear(512,256)\n",
    "        self.fc3 = nn.Linear(256,10)\n",
    "    \n",
    "    # Net 클래스를 이용해 설계한 MLP 모델의 Foward Propagation을 정의\n",
    "    def forward(self,x):\n",
    "        x = x.view(-1,28*28)\n",
    "        x = self.fc1(x)\n",
    "        x = F.sigmoid(x)\n",
    "        x = self.fc2(x)\n",
    "        x = F.sigmoid(x)\n",
    "        x = self.fc3(x)\n",
    "        x = F.log_softmax(x, dim = 1)\n",
    "        return x"
   ]
  },
  {
   "cell_type": "code",
   "execution_count": 67,
   "metadata": {},
   "outputs": [
    {
     "name": "stdout",
     "output_type": "stream",
     "text": [
      "Net(\n",
      "  (fc1): Linear(in_features=784, out_features=512, bias=True)\n",
      "  (fc2): Linear(in_features=512, out_features=256, bias=True)\n",
      "  (fc3): Linear(in_features=256, out_features=10, bias=True)\n",
      ")\n"
     ]
    }
   ],
   "source": [
    "# 정의한 모델을 MLP 모델을 'cuda'에 할당한다.\n",
    "model = Net().to('cuda')\n",
    "\n",
    "# 역전파 알고리즘을 이용해 파라미터를 업데이트할 때, 이용하는 Optimizer를 정의한다.\n",
    "optimizer = torch.optim.SGD(model.parameters(),lr = 0.001, momentum=0.5)\n",
    "\n",
    "loss_func = nn.CrossEntropyLoss()\n",
    "print(model)"
   ]
  },
  {
   "cell_type": "code",
   "execution_count": 68,
   "metadata": {},
   "outputs": [],
   "source": [
    "def train(model, train_loader, optimizer, log_interval):\n",
    "    # 모델을 훈련시키는 과정인지, 검증하는 과정인지 명시적으로 알려주는 코드\n",
    "    model.train()\n",
    "    for batch_idx, (image, label) in enumerate(train_loader):\n",
    "        image = image.to('cuda')\n",
    "        label = label.to('cuda')\n",
    "        optimizer.zero_grad()\n",
    "        output = model(image)\n",
    "        loss = loss_func(output, label)\n",
    "        loss.backward()\n",
    "        optimizer.step()\n",
    "        \n",
    "        if batch_idx % log_interval == 0:\n",
    "            print(\"train epoch : {} [{} / {} ({:.0f} %] \\tTrain Loss : {:.6f}\".format(EPOCHS, batch_idx * len(image),len(train_loader.dataset), 100. * batch_idx / len(train_loader), loss.item()))"
   ]
  },
  {
   "cell_type": "code",
   "execution_count": 40,
   "metadata": {},
   "outputs": [
    {
     "name": "stdout",
     "output_type": "stream",
     "text": [
      "train epoch : 10 [0 / 60000 (0 %] \tTrain Loss : 2.300956\n",
      "train epoch : 10 [6400 / 60000 (11 %] \tTrain Loss : 2.310178\n",
      "train epoch : 10 [12800 / 60000 (21 %] \tTrain Loss : 2.311797\n",
      "train epoch : 10 [19200 / 60000 (32 %] \tTrain Loss : 2.297429\n",
      "train epoch : 10 [25600 / 60000 (43 %] \tTrain Loss : 2.278566\n",
      "train epoch : 10 [32000 / 60000 (53 %] \tTrain Loss : 2.284381\n",
      "train epoch : 10 [38400 / 60000 (64 %] \tTrain Loss : 2.307610\n",
      "train epoch : 10 [44800 / 60000 (75 %] \tTrain Loss : 2.298872\n",
      "train epoch : 10 [51200 / 60000 (85 %] \tTrain Loss : 2.282972\n",
      "train epoch : 10 [57600 / 60000 (96 %] \tTrain Loss : 2.287829\n"
     ]
    }
   ],
   "source": [
    "train(model, train_loader, optimizer, log_interval=200)"
   ]
  },
  {
   "cell_type": "code",
   "execution_count": 69,
   "metadata": {},
   "outputs": [
    {
     "name": "stdout",
     "output_type": "stream",
     "text": [
      "수식을 w로 미분한 값 : 2.0\n",
      "수식을 w로 미분한 값 : 4.0\n",
      "수식을 w로 미분한 값 : 6.0\n",
      "수식을 w로 미분한 값 : 8.0\n",
      "수식을 w로 미분한 값 : 10.0\n",
      "수식을 w로 미분한 값 : 12.0\n",
      "수식을 w로 미분한 값 : 14.0\n",
      "수식을 w로 미분한 값 : 16.0\n",
      "수식을 w로 미분한 값 : 18.0\n",
      "수식을 w로 미분한 값 : 20.0\n",
      "수식을 w로 미분한 값 : 22.0\n",
      "수식을 w로 미분한 값 : 24.0\n",
      "수식을 w로 미분한 값 : 26.0\n",
      "수식을 w로 미분한 값 : 28.0\n",
      "수식을 w로 미분한 값 : 30.0\n",
      "수식을 w로 미분한 값 : 32.0\n",
      "수식을 w로 미분한 값 : 34.0\n",
      "수식을 w로 미분한 값 : 36.0\n",
      "수식을 w로 미분한 값 : 38.0\n",
      "수식을 w로 미분한 값 : 40.0\n",
      "수식을 w로 미분한 값 : 42.0\n"
     ]
    }
   ],
   "source": [
    "import torch\n",
    "w = torch.tensor(2.0, requires_grad=True)\n",
    "\n",
    "nb_epochs = 20\n",
    "for epoch in range(nb_epochs + 1):\n",
    "\n",
    "  z = 2*w\n",
    "\n",
    "  z.backward()\n",
    "  print('수식을 w로 미분한 값 : {}'.format(w.grad))"
   ]
  },
  {
   "cell_type": "code",
   "execution_count": null,
   "metadata": {},
   "outputs": [],
   "source": []
  },
  {
   "cell_type": "markdown",
   "metadata": {},
   "source": []
  }
 ],
 "metadata": {
  "interpreter": {
   "hash": "2af3382def1999721366362b2cb0329bc70f435af2f996c1d056eb28f16c4a03"
  },
  "kernelspec": {
   "display_name": "Python 3.8.12 64-bit ('pytorch1.7': conda)",
   "name": "python3"
  },
  "language_info": {
   "codemirror_mode": {
    "name": "ipython",
    "version": 3
   },
   "file_extension": ".py",
   "mimetype": "text/x-python",
   "name": "python",
   "nbconvert_exporter": "python",
   "pygments_lexer": "ipython3",
   "version": "3.8.12"
  },
  "orig_nbformat": 4
 },
 "nbformat": 4,
 "nbformat_minor": 2
}
