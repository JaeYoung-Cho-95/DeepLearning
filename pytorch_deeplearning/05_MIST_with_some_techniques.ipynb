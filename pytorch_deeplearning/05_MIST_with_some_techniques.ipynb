{
 "cells": [
  {
   "cell_type": "markdown",
   "metadata": {},
   "source": [
    "## Adam, 배치정규화, 드롭아웃, ReLU, HE uniform Initialization 적용"
   ]
  },
  {
   "cell_type": "code",
   "execution_count": 1,
   "metadata": {},
   "outputs": [],
   "source": [
    "import torch\n",
    "import torch.nn as nn\n",
    "import torch.nn.functional as F\n",
    "import numpy as np\n",
    "from torchvision import transforms, datasets\n",
    "import matplotlib.pyplot as plt"
   ]
  },
  {
   "cell_type": "code",
   "execution_count": 2,
   "metadata": {},
   "outputs": [
    {
     "name": "stdout",
     "output_type": "stream",
     "text": [
      "장비 : cuda\n"
     ]
    }
   ],
   "source": [
    "if torch.cuda.is_available():\n",
    "    DEVICE = 'cuda'\n",
    "else:\n",
    "    DEVICE = 'cpu'\n",
    "print(\"장비 : {}\".format(DEVICE))"
   ]
  },
  {
   "cell_type": "code",
   "execution_count": 3,
   "metadata": {},
   "outputs": [],
   "source": [
    "BATCH_SIZE = 32\n",
    "EPOCHS = 10"
   ]
  },
  {
   "cell_type": "code",
   "execution_count": 19,
   "metadata": {},
   "outputs": [],
   "source": [
    "train_dataset = datasets.MNIST(root = './Data/MNIST',train = True, download=True, transform=transforms.ToTensor())\n",
    "test_dataset = datasets.MNIST(root = './Data/MNIST',train = False, download=True, transform=transforms.ToTensor())\n",
    "\n",
    "train_loader = torch.utils.data.DataLoader(dataset = train_dataset, batch_size = BATCH_SIZE, shuffle = True)\n",
    "test_loader = torch.utils.data.DataLoader(dataset = test_dataset, batch_size = BATCH_SIZE, shuffle = True)"
   ]
  },
  {
   "cell_type": "code",
   "execution_count": 20,
   "metadata": {},
   "outputs": [
    {
     "name": "stdout",
     "output_type": "stream",
     "text": [
      "torch.Size([32, 1, 28, 28]) torch.FloatTensor\n",
      "torch.Size([32]) torch.LongTensor\n"
     ]
    }
   ],
   "source": [
    "for (x_train, y_train) in train_loader:\n",
    "    print(x_train.size(), x_train.type())\n",
    "    print(y_train.size(), y_train.type())\n",
    "    break"
   ]
  },
  {
   "cell_type": "code",
   "execution_count": 21,
   "metadata": {},
   "outputs": [
    {
     "data": {
      "image/png": "[encoded data removed]",
      "text/plain": [
       "<Figure size 720x72 with 10 Axes>"
      ]
     },
     "metadata": {
      "needs_background": "light"
     },
     "output_type": "display_data"
    }
   ],
   "source": [
    "pltsize= 1\n",
    "plt.figure(figsize = (10 * pltsize, pltsize))\n",
    "for i in range(10):\n",
    "    plt.subplot(1,10,i+1)\n",
    "    plt.axis('off')\n",
    "    plt.imshow(x_train[i,:,:,:].numpy().reshape(28,28), cmap = 'gray_r')\n",
    "    plt.title('Class : ' + str(y_train[i].item())) "
   ]
  },
  {
   "cell_type": "code",
   "execution_count": 22,
   "metadata": {},
   "outputs": [],
   "source": [
    "class Net(nn.Module):\n",
    "    def __init__(self):\n",
    "        super(Net, self).__init__()\n",
    "        self.fc1 = nn.Linear(28*28,512)\n",
    "        self.fc2 = nn.Linear(512,256)\n",
    "        self.fc3 = nn.Linear(256,10)\n",
    "        self.dropout_prob = 0.5\n",
    "        self.batch_norm1 = nn.BatchNorm1d(512)\n",
    "        self.batch_norm2 = nn.BatchNorm1d(256)\n",
    "\n",
    "    \n",
    "    def forward(self,x):\n",
    "        x = x.view(-1,28*28)\n",
    "        x = self.fc1(x)\n",
    "        x = self.batch_norm1(x)\n",
    "        x = F.relu(x)\n",
    "        x = F.dropout(x, training=self.training, p = self.dropout_prob)\n",
    "        x = self.fc2(x)\n",
    "        x = self.batch_norm2(x)\n",
    "        x = F.relu(x)\n",
    "        x = F.dropout(x, training=self.training, p = self.dropout_prob)\n",
    "        x = self.fc3(x)\n",
    "        x = F.log_softmax(x, dim = 1)\n",
    "        return x"
   ]
  },
  {
   "cell_type": "code",
   "execution_count": 23,
   "metadata": {},
   "outputs": [
    {
     "name": "stdout",
     "output_type": "stream",
     "text": [
      "Net(\n",
      "  (fc1): Linear(in_features=784, out_features=512, bias=True)\n",
      "  (fc2): Linear(in_features=512, out_features=256, bias=True)\n",
      "  (fc3): Linear(in_features=256, out_features=10, bias=True)\n",
      "  (batch_norm1): BatchNorm1d(512, eps=1e-05, momentum=0.1, affine=True, track_running_stats=True)\n",
      "  (batch_norm2): BatchNorm1d(256, eps=1e-05, momentum=0.1, affine=True, track_running_stats=True)\n",
      ")\n"
     ]
    }
   ],
   "source": [
    "import torch.nn.init as init\n",
    "def weight_init(m):\n",
    "    if isinstance(m, nn.Linear):\n",
    "        init.kaiming_uniform_(m.weight.data)\n",
    "\n",
    "model = Net().to(DEVICE)\n",
    "model.apply(weight_init)\n",
    "optimizer = torch.optim.Adam(model.parameters(), lr = 0.01)\n",
    "criterion = nn.CrossEntropyLoss()\n",
    "print(model)"
   ]
  },
  {
   "cell_type": "code",
   "execution_count": 24,
   "metadata": {},
   "outputs": [],
   "source": [
    "def train(model, train_loader, optimizer,log_interval):\n",
    "    model.train()\n",
    "    for batch_idx,(image,label) in enumerate(train_loader):\n",
    "        image = image.to(DEVICE)\n",
    "        label = label.to(DEVICE)\n",
    "        optimizer.zero_grad()\n",
    "        output = model(image)\n",
    "        # loss값 계산\n",
    "        loss = criterion(output, label)\n",
    "        # loss 값 계산한 것을 바탕으로 역전파알고리즘을 통해 계산된 기울기 값을 각 파라미터에 할당\n",
    "        loss.backward()\n",
    "        # 가중치 업데이트\n",
    "        optimizer.step()\n",
    "\n",
    "        if batch_idx % log_interval == 0:\n",
    "            print(\"Train Epoch : {} [{} / {} ({:.0f}%)]\\t Train Loss : {:.6f}\".format(Epoch, batch_idx * len(image),len(train_loader.dataset), 100.*batch_idx / len(train_loader),loss.item()))"
   ]
  },
  {
   "cell_type": "code",
   "execution_count": 25,
   "metadata": {},
   "outputs": [],
   "source": [
    "def evaluate(model, test_loader):\n",
    "    model.eval()\n",
    "    test_loss = 0\n",
    "    correct = 0\n",
    "\n",
    "    with torch.no_grad():\n",
    "        for image, label in test_loader:\n",
    "            image = image.to(DEVICE)\n",
    "            label = label.to(DEVICE)\n",
    "            output = model(image)\n",
    "            test_loss += criterion(output, label).item()\n",
    "            prediction = output.max(1, keepdim = True)[1]\n",
    "            correct += prediction.eq(label.view_as(prediction)).sum().item()\n",
    "    \n",
    "    test_loss /= len(test_loader.dataset)\n",
    "    test_accuracy = 100. * correct / len(test_loader.dataset)\n",
    "    return test_loss, test_accuracy"
   ]
  },
  {
   "cell_type": "code",
   "execution_count": 26,
   "metadata": {},
   "outputs": [
    {
     "name": "stdout",
     "output_type": "stream",
     "text": [
      "Train Epoch : 1 [0 / 60000 (0%)]\t Train Loss : 3.339149\n",
      "Train Epoch : 1 [6400 / 60000 (11%)]\t Train Loss : 0.215261\n",
      "Train Epoch : 1 [12800 / 60000 (21%)]\t Train Loss : 0.184364\n",
      "Train Epoch : 1 [19200 / 60000 (32%)]\t Train Loss : 0.136987\n",
      "Train Epoch : 1 [25600 / 60000 (43%)]\t Train Loss : 0.377442\n",
      "Train Epoch : 1 [32000 / 60000 (53%)]\t Train Loss : 0.237679\n",
      "Train Epoch : 1 [38400 / 60000 (64%)]\t Train Loss : 0.226958\n",
      "Train Epoch : 1 [44800 / 60000 (75%)]\t Train Loss : 0.166236\n",
      "Train Epoch : 1 [51200 / 60000 (85%)]\t Train Loss : 0.507232\n",
      "Train Epoch : 1 [57600 / 60000 (96%)]\t Train Loss : 0.327446\n",
      "\n",
      "[EPOCH : 1], \t Test Loss : 0.0040, \t Test Accuracy : 95.910000 %\n",
      "\n",
      "Train Epoch : 2 [0 / 60000 (0%)]\t Train Loss : 0.146607\n",
      "Train Epoch : 2 [6400 / 60000 (11%)]\t Train Loss : 0.260558\n",
      "Train Epoch : 2 [12800 / 60000 (21%)]\t Train Loss : 0.377698\n",
      "Train Epoch : 2 [19200 / 60000 (32%)]\t Train Loss : 0.468174\n",
      "Train Epoch : 2 [25600 / 60000 (43%)]\t Train Loss : 0.259656\n",
      "Train Epoch : 2 [32000 / 60000 (53%)]\t Train Loss : 0.415764\n",
      "Train Epoch : 2 [38400 / 60000 (64%)]\t Train Loss : 0.132440\n",
      "Train Epoch : 2 [44800 / 60000 (75%)]\t Train Loss : 0.122793\n",
      "Train Epoch : 2 [51200 / 60000 (85%)]\t Train Loss : 0.190967\n",
      "Train Epoch : 2 [57600 / 60000 (96%)]\t Train Loss : 0.253477\n",
      "\n",
      "[EPOCH : 2], \t Test Loss : 0.0032, \t Test Accuracy : 96.730000 %\n",
      "\n",
      "Train Epoch : 3 [0 / 60000 (0%)]\t Train Loss : 0.118492\n",
      "Train Epoch : 3 [6400 / 60000 (11%)]\t Train Loss : 0.154817\n",
      "Train Epoch : 3 [12800 / 60000 (21%)]\t Train Loss : 0.185979\n",
      "Train Epoch : 3 [19200 / 60000 (32%)]\t Train Loss : 0.282101\n",
      "Train Epoch : 3 [25600 / 60000 (43%)]\t Train Loss : 0.132850\n",
      "Train Epoch : 3 [32000 / 60000 (53%)]\t Train Loss : 0.127978\n",
      "Train Epoch : 3 [38400 / 60000 (64%)]\t Train Loss : 0.064259\n",
      "Train Epoch : 3 [44800 / 60000 (75%)]\t Train Loss : 0.391197\n",
      "Train Epoch : 3 [51200 / 60000 (85%)]\t Train Loss : 0.249525\n",
      "Train Epoch : 3 [57600 / 60000 (96%)]\t Train Loss : 0.224127\n",
      "\n",
      "[EPOCH : 3], \t Test Loss : 0.0027, \t Test Accuracy : 97.360000 %\n",
      "\n",
      "Train Epoch : 4 [0 / 60000 (0%)]\t Train Loss : 0.049419\n",
      "Train Epoch : 4 [6400 / 60000 (11%)]\t Train Loss : 0.386028\n",
      "Train Epoch : 4 [12800 / 60000 (21%)]\t Train Loss : 0.195443\n",
      "Train Epoch : 4 [19200 / 60000 (32%)]\t Train Loss : 0.273695\n",
      "Train Epoch : 4 [25600 / 60000 (43%)]\t Train Loss : 0.082197\n",
      "Train Epoch : 4 [32000 / 60000 (53%)]\t Train Loss : 0.030130\n",
      "Train Epoch : 4 [38400 / 60000 (64%)]\t Train Loss : 0.041801\n",
      "Train Epoch : 4 [44800 / 60000 (75%)]\t Train Loss : 0.041598\n",
      "Train Epoch : 4 [51200 / 60000 (85%)]\t Train Loss : 0.168883\n",
      "Train Epoch : 4 [57600 / 60000 (96%)]\t Train Loss : 0.146818\n",
      "\n",
      "[EPOCH : 4], \t Test Loss : 0.0028, \t Test Accuracy : 97.340000 %\n",
      "\n",
      "Train Epoch : 5 [0 / 60000 (0%)]\t Train Loss : 0.191382\n",
      "Train Epoch : 5 [6400 / 60000 (11%)]\t Train Loss : 0.188832\n",
      "Train Epoch : 5 [12800 / 60000 (21%)]\t Train Loss : 0.021001\n",
      "Train Epoch : 5 [19200 / 60000 (32%)]\t Train Loss : 0.122993\n",
      "Train Epoch : 5 [25600 / 60000 (43%)]\t Train Loss : 0.204520\n",
      "Train Epoch : 5 [32000 / 60000 (53%)]\t Train Loss : 0.101881\n",
      "Train Epoch : 5 [38400 / 60000 (64%)]\t Train Loss : 0.040770\n",
      "Train Epoch : 5 [44800 / 60000 (75%)]\t Train Loss : 0.533936\n",
      "Train Epoch : 5 [51200 / 60000 (85%)]\t Train Loss : 0.325286\n",
      "Train Epoch : 5 [57600 / 60000 (96%)]\t Train Loss : 0.151033\n",
      "\n",
      "[EPOCH : 5], \t Test Loss : 0.0026, \t Test Accuracy : 97.500000 %\n",
      "\n",
      "Train Epoch : 6 [0 / 60000 (0%)]\t Train Loss : 0.308901\n",
      "Train Epoch : 6 [6400 / 60000 (11%)]\t Train Loss : 0.141150\n",
      "Train Epoch : 6 [12800 / 60000 (21%)]\t Train Loss : 0.400579\n",
      "Train Epoch : 6 [19200 / 60000 (32%)]\t Train Loss : 0.109610\n",
      "Train Epoch : 6 [25600 / 60000 (43%)]\t Train Loss : 0.765960\n",
      "Train Epoch : 6 [32000 / 60000 (53%)]\t Train Loss : 0.108303\n",
      "Train Epoch : 6 [38400 / 60000 (64%)]\t Train Loss : 0.349954\n",
      "Train Epoch : 6 [44800 / 60000 (75%)]\t Train Loss : 0.299056\n",
      "Train Epoch : 6 [51200 / 60000 (85%)]\t Train Loss : 0.164261\n",
      "Train Epoch : 6 [57600 / 60000 (96%)]\t Train Loss : 0.147622\n",
      "\n",
      "[EPOCH : 6], \t Test Loss : 0.0021, \t Test Accuracy : 97.810000 %\n",
      "\n",
      "Train Epoch : 7 [0 / 60000 (0%)]\t Train Loss : 0.196525\n",
      "Train Epoch : 7 [6400 / 60000 (11%)]\t Train Loss : 0.190891\n",
      "Train Epoch : 7 [12800 / 60000 (21%)]\t Train Loss : 0.092192\n",
      "Train Epoch : 7 [19200 / 60000 (32%)]\t Train Loss : 0.063498\n",
      "Train Epoch : 7 [25600 / 60000 (43%)]\t Train Loss : 0.172955\n",
      "Train Epoch : 7 [32000 / 60000 (53%)]\t Train Loss : 0.294244\n",
      "Train Epoch : 7 [38400 / 60000 (64%)]\t Train Loss : 0.170226\n",
      "Train Epoch : 7 [44800 / 60000 (75%)]\t Train Loss : 0.100129\n",
      "Train Epoch : 7 [51200 / 60000 (85%)]\t Train Loss : 0.333746\n",
      "Train Epoch : 7 [57600 / 60000 (96%)]\t Train Loss : 0.073669\n",
      "\n",
      "[EPOCH : 7], \t Test Loss : 0.0024, \t Test Accuracy : 97.720000 %\n",
      "\n",
      "Train Epoch : 8 [0 / 60000 (0%)]\t Train Loss : 0.065564\n",
      "Train Epoch : 8 [6400 / 60000 (11%)]\t Train Loss : 0.159411\n",
      "Train Epoch : 8 [12800 / 60000 (21%)]\t Train Loss : 0.300732\n",
      "Train Epoch : 8 [19200 / 60000 (32%)]\t Train Loss : 0.009534\n",
      "Train Epoch : 8 [25600 / 60000 (43%)]\t Train Loss : 0.115925\n",
      "Train Epoch : 8 [32000 / 60000 (53%)]\t Train Loss : 0.040064\n",
      "Train Epoch : 8 [38400 / 60000 (64%)]\t Train Loss : 0.249094\n",
      "Train Epoch : 8 [44800 / 60000 (75%)]\t Train Loss : 0.153334\n",
      "Train Epoch : 8 [51200 / 60000 (85%)]\t Train Loss : 0.067864\n",
      "Train Epoch : 8 [57600 / 60000 (96%)]\t Train Loss : 0.098738\n",
      "\n",
      "[EPOCH : 8], \t Test Loss : 0.0020, \t Test Accuracy : 97.920000 %\n",
      "\n",
      "Train Epoch : 9 [0 / 60000 (0%)]\t Train Loss : 0.083118\n",
      "Train Epoch : 9 [6400 / 60000 (11%)]\t Train Loss : 0.481697\n",
      "Train Epoch : 9 [12800 / 60000 (21%)]\t Train Loss : 0.030756\n",
      "Train Epoch : 9 [19200 / 60000 (32%)]\t Train Loss : 0.170359\n",
      "Train Epoch : 9 [25600 / 60000 (43%)]\t Train Loss : 0.125756\n",
      "Train Epoch : 9 [32000 / 60000 (53%)]\t Train Loss : 0.241692\n",
      "Train Epoch : 9 [38400 / 60000 (64%)]\t Train Loss : 0.104190\n",
      "Train Epoch : 9 [44800 / 60000 (75%)]\t Train Loss : 0.174527\n",
      "Train Epoch : 9 [51200 / 60000 (85%)]\t Train Loss : 0.078150\n",
      "Train Epoch : 9 [57600 / 60000 (96%)]\t Train Loss : 0.262422\n",
      "\n",
      "[EPOCH : 9], \t Test Loss : 0.0025, \t Test Accuracy : 97.630000 %\n",
      "\n",
      "Train Epoch : 10 [0 / 60000 (0%)]\t Train Loss : 0.114937\n",
      "Train Epoch : 10 [6400 / 60000 (11%)]\t Train Loss : 0.042629\n",
      "Train Epoch : 10 [12800 / 60000 (21%)]\t Train Loss : 0.127480\n",
      "Train Epoch : 10 [19200 / 60000 (32%)]\t Train Loss : 0.110369\n",
      "Train Epoch : 10 [25600 / 60000 (43%)]\t Train Loss : 0.138091\n",
      "Train Epoch : 10 [32000 / 60000 (53%)]\t Train Loss : 0.137503\n",
      "Train Epoch : 10 [38400 / 60000 (64%)]\t Train Loss : 0.260844\n",
      "Train Epoch : 10 [44800 / 60000 (75%)]\t Train Loss : 0.853374\n",
      "Train Epoch : 10 [51200 / 60000 (85%)]\t Train Loss : 0.198933\n",
      "Train Epoch : 10 [57600 / 60000 (96%)]\t Train Loss : 0.034095\n",
      "\n",
      "[EPOCH : 10], \t Test Loss : 0.0021, \t Test Accuracy : 97.980000 %\n",
      "\n"
     ]
    }
   ],
   "source": [
    "for Epoch in range(1,EPOCHS+1):\n",
    "    train(model, train_loader, optimizer, log_interval=200)\n",
    "    test_loss, test_accuracy = evaluate(model, test_loader)\n",
    "    print(\"\\n[EPOCH : {}], \\t Test Loss : {:.4f}, \\t Test Accuracy : {:2f} %\\n\".format(Epoch, test_loss, test_accuracy))"
   ]
  }
 ],
 "metadata": {
  "interpreter": {
   "hash": "c3a6afb4ca1356324ac719a8f4904d3d9af325fac862a66ccc73b4ecb2536197"
  },
  "kernelspec": {
   "display_name": "Python 3.8.0 64-bit ('torch1.7': conda)",
   "language": "python",
   "name": "python3"
  },
  "language_info": {
   "codemirror_mode": {
    "name": "ipython",
    "version": 3
   },
   "file_extension": ".py",
   "mimetype": "text/x-python",
   "name": "python",
   "nbconvert_exporter": "python",
   "pygments_lexer": "ipython3",
   "version": "3.8.0"
  },
  "orig_nbformat": 4
 },
 "nbformat": 4,
 "nbformat_minor": 2
}
