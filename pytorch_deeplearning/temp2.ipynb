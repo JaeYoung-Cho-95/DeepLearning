{
 "cells": [
  {
   "cell_type": "code",
   "execution_count": 55,
   "metadata": {},
   "outputs": [],
   "source": [
    "import torch"
   ]
  },
  {
   "cell_type": "code",
   "execution_count": 59,
   "metadata": {},
   "outputs": [],
   "source": [
    "Batch_size = 64\n",
    "Input_size = 1000\n",
    "Hidden_size = 100\n",
    "output_shape = 10"
   ]
  },
  {
   "cell_type": "code",
   "execution_count": 60,
   "metadata": {},
   "outputs": [],
   "source": [
    "x = torch.randn(Batch_size, Input_size, device = device, dtype = torch.float, requires_grad = False)\n",
    "y = torch.randn(Batch_size, output_shape, device = device, dtype = torch.float, requires_grad = False)\n",
    "w1 = torch.randn(Input_size, Hidden_size, device = device, dtype = torch.float, requires_grad = True)\n",
    "w2 = torch.randn(Hidden_size, output_shape, device = device, dtype = torch.float, requires_grad = True)"
   ]
  },
  {
   "cell_type": "code",
   "execution_count": 61,
   "metadata": {},
   "outputs": [
    {
     "name": "stdout",
     "output_type": "stream",
     "text": [
      "Iteration : 100 , Loss : 1585.9066162109375\n",
      "Iteration : 200 , Loss : 23.567760467529297\n",
      "Iteration : 300 , Loss : 8.366000175476074\n",
      "Iteration : 400 , Loss : 9.71478271484375\n",
      "Iteration : 500 , Loss : 8.202396392822266\n"
     ]
    }
   ],
   "source": [
    "learning_rate = 1e-6\n",
    "for t in range(1, 501): \n",
    "    y_pred = x.mm(w1).clamp(min = 0).mm(w2)\n",
    "\n",
    "    loss = (y_pred - y).pow(2).sum()\n",
    "    \n",
    "    if t % 100 == 0:\n",
    "        print(\"Iteration : {} , Loss : {}\".format(t,loss.item()))\n",
    "    loss.backward()\n",
    "\n",
    "    with torch.no_grad():\n",
    "        w1 -= learning_rate * w1.grad\n",
    "        w2 -= learning_rate * w2.grad\n",
    "\n",
    "        w1.grad.zero_()\n",
    "        w2.grad.zero_()"
   ]
  },
  {
   "cell_type": "code",
   "execution_count": null,
   "metadata": {},
   "outputs": [],
   "source": []
  }
 ],
 "metadata": {
  "interpreter": {
   "hash": "2af3382def1999721366362b2cb0329bc70f435af2f996c1d056eb28f16c4a03"
  },
  "kernelspec": {
   "display_name": "Python 3.8.12 64-bit ('pytorch1.7': conda)",
   "name": "python3"
  },
  "language_info": {
   "codemirror_mode": {
    "name": "ipython",
    "version": 3
   },
   "file_extension": ".py",
   "mimetype": "text/x-python",
   "name": "python",
   "nbconvert_exporter": "python",
   "pygments_lexer": "ipython3",
   "version": "3.8.12"
  },
  "orig_nbformat": 4
 },
 "nbformat": 4,
 "nbformat_minor": 2
}
