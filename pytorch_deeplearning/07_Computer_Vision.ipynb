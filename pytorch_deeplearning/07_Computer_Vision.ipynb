{
 "cells": [
  {
   "cell_type": "markdown",
   "metadata": {},
   "source": [
    "## cnn의 기원\n",
    "- 특정 이미지를 컴퓨터에게 보여주거나 이미지를 분류하는 모델을 만들 때는 이미지를 구성하는 픽셀 값을 Input으로 사용한다.\n",
    "- 일반적으로 머신러닝 모델을 적용할 때는 Input 변수가 서로 독립적이라는 가정이 있다.\n",
    "- 하지만 이미지의 픽셀값들은 인접한 픽셀에 매구 가까운 값을 갖는 다는 것을 보며 서로 독립적이지 않다는 사실을 직관적으로 알 수 있다.\n",
    "- 이는 머신러닝의 가정에 위배가 되었지만 이렇게 사용할 수 밖에 없었고 어느정도 성능이 나와 이렇게 2차원 이미지를 Vector로 Flatten하여 Input으로 사용했다.\n",
    "- Flatten을 하게 되면 x11 과 x21 픽셀은 굉장히 가까운 위치에 있는 픽셀이지만 정보를 전혀 반영하지 못했다.\n",
    "이를 해결하는 지역정보를 학습하는 신경망 구조가 필요했고, 이러한 신경망 구조를 CNN이라고 한다."
   ]
  },
  {
   "cell_type": "markdown",
   "metadata": {},
   "source": [
    "## CNN 간단 용어 정리\n",
    "### (1) Region Feature\n",
    "- 지역정보를 의미"
   ]
  },
  {
   "cell_type": "code",
   "execution_count": null,
   "metadata": {},
   "outputs": [],
   "source": []
  }
 ],
 "metadata": {
  "language_info": {
   "name": "python"
  },
  "orig_nbformat": 4
 },
 "nbformat": 4,
 "nbformat_minor": 2
}
