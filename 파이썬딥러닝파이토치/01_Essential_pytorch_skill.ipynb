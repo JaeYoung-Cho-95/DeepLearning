{
 "cells": [
  {
   "cell_type": "code",
   "execution_count": 5,
   "metadata": {},
   "outputs": [
    {
     "name": "stdout",
     "output_type": "stream",
     "text": [
      "True\n",
      "1.7.1+cu110\n"
     ]
    }
   ],
   "source": [
    "import torch\n",
    "print(torch.cuda.is_available())\n",
    "print(torch.__version__)"
   ]
  },
  {
   "cell_type": "markdown",
   "metadata": {},
   "source": [
    "# Tensor\n",
    "- 텐서란 데이터를 표현하는 단위이다.\n",
    "## (1) Scalar\n",
    "- 우리가 알고 있는 상수값이다.\n",
    "- 하나의 값을 표현할 때 1개의 수치로 표현한 것"
   ]
  },
  {
   "cell_type": "code",
   "execution_count": 9,
   "metadata": {},
   "outputs": [
    {
     "name": "stdout",
     "output_type": "stream",
     "text": [
      "tensor([1.])\n",
      "tensor([3])\n"
     ]
    }
   ],
   "source": [
    "scalar1 = torch.tensor([1.])\n",
    "scalar2 = torch.tensor([3])\n",
    "print(scalar1)\n",
    "print(scalar2)"
   ]
  },
  {
   "cell_type": "code",
   "execution_count": 15,
   "metadata": {},
   "outputs": [
    {
     "name": "stdout",
     "output_type": "stream",
     "text": [
      "덧셈 : tensor([1.]) + tensor([3]) = tensor([4.])\n",
      "뺄셈 : tensor([1.]) - tensor([3]) = tensor([-2.])\n",
      "곱셈 : tensor([1.]) * tensor([3]) = tensor([3.])\n",
      "나누셈 : tensor([1.]) / tensor([3]) = tensor([0.3333])\n"
     ]
    }
   ],
   "source": [
    "# 스칼라 연산\n",
    "print(\"덧셈 : {} + {} = {}\".format(scalar1,scalar2,scalar1+scalar2))\n",
    "print(\"뺄셈 : {} - {} = {}\".format(scalar1,scalar2,scalar1-scalar2))\n",
    "print(\"곱셈 : {} * {} = {}\".format(scalar1,scalar2,scalar1*scalar2))\n",
    "print(\"나누셈 : {} / {} = {}\".format(scalar1,scalar2,scalar1/scalar2))"
   ]
  },
  {
   "cell_type": "code",
   "execution_count": 17,
   "metadata": {},
   "outputs": [
    {
     "name": "stdout",
     "output_type": "stream",
     "text": [
      "덧셈 : tensor([1.]) + tensor([3]) = tensor([4.])\n",
      "뺄셈 : tensor([1.]) - tensor([3]) = tensor([-2.])\n",
      "곱셈 : tensor([1.]) * tensor([3]) = tensor([3.])\n",
      "나누셈 : tensor([1.]) / tensor([3]) = tensor([0.3333])\n"
     ]
    }
   ],
   "source": [
    "# torch에 내장된 연산으로도 가능\n",
    "print(\"덧셈 : {} + {} = {}\".format(scalar1,scalar2,torch.add(scalar1,scalar2)))\n",
    "print(\"뺄셈 : {} - {} = {}\".format(scalar1,scalar2,torch.sub(scalar1,scalar2)))\n",
    "print(\"곱셈 : {} * {} = {}\".format(scalar1,scalar2,torch.mul(scalar1,scalar2)))\n",
    "print(\"나누셈 : {} / {} = {}\".format(scalar1,scalar2,torch.div(scalar1,scalar2)))"
   ]
  },
  {
   "cell_type": "markdown",
   "metadata": {},
   "source": [
    "## (2) Vectort\n",
    "- 벡터는 하나의 값을 표현할 때 2개 이상의 수치로 표현한 것이다.\n",
    "- 스칼라의 형태와 동일한 속성을 갖고 있지만, 여러 수치 값을 이용해 표현하는 방식이다."
   ]
  },
  {
   "cell_type": "code",
   "execution_count": 19,
   "metadata": {},
   "outputs": [
    {
     "name": "stdout",
     "output_type": "stream",
     "text": [
      "tensor([1., 2., 3.])\n",
      "tensor([3., 4., 5.])\n"
     ]
    }
   ],
   "source": [
    "vector1 = torch.Tensor([1.,2.,3.])\n",
    "vector2 = torch.Tensor([3.,4.,5.])\n",
    "print(vector1)\n",
    "print(vector2)"
   ]
  },
  {
   "cell_type": "code",
   "execution_count": 20,
   "metadata": {},
   "outputs": [
    {
     "name": "stdout",
     "output_type": "stream",
     "text": [
      "벡터의 덧셈 : tensor([1., 2., 3.]) + tensor([3., 4., 5.]) = tensor([4., 6., 8.])\n",
      "벡터의 뺄셈 : tensor([1., 2., 3.]) - tensor([3., 4., 5.]) = tensor([-2., -2., -2.])\n",
      "벡터의 곱셈 : tensor([1., 2., 3.]) * tensor([3., 4., 5.]) = tensor([ 3.,  8., 15.])\n",
      "벡터의 나누셈 : tensor([1., 2., 3.]) / tensor([3., 4., 5.]) = tensor([0.3333, 0.5000, 0.6000])\n"
     ]
    }
   ],
   "source": [
    "# 벡터 간 사칙연산\n",
    "print('벡터의 덧셈 : {} + {} = {}'.format(vector1,vector2,vector1+vector2))\n",
    "print('벡터의 뺄셈 : {} - {} = {}'.format(vector1,vector2,vector1-vector2))\n",
    "print('벡터의 곱셈 : {} * {} = {}'.format(vector1,vector2,vector1*vector2))\n",
    "print('벡터의 나누셈 : {} / {} = {}'.format(vector1,vector2,vector1/vector2))"
   ]
  },
  {
   "cell_type": "code",
   "execution_count": 23,
   "metadata": {},
   "outputs": [
    {
     "name": "stdout",
     "output_type": "stream",
     "text": [
      "벡터의 덧셈 : tensor([1., 2., 3.]) + tensor([3., 4., 5.]) = tensor([4., 6., 8.])\n",
      "벡터의 뺄셈 : tensor([1., 2., 3.]) - tensor([3., 4., 5.]) = tensor([-2., -2., -2.])\n",
      "벡터의 곱셈 : tensor([1., 2., 3.]) * tensor([3., 4., 5.]) = tensor([ 3.,  8., 15.])\n",
      "벡터의 나누셈 : tensor([1., 2., 3.]) / tensor([3., 4., 5.]) = tensor([0.3333, 0.5000, 0.6000])\n",
      "벡터의 내적 : tensor([1., 2., 3.]) dot tensor([3., 4., 5.]) = 26.0\n"
     ]
    }
   ],
   "source": [
    "# torch 내장함수를 이용한 사칙연산\n",
    "print('벡터의 덧셈 : {} + {} = {}'.format(vector1,vector2,torch.add(vector1,vector2)))\n",
    "print('벡터의 뺄셈 : {} - {} = {}'.format(vector1,vector2,torch.sub(vector1,vector2)))\n",
    "print('벡터의 곱셈 : {} * {} = {}'.format(vector1,vector2,torch.mul(vector1,vector2)))\n",
    "print('벡터의 나누셈 : {} / {} = {}'.format(vector1,vector2,torch.div(vector1,vector2)))\n",
    "print('벡터의 내적 : {} dot {} = {}'.format(vector1,vector2,torch.dot(vector1,vector2)))"
   ]
  },
  {
   "cell_type": "markdown",
   "metadata": {},
   "source": [
    "## (3) matrix 행렬\n",
    "- 행렬은 2개 이상의 벡터값을 통합해 구성된 값으로, 벡터값 간 연산 속도를 빠르게 진행 할 수 있는 선형 대수의 기본 단위이다."
   ]
  },
  {
   "cell_type": "code",
   "execution_count": 31,
   "metadata": {},
   "outputs": [
    {
     "name": "stdout",
     "output_type": "stream",
     "text": [
      "tensor([[1., 2.],\n",
      "        [3., 4.]])\n",
      "tensor([[5., 6.],\n",
      "        [7., 8.]])\n"
     ]
    }
   ],
   "source": [
    "matrix1 = torch.Tensor([[1.,2.],[3.,4.]])\n",
    "matrix2 = torch.Tensor([[5.,6.],[7.,8.]])\n",
    "print(matrix1)\n",
    "print(matrix2)"
   ]
  },
  {
   "cell_type": "code",
   "execution_count": 32,
   "metadata": {},
   "outputs": [
    {
     "name": "stdout",
     "output_type": "stream",
     "text": [
      "행렬의 덧셈 : tensor([[1., 2.],\n",
      "        [3., 4.]]) + tensor([[5., 6.],\n",
      "        [7., 8.]]) = tensor([[ 6.,  8.],\n",
      "        [10., 12.]])\n",
      "행렬의 뺄셈 : tensor([[1., 2.],\n",
      "        [3., 4.]]) - tensor([[5., 6.],\n",
      "        [7., 8.]]) = tensor([[-4., -4.],\n",
      "        [-4., -4.]])\n",
      "행렬의 곱셈 : tensor([[1., 2.],\n",
      "        [3., 4.]]) * tensor([[5., 6.],\n",
      "        [7., 8.]]) = tensor([[ 5., 12.],\n",
      "        [21., 32.]])\n",
      "행렬의 나누셈 : tensor([[1., 2.],\n",
      "        [3., 4.]]) / tensor([[5., 6.],\n",
      "        [7., 8.]]) = tensor([[0.2000, 0.3333],\n",
      "        [0.4286, 0.5000]])\n"
     ]
    }
   ],
   "source": [
    "# 행렬 간 사칙연산\n",
    "print(\"행렬의 덧셈 : {} + {} = {}\".format(matrix1,matrix2,matrix1+matrix2))\n",
    "print(\"행렬의 뺄셈 : {} - {} = {}\".format(matrix1,matrix2,matrix1-matrix2))\n",
    "print(\"행렬의 곱셈 : {} * {} = {}\".format(matrix1,matrix2,matrix1*matrix2))\n",
    "print(\"행렬의 나누셈 : {} / {} = {}\".format(matrix1,matrix2,matrix1/matrix2))"
   ]
  },
  {
   "cell_type": "code",
   "execution_count": 34,
   "metadata": {},
   "outputs": [
    {
     "name": "stdout",
     "output_type": "stream",
     "text": [
      "행렬의 덧셈 : tensor([[1., 2.],\n",
      "        [3., 4.]]) + tensor([[5., 6.],\n",
      "        [7., 8.]]) = tensor([[ 6.,  8.],\n",
      "        [10., 12.]])\n",
      "행렬의 뺄셈 : tensor([[1., 2.],\n",
      "        [3., 4.]]) - tensor([[5., 6.],\n",
      "        [7., 8.]]) = tensor([[-4., -4.],\n",
      "        [-4., -4.]])\n",
      "행렬의 곱셈 : tensor([[1., 2.],\n",
      "        [3., 4.]]) * tensor([[5., 6.],\n",
      "        [7., 8.]]) = tensor([[ 5., 12.],\n",
      "        [21., 32.]])\n",
      "행렬의 나누셈 : tensor([[1., 2.],\n",
      "        [3., 4.]]) / tensor([[5., 6.],\n",
      "        [7., 8.]]) = tensor([[0.2000, 0.3333],\n",
      "        [0.4286, 0.5000]])\n",
      "행렬곱 : tensor([[1., 2.],\n",
      "        [3., 4.]]) 행렬곱 tensor([[5., 6.],\n",
      "        [7., 8.]]) = tensor([[19., 22.],\n",
      "        [43., 50.]])\n"
     ]
    }
   ],
   "source": [
    "# torch 내장함수를 이용한 사칙연산\n",
    "print(\"행렬의 덧셈 : {} + {} = {}\".format(matrix1,matrix2,torch.add(matrix1,matrix2)))\n",
    "print(\"행렬의 뺄셈 : {} - {} = {}\".format(matrix1,matrix2,torch.sub(matrix1,matrix2)))\n",
    "print(\"행렬의 곱셈 : {} * {} = {}\".format(matrix1,matrix2,torch.mul(matrix1,matrix2)))\n",
    "print(\"행렬의 나누셈 : {} / {} = {}\".format(matrix1,matrix2,torch.div(matrix1,matrix2)))\n",
    "print(\"행렬곱 : {} 행렬곱 {} = {}\".format(matrix1,matrix2,torch.matmul(matrix1,matrix2)))"
   ]
  },
  {
   "cell_type": "markdown",
   "metadata": {},
   "source": [
    "## (4) 텐서\n",
    "- 행렬은 2개 이상의 벡터값을 갖는 2차원 배열이라고 표현할 수 있다면, 텐서는 2차원 이상의 배열이라고 표현할 수 있다.\n",
    "\n",
    "<img src = './images/scalar-vector-matrix-tensor.png'>"
   ]
  },
  {
   "cell_type": "code",
   "execution_count": 43,
   "metadata": {},
   "outputs": [
    {
     "name": "stdout",
     "output_type": "stream",
     "text": [
      "tensor([[[1., 2.],\n",
      "         [3., 4.]],\n",
      "\n",
      "        [[5., 6.],\n",
      "         [7., 8.]]])\n",
      "tensor([[[ 9., 10.],\n",
      "         [11., 12.]],\n",
      "\n",
      "        [[13., 14.],\n",
      "         [15., 16.]]])\n"
     ]
    }
   ],
   "source": [
    "tensor1 = torch.Tensor([ [[1.,2.],[3.,4.]] , [[5.,6.],[7.,8.]] ])\n",
    "tensor2 = torch.Tensor([ [[9.,10.],[11.,12.]] , [[13.,14.],[15.,16.]] ])\n",
    "print(tensor1)\n",
    "print(tensor2)"
   ]
  },
  {
   "cell_type": "code",
   "execution_count": 45,
   "metadata": {},
   "outputs": [
    {
     "name": "stdout",
     "output_type": "stream",
     "text": [
      "텐서의 덧셈 : tensor([[[1., 2.],\n",
      "         [3., 4.]],\n",
      "\n",
      "        [[5., 6.],\n",
      "         [7., 8.]]]) + tensor([[[ 9., 10.],\n",
      "         [11., 12.]],\n",
      "\n",
      "        [[13., 14.],\n",
      "         [15., 16.]]]) = tensor([[[10., 12.],\n",
      "         [14., 16.]],\n",
      "\n",
      "        [[18., 20.],\n",
      "         [22., 24.]]])\n",
      "텐서의 뺄셈 : tensor([[[1., 2.],\n",
      "         [3., 4.]],\n",
      "\n",
      "        [[5., 6.],\n",
      "         [7., 8.]]]) - tensor([[[ 9., 10.],\n",
      "         [11., 12.]],\n",
      "\n",
      "        [[13., 14.],\n",
      "         [15., 16.]]]) = tensor([[[-8., -8.],\n",
      "         [-8., -8.]],\n",
      "\n",
      "        [[-8., -8.],\n",
      "         [-8., -8.]]])\n"
     ]
    }
   ],
   "source": [
    "# 텐서의 사칙연산\n",
    "print(\"텐서의 덧셈 : {} + {} = {}\".format(tensor1,tensor2,tensor1+tensor2))\n",
    "print(\"텐서의 뺄셈 : {} - {} = {}\".format(tensor1,tensor2,tensor1-tensor2))"
   ]
  },
  {
   "cell_type": "code",
   "execution_count": 46,
   "metadata": {},
   "outputs": [
    {
     "name": "stdout",
     "output_type": "stream",
     "text": [
      "텐서의 곱셈 : tensor([[[1., 2.],\n",
      "         [3., 4.]],\n",
      "\n",
      "        [[5., 6.],\n",
      "         [7., 8.]]]) * tensor([[[ 9., 10.],\n",
      "         [11., 12.]],\n",
      "\n",
      "        [[13., 14.],\n",
      "         [15., 16.]]]) = tensor([[[  9.,  20.],\n",
      "         [ 33.,  48.]],\n",
      "\n",
      "        [[ 65.,  84.],\n",
      "         [105., 128.]]])\n",
      "텐서의 나눗셈 : tensor([[[1., 2.],\n",
      "         [3., 4.]],\n",
      "\n",
      "        [[5., 6.],\n",
      "         [7., 8.]]]) / tensor([[[ 9., 10.],\n",
      "         [11., 12.]],\n",
      "\n",
      "        [[13., 14.],\n",
      "         [15., 16.]]]) = tensor([[[0.1111, 0.2000],\n",
      "         [0.2727, 0.3333]],\n",
      "\n",
      "        [[0.3846, 0.4286],\n",
      "         [0.4667, 0.5000]]])\n"
     ]
    }
   ],
   "source": [
    "print(\"텐서의 곱셈 : {} * {} = {}\".format(tensor1,tensor2,tensor1*tensor2))\n",
    "print(\"텐서의 나눗셈 : {} / {} = {}\".format(tensor1,tensor2,tensor1/tensor2))"
   ]
  },
  {
   "cell_type": "code",
   "execution_count": 49,
   "metadata": {},
   "outputs": [
    {
     "name": "stdout",
     "output_type": "stream",
     "text": [
      "텐서의 덧셈 : tensor([[[1., 2.],\n",
      "         [3., 4.]],\n",
      "\n",
      "        [[5., 6.],\n",
      "         [7., 8.]]]) * tensor([[[ 9., 10.],\n",
      "         [11., 12.]],\n",
      "\n",
      "        [[13., 14.],\n",
      "         [15., 16.]]]) = tensor([[[10., 12.],\n",
      "         [14., 16.]],\n",
      "\n",
      "        [[18., 20.],\n",
      "         [22., 24.]]])\n",
      "텐서의 뺄셈 : tensor([[[1., 2.],\n",
      "         [3., 4.]],\n",
      "\n",
      "        [[5., 6.],\n",
      "         [7., 8.]]]) / tensor([[[ 9., 10.],\n",
      "         [11., 12.]],\n",
      "\n",
      "        [[13., 14.],\n",
      "         [15., 16.]]]) = tensor([[[-8., -8.],\n",
      "         [-8., -8.]],\n",
      "\n",
      "        [[-8., -8.],\n",
      "         [-8., -8.]]])\n"
     ]
    }
   ],
   "source": [
    "# torch 내장함수를 이용한 사칙연산\n",
    "print(\"텐서의 덧셈 : {} * {} = {}\".format(tensor1,tensor2,torch.add(tensor1,tensor2)))\n",
    "print(\"텐서의 뺄셈 : {} / {} = {}\".format(tensor1,tensor2,torch.sub(tensor1,tensor2)))"
   ]
  },
  {
   "cell_type": "code",
   "execution_count": 50,
   "metadata": {},
   "outputs": [
    {
     "name": "stdout",
     "output_type": "stream",
     "text": [
      "텐서의 곱셈 : tensor([[[1., 2.],\n",
      "         [3., 4.]],\n",
      "\n",
      "        [[5., 6.],\n",
      "         [7., 8.]]]) * tensor([[[ 9., 10.],\n",
      "         [11., 12.]],\n",
      "\n",
      "        [[13., 14.],\n",
      "         [15., 16.]]]) = tensor([[[  9.,  20.],\n",
      "         [ 33.,  48.]],\n",
      "\n",
      "        [[ 65.,  84.],\n",
      "         [105., 128.]]])\n",
      "텐서의 나눗셈 : tensor([[[1., 2.],\n",
      "         [3., 4.]],\n",
      "\n",
      "        [[5., 6.],\n",
      "         [7., 8.]]]) / tensor([[[ 9., 10.],\n",
      "         [11., 12.]],\n",
      "\n",
      "        [[13., 14.],\n",
      "         [15., 16.]]]) = tensor([[[0.1111, 0.2000],\n",
      "         [0.2727, 0.3333]],\n",
      "\n",
      "        [[0.3846, 0.4286],\n",
      "         [0.4667, 0.5000]]])\n"
     ]
    }
   ],
   "source": [
    "print(\"텐서의 곱셈 : {} * {} = {}\".format(tensor1,tensor2,torch.mul(tensor1,tensor2)))\n",
    "print(\"텐서의 나눗셈 : {} / {} = {}\".format(tensor1,tensor2,torch.div(tensor1,tensor2)))"
   ]
  },
  {
   "cell_type": "code",
   "execution_count": 51,
   "metadata": {},
   "outputs": [
    {
     "name": "stdout",
     "output_type": "stream",
     "text": [
      "텐서곱 : tensor([[[1., 2.],\n",
      "         [3., 4.]],\n",
      "\n",
      "        [[5., 6.],\n",
      "         [7., 8.]]]) 텐서곱 tensor([[[ 9., 10.],\n",
      "         [11., 12.]],\n",
      "\n",
      "        [[13., 14.],\n",
      "         [15., 16.]]]) = tensor([[[ 31.,  34.],\n",
      "         [ 71.,  78.]],\n",
      "\n",
      "        [[155., 166.],\n",
      "         [211., 226.]]])\n"
     ]
    }
   ],
   "source": [
    "print(\"텐서곱 : {} 텐서곱 {} = {}\".format(tensor1,tensor2,torch.matmul(tensor1,tensor2)))"
   ]
  }
 ],
 "metadata": {
  "interpreter": {
   "hash": "c3a6afb4ca1356324ac719a8f4904d3d9af325fac862a66ccc73b4ecb2536197"
  },
  "kernelspec": {
   "display_name": "Python 3.8.0 64-bit ('torch1.7': conda)",
   "language": "python",
   "name": "python3"
  },
  "language_info": {
   "codemirror_mode": {
    "name": "ipython",
    "version": 3
   },
   "file_extension": ".py",
   "mimetype": "text/x-python",
   "name": "python",
   "nbconvert_exporter": "python",
   "pygments_lexer": "ipython3",
   "version": "3.8.0"
  },
  "orig_nbformat": 4
 },
 "nbformat": 4,
 "nbformat_minor": 2
}
