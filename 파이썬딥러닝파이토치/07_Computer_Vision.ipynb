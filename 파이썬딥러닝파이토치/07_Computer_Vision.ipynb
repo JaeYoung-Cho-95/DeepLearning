{
 "cells": [
  {
   "cell_type": "markdown",
   "metadata": {},
   "source": [
    "### 1. Convolution Neural Network 의 기원\n",
    "- 특정 이미지를 컴퓨터에게 보여주거나 이미지를 분류하는 모델을 만들 때는 이미지를 구성하는 픽셀 값을 Input으로 사용한다.\n",
    "- 일반적으로 머신러닝 모델을 적용할 때는 Input 변수가 서로 독립적이라는 가정이 있다.\n",
    "- 하지만 이미지의 픽셀값들은 인접한 픽셀에 매구 가까운 값을 갖는 다는 것을 보며 서로 독립적이지 않다는 사실을 직관적으로 알 수 있다.\n",
    "- 이는 머신러닝의 가정에 위배가 되었지만 이렇게 사용할 수 밖에 없었고 어느정도 성능이 나와 이렇게 2차원 이미지를 Vector로 Flatten하여 Input으로 사용했다.\n",
    "- Flatten을 하게 되면 x11 과 x21 픽셀은 굉장히 가까운 위치에 있는 픽셀이지만 정보를 전혀 반영하지 못했다.\n",
    "이를 해결하는 지역정보를 학습하는 신경망 구조가 필요했고, 이러한 신경망 구조를 CNN이라고 한다."
   ]
  },
  {
   "cell_type": "markdown",
   "metadata": {},
   "source": [
    "### 2. CNN 간단 용어 정리\n",
    "#### (1) Region Feature\n",
    "- 이미지 픽셀을 단순하게 Flatten해서 사용하면, 굉장히 가까운 위치에 있는 픽셀이지만 정보를 반영하지 못하는 경우가 생긴다.\n",
    "- 이렇게 가까운 위치에 있는 픽셀들에 정보들을 지역 정보(= Region Feature)라고 한다."
   ]
  },
  {
   "cell_type": "markdown",
   "metadata": {},
   "source": [
    "#### (2) Convolution Neural Network\n",
    "- Region Feature 를 학습시키기 위한 신경망 모형이다."
   ]
  },
  {
   "cell_type": "markdown",
   "metadata": {},
   "source": [
    "#### (3) Convolution Layer\n",
    "- Receptive Field(= 출력 레이어의 뉴런 하나에 영향을 미치는 입력 뉴런들의 공간 크기) 를 정의해 입력 층의 이미지의 Feature를 추출하는 역할을 담당한다."
   ]
  },
  {
   "cell_type": "markdown",
   "metadata": {},
   "source": [
    "#### (4) Stride\n",
    "- Stride 는 Convolution layer에서 Receptive Field 이미지가 돌면서 Feature를 뽑을 때 이동하는 칸 수를 의미한다"
   ]
  },
  {
   "cell_type": "markdown",
   "metadata": {},
   "source": [
    "#### (5) Zero Padding\n",
    "- 일반적인 Convolution Layer를 적용하면 다음 Image는 Feature size가 줄어들고 가장자리에 있는 픽셀 값은 안쪽에 있는 픽셀 값보다 적게 Convolution 된다는 단점이 있다.\n",
    "- Image Size를 줄이지 않고 모든 픽셀 값에 Convolution을 적용하기 위해 기본이미지 사이즈의 테두리에 0값을 넣어 이미지 사이즈를 유지하는 방법"
   ]
  },
  {
   "cell_type": "markdown",
   "metadata": {},
   "source": [
    "#### (6) Weight Sharing\n",
    "- 32 * 32 이미지에 5 * 5 Convolution Layer를 적용하고 30개의 Feature Map을 뽑겠다고 정하면,\n",
    "- 패딩이 없다고 가정 > (32-5+1) * (32-5+1) * 5 * 5 * 30 = 588,000개의 연산이 필요하다.\n",
    "- 위와 같이 너무 많은 연산을 줄이기 위해 사용하는 기법이다.\n",
    "- Receptive Field가 동일한 가중치로 슬라이드 한다고 가정한느 것이다"
   ]
  },
  {
   "cell_type": "markdown",
   "metadata": {},
   "source": [
    "#### (7) Pooling Layer\n",
    "- 일반적으로 image Convolution 을 거친 후에 Pooling Layer를 거치는데, 여기서 Feature Size를 반으로 줄여주는 것이다.\n",
    "- 즉, 학습 속도를 향상시키기 위해 Feature의 Dimension을 줄이는 개념입니다.\n",
    "- 정보손실이 있을 수 밖에 없다."
   ]
  }
 ],
 "metadata": {
  "interpreter": {
   "hash": "c3a6afb4ca1356324ac719a8f4904d3d9af325fac862a66ccc73b4ecb2536197"
  },
  "kernelspec": {
   "display_name": "Python 3.8.0 64-bit ('torch1.7': conda)",
   "language": "python",
   "name": "python3"
  },
  "language_info": {
   "name": "python",
   "version": "3.8.0"
  },
  "orig_nbformat": 4
 },
 "nbformat": 4,
 "nbformat_minor": 2
}
