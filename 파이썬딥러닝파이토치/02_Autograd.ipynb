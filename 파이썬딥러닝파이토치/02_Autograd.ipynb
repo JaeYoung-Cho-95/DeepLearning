{
 "cells": [
  {
   "cell_type": "markdown",
   "metadata": {},
   "source": [
    "# Autograd\n",
    "- 파이토치를 이용해 코드를 작성할 때, Back Propagation 을 이용해 파라미터를 업데이트하는 방법은 Autograd 방식으로 구현 돼 있다."
   ]
  },
  {
   "cell_type": "code",
   "execution_count": 37,
   "metadata": {},
   "outputs": [
    {
     "name": "stdout",
     "output_type": "stream",
     "text": [
      "torch version : 1.7.1+cu110\n",
      "torch cuda available : cuda\n"
     ]
    }
   ],
   "source": [
    "import torch\n",
    "print(\"torch version : {}\".format(torch.__version__))\n",
    "if torch.cuda.is_available():\n",
    "    Device = 'cuda'\n",
    "else:\n",
    "    Device = 'cpu'\n",
    "print(\"torch cuda available : {}\".format(Device))"
   ]
  },
  {
   "cell_type": "code",
   "execution_count": 38,
   "metadata": {},
   "outputs": [],
   "source": [
    "# 딥러닝에서 파라미터를 업데이트할 때 계산되는 데이터 개수이다.\n",
    "# 즉, Batch_size 만큼 데이터를 이용해 Output을 계산하고 Batch_size 수만큼 출력된 결과값에 대한 오차값을 계산한다.\n",
    "Batch_size = 64\n",
    "\n",
    "# Input_size 는 입력크기이며, 입력층의 노드 수를 말한다.\n",
    "# Batch_size와 혼동하면 안된다. 1000크기의 벡터값을 64개에 이용한다는 의미 = (64,1000)\n",
    "Input_size = 1000\n",
    "\n",
    "# Hidden_size 는 딥러닝 모델에서 Input 을 다수의 파라미터를 이용해 계산한 결과에 한 번 더 계산되는 파라미터 수를 의미한다.\n",
    "Hidden_size = 100\n",
    "\n",
    "# Output_size 는 출력값이다.\n",
    "Output_size = 10"
   ]
  },
  {
   "cell_type": "code",
   "execution_count": 39,
   "metadata": {},
   "outputs": [],
   "source": [
    "# torch.randn(x,y) 는 x,y크기 만큼 평균이 0, 분산이 1인 표준정규분포에서 데이터를 랜덤하게 뽑아준다.\n",
    "x = torch.randn(Batch_size, Input_size, device = Device, dtype = torch.float, requires_grad=False)\n",
    "y = torch.randn(Batch_size, Output_size, device = Device, dtype = torch.float, requires_grad=False)\n",
    "\n",
    "# 미분값이 필요한 것은 아래 가중치만 필요하기 때문에 required_grad = True로 맞춰주기\n",
    "w1 = torch.randn(Input_size, Hidden_size, device = Device, dtype = torch.float, requires_grad=True)\n",
    "w2 = torch.randn(Hidden_size, Output_size, device = Device, dtype = torch.float, requires_grad=True)"
   ]
  },
  {
   "cell_type": "code",
   "execution_count": 40,
   "metadata": {},
   "outputs": [
    {
     "name": "stdout",
     "output_type": "stream",
     "text": [
      "Iteration :  100 \t Loss :  557.702392578125\n",
      "Iteration :  200 \t Loss :  2.3244500160217285\n",
      "Iteration :  300 \t Loss :  0.04844530671834946\n",
      "Iteration :  400 \t Loss :  0.03135206550359726\n",
      "Iteration :  500 \t Loss :  0.04011261463165283\n"
     ]
    }
   ],
   "source": [
    "learning_rate = 1e-6\n",
    "# 500번 반복해 결과값을 업데이트할 것\n",
    "for t in range(1,501):\n",
    "    # y의 결과값은 x값과 w1을 텐서곱한다. 이 값을 clamp(비선형 함수)를 적용시킨다. 이후 다시 한 번 이 값을 w2와 곱한다.\n",
    "    # 여기서의 clamp는 Relu와 비슷한 역할을 한다. 0 아래로는 0으로 만들어주고 이후 나머지는 본인의 값을 갖는다.\n",
    "    y_pred = x.mm(w1).clamp(min=0).mm(w2)\n",
    "\n",
    "    # 위 식을 통해 예측한 y_pred 값과 y값을 빼고 각 값들을 모두 제곱을 한 후 모두 더한다.\n",
    "    loss = (y_pred - y).pow(2).sum()\n",
    "\n",
    "    # t / 100의 나머지가 0이 된다면 몇 번 반복했는지, loss값은 몇 인지 출력 해야한다.\n",
    "    if t % 100 == 0:\n",
    "        print('Iteration : ',t,\"\\t\",\"Loss : \",loss.item())\n",
    "    \n",
    "    # loss값에 대해 Backward Propagation 진행\n",
    "    loss.backward()\n",
    "\n",
    "    # 아래 코드가 실행되면 Gradient 가 고정된다.\n",
    "    # torch.no_grad()의 주된 목적은 autograd를 끔으로써 메모리 사용량을 줄이고 연산 속도를 높히기 위함이다. \n",
    "    # 사실상 어짜피 안쓸 gradient인데 inference시에 굳이 계산할 필요가 없지 않은가?\n",
    "    with torch.no_grad():\n",
    "        # w1,w2에 대해 learning_rate만큼 가중치 업데이트\n",
    "        w1 -= learning_rate * w1.grad\n",
    "        w2 -= learning_rate * w2.grad\n",
    "\n",
    "        # 다음에 다시 loss.backward()연산을 통해 gradient 를 초기화시켜주기 위해, w1 과 w2의 gradient 를 0으로 만들어준다.\n",
    "        # 하지 않으면, grad값이 자꾸 축적되어 이상한 값이 나온다.\n",
    "        w1.grad.zero_()\n",
    "        w2.grad.zero_()"
   ]
  }
 ],
 "metadata": {
  "interpreter": {
   "hash": "c3a6afb4ca1356324ac719a8f4904d3d9af325fac862a66ccc73b4ecb2536197"
  },
  "kernelspec": {
   "display_name": "Python 3.8.0 64-bit ('torch1.7': conda)",
   "language": "python",
   "name": "python3"
  },
  "language_info": {
   "codemirror_mode": {
    "name": "ipython",
    "version": 3
   },
   "file_extension": ".py",
   "mimetype": "text/x-python",
   "name": "python",
   "nbconvert_exporter": "python",
   "pygments_lexer": "ipython3",
   "version": "3.8.0"
  },
  "orig_nbformat": 4
 },
 "nbformat": 4,
 "nbformat_minor": 2
}
