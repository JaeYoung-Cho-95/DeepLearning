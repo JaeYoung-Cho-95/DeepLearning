{
 "cells": [
  {
   "cell_type": "code",
   "execution_count": 12,
   "metadata": {},
   "outputs": [],
   "source": [
    "from torch_snippets import *\n",
    "from PIL import Image\n",
    "import pandas as pd\n",
    "import numpy as np\n",
    "import glob"
   ]
  },
  {
   "cell_type": "code",
   "execution_count": 2,
   "metadata": {},
   "outputs": [],
   "source": [
    "IMAGE_ROOT = './dataset/images/images'\n",
    "df_raw = df = pd.read_csv('./dataset/df.csv')"
   ]
  },
  {
   "cell_type": "code",
   "execution_count": 10,
   "metadata": {},
   "outputs": [
    {
     "name": "stdout",
     "output_type": "stream",
     "text": [
      "target2label : {1: 'Bus', 2: 'Truck', 0: 'background'}\n",
      "label2target : {'Bus': 1, 'Truck': 2, 'background': 0}\n"
     ]
    }
   ],
   "source": [
    "label2target = {l : t + 1 for t,l in enumerate(df_raw['LabelName'].unique())}\n",
    "label2target['background'] = 0\n",
    "target2label = {t : l for l,t in label2target.items()}\n",
    "background_class = label2target['background']\n",
    "num_classes = len(label2target)\n",
    "print('target2label : {}'.format(target2label))\n",
    "print('label2target : {}'.format(label2target))"
   ]
  },
  {
   "cell_type": "code",
   "execution_count": 11,
   "metadata": {},
   "outputs": [],
   "source": [
    "def preprocessing_image(img):\n",
    "    img = torch.tensor(img).permute(2,0,1)\n",
    "    return img.to(device).float()"
   ]
  },
  {
   "cell_type": "code",
   "execution_count": null,
   "metadata": {},
   "outputs": [],
   "source": [
    "class OpenDataset(torch.utils.data.Dataset):\n",
    "    w,h = 224, 224\n",
    "    def __init__(self,df,image_dir = IMAGE_ROOT):\n",
    "        self.image_dir = image_dir\n",
    "        self.df = df\n",
    "        self.files = glob.glob(self.image_dir + '/*')\n",
    "        self.image_infos = df.ImageID.unique()\n",
    "    \n",
    "    def __getitem__(self,ix):\n",
    "        image_id = self.image_infos[ix]\n",
    "        img_path = find(image_id,self.files)\n",
    "        img = Image.open(img_path).convert('RGB')\n",
    "        img = np.array(img.resize((self.w,self.h), resample=Image.BILINEAR) / 255.)\n",
    "        data = df[df['ImageID'] == image_id]\n",
    "        "
   ]
  },
  {
   "cell_type": "code",
   "execution_count": null,
   "metadata": {},
   "outputs": [],
   "source": []
  },
  {
   "cell_type": "code",
   "execution_count": null,
   "metadata": {},
   "outputs": [],
   "source": []
  }
 ],
 "metadata": {
  "interpreter": {
   "hash": "277261f543cd8072db14e00033800a710bcf12c57ced4b367001bb0f6e57b623"
  },
  "kernelspec": {
   "display_name": "Python 3.8.12 64-bit ('torch1.7': conda)",
   "language": "python",
   "name": "python3"
  },
  "language_info": {
   "codemirror_mode": {
    "name": "ipython",
    "version": 3
   },
   "file_extension": ".py",
   "mimetype": "text/x-python",
   "name": "python",
   "nbconvert_exporter": "python",
   "pygments_lexer": "ipython3",
   "version": "3.8.12"
  },
  "orig_nbformat": 4
 },
 "nbformat": 4,
 "nbformat_minor": 2
}
