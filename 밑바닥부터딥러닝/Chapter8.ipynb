{
 "cells": [
  {
   "cell_type": "markdown",
   "id": "2a25eddb-5763-417e-9822-3be34630be48",
   "metadata": {},
   "source": [
    "# 8. 딥러닝\n",
    "- 딥러닝의 특징과 과제, 가능성을 본다."
   ]
  },
  {
   "cell_type": "markdown",
   "id": "71fa5503-6daa-45ad-833e-5850c3b919b0",
   "metadata": {},
   "source": [
    "## 8.1 더 깊게"
   ]
  },
  {
   "cell_type": "markdown",
   "id": "8c6cfa1d-314f-4f55-b007-d02683deb7bf",
   "metadata": {},
   "source": [
    "### 8.1.2 성능 높이기\n",
    "- 앙상블 학습\n",
    "- 학습률 감소\n",
    "- 데이터 확장(data augmentation)은 입력 이미지를 알고리즘을 동원해 인워적으로 확장한다.\n",
    "- 회전, 이동, 좌우 뒤집기, 일부 잘라내기, 이미지 밝기, 확대, 축소 등 다양한 방법이 있다."
   ]
  },
  {
   "cell_type": "markdown",
   "id": "42e95c00-9485-4e9d-9cb0-fc503095df0b",
   "metadata": {},
   "source": [
    "### 8.1.3 깊게 하는 이유\n",
    "- 사실 5*5 필터를 이용한 합성곱 연산 1회는 3*3 필터를 이용한 합성곱 연산 2회를 수행하여 대체할 수 있다.\n",
    "- 5*5의 매개변수는 25개이지만, 3*3 * 2의 매개변수는 18개로 층이 반복할수록 적어진다.\n",
    "- 또 층을 반복하면 정보를 계층적으로 전달할 수 있다."
   ]
  },
  {
   "cell_type": "markdown",
   "id": "d68ce77f-a3d8-46b6-96f4-a77c06cdc1ec",
   "metadata": {},
   "source": [
    "## 8.2 딥러닝의 초기역사"
   ]
  },
  {
   "cell_type": "markdown",
   "id": "abb73ffe-188a-4d13-9918-9b5d30b8c471",
   "metadata": {},
   "source": [
    "### 8.2.2 VGG\n",
    "- VGG는 합성곱 계층과 풀링 계층으로 구성되는 기본적인 CNN 구조이다.\n",
    "- 다만, 16층(VGG16) 혹은 19층(VGG19)로 심화한 것이 특징이다.\n",
    "- 아래는 VGG 16 이다."
   ]
  },
  {
   "cell_type": "markdown",
   "id": "88089dec-1f0c-490e-bc8c-5a6a82ce66d0",
   "metadata": {},
   "source": [
    "<img src = './data/8_2_2.jpg' style=\"width:800px;height:400px;\">"
   ]
  },
  {
   "cell_type": "markdown",
   "id": "616a50b3-e4e1-46fe-9660-d742ce869f15",
   "metadata": {},
   "source": [
    "### 8.2.3 GoogLeNet"
   ]
  },
  {
   "cell_type": "markdown",
   "id": "40cee3c5-140b-4510-9622-91df835cf0ec",
   "metadata": {},
   "source": [
    "- 세로방향의 깊이만 길 뿐 아니라 가로방향의 깊이도 깊다는 점이 특징이다.\n",
    "- 가로방향의 폭이 있는데, 이를 인셉션 구조라고 한다.\n",
    "- 인셉션 구조는 크기가 다른 필터를 여러 개 적용하여 그 결과를 결합한다.\n",
    "- 이 인셉션 구조를 하나의 블록으로 사용하는 것이 GoogLeNet의 특징이다."
   ]
  },
  {
   "cell_type": "markdown",
   "id": "59cfc164-9895-42b7-a2dc-3ee8f70e5eea",
   "metadata": {},
   "source": [
    "<img src = './data/8_2_3_1.jpg' style=\"width:800px;height:400px;\">"
   ]
  },
  {
   "cell_type": "markdown",
   "id": "455f69dd-a86a-4d8e-9cc0-6fd975c1964b",
   "metadata": {},
   "source": [
    "<img src = './data/8_2_3_2.jpg' style=\"width:800px;height:400px;\">"
   ]
  },
  {
   "cell_type": "markdown",
   "id": "b8dd246f-fe42-4fec-be9e-9d8ef88efbba",
   "metadata": {},
   "source": [
    "### 8.2.4 ResNet"
   ]
  },
  {
   "cell_type": "markdown",
   "id": "4deef7b4-52a7-4c72-99e9-3d7d0b9e6b5a",
   "metadata": {},
   "source": [
    "- 층을 깊게하는 것이 성능 향상에 중요하다는 것은 사실이지만 지나치게 깊으면 학습이 잘 되지 않고 성능이 떨어질 수 있다.\n",
    "- 이런 문제를 해결하기 위해 스킵 연결을 도입한다.\n",
    "- 아래와 같이 입력 데이터를 합성곱 계층을 건너뛰어 출력에 바로 더하는 구조를 의미한다"
   ]
  },
  {
   "cell_type": "markdown",
   "id": "0886d8e8-8787-4adc-b016-63430f94658a",
   "metadata": {},
   "source": [
    "<img src = './data/8_2_4.jpg' style=\"width:800px;height:400px;\">"
   ]
  }
 ],
 "metadata": {
  "kernelspec": {
   "display_name": "Python 3",
   "language": "python",
   "name": "python3"
  },
  "language_info": {
   "codemirror_mode": {
    "name": "ipython",
    "version": 3
   },
   "file_extension": ".py",
   "mimetype": "text/x-python",
   "name": "python",
   "nbconvert_exporter": "python",
   "pygments_lexer": "ipython3",
   "version": "3.8.8"
  }
 },
 "nbformat": 4,
 "nbformat_minor": 5
}
