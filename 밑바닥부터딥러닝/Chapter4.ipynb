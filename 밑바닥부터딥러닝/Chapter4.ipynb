{
 "cells": [
  {
   "cell_type": "markdown",
   "id": "9c85ae92-0bca-4639-9e64-133ff10a0cd7",
   "metadata": {},
   "source": [
    "# 4. 신경망 학습\n",
    "- 학습이란 훈련 데이터로부터 가중치 매개변수의 최적값을 자동으로 획득하는 것을 뜻한다.\n",
    "- 이 장에서는 신경망이 학습할 수 있도록 해주는 지표인 손실 함수를 소개한다."
   ]
  },
  {
   "cell_type": "markdown",
   "id": "b2500786-a364-42c2-8051-fdd2523455cc",
   "metadata": {},
   "source": [
    "## 4.1 데이터에서 학습한다."
   ]
  },
  {
   "cell_type": "markdown",
   "id": "22205877-b3cb-43ff-8277-09ecdea0a567",
   "metadata": {},
   "source": [
    "### 4.1.1 데이터 주도 학습\n",
    "- 어떠한 이미지를 분류할 때, \n",
    "- 1. 사람은 이미지의 특징을 보고 규칙을 만들어서 판단\n",
    "- 2. 컴퓨터 비전에서는 특징을 추출하고, 이 추출된 특징의 패턴을 학습\n",
    "- 3. 딥러닝은 특징, 학습까지 한 번에 결과를 도출해준다. (end to end machine learning 이라고도 한다.)"
   ]
  },
  {
   "cell_type": "markdown",
   "id": "8b3f493d-02d9-416c-aa8e-b96e24184ae2",
   "metadata": {},
   "source": [
    "### 4.1.2 훈련 데이터와 시험 데이터\n",
    "- 당연한 뻘 소리를 해놓았다.\n",
    "- 오버피팅을 피하는 것이 기계학습의 중요한 과제이기도 하다."
   ]
  },
  {
   "cell_type": "markdown",
   "id": "372eb381-ea4d-4ec9-b7f5-b46f25b430a7",
   "metadata": {},
   "source": [
    "## 4.2 손실 함수\n",
    "\n",
    "- 현재 상태의 가중치 매개변수들을 가장 좋은 가중치 매개변수의 값을 탐색해야하는데 이 지표를 신경망에서 '손실 함수' 라고 한다.\n",
    "- 신경망에서는 오차제곱합과 교차 엔트로피를 사용한다."
   ]
  },
  {
   "cell_type": "markdown",
   "id": "3eefaad9-6bb0-4f89-9d15-0858a59c69ab",
   "metadata": {},
   "source": [
    "### 4.2.1 오차제곱합\n",
    "- 가장 많이 쓰이는 손실 함수는 오차제곱합 이다."
   ]
  },
  {
   "cell_type": "markdown",
   "id": "bf095b17-8c77-48a6-b6eb-517b59ce7b79",
   "metadata": {},
   "source": [
    "### 4.2.2 교차 엔트로피"
   ]
  },
  {
   "cell_type": "markdown",
   "id": "f4c913cc-175b-48dd-ac42-d53e0024422c",
   "metadata": {},
   "source": [
    "- -sigma(Tk * log(Yk))\n",
    "- T는 실제 값 배열이고(one_hot_encoding)\n",
    "- Y는 예측 값 배열이다.(softmax 결과값)\n",
    "- 두 개의 곱을 할 때, 어차피 one_hot_encoding으로 인해 0의 값들은 곱을 해도 0이 출력되고 예측값과 softmax 확률 값만 곱해진다.\n",
    "- 이렇게 곱해진 값들을 최소화 해야한다."
   ]
  },
  {
   "cell_type": "markdown",
   "id": "73aa07d8-97ff-4d99-8d8e-a56fa87aae52",
   "metadata": {},
   "source": [
    "### 4.2.3 미니매치 학습\n",
    "- 수십, 수천만개의 빅데이터 수준이 되면 모든 데이터를 대상으로 손실 함수를 계산하고 그 총합을 구하려면 시간이 걸린다.\n",
    "- 일럴 경우 데이터의 일부 표본을 뽑아 근사치로 이용한다. 이를 미니배치라고 한다."
   ]
  },
  {
   "cell_type": "code",
   "execution_count": 40,
   "id": "b37cb93f-7552-4d5f-820c-a281fddf06cd",
   "metadata": {},
   "outputs": [],
   "source": [
    "from tensorflow.keras.datasets import mnist\n",
    "(x_train, y_train), (x_test, y_test) = mnist.load_data()"
   ]
  },
  {
   "cell_type": "code",
   "execution_count": 41,
   "id": "6cb3a347-8a7a-4ec6-93ef-b280e57811b0",
   "metadata": {},
   "outputs": [],
   "source": [
    "x_train = x_train.reshape(60000,784)\n",
    "x_test = x_test.reshape(10000,784)\n",
    "\n",
    "x_train = x_train/255.0\n",
    "x_test = x_test/255.0"
   ]
  },
  {
   "cell_type": "code",
   "execution_count": 42,
   "id": "4835cc02-d0e9-45a4-9105-956fcbde3b90",
   "metadata": {},
   "outputs": [
    {
     "name": "stdout",
     "output_type": "stream",
     "text": [
      "(60000, 784)\n",
      "(10000, 784)\n"
     ]
    }
   ],
   "source": [
    "print(x_train.shape)\n",
    "print(x_test.shape)"
   ]
  },
  {
   "cell_type": "code",
   "execution_count": 43,
   "id": "6d1a4bf6-8a5f-4fed-a81f-dc726b49611f",
   "metadata": {},
   "outputs": [],
   "source": [
    "# one_hot_encoding 진행\n",
    "from pandas import get_dummies\n",
    "y_train = np.array(get_dummies(y_train))\n",
    "y_test = np.array(get_dummies(y_test))"
   ]
  },
  {
   "cell_type": "code",
   "execution_count": 45,
   "id": "506b8379-89ab-4735-97b3-37ced12e9a20",
   "metadata": {},
   "outputs": [
    {
     "name": "stdout",
     "output_type": "stream",
     "text": [
      "(60000, 10)\n",
      "(10000, 10)\n"
     ]
    }
   ],
   "source": [
    "print(y_train.shape)\n",
    "print(y_test.shape)"
   ]
  },
  {
   "cell_type": "code",
   "execution_count": 46,
   "id": "3bb41668-faed-4ecd-8a12-8666abcbcc53",
   "metadata": {},
   "outputs": [
    {
     "name": "stdout",
     "output_type": "stream",
     "text": [
      "[13860 27964  1378 12657 55385 40589  5769 47182 42762    20]\n"
     ]
    }
   ],
   "source": [
    "# 10장만 빼내기\n",
    "batch_size = 10\n",
    "batch_mask = np.random.choice(60000,10)\n",
    "print(batch_mask)\n",
    "x_batch = x_train[batch_mask]\n",
    "y_batch = y_train[batch_mask]"
   ]
  },
  {
   "cell_type": "markdown",
   "id": "ed11cbae-10eb-4c18-a9f5-9f0e7ea2c1d9",
   "metadata": {},
   "source": [
    "### 4.2.4 (배치용) 교차 엔트로피 오차 구현하기"
   ]
  },
  {
   "cell_type": "code",
   "execution_count": 47,
   "id": "57d256ad-4b87-4bb0-9422-ff78b965303e",
   "metadata": {},
   "outputs": [],
   "source": [
    "def cross_entropy_error(y,t):\n",
    "    if y.ndim == 1:\n",
    "        t = t.reshape(1, t.size)\n",
    "        y = y.reshape(1, y.size)\n",
    "        \n",
    "    batch_size = y.shape[0]\n",
    "    \n",
    "    return -np.sum(t * np.log(y + e-7)) / batch_size"
   ]
  },
  {
   "cell_type": "markdown",
   "id": "de19f18b-7025-4867-855c-28c0d824b48e",
   "metadata": {},
   "source": [
    "### 4.2.5 왜 손실 함수를 정의하는가?\n",
    "- 정확도를 지표로 삼게 되면 매개 변수의 미분이 대부분의 장소에서 0이 되기 때문이다.\n",
    "- 예를들어, 100장의 데이터 중 32장을 인식한다면 32%의 정확도이다. 가중치 매개변수의 값을 조금 바꿔도 여전히 32%이고 갑자기 어느 순간 33% 로 불연속적으로 증가하게 된다.\n",
    "- 손실 함수를 지표로 삼게되면 손실 함수의 값도 연속적으로 조금씩 조금씩 변화한다."
   ]
  },
  {
   "cell_type": "markdown",
   "id": "60c335f1-57da-43a4-a0af-6440a789ac93",
   "metadata": {},
   "source": [
    "## 4.3 수치 미분"
   ]
  },
  {
   "cell_type": "markdown",
   "id": "e01b5e91-f10d-4555-95c0-45946cb39548",
   "metadata": {},
   "source": [
    "### 4.3.1 미분\n",
    "\n",
    "- 순간 변화량을 의미한다.\n",
    "- 아주 작은 차분으로 미분하는 것은 '수치 미분'이라고 한다. 오차가 포함된다.\n",
    "- 수식을 전개해 해석적으로 미분하는 것(y = x^2   >>  dy/dx = 2x)은 진정한 미분값을 구해준다."
   ]
  },
  {
   "cell_type": "markdown",
   "id": "0da3134a-223b-450a-a4ae-d11e0c0a1e47",
   "metadata": {},
   "source": [
    "### 4.3.3 편미분\n",
    "- 변수가 2개 이상일 때, 하나의 변수에 대해 미분을 진행한다."
   ]
  },
  {
   "cell_type": "markdown",
   "id": "4a2d5235-f162-4859-9abe-2d628d234c1a",
   "metadata": {},
   "source": [
    "## 4.4 기울기\n",
    "\n",
    "- 편미분의 기울기는 모든 변수의 편미분을 벡터로 정리한 것을 말한다.\n",
    "- 이 기울기 벡터가 가르키는 방향이 함수의 출력 값을 가장 크게 줄이는 방향이다."
   ]
  },
  {
   "cell_type": "markdown",
   "id": "8dff1cee-86d3-49e2-98a4-e93d77b38ae4",
   "metadata": {},
   "source": [
    "### 4.4.1 경사하강법\n",
    "- 함수의 최소값, 안장점이 되는 장소에서는 기울기가 0이다.\n",
    "- 항상 최소값을 가르키는 것은 아니지만, 그 방향으로 가야 함수의 값을 줄일 수 있다.\n",
    "- 현 위치에서느 기울어진 방향으로 일정 거리만큼 이동하고 나아가는 것을 반복한다. 이렇게 함수의 값을 점차 줄이는 것이 경사법이다."
   ]
  }
 ],
 "metadata": {
  "kernelspec": {
   "display_name": "Python 3",
   "language": "python",
   "name": "python3"
  },
  "language_info": {
   "codemirror_mode": {
    "name": "ipython",
    "version": 3
   },
   "file_extension": ".py",
   "mimetype": "text/x-python",
   "name": "python",
   "nbconvert_exporter": "python",
   "pygments_lexer": "ipython3",
   "version": "3.8.8"
  }
 },
 "nbformat": 4,
 "nbformat_minor": 5
}
