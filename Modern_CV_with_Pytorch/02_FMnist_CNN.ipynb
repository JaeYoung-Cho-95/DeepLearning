{
 "cells": [
  {
   "cell_type": "code",
   "execution_count": 2,
   "metadata": {},
   "outputs": [],
   "source": [
    "from torchvision import datasets\n",
    "from torch.utils.data import Dataset, DataLoader\n",
    "import torch\n",
    "import torch.nn as nn\n",
    "device = 'cuda' if torch.cuda.is_available() else 'cpu'\n",
    "import numpy as np\n",
    "import matplotlib.pyplot as plt"
   ]
  },
  {
   "cell_type": "code",
   "execution_count": 3,
   "metadata": {},
   "outputs": [],
   "source": [
    "data_folder = './data/FMNIS'\n",
    "fmnist = datasets.FashionMNIST(data_folder, download=True, train=True)\n",
    "\n",
    "tr_images = fmnist.data\n",
    "tr_targets = fmnist.targets"
   ]
  },
  {
   "cell_type": "code",
   "execution_count": 4,
   "metadata": {},
   "outputs": [
    {
     "name": "stdout",
     "output_type": "stream",
     "text": [
      "Target images size : torch.Size([60000, 28, 28])\n",
      "Target label size : torch.Size([60000])\n"
     ]
    }
   ],
   "source": [
    "print(\"Target images size : {}\".format(tr_images.size()))\n",
    "print(\"Target label size : {}\".format(tr_targets.size()))"
   ]
  },
  {
   "cell_type": "code",
   "execution_count": 5,
   "metadata": {},
   "outputs": [
    {
     "data": {
      "text/plain": [
       "Text(0.5, 1.0, '9')"
      ]
     },
     "execution_count": 5,
     "metadata": {},
     "output_type": "execute_result"
    },
    {
     "data": {
      "image/png": "[encoded data removed]",
      "text/plain": [
       "<Figure size 432x288 with 1 Axes>"
      ]
     },
     "metadata": {
      "needs_background": "light"
     },
     "output_type": "display_data"
    }
   ],
   "source": [
    "plt.imshow(tr_images[0],cmap='gray')\n",
    "plt.title(tr_targets[0].item(),color='white')"
   ]
  },
  {
   "cell_type": "code",
   "execution_count": 6,
   "metadata": {},
   "outputs": [],
   "source": [
    "class FMNISTDataset(Dataset):\n",
    "    def __init__(self,x,y):\n",
    "        x = x.float() / 255\n",
    "        # 배치사이즈, 채널, 높이, 너비 순으로 들어간다.\n",
    "        x = x.view(-1,1,28,28)\n",
    "        self.x, self.y = x,y\n",
    "    \n",
    "    def __getitem__(self,index):\n",
    "        x,y = self.x[index], self.y[index]\n",
    "        return x.to(device), y.to(device)\n",
    "    \n",
    "    def __len__(self):\n",
    "        return len(self.x)"
   ]
  },
  {
   "cell_type": "code",
   "execution_count": 9,
   "metadata": {},
   "outputs": [],
   "source": [
    "def get_model():\n",
    "    model = nn.Sequential(\n",
    "        nn.Conv2d(in_channels=1,out_channels=64,kernel_size=3),\n",
    "        nn.MaxPool2d(kernel_size=2),\n",
    "        nn.ReLU(),\n",
    "        nn.Conv2d(in_channels=64,out_channels=128,kernel_size=3),\n",
    "        nn.MaxPool2d(kernel_size=2),\n",
    "        nn.ReLU(),\n",
    "        nn.Flatten(),\n",
    "        nn.Linear(3200,256),\n",
    "        nn.ReLU(),\n",
    "        nn.Linear(256,10)\n",
    "    ).to(device)\n",
    "\n",
    "    loss_fn = nn.CrossEntropyLoss()\n",
    "    optimizer = torch.optim.Adam(model.parameters(), lr = 0.0001)\n",
    "\n",
    "    return model, loss_fn, optimizer"
   ]
  },
  {
   "cell_type": "code",
   "execution_count": 10,
   "metadata": {},
   "outputs": [
    {
     "name": "stdout",
     "output_type": "stream",
     "text": [
      "==========================================================================================\n",
      "Layer (type:depth-idx)                   Output Shape              Param #\n",
      "==========================================================================================\n",
      "├─Conv2d: 1-1                            [-1, 64, 26, 26]          640\n",
      "├─MaxPool2d: 1-2                         [-1, 64, 13, 13]          --\n",
      "├─ReLU: 1-3                              [-1, 64, 13, 13]          --\n",
      "├─Conv2d: 1-4                            [-1, 128, 11, 11]         73,856\n",
      "├─MaxPool2d: 1-5                         [-1, 128, 5, 5]           --\n",
      "├─ReLU: 1-6                              [-1, 128, 5, 5]           --\n",
      "├─Flatten: 1-7                           [-1, 3200]                --\n",
      "├─Linear: 1-8                            [-1, 256]                 819,456\n",
      "├─ReLU: 1-9                              [-1, 256]                 --\n",
      "├─Linear: 1-10                           [-1, 10]                  2,570\n",
      "==========================================================================================\n",
      "Total params: 896,522\n",
      "Trainable params: 896,522\n",
      "Non-trainable params: 0\n",
      "Total mult-adds (M): 10.13\n",
      "==========================================================================================\n",
      "Input size (MB): 0.00\n",
      "Forward/backward pass size (MB): 0.45\n",
      "Params size (MB): 3.42\n",
      "Estimated Total Size (MB): 3.87\n",
      "==========================================================================================\n"
     ]
    },
    {
     "name": "stderr",
     "output_type": "stream",
     "text": [
      "[W NNPACK.cpp:80] Could not initialize NNPACK! Reason: Unsupported hardware.\n"
     ]
    },
    {
     "data": {
      "text/plain": [
       "==========================================================================================\n",
       "Layer (type:depth-idx)                   Output Shape              Param #\n",
       "==========================================================================================\n",
       "├─Conv2d: 1-1                            [-1, 64, 26, 26]          640\n",
       "├─MaxPool2d: 1-2                         [-1, 64, 13, 13]          --\n",
       "├─ReLU: 1-3                              [-1, 64, 13, 13]          --\n",
       "├─Conv2d: 1-4                            [-1, 128, 11, 11]         73,856\n",
       "├─MaxPool2d: 1-5                         [-1, 128, 5, 5]           --\n",
       "├─ReLU: 1-6                              [-1, 128, 5, 5]           --\n",
       "├─Flatten: 1-7                           [-1, 3200]                --\n",
       "├─Linear: 1-8                            [-1, 256]                 819,456\n",
       "├─ReLU: 1-9                              [-1, 256]                 --\n",
       "├─Linear: 1-10                           [-1, 10]                  2,570\n",
       "==========================================================================================\n",
       "Total params: 896,522\n",
       "Trainable params: 896,522\n",
       "Non-trainable params: 0\n",
       "Total mult-adds (M): 10.13\n",
       "==========================================================================================\n",
       "Input size (MB): 0.00\n",
       "Forward/backward pass size (MB): 0.45\n",
       "Params size (MB): 3.42\n",
       "Estimated Total Size (MB): 3.87\n",
       "=========================================================================================="
      ]
     },
     "execution_count": 10,
     "metadata": {},
     "output_type": "execute_result"
    }
   ],
   "source": [
    "from torchsummary import summary\n",
    "model, loss_fn, optimizer = get_model()\n",
    "summary(model, torch.zeros(1,1,28,28))"
   ]
  },
  {
   "cell_type": "code",
   "execution_count": null,
   "metadata": {},
   "outputs": [],
   "source": []
  }
 ],
 "metadata": {
  "interpreter": {
   "hash": "c3a6afb4ca1356324ac719a8f4904d3d9af325fac862a66ccc73b4ecb2536197"
  },
  "kernelspec": {
   "display_name": "Python 3.8.0 64-bit ('torch1.7': conda)",
   "language": "python",
   "name": "python3"
  },
  "language_info": {
   "codemirror_mode": {
    "name": "ipython",
    "version": 3
   },
   "file_extension": ".py",
   "mimetype": "text/x-python",
   "name": "python",
   "nbconvert_exporter": "python",
   "pygments_lexer": "ipython3",
   "version": "3.8.12"
  },
  "orig_nbformat": 4
 },
 "nbformat": 4,
 "nbformat_minor": 2
}
