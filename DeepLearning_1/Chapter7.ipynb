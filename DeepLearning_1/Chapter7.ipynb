{
 "cells": [
  {
   "cell_type": "markdown",
   "id": "027ab3eb-fb73-4c12-adeb-08a45cce051a",
   "metadata": {},
   "source": [
    "# 7. 합성곱 신경망\n",
    "- CNN(convolutional neural network, CNN)은 이미지 인식과 음성 인식 등 당야한 곳에서 사용된다.\n",
    "- 특히 이미지 인식 분야에서는 거의 다 CNN을 기초로 한다."
   ]
  },
  {
   "cell_type": "markdown",
   "id": "d3dbbcb5-04e3-4641-92bf-fb46c2348be3",
   "metadata": {},
   "source": [
    "## 7.1 전체 구조\n",
    "- 지금까지 본 신경망과 같이 레고 블록처럼 계층을 조합하여 만든다.\n",
    "- 다만, 합성곱 계층과 풀링 계층이 등장한다.\n",
    "- 지금까지 본 신경망은 인접하는 모든 뉴런과 결합되어 있었는데 이를 완전연결 이라고 하며, Affine 계층이라는 이름으로 구현했었다.\n",
    "- CNN은 기존의 ( Affine > ReLU ) + (Affine > Softmax, sigmoid, 항등함수) 의 반복이 아닌, (Conv > ReLU > Pooling) + (Affine > ReLU) + (Affine > Softmax) 흐름으로 연결된다."
   ]
  },
  {
   "cell_type": "markdown",
   "id": "51ef3e4c-b6c7-471b-a010-82ece33caf44",
   "metadata": {},
   "source": [
    "## 7.2 합성곱 계층"
   ]
  },
  {
   "cell_type": "markdown",
   "id": "e63a1230-87d7-4cff-b097-01c7a15f1a45",
   "metadata": {},
   "source": [
    "### 7.2.1 완전연결 계층의 문제점\n",
    "- 완전연결 계층의 문제점은 '데이터의 형상이 무시'된다는 사실이다.\n",
    "- 이미지는 3차원 형상이며, 3차원 속에서 의미를 갖는 본질적인 패턴이 숨어 있다.\n",
    "- Conv 계층은 이미지도 3차원으로 받으며, 다음 계층에도 3차원으로 전달한다.\n",
    "- CNN에서는 합성곱 계층의 입출력 데이터를 특징 맵(feature map) 이라고도 한다."
   ]
  },
  {
   "cell_type": "markdown",
   "id": "2ab77a7d-c672-4dfd-b058-7bfddc3474c4",
   "metadata": {},
   "source": [
    "### 7.2.2 합성곱 연산\n",
    "- 합성곱 연산은 이미지 처리에서 말하는 필터 연산에 해당한다."
   ]
  },
  {
   "cell_type": "markdown",
   "id": "7119ed18-19fb-4e97-96fa-8824f96609e4",
   "metadata": {},
   "source": [
    "### 7.2.3 패딩\n",
    "- 합성곱 연산을 수행하기 전에 입력 데이터 주변을 특정 값으로 채우기도 한다.\n",
    "- 이를 '패딩'이라고 하며, 합성곱 연산에서 자주 이용하는 기법이다.\n",
    "- 패딩은 주로 출력 크기를 조정할 목적으로 사용한다.\n"
   ]
  },
  {
   "cell_type": "markdown",
   "id": "12f6ef0d-81ed-4a71-b486-ceadb7ff8578",
   "metadata": {},
   "source": [
    "### 7.2.4 스트라이드\n",
    "- 필터를 적용하는 위치의 간격을 스트라이드라고 한다.\n",
    "- 스트라이드를 2로 적용하면 필터가 한 번에 2칸을 기준으로 이동한다.\n",
    "\n",
    "> 출력 크기 공식\n",
    "- OH = {(입력 이미지 높이 + (2 * Padding) - 필터 가로) / 스트라이드 } + 1\n",
    "- OW = {(입력 이미지 너비 + (2 * Padding) - 필터 너비)  스트라이드 } + 1\n",
    "- 가급적 나눠떨어지게 구현해야한다."
   ]
  },
  {
   "cell_type": "markdown",
   "id": "7cf455ea-c5cf-449b-b481-6cb9420a432c",
   "metadata": {},
   "source": [
    "### 7.2.5 3차원 이미지 합성곱 연산\n",
    "- 필터의 채널 수를 입력데이터의 채널 수와 같도록 설정하고 해당 위치의 값들을 모두 더해서 하나의 출력값을 얻는다."
   ]
  },
  {
   "cell_type": "markdown",
   "id": "d30c7d5f-b4ab-442c-9bc3-b05fa5d7b18e",
   "metadata": {},
   "source": [
    "### 7.2.6 블록으로 생각하기\n",
    "- 채널 수 C, 필터 높이 H, 너비 W인 데이터의 형상은 (C, H, W)로 쓰며 필터도 같은 순서로 (C, FH, FW)로 쓴다.\n",
    "- 위 7.2.5단락의 3차원 이미지 합성곱 연산을 하게 되면 해당 3차원 이미지의 결과값으로 1차원으로 나오게 된다.\n",
    "- 이를 방지하기 위해 필터를 다수 사용하게 된다."
   ]
  },
  {
   "cell_type": "markdown",
   "id": "c14f6041-4e96-47aa-aef1-a7bb8905d20e",
   "metadata": {},
   "source": [
    "<img src = './data/7_2_6.jpg' style=\"width:800px;height:300px;\">"
   ]
  },
  {
   "cell_type": "markdown",
   "id": "09c2cf55-1b3e-49f0-b64f-69a2b1705b23",
   "metadata": {},
   "source": [
    "### 7.2.7 배치 처리\n",
    "- 신경망에서는 입력 데이터를 한 덩어리로 묶어 배치로 처리했었다,\n",
    "- 완전 신경망에서는 이러한 방식을 지원해 처리 효율을 높이고, 미니배치 방식의 학습도 지원하도록 했다.\n",
    "- 합성곱 연산도 마찬가지로 배치 처치를 지원하는데 각 계층을 흐르는 데이터의 차원을 하나 늘려 4차원 데이터로 저장한다.\n",
    "- 데이터의 선두에 배치용 차원을 추가해 데이터는 4차원 형상을 가진 채 각 계층을 타고 흐른다.\n",
    "- 신경망에 4차원의 데이터가 하나 흐를 때마다 데이터 N개에 대한 합성곱 연산이 이뤄진다. 즉, N회분의 처리를 한 번에 수행하는 것이다."
   ]
  },
  {
   "cell_type": "markdown",
   "id": "0f054770-acb7-4c83-999e-a93aa6689ec7",
   "metadata": {},
   "source": [
    "<img src = './data/7_2_7.jpg' style=\"width:800px;height:300px;\">"
   ]
  },
  {
   "cell_type": "markdown",
   "id": "5e98bde6-091e-4c46-8ae6-cdbb085bc155",
   "metadata": {},
   "source": [
    "## 7.3 풀링 계층\n",
    "- 풀링은 세로, 가로 방향의 공간을 줄이는 연산이다.\n",
    "- Max Pooling과 Average Pooling이 있다.\n",
    "- 계산법은 알고 있기 때문에 생략\n",
    "- 일반적으로 풀링과 스트라이드의 크기는 같게한다."
   ]
  },
  {
   "cell_type": "markdown",
   "id": "cb7c5eac-3915-4dcf-82de-a11e4693d330",
   "metadata": {},
   "source": [
    "### 7.3.1 풀링 계층의 특징"
   ]
  },
  {
   "cell_type": "markdown",
   "id": "145c4e51-90c3-4e84-9b6b-577139b0f5da",
   "metadata": {},
   "source": [
    "- 학습해야할 매개 변수가 없다.\n",
    "> 풀링 계층은 합성곱 계층과 달리 학습해야 할 매개변수가 없다.\n",
    "- 채널 수가 변하지 않는다\n",
    "> 채널마다 독립적으로 계산한다.\n",
    "- 입력의 변화에 영향이 적다\n",
    "> 입력데이터가 약간 변화해도 pooling에 의해 흡수된다."
   ]
  },
  {
   "cell_type": "markdown",
   "id": "00e9b0bc-708a-4522-a2b1-e0d916c00450",
   "metadata": {},
   "source": [
    "## 7.4 합성곱 / 풀링 계층 구현하기"
   ]
  },
  {
   "cell_type": "markdown",
   "id": "09442b47-734e-4499-ad0e-a87544edca6f",
   "metadata": {},
   "source": [
    "### 7.4.1 4차원 배열\n",
    "- CNN 계층 사이를 흐르는 데이터는 4차원 이다.\n",
    "- 예를 들어, 데이터의 형상이 (10,1,28,28) 이면, 이는 높이 28, 너비 28, 채널 1개인 데이터가 10개라는 말이다."
   ]
  },
  {
   "cell_type": "code",
   "execution_count": 2,
   "id": "c45216d0-f587-41db-9547-35bea8096a0f",
   "metadata": {},
   "outputs": [
    {
     "data": {
      "text/plain": [
       "(10, 1, 28, 28)"
      ]
     },
     "execution_count": 2,
     "metadata": {},
     "output_type": "execute_result"
    }
   ],
   "source": [
    "import numpy as np\n",
    "x = np.random.rand(10,1,28,28)\n",
    "x.shape"
   ]
  },
  {
   "cell_type": "code",
   "execution_count": 5,
   "id": "8c399e34-eada-47d6-8164-11430d1a42fe",
   "metadata": {},
   "outputs": [
    {
     "name": "stdout",
     "output_type": "stream",
     "text": [
      "(1, 28, 28)\n",
      "(1, 28, 28)\n"
     ]
    }
   ],
   "source": [
    "print(x[0].shape)\n",
    "print(x[1].shape)"
   ]
  },
  {
   "cell_type": "markdown",
   "id": "d3576138-e5c6-451d-a11a-be7f02821019",
   "metadata": {},
   "source": [
    "### 7.4.2 im2col로 데이터 전개하기\n",
    "- 합성곱 연산을 곧이곧대로 구현하려면 for 문을 겹겹이 써야한다.\n",
    "- im2col이라는 함수를 사용해 구현\n",
    "- im2col은 데이터를 필터링하기 좋게 전개하는 함수이다. 데이터 수 까지 포함한 4차원 데이터를 2차원으로 변환한다."
   ]
  },
  {
   "cell_type": "markdown",
   "id": "74897788-966c-4a22-a289-70453b8b4b74",
   "metadata": {},
   "source": [
    "<img src = './data/7_4_2.jpg' style=\"width:800px;height:400px;\">"
   ]
  },
  {
   "cell_type": "markdown",
   "id": "be867310-0703-4f39-8bed-6367f014cf11",
   "metadata": {},
   "source": [
    "### 7.4.3 합성곱 게층 구현하기"
   ]
  },
  {
   "cell_type": "code",
   "execution_count": 7,
   "id": "ac4dafd4-c3fb-4777-bd2c-2d42c42d6d87",
   "metadata": {},
   "outputs": [],
   "source": [
    "def im2col(input_data, filter_h, filter_w, stride=1, pad=0):\n",
    "    \"\"\"다수의 이미지를 입력받아 2차원 배열로 변환한다(평탄화).\n",
    "    \n",
    "    Parameters\n",
    "    ----------\n",
    "    input_data : 4차원 배열 형태의 입력 데이터(이미지 수, 채널 수, 높이, 너비)\n",
    "    filter_h : 필터의 높이\n",
    "    filter_w : 필터의 너비\n",
    "    stride : 스트라이드\n",
    "    pad : 패딩\n",
    "    \n",
    "    Returns\n",
    "    -------\n",
    "    col : 2차원 배열\n",
    "    \"\"\"\n",
    "    N, C, H, W = input_data.shape\n",
    "    out_h = (H + 2*pad - filter_h)//stride + 1\n",
    "    out_w = (W + 2*pad - filter_w)//stride + 1\n",
    "\n",
    "    img = np.pad(input_data, [(0,0), (0,0), (pad, pad), (pad, pad)], 'constant')\n",
    "    col = np.zeros((N, C, filter_h, filter_w, out_h, out_w))\n",
    "\n",
    "    for y in range(filter_h):\n",
    "        y_max = y + stride*out_h\n",
    "        for x in range(filter_w):\n",
    "            x_max = x + stride*out_w\n",
    "            col[:, :, y, x, :, :] = img[:, :, y:y_max:stride, x:x_max:stride]\n",
    "\n",
    "    col = col.transpose(0, 4, 5, 1, 2, 3).reshape(N*out_h*out_w, -1)\n",
    "    return col"
   ]
  },
  {
   "cell_type": "code",
   "execution_count": 9,
   "id": "7f5ee0ea-9c84-495a-af7a-f461317a6d1c",
   "metadata": {},
   "outputs": [
    {
     "name": "stdout",
     "output_type": "stream",
     "text": [
      "(9, 75)\n"
     ]
    }
   ],
   "source": [
    "x1 = np.random.rand(1,3,7,7)\n",
    "col1 = im2col(x1,5,5,stride= 1,pad=0)\n",
    "print(col1.shape)"
   ]
  },
  {
   "cell_type": "code",
   "execution_count": 14,
   "id": "07b927f7-00e1-46e5-bce8-4f5762c8e8a1",
   "metadata": {},
   "outputs": [],
   "source": [
    "class Convolution:\n",
    "    def __init__(self,W,b,stride=1, pad=0):\n",
    "        self.W = W\n",
    "        self.b = b\n",
    "        self.stride = stride\n",
    "        self.pad = pad\n",
    "    \n",
    "    def forward(self, x):\n",
    "        FN, C, FH, FW = self.W.shape\n",
    "        N, C, H, W = x.shape\n",
    "        out_h = int(1 + (H + 2*self.pad - FH ) / self.stride)\n",
    "        out_w = int(1 + (W + 2*self.pad - FW ) / self.stride)\n",
    "        \n",
    "        col = im2col(x, FH, FW, self.stride, self.pad)\n",
    "        col_W = self.W.reshape(FN, -1).T\n",
    "        out = np.dot(col, col_W) + self.b\n",
    "        \n",
    "        out = out.reshape(N, out_h, out_w, -1).transpose(0,3,1,2)\n",
    "        \n",
    "        return out\n",
    "    \n",
    "    def backward(self, dout):\n",
    "        FN, C, FH, FW = self.W.shape\n",
    "        dout = dout.transpose(0,2,3,1).reshape(-1, FN)\n",
    "\n",
    "        self.db = np.sum(dout, axis=0)\n",
    "        self.dW = np.dot(self.col.T, dout)\n",
    "        self.dW = self.dW.transpose(1, 0).reshape(FN, C, FH, FW)\n",
    "\n",
    "        dcol = np.dot(dout, self.col_W.T)\n",
    "        dx = col2im(dcol, self.x.shape, FH, FW, self.stride, self.pad)\n",
    "\n",
    "        return dx"
   ]
  },
  {
   "cell_type": "markdown",
   "id": "51a65593-9302-4670-aba5-3edd66b97798",
   "metadata": {},
   "source": [
    "### 7.4.4 풀링 계층 구현하기"
   ]
  },
  {
   "cell_type": "code",
   "execution_count": 15,
   "id": "d9b70593-c46e-4800-a1eb-52060a644f9a",
   "metadata": {},
   "outputs": [],
   "source": [
    "class Pooling:\n",
    "    def __init__(self, pool_h, pool_w, stride = 1, pad = 0):\n",
    "        self.pool_h = pool_h\n",
    "        self.pool_w = pool_w\n",
    "        self.stride = stride\n",
    "        self.pad = pad\n",
    "    def forward(self, x):\n",
    "        N, C, H, W = x.shape\n",
    "        out_h = int(1 + (H - self.pool_h) / self.stride)\n",
    "        out_w = int(1 + (W - self.pool_w) / self.stride)\n",
    "\n",
    "        col = im2col(x, self.pool_h, self.pool_w, self.stride, self.pad)\n",
    "        col = col.reshape(-1, self.pool_h*self.pool_w)\n",
    "\n",
    "        arg_max = np.argmax(col, axis=1)\n",
    "        out = np.max(col, axis=1)\n",
    "        out = out.reshape(N, out_h, out_w, C).transpose(0, 3, 1, 2)\n",
    "\n",
    "        self.x = x\n",
    "        self.arg_max = arg_max\n",
    "\n",
    "        return out\n",
    "\n",
    "    def backward(self, dout):\n",
    "        dout = dout.transpose(0, 2, 3, 1)\n",
    "        \n",
    "        pool_size = self.pool_h * self.pool_w\n",
    "        dmax = np.zeros((dout.size, pool_size))\n",
    "        dmax[np.arange(self.arg_max.size), self.arg_max.flatten()] = dout.flatten()\n",
    "        dmax = dmax.reshape(dout.shape + (pool_size,)) \n",
    "        \n",
    "        dcol = dmax.reshape(dmax.shape[0] * dmax.shape[1] * dmax.shape[2], -1)\n",
    "        dx = col2im(dcol, self.x.shape, self.pool_h, self.pool_w, self.stride, self.pad)\n",
    "        \n",
    "        return dx"
   ]
  },
  {
   "cell_type": "markdown",
   "id": "c7185c90-cebd-4017-b234-994d6333b5ec",
   "metadata": {},
   "source": [
    "## 7.7 대표적인 CNN"
   ]
  },
  {
   "cell_type": "markdown",
   "id": "039573c7-df82-4b03-83c3-f39bb06a181b",
   "metadata": {},
   "source": [
    "### 7.7.1 LeNet\n",
    "- 1998년 제안된 손글씨 숫자를 인식하는 네트워크이다.\n",
    "- 합성곱 계층과 풀링 계층(원소 줄이기만 하는 서브샘플링 계층)을 반복하고 마지막으로 affine 계층을 거치면서 결과를 출력한다.\n",
    "- 시그모이드함수를 주로쓴다."
   ]
  },
  {
   "cell_type": "markdown",
   "id": "b2ae185f-07b5-46a0-8242-cf9ec80817eb",
   "metadata": {},
   "source": [
    "### 7.7.2 AlexNet\n",
    "- LeNet과 큰 구조는 같다\n",
    "- Activation Function 으로 ReLU를 쓴다\n",
    "- LRN 이라는 국소적 정규화를 실시하는 계층을 이용한다.\n",
    "- Drop Out을 사용한다."
   ]
  },
  {
   "cell_type": "markdown",
   "id": "bb1a0843-f983-4f2a-9648-e227d6f362e1",
   "metadata": {},
   "source": [
    "Summary\n",
    "- CNN 은 Fully Connected layer에 Convlutional layer + Pooling Layer를 추가한 구조이다.\n",
    "- 계층이 깊어질수록 고급 정보다 추출된다.\n",
    "- 대표적인 CNN에는 LeNet과 AlexNet가 있다."
   ]
  }
 ],
 "metadata": {
  "kernelspec": {
   "display_name": "Python 3",
   "language": "python",
   "name": "python3"
  },
  "language_info": {
   "codemirror_mode": {
    "name": "ipython",
    "version": 3
   },
   "file_extension": ".py",
   "mimetype": "text/x-python",
   "name": "python",
   "nbconvert_exporter": "python",
   "pygments_lexer": "ipython3",
   "version": "3.8.8"
  }
 },
 "nbformat": 4,
 "nbformat_minor": 5
}
