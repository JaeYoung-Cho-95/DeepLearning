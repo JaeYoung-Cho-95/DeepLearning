{
 "cells": [
  {
   "cell_type": "markdown",
   "id": "1bf78bb4-dab4-4d46-9659-88101bafa5d4",
   "metadata": {},
   "source": [
    "# 3. 신경망"
   ]
  },
  {
   "cell_type": "markdown",
   "id": "10def8c1-2fc6-4c20-a7d1-b8ddbdc3b5bf",
   "metadata": {},
   "source": [
    "## 3.1 퍼셉트론에서 신경망으로"
   ]
  },
  {
   "cell_type": "markdown",
   "id": "f97eafe2-faf2-4b1d-b5ab-b328484bdae8",
   "metadata": {},
   "source": [
    "### 3.1.3 활성활 함수의 등장\n",
    "- 입력 신호의 총합을 출력 신호로 변환하는 함수를 일반적으로 활성화 함수\n",
    "- 이름 그대로 입력신호의 총합들이 활성화를 일으키는지 정하는 역할을 한다.\n",
    "\n",
    "> 일반적으로 단층 퍼셉트론은 단층 네트워크에서 계단함수를 활성화 함수로 사용한 모델을 가르키고, 다층 퍼셉트론은 여러 층의 네트워크에서 시그모이드, ReLu, LeakyReLu 등 매끈한 활성화 함수를 사용하는 네트워크를 가르킨다."
   ]
  },
  {
   "cell_type": "markdown",
   "id": "4def9787-c790-45d9-bf9f-197452c6125a",
   "metadata": {},
   "source": [
    "## 3.2 활성화 함수"
   ]
  },
  {
   "cell_type": "markdown",
   "id": "4f5108b5-1355-496f-86a7-e48d07016847",
   "metadata": {},
   "source": [
    "### 3.2.1 시그모이드 함수\n",
    "\n",
    "#### h(x) = 1 / ( 1 + e^(-x) )   \n",
    "* e는 자연상수를 의미한다."
   ]
  },
  {
   "cell_type": "markdown",
   "id": "3a8ea150-6e1f-414a-816f-dacc21567da3",
   "metadata": {},
   "source": [
    "### 3.2.2 계단 함수 구현하기"
   ]
  },
  {
   "cell_type": "code",
   "execution_count": 5,
   "id": "f1224b3f-ab99-4b6f-bb48-85d2d494cc5c",
   "metadata": {},
   "outputs": [],
   "source": [
    "# 이 방법은 배열은 못 받아준다.\n",
    "def step_function(x):\n",
    "    if x > 0:\n",
    "        x = 1\n",
    "        return x\n",
    "    else:\n",
    "        x = 0\n",
    "        return x"
   ]
  },
  {
   "cell_type": "code",
   "execution_count": 16,
   "id": "30077874-3a8a-471a-915e-b39bd26de12d",
   "metadata": {},
   "outputs": [],
   "source": [
    "# 이렇게 하면 배열에 대한 계단 함수 구현이 가능하다.\n",
    "def step_function(x):\n",
    "    import numpy as np\n",
    "    x = np.array(x)\n",
    "    y = x > 0\n",
    "    return y.astype(np.int)"
   ]
  },
  {
   "cell_type": "code",
   "execution_count": 17,
   "id": "b98c73c6-2c34-47dd-a471-30d9e23f11c7",
   "metadata": {},
   "outputs": [
    {
     "data": {
      "text/plain": [
       "array([1, 0, 1, 0])"
      ]
     },
     "execution_count": 17,
     "metadata": {},
     "output_type": "execute_result"
    }
   ],
   "source": [
    "x = [1.0, -2, 2.4, -0.4]\n",
    "step_function(x)"
   ]
  },
  {
   "cell_type": "markdown",
   "id": "05460de5-05ce-41f4-b73c-d9fe951fbbac",
   "metadata": {},
   "source": [
    "### 3.2.3 계단함수의 그래프"
   ]
  },
  {
   "cell_type": "code",
   "execution_count": 19,
   "id": "1ef9d00c-527b-4110-8495-cccd695293c7",
   "metadata": {},
   "outputs": [
    {
     "data": {
      "image/png": "[encoded data removed]",
      "text/plain": [
       "<Figure size 432x288 with 1 Axes>"
      ]
     },
     "metadata": {
      "needs_background": "light"
     },
     "output_type": "display_data"
    }
   ],
   "source": [
    "import numpy as np\n",
    "import matplotlib.pylab as plt\n",
    "x = np.arange(-5 , 5, 0.1)\n",
    "y = step_function(x)\n",
    "plt.plot(x,y)\n",
    "plt.show()"
   ]
  },
  {
   "cell_type": "markdown",
   "id": "3ab3d36f-c4be-4536-84f6-770a3d0349ba",
   "metadata": {},
   "source": [
    "### 3.2.4 시그모이드 함수 구현하기"
   ]
  },
  {
   "cell_type": "code",
   "execution_count": 27,
   "id": "54425e14-5f82-4a84-b42e-2b99d8846abc",
   "metadata": {},
   "outputs": [],
   "source": [
    "# 지수 표현 방법 바꿔주기\n",
    "np.set_printoptions(precision=5, suppress=True)\n",
    "def sigmoid(x):\n",
    "    x = np.array(x)\n",
    "    h = 1 / ( 1 + np.exp(-x))\n",
    "    return h"
   ]
  },
  {
   "cell_type": "code",
   "execution_count": 29,
   "id": "6bc9b78b-7532-4ca3-8642-44218cd37e7a",
   "metadata": {},
   "outputs": [
    {
     "data": {
      "text/plain": [
       "array([0.26894, 0.73106, 0.04743, 0.95257, 0.99995, 0.00005])"
      ]
     },
     "execution_count": 29,
     "metadata": {},
     "output_type": "execute_result"
    }
   ],
   "source": [
    "sigmoid([-1,1,-3,3,10,-10])"
   ]
  },
  {
   "cell_type": "code",
   "execution_count": 30,
   "id": "e902787c-81ea-4ce3-b5df-79bcb8bed21a",
   "metadata": {},
   "outputs": [
    {
     "data": {
      "text/plain": [
       "[<matplotlib.lines.Line2D at 0x259a99c4da0>]"
      ]
     },
     "execution_count": 30,
     "metadata": {},
     "output_type": "execute_result"
    },
    {
     "data": {
      "image/png": "[encoded data removed]",
      "text/plain": [
       "<Figure size 432x288 with 1 Axes>"
      ]
     },
     "metadata": {
      "needs_background": "light"
     },
     "output_type": "display_data"
    }
   ],
   "source": [
    "x = np.arange(-5,5,0.1)\n",
    "y = sigmoid(x)\n",
    "plt.plot(x,y)"
   ]
  },
  {
   "cell_type": "markdown",
   "id": "17af862a-99f4-441a-9a33-773e4c06265e",
   "metadata": {},
   "source": [
    "### 3.2.5 계단함수와 시그모이드 함수 비교\n",
    "- 시그모이드 함수는 계단함수와 다르게 출력값이 연속형 실수이다.\n",
    "- 계단함수와 공통점으로는 0과 1사이의 값을 출력해준다는 것과 비선형 함수라는 점이다."
   ]
  },
  {
   "cell_type": "markdown",
   "id": "c6e33016-d660-4575-a1ba-dc81622806d6",
   "metadata": {},
   "source": [
    "### 3.2.6 비선형 함수"
   ]
  },
  {
   "cell_type": "markdown",
   "id": "e71b647c-245e-4a1a-8081-4ba8af82c7ae",
   "metadata": {},
   "source": [
    "- 신경망에서는 황성화 함수를 반드시 비선형 함수를 사용해야 한다.\n",
    "- 선형함수를 이용하면 신경망의 층을 깊게하는 의미가 없어지기 때문이다."
   ]
  },
  {
   "cell_type": "markdown",
   "id": "40555b68-abdd-4326-9c79-496fe9479147",
   "metadata": {},
   "source": [
    "### 3.2.7 ReLU 함수\n",
    "- 0이 넘으면 그 입력을 그대로 출력하고, 0 이하이면 0을 출력하는 함수이다."
   ]
  },
  {
   "cell_type": "code",
   "execution_count": 43,
   "id": "acce01e5-0ba5-4a14-8660-4b4d91275e8e",
   "metadata": {},
   "outputs": [],
   "source": [
    "# h(x) = x (x > 0)\n",
    "#      = 0 (x < 0)"
   ]
  },
  {
   "cell_type": "code",
   "execution_count": 44,
   "id": "09ff3422-a0af-4352-8993-1ca5105374dd",
   "metadata": {},
   "outputs": [],
   "source": [
    "def ReLU(x):\n",
    "    return np.maximum(0,x)"
   ]
  },
  {
   "cell_type": "code",
   "execution_count": 45,
   "id": "162c4623-589c-40b1-9d26-8739d05e28ea",
   "metadata": {},
   "outputs": [
    {
     "data": {
      "text/plain": [
       "array([ 0,  0,  0,  0,  1, 10, 20])"
      ]
     },
     "execution_count": 45,
     "metadata": {},
     "output_type": "execute_result"
    }
   ],
   "source": [
    "ReLU([0,-5,-10,-20,1,10,20])"
   ]
  },
  {
   "cell_type": "markdown",
   "id": "6799cd28-a3f6-4a1b-b827-afbb7bfdc4f3",
   "metadata": {},
   "source": [
    "## 3.4 3층 신경망 구현하기"
   ]
  },
  {
   "cell_type": "code",
   "execution_count": 62,
   "id": "cbb36989-e5e5-4d34-95ba-6d911eaf3254",
   "metadata": {},
   "outputs": [
    {
     "name": "stdout",
     "output_type": "stream",
     "text": [
      "(2,)\n",
      "(2, 3)\n",
      "(3,)\n",
      "[0.3 0.7 1.1]\n",
      "[0.57444 0.66819 0.75026]\n",
      "(3,)\n",
      "(3, 2)\n",
      "(2,)\n",
      "[0.62625 0.77101]\n"
     ]
    }
   ],
   "source": [
    "X = np.array([1.0, 0.5])\n",
    "W1 = np.array([[0.1, 0.3, 0.5],[0.2,0.4,0.6]])\n",
    "B1 = np.array([0.1, 0.2, 0.3])\n",
    "\n",
    "print(X.shape)\n",
    "print(W1.shape)\n",
    "print(B1.shape)\n",
    "\n",
    "A1 = np.dot(X, W1) + B1\n",
    "print(A1)\n",
    "\n",
    "Z1 = sigmoid(A1)\n",
    "print(Z1)\n",
    "\n",
    "W2 = np.array([[0.1,0.4],[0.2,0.5],[0.3,0.6]])\n",
    "B2 = np.array([0.1, 0.2])\n",
    "\n",
    "print(Z1.shape)\n",
    "print(W2.shape)\n",
    "print(B2.shape)\n",
    "\n",
    "A2 = np.dot(Z1, W2) + B2\n",
    "Z2 = sigmoid(A2)\n",
    "\n",
    "print(Z2)\n",
    "\n",
    "W3 = np.array([[0.1,0.3],[0.2,0.4]])\n",
    "B3 = np.array([0.1, 0.2])\n",
    "\n",
    "A3 = np.dot(Z2,W3) + B3\n",
    "Y = A3"
   ]
  },
  {
   "cell_type": "code",
   "execution_count": 63,
   "id": "6bbf2611-d09d-4a2a-b1a2-8315c8c2e9fa",
   "metadata": {},
   "outputs": [
    {
     "data": {
      "text/plain": [
       "array([0.31683, 0.69628])"
      ]
     },
     "execution_count": 63,
     "metadata": {},
     "output_type": "execute_result"
    }
   ],
   "source": [
    "Y"
   ]
  },
  {
   "cell_type": "markdown",
   "id": "ed4fe682-fe90-4109-aea3-9029190baf84",
   "metadata": {},
   "source": [
    "## 3.5 출력층 설계하기\n",
    "- 출력층의 활성화 함수는 풀고자하는 문제에 맞게 정해야한다.\n",
    "- 회귀에서는 항등함수를, 분류에서는 (2클래스 시그모이드, 다중 클래서 소프트 맥스)\n"
   ]
  },
  {
   "cell_type": "markdown",
   "id": "7a48b7b1-43e2-42a3-b642-41b565f0914b",
   "metadata": {},
   "source": [
    "### 3.5.1 항등 함수와 소프트맥스 함수 구현하기"
   ]
  },
  {
   "cell_type": "code",
   "execution_count": 64,
   "id": "d65f0762-128a-4b12-89c2-5e6bd871776d",
   "metadata": {},
   "outputs": [],
   "source": [
    "# Yk = exp(Ak) / exp(A1) + exp(A2) + ... + exp(An)\n",
    "# k = k번째 출력\n",
    "# A = 출력층의 활성화 함수 적용 전 수들의 배열\n",
    "# n = 출력층 뉴런의 수"
   ]
  },
  {
   "cell_type": "code",
   "execution_count": 65,
   "id": "0306f440-d764-41f3-8021-1b19393316a1",
   "metadata": {},
   "outputs": [
    {
     "name": "stdout",
     "output_type": "stream",
     "text": [
      "[ 1.34986 18.17415 54.59815]\n"
     ]
    }
   ],
   "source": [
    "a = np.array([0.3, 2.9, 4.0])\n",
    "\n",
    "exp_a = np.exp(a)\n",
    "print(exp_a)"
   ]
  },
  {
   "cell_type": "code",
   "execution_count": 67,
   "id": "e090f5e9-1889-4bf6-9c13-3ed44a886ca7",
   "metadata": {},
   "outputs": [
    {
     "name": "stdout",
     "output_type": "stream",
     "text": [
      "74.1221542101633\n"
     ]
    }
   ],
   "source": [
    "sum_exp_a = exp_a.sum()\n",
    "print(sum_exp_a)"
   ]
  },
  {
   "cell_type": "code",
   "execution_count": 68,
   "id": "cd4409ea-937a-460c-b4b3-cea53b1576ed",
   "metadata": {},
   "outputs": [
    {
     "name": "stdout",
     "output_type": "stream",
     "text": [
      "[0.01821 0.24519 0.7366 ]\n"
     ]
    }
   ],
   "source": [
    "y = exp_a / sum_exp_a\n",
    "print(y)"
   ]
  },
  {
   "cell_type": "code",
   "execution_count": 72,
   "id": "df75ff14-9e25-4f9f-a3d8-f95f0be5e922",
   "metadata": {},
   "outputs": [
    {
     "name": "stdout",
     "output_type": "stream",
     "text": [
      "[0.09003 0.24473 0.66524]\n",
      "[0.09003 0.24473 0.66524]\n"
     ]
    }
   ],
   "source": [
    "# 위 방법은 e^100이 되면 오버플로 문제를 야기할 수 있다.\n",
    "def softmax(a):\n",
    "    # 최대값을 빼준다.\n",
    "    c = np.max(a)\n",
    "    exp_a = np.exp(a-c)\n",
    "    \n",
    "    sum_exp_a = exp_a.sum()\n",
    "    return exp_a / sum_exp_a\n",
    "\n",
    "print(softmax([0,1,2]))\n",
    "print(softmax([10000,10001,10002]))"
   ]
  },
  {
   "cell_type": "markdown",
   "id": "261b8ab9-b97e-4699-bdd1-c72ff6575d41",
   "metadata": {},
   "source": [
    "- 소프트맥스 함수 또한 0~1 사이의 연속형 변수를 출력해준다. 또 출력 총합이 1이 된다.\n",
    "- 소프트맥수 함수를 적용해도 각 원소의 대소 관계는 변하지 않는다. y = exp(x) 가 단조 증가 함수이기 때문이다. \n",
    "> a 들 사이에서의 대소관계가 y에서의 대소관계와 동일하다. 현업에서는 출력층의 소프트 맥스 함수는 생략하는 것이 일반적이다.(학습 시킬 때는 사용해야함)"
   ]
  },
  {
   "cell_type": "markdown",
   "id": "41e7c8df-cc3a-4ad3-93fe-0c5adec96638",
   "metadata": {},
   "source": [
    "### 3.6 손글씨 숫자 인식"
   ]
  },
  {
   "cell_type": "markdown",
   "id": "141d1708-9efc-4cdf-8743-ed98341bc53a",
   "metadata": {},
   "source": [
    "### 3.6.1 MNIST 데이터 셋"
   ]
  },
  {
   "cell_type": "code",
   "execution_count": 89,
   "id": "dab435e9-715c-4a7e-9905-4c39cd472d0a",
   "metadata": {},
   "outputs": [
    {
     "name": "stdout",
     "output_type": "stream",
     "text": [
      "(60000, 28, 28)\n",
      "(60000,)\n",
      "(10000, 28, 28)\n",
      "(10000,)\n"
     ]
    }
   ],
   "source": [
    "from tensorflow.keras.datasets import mnist\n",
    "(x_train, y_train), (x_test, y_test) = mnist.load_data()\n",
    "print(x_train.shape)\n",
    "print(y_train.shape)\n",
    "print(x_test.shape)\n",
    "print(y_test.shape)"
   ]
  },
  {
   "cell_type": "code",
   "execution_count": 109,
   "id": "ffe8eb35-b0cd-481f-a19f-213b7d313a94",
   "metadata": {},
   "outputs": [],
   "source": [
    "from PIL import Image\n",
    "def img_show(img):\n",
    "    pil_img = Image.fromarray(np.uint8(img))\n",
    "    pil_img.show()\n",
    "    \n",
    "img_show(x_train[0])"
   ]
  },
  {
   "cell_type": "code",
   "execution_count": 142,
   "id": "9603f657-825d-4db5-8f97-fbad91bb20e1",
   "metadata": {},
   "outputs": [],
   "source": [
    "x_train = x_train.reshape(60000,28*28)\n",
    "x_test = x_test.reshape(10000,28*28)\n",
    "x_train = x_train / 255.0\n",
    "x_test = x_test / 255.0"
   ]
  },
  {
   "cell_type": "markdown",
   "id": "542c30e7-9fa6-4350-a455-5005bd0bc8d9",
   "metadata": {},
   "source": [
    "### 3.6.2 신경망의 추론 처리"
   ]
  },
  {
   "cell_type": "code",
   "execution_count": 143,
   "id": "22abc3b0-a4d3-42d1-b299-f1e7e536b029",
   "metadata": {
    "tags": []
   },
   "outputs": [],
   "source": [
    "import pickle\n",
    "def init_network():\n",
    "    with open('./data/sample_weight.pkl','rb') as f:\n",
    "        network = pickle.load(f)\n",
    "        \n",
    "    return network\n",
    "network = init_network()"
   ]
  },
  {
   "cell_type": "code",
   "execution_count": 144,
   "id": "36698ede-e69a-448b-bb7d-d34cb4c90b86",
   "metadata": {},
   "outputs": [],
   "source": [
    "def predict(network, x):\n",
    "    W1, W2, W3 = network['W1'], network['W2'], network['W3']\n",
    "    b1, b2, b3 = network['b1'], network['b2'], network['b3']\n",
    "    \n",
    "    a1 = np.dot(x,W1) + b1\n",
    "    z1 = sigmoid(a1)\n",
    "    a2 = np.dot(z1, W2) + b2\n",
    "    z2 = sigmoid(a2)\n",
    "    a3 = np.dot(z2, W3) + b3\n",
    "    y = softmax(a3)\n",
    "    \n",
    "    return y"
   ]
  },
  {
   "cell_type": "code",
   "execution_count": 145,
   "id": "2ec7f623-c736-4dc1-a8da-3685f475fda5",
   "metadata": {},
   "outputs": [
    {
     "data": {
      "text/plain": [
       "10000"
      ]
     },
     "execution_count": 145,
     "metadata": {},
     "output_type": "execute_result"
    }
   ],
   "source": [
    "len(x_test)"
   ]
  },
  {
   "cell_type": "code",
   "execution_count": 146,
   "id": "6f95481c-3505-4653-af61-db258fe9e95f",
   "metadata": {},
   "outputs": [
    {
     "data": {
      "text/plain": [
       "((10000, 784), (10000,))"
      ]
     },
     "execution_count": 146,
     "metadata": {},
     "output_type": "execute_result"
    }
   ],
   "source": [
    "x_test.shape, y_test.shape"
   ]
  },
  {
   "cell_type": "code",
   "execution_count": 151,
   "id": "15008348-5305-465c-b62a-cb140fb5c3c3",
   "metadata": {},
   "outputs": [
    {
     "name": "stdout",
     "output_type": "stream",
     "text": [
      "93.52\n"
     ]
    }
   ],
   "source": [
    "accuracy_cnt = 0\n",
    "for i in range(len(x_test)):\n",
    "    y = predict(network, x_test[i])\n",
    "    p = np.argmax(y)\n",
    "    if p == y_test[i]:\n",
    "        accuracy_cnt += 1\n",
    "print(float(accuracy_cnt) / len(x))"
   ]
  },
  {
   "cell_type": "markdown",
   "id": "3e84dfe4-506d-4087-b22d-28931b898d45",
   "metadata": {},
   "source": [
    "### 3.6.3 배치 처리\n",
    "- 배치처리는 컴퓨터로 계산할 때 이미지 1장당 처리 시간을 대폭 줄여준다.\n",
    "- 이유 1. 수치 계산 라이브러리 대부분이 큰 배열을 효율적으로 처리할 수 있도록 최적화 되어 있다.\n",
    "- 이유 2. 커다란 신경망에서 데이터 전송이 병목으로 작용하는 경우가 자주 있는데, 이러한 부하를 줄일 수 있다."
   ]
  },
  {
   "cell_type": "code",
   "execution_count": 152,
   "id": "23ad283f-46a0-4f55-8d2d-e512c2d067bc",
   "metadata": {},
   "outputs": [
    {
     "name": "stdout",
     "output_type": "stream",
     "text": [
      "0.9352\n"
     ]
    }
   ],
   "source": [
    "batch_size = 100\n",
    "accuracy = 0\n",
    "for i in range(0, len(x_test), batch_size):\n",
    "    x_batch = x_test[i:i+batch_size]\n",
    "    y_batch = predict(network, x_batch)\n",
    "    p = np.argmax(y_batch, axis = 1)\n",
    "    accuracy += np.sum(p == y_test[i : i + batch_size])\n",
    "\n",
    "print(accuracy / len(x_test))"
   ]
  },
  {
   "cell_type": "code",
   "execution_count": null,
   "id": "069f5fec-7f35-46ea-b795-947a9d5b4c5f",
   "metadata": {},
   "outputs": [],
   "source": []
  }
 ],
 "metadata": {
  "kernelspec": {
   "display_name": "Python 3",
   "language": "python",
   "name": "python3"
  },
  "language_info": {
   "codemirror_mode": {
    "name": "ipython",
    "version": 3
   },
   "file_extension": ".py",
   "mimetype": "text/x-python",
   "name": "python",
   "nbconvert_exporter": "python",
   "pygments_lexer": "ipython3",
   "version": "3.8.8"
  }
 },
 "nbformat": 4,
 "nbformat_minor": 5
}
