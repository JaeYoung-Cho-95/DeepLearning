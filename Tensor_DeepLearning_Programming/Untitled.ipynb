{
 "cells": [
  {
   "cell_type": "code",
   "execution_count": 110,
   "id": "1271e077-274a-4c77-806d-4f805e775529",
   "metadata": {},
   "outputs": [],
   "source": [
    "import numpy as np\n",
    "import matplotlib.pyplot as plt\n",
    "from tensorflow.keras.preprocessing import image\n",
    "import os\n",
    "\n",
    "import xml.etree.ElementTree as ET\n",
    "import cv2\n",
    "\n",
    "import tensorflow as tf\n",
    "from tensorflow.keras.layers import Input, Dense, Flatten\n",
    "from tensorflow.keras.layers import Conv2D, BatchNormalization, MaxPool2D, Dropout, MaxPooling2D\n",
    "from tensorflow.keras.optimizers import Adam"
   ]
  },
  {
   "cell_type": "code",
   "execution_count": 111,
   "id": "76bf80ed-0b04-48c7-8499-a6c10cdd80a2",
   "metadata": {},
   "outputs": [],
   "source": [
    "def getBB(file_path):\n",
    "    try:\n",
    "        tree = ET.parse(file_path)\n",
    "    except FileNotFoundError:\n",
    "        return None\n",
    "    root = tree.getroot()\n",
    "    ob = root.find('object')\n",
    "    bndbox = ob.find('bndbox')\n",
    "    xmin = bndbox.find('xmin').text\n",
    "    xmax = bndbox.find('xmax').text\n",
    "    ymin = bndbox.find('ymin').text\n",
    "    ymax = bndbox.find('ymax').text\n",
    "    \n",
    "    return [int(xmin), int(ymin), int(xmax), int(ymax)]"
   ]
  },
  {
   "cell_type": "code",
   "execution_count": 112,
   "id": "323acb96-9f6e-4fc9-857e-775f2ef7a6a4",
   "metadata": {},
   "outputs": [],
   "source": [
    "def load_oxford_pets_3(target_size = (224,224)):\n",
    "    input_file = './annotations/list.txt'\n",
    "    file = open(input_file)\n",
    "    list_txt = file.readlines()\n",
    "    file.close()\n",
    "    list_txt = list_txt[6:]\n",
    "    np.random.shuffle(list_txt)\n",
    "        \n",
    "    train_dataset = {'name':[], 'label':[], 'image':[],'box':[]}\n",
    "    test_dataset = {'name':[], 'label':[],'image':[]}\n",
    "    \n",
    "    for line in list_txt:\n",
    "        image_name, class_id, species, breed_id = line.split()\n",
    "        image_file = './images/images/' + image_name + '.jpg'\n",
    "        box_file = './annotations/xmls/' + image_name + '.xml'\n",
    "        \n",
    "        if not os.path.exists(image_file):\n",
    "            continue\n",
    "        \n",
    "        img = image.load_img(image_file)\n",
    "        sx = target_size[0] / img.width\n",
    "        sy = target_size[1] / img.height\n",
    "        \n",
    "        img = img.resize(size = target_size)\n",
    "        img = image.img_to_array(img)\n",
    "        \n",
    "        if os.path.exists(box_file):\n",
    "            box = getBB(box_file)\n",
    "        \n",
    "            box[0] = round(box[0] * sx)\n",
    "            box[1] = round(box[1] * sy)\n",
    "            box[2] = round(box[2] * sx)\n",
    "            box[3] = round(box[3] * sy)\n",
    "            \n",
    "            train_dataset['box'].append(box)\n",
    "            train_dataset['name'].append(image_name)\n",
    "            train_dataset['label'].append(int(species)-1)\n",
    "            train_dataset['image'].append(img)\n",
    "        \n",
    "        else:\n",
    "            test_dataset['name'].append(image_name)\n",
    "            test_dataset['label'].append(int(species)-1)\n",
    "            test_dataset['image'].append(img)\n",
    "    \n",
    "    train_dataset['image'] = np.array(train_dataset['image'])\n",
    "    train_dataset['box'] = np.array(train_dataset['box'])\n",
    "    train_dataset['label'] = np.array(train_dataset['label'])\n",
    "    train_dataset['name'] = np.array(train_dataset['name'])\n",
    "    \n",
    "    test_dataset['image'] = np.array(test_dataset['image'])\n",
    "    test_dataset['label'] = np.array(test_dataset['label'])\n",
    "    test_dataset['name'] = np.array(test_dataset['name'])\n",
    "    \n",
    "    return train_dataset, test_dataset"
   ]
  },
  {
   "cell_type": "code",
   "execution_count": 113,
   "id": "2ee4ec1a-d4be-4062-9d69-da61369db733",
   "metadata": {},
   "outputs": [],
   "source": [
    "train_dataset, test_dataset = load_oxford_pets_3()"
   ]
  },
  {
   "cell_type": "code",
   "execution_count": 115,
   "id": "cc56c0a1-45c3-4a05-a324-77462abe07a4",
   "metadata": {},
   "outputs": [],
   "source": [
    "x_train = train_dataset['image'] / 255.0\n",
    "y_train = train_dataset['box'] / x_train.shape[1]\n",
    "x_test = test_dataset['image'] / 255.0"
   ]
  },
  {
   "cell_type": "code",
   "execution_count": 116,
   "id": "26d0bb8e-2c68-4a58-b2e5-eb13d020fbee",
   "metadata": {},
   "outputs": [],
   "source": [
    "def IOU(y_true, y_pred):\n",
    "    b1_xmin, b1_ymin, b1_xmax, b1_ymax = tf.unstack(y_true, 4, axis = -1)\n",
    "    b2_xmin, b2_ymin, b2_xmax, b2_ymax = tf.unstack(y_pred, 4, axis = -1)\n",
    "\n",
    "    zero = tf.convert_to_tensor(0.0, y_true.dtype)\n",
    "    b1_width = tf.maximum(zero, b1_xmax - b1_xmin)\n",
    "    b1_height = tf.maximum(zero, b1_ymax - b1_ymin)\n",
    "    b2_width = tf.maximum(zero, b2_xmax - b2_xmin)\n",
    "    b2_height = tf.maximum(zero, b2_ymax - b2_ymin)\n",
    "    \n",
    "    b1_area = b1_width * b1_height\n",
    "    b2_area = b2_width * b2_height\n",
    "    \n",
    "    intersect_ymin = tf.maximum(b1_ymin, b2_ymin)\n",
    "    intersect_xmin = tf.maximum(b1_xmin, b2_xmin)\n",
    "    intersect_ymax = tf.minimum(b1_ymax, b2_ymax)\n",
    "    intersect_xmax = tf.minimum(b1_xmax, b2_xmax)\n",
    "    \n",
    "    intersect_width = tf.maximum(zero, intersect_xmax - intersect_xmin)\n",
    "    intersect_height = tf.maximum(zero, intersect_ymax - intersect_ymin)\n",
    "    intersect_area = intersect_width * intersect_height\n",
    "    \n",
    "    union_area = b1_area + b2_area - intersect_area\n",
    "    iou = intersect_area / union_area\n",
    "    \n",
    "    return iou"
   ]
  },
  {
   "cell_type": "code",
   "execution_count": 117,
   "id": "617fecb5-b05c-4ca6-82a1-dca2ec554e6c",
   "metadata": {},
   "outputs": [],
   "source": [
    "def creat_cnn2d(input_shape , num_units = 4):\n",
    "    inputs = Input(shape = input_shape)\n",
    "    x = Conv2D(filters = 16, kernel_size=(3,3), activation='relu')(inputs)\n",
    "    x = BatchNormalization()(x)\n",
    "    x = MaxPool2D()(x)\n",
    "    \n",
    "    x = Conv2D(filters = 32, kernel_size=(3,3), activation='relu')(x)\n",
    "    x = BatchNormalization()(x)\n",
    "    x = MaxPool2D()(x)\n",
    "    x = Dropout(rate=0.2)(x)\n",
    "    \n",
    "    x = Conv2D(filters = 32, kernel_size=(3,3), activation='relu')(x)\n",
    "    x = BatchNormalization()(x)\n",
    "    x = MaxPool2D()(x)\n",
    "    x = Dropout(rate = 0.2)(x)\n",
    "    \n",
    "    x = Flatten()(x)\n",
    "    x = Dense(128, activation='relu')(x)\n",
    "    x = BatchNormalization()(x)\n",
    "    x = Dropout(rate=0.2)(x)\n",
    "    \n",
    "    outputs = Dense(units=num_units, activation='sigmoid')(x)\n",
    "    model = tf.keras.Model(inputs = inputs, outputs = outputs)\n",
    "    \n",
    "    return model"
   ]
  },
  {
   "cell_type": "code",
   "execution_count": 118,
   "id": "8f995c6a-0f04-4648-93e5-85bcc5be7f22",
   "metadata": {},
   "outputs": [
    {
     "name": "stdout",
     "output_type": "stream",
     "text": [
      "Model: \"model_1\"\n",
      "_________________________________________________________________\n",
      "Layer (type)                 Output Shape              Param #   \n",
      "=================================================================\n",
      "input_3 (InputLayer)         [(None, 224, 224, 3)]     0         \n",
      "_________________________________________________________________\n",
      "conv2d_6 (Conv2D)            (None, 222, 222, 16)      448       \n",
      "_________________________________________________________________\n",
      "batch_normalization_8 (Batch (None, 222, 222, 16)      64        \n",
      "_________________________________________________________________\n",
      "max_pooling2d_6 (MaxPooling2 (None, 111, 111, 16)      0         \n",
      "_________________________________________________________________\n",
      "conv2d_7 (Conv2D)            (None, 109, 109, 32)      4640      \n",
      "_________________________________________________________________\n",
      "batch_normalization_9 (Batch (None, 109, 109, 32)      128       \n",
      "_________________________________________________________________\n",
      "max_pooling2d_7 (MaxPooling2 (None, 54, 54, 32)        0         \n",
      "_________________________________________________________________\n",
      "dropout_6 (Dropout)          (None, 54, 54, 32)        0         \n",
      "_________________________________________________________________\n",
      "conv2d_8 (Conv2D)            (None, 52, 52, 32)        9248      \n",
      "_________________________________________________________________\n",
      "batch_normalization_10 (Batc (None, 52, 52, 32)        128       \n",
      "_________________________________________________________________\n",
      "max_pooling2d_8 (MaxPooling2 (None, 26, 26, 32)        0         \n",
      "_________________________________________________________________\n",
      "dropout_7 (Dropout)          (None, 26, 26, 32)        0         \n",
      "_________________________________________________________________\n",
      "flatten_2 (Flatten)          (None, 21632)             0         \n",
      "_________________________________________________________________\n",
      "dense_4 (Dense)              (None, 128)               2769024   \n",
      "_________________________________________________________________\n",
      "batch_normalization_11 (Batc (None, 128)               512       \n",
      "_________________________________________________________________\n",
      "dropout_8 (Dropout)          (None, 128)               0         \n",
      "_________________________________________________________________\n",
      "dense_5 (Dense)              (None, 4)                 516       \n",
      "=================================================================\n",
      "Total params: 2,784,708\n",
      "Trainable params: 2,784,292\n",
      "Non-trainable params: 416\n",
      "_________________________________________________________________\n"
     ]
    }
   ],
   "source": [
    "model = creat_cnn2d(input_shape=x_train.shape[1:])\n",
    "model.summary()"
   ]
  },
  {
   "cell_type": "code",
   "execution_count": 127,
   "id": "8704fa68-b0cc-4d5c-bea4-570219f265c1",
   "metadata": {},
   "outputs": [
    {
     "name": "stdout",
     "output_type": "stream",
     "text": [
      "Train on 3671 samples\n",
      "Epoch 1/20\n",
      "3671/3671 [==============================] - 89s 24ms/sample - loss: 0.0793 - IOU: 0.0826\n",
      "Epoch 2/20\n",
      "3671/3671 [==============================] - 87s 24ms/sample - loss: 0.0439 - IOU: 0.1678\n",
      "Epoch 3/20\n",
      "3671/3671 [==============================] - 87s 24ms/sample - loss: 0.0316 - IOU: 0.2809\n",
      "Epoch 4/20\n",
      "3671/3671 [==============================] - 86s 23ms/sample - loss: 0.0213 - IOU: 0.3542\n",
      "Epoch 5/20\n",
      "3671/3671 [==============================] - 86s 23ms/sample - loss: 0.0172 - IOU: 0.4021\n",
      "Epoch 6/20\n",
      "3671/3671 [==============================] - 86s 23ms/sample - loss: 0.0146 - IOU: 0.4294\n",
      "Epoch 7/20\n",
      "3671/3671 [==============================] - 86s 23ms/sample - loss: 0.0134 - IOU: 0.4479\n",
      "Epoch 8/20\n",
      "3671/3671 [==============================] - 86s 23ms/sample - loss: 0.0120 - IOU: 0.4572\n",
      "Epoch 9/20\n",
      "3671/3671 [==============================] - 86s 23ms/sample - loss: 0.0109 - IOU: 0.4706\n",
      "Epoch 10/20\n",
      "3671/3671 [==============================] - 87s 24ms/sample - loss: 0.0099 - IOU: 0.4864\n",
      "Epoch 11/20\n",
      "3671/3671 [==============================] - 86s 23ms/sample - loss: 0.0093 - IOU: 0.4940\n",
      "Epoch 12/20\n",
      "3671/3671 [==============================] - 88s 24ms/sample - loss: 0.0086 - IOU: 0.5026\n",
      "Epoch 13/20\n",
      "3671/3671 [==============================] - 88s 24ms/sample - loss: 0.0125 - IOU: 0.4741\n",
      "Epoch 14/20\n",
      "3671/3671 [==============================] - 87s 24ms/sample - loss: 0.0133 - IOU: 0.4478\n",
      "Epoch 15/20\n",
      "3671/3671 [==============================] - 87s 24ms/sample - loss: 0.0096 - IOU: 0.4930\n",
      "Epoch 16/20\n",
      "3671/3671 [==============================] - 87s 24ms/sample - loss: 0.0083 - IOU: 0.5092\n",
      "Epoch 17/20\n",
      "3671/3671 [==============================] - 86s 24ms/sample - loss: 0.0073 - IOU: 0.5315\n",
      "Epoch 18/20\n",
      "3671/3671 [==============================] - 85s 23ms/sample - loss: 0.0067 - IOU: 0.5409\n",
      "Epoch 19/20\n",
      "3671/3671 [==============================] - 85s 23ms/sample - loss: 0.0060 - IOU: 0.5568\n",
      "Epoch 20/20\n",
      "3671/3671 [==============================] - 85s 23ms/sample - loss: 0.0059 - IOU: 0.5602\n"
     ]
    },
    {
     "data": {
      "text/plain": [
       "<tensorflow.python.keras.callbacks.History at 0x2dc8204cfd0>"
      ]
     },
     "execution_count": 127,
     "metadata": {},
     "output_type": "execute_result"
    }
   ],
   "source": [
    "opt = Adam()\n",
    "model.compile(optimizer=opt, loss='mse', metrics=[IOU])\n",
    "model.fit(x_train, y_train, epochs=20, batch_size = 128, verbose = 1)"
   ]
  },
  {
   "cell_type": "code",
   "execution_count": 42,
   "id": "01289237-9deb-4379-960a-1b51a92efc64",
   "metadata": {
    "tags": []
   },
   "outputs": [
    {
     "name": "stdout",
     "output_type": "stream",
     "text": [
      "3671/1 - 7s - loss: 0.1446 - IOU: 0.0877\n"
     ]
    },
    {
     "data": {
      "text/plain": [
       "[0.15923425983876047, 0.08770043]"
      ]
     },
     "execution_count": 42,
     "metadata": {},
     "output_type": "execute_result"
    }
   ],
   "source": [
    "model.evaluate(x_train, y_train, verbose=2)"
   ]
  },
  {
   "cell_type": "code",
   "execution_count": 43,
   "id": "32444b61-88ae-4c8d-a700-045ea6f94fa4",
   "metadata": {},
   "outputs": [],
   "source": [
    "k = 8\n",
    "train_box = model.predict(x_train[:k])\n",
    "test_box = model.predict(x_test[:k])"
   ]
  },
  {
   "cell_type": "code",
   "execution_count": 44,
   "id": "0b869fef-d369-4c51-9c8a-0d951132b6c0",
   "metadata": {},
   "outputs": [
    {
     "data": {
      "text/plain": [
       "array([[2.0393729e-04, 9.9998629e-01, 4.4068098e-03, 2.4878979e-04],\n",
       "       [1.9715995e-02, 0.0000000e+00, 8.8928497e-01, 1.4221370e-03],\n",
       "       [0.0000000e+00, 0.0000000e+00, 9.9999899e-01, 9.7234720e-01],\n",
       "       [1.3509393e-04, 2.9802322e-08, 2.6583672e-05, 9.7205961e-01],\n",
       "       [6.6113472e-01, 1.9162893e-04, 0.0000000e+00, 1.8377930e-02],\n",
       "       [1.9371510e-06, 0.0000000e+00, 5.1922947e-02, 3.7900895e-01],\n",
       "       [5.2821934e-03, 5.1552057e-04, 4.2596978e-01, 8.8040102e-01],\n",
       "       [1.1540949e-03, 0.0000000e+00, 7.4701631e-01, 6.6032773e-01]],\n",
       "      dtype=float32)"
      ]
     },
     "execution_count": 44,
     "metadata": {},
     "output_type": "execute_result"
    }
   ],
   "source": [
    "train_box"
   ]
  },
  {
   "cell_type": "code",
   "execution_count": null,
   "id": "21569051-9e10-414c-85ee-541990d9b605",
   "metadata": {},
   "outputs": [],
   "source": []
  }
 ],
 "metadata": {
  "kernelspec": {
   "display_name": "Python 3 (ipykernel)",
   "language": "python",
   "name": "python3"
  },
  "language_info": {
   "codemirror_mode": {
    "name": "ipython",
    "version": 3
   },
   "file_extension": ".py",
   "mimetype": "text/x-python",
   "name": "python",
   "nbconvert_exporter": "python",
   "pygments_lexer": "ipython3",
   "version": "3.7.1"
  }
 },
 "nbformat": 4,
 "nbformat_minor": 5
}
