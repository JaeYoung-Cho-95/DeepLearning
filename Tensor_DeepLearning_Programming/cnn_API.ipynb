{
 "cells": [
  {
   "cell_type": "markdown",
   "id": "9934aea9-fa64-430d-aca4-dd41290e9146",
   "metadata": {},
   "source": [
    "## 1차원 conv"
   ]
  },
  {
   "cell_type": "code",
   "execution_count": 50,
   "id": "49f9e588-789e-4b38-a161-b925fb2eba4c",
   "metadata": {},
   "outputs": [],
   "source": [
    "import tensorflow as tf\n",
    "from sklearn.datasets import load_iris\n",
    "data = load_iris()"
   ]
  },
  {
   "cell_type": "code",
   "execution_count": 51,
   "id": "abfef955-8876-45a2-9cee-d540a06b88d8",
   "metadata": {},
   "outputs": [],
   "source": [
    "x = data['data']\n",
    "y = data['target']"
   ]
  },
  {
   "cell_type": "code",
   "execution_count": 58,
   "id": "4af2a127-b83c-421f-8f99-ed24fe2548f5",
   "metadata": {},
   "outputs": [],
   "source": [
    "from tensorflow.keras.models import Model\n",
    "from tensorflow.keras.layers import Conv1D, Dense, Flatten, Input\n",
    "from tensorflow.keras.utils import to_categorical"
   ]
  },
  {
   "cell_type": "code",
   "execution_count": 53,
   "id": "ccd530b4-8046-42aa-bc33-e6db62b16bec",
   "metadata": {},
   "outputs": [],
   "source": [
    "from sklearn.preprocessing import StandardScaler\n",
    "std = StandardScaler()\n",
    "std.fit(x)\n",
    "x_std = std.transform(x)"
   ]
  },
  {
   "cell_type": "code",
   "execution_count": 54,
   "id": "1db8503f-cfb3-4fab-8fac-75ef1910e343",
   "metadata": {},
   "outputs": [],
   "source": [
    "y_categorical = to_categorical(y)"
   ]
  },
  {
   "cell_type": "code",
   "execution_count": 55,
   "id": "f2a2eb37-d335-4a60-a473-fc4b5612943d",
   "metadata": {},
   "outputs": [],
   "source": [
    "from sklearn.model_selection import train_test_split\n",
    "x_train, x_test, y_train, y_test = train_test_split(x_std, y_categorical, test_size = 0.2, random_state = 42, shuffle = True)"
   ]
  },
  {
   "cell_type": "code",
   "execution_count": 56,
   "id": "228394ba-e8c0-41c5-baad-34da1c9af3e9",
   "metadata": {},
   "outputs": [],
   "source": [
    "x_train = x_train.reshape(120,4,1)\n",
    "x_test = x_test.reshape(30,4,1)"
   ]
  },
  {
   "cell_type": "code",
   "execution_count": 59,
   "id": "fe3d8d28-bd1f-4039-8198-4af8c89ba721",
   "metadata": {},
   "outputs": [
    {
     "name": "stdout",
     "output_type": "stream",
     "text": [
      "Model: \"model\"\n",
      "_________________________________________________________________\n",
      "Layer (type)                 Output Shape              Param #   \n",
      "=================================================================\n",
      "input_1 (InputLayer)         [(None, 4, 1)]            0         \n",
      "_________________________________________________________________\n",
      "conv1d (Conv1D)              (None, 1, 10)             50        \n",
      "_________________________________________________________________\n",
      "dense (Dense)                (None, 1, 3)              33        \n",
      "_________________________________________________________________\n",
      "flatten (Flatten)            (None, 3)                 0         \n",
      "=================================================================\n",
      "Total params: 83\n",
      "Trainable params: 83\n",
      "Non-trainable params: 0\n",
      "_________________________________________________________________\n"
     ]
    }
   ],
   "source": [
    "def create_cnn1d(input_shape, num_class = 3):\n",
    "    inputs = Input(shape = input_shape)\n",
    "    x = Conv1D(filters = 10, kernel_size = 4, activation = 'sigmoid')(inputs)\n",
    "    x = Dense(units = num_class, activation = 'softmax')(x)\n",
    "    outputs = Flatten()(x)\n",
    "    model = Model(inputs = inputs, outputs = outputs)\n",
    "    \n",
    "    return model\n",
    "model = create_cnn1d(input_shape = (4,1))\n",
    "model.summary()"
   ]
  },
  {
   "cell_type": "code",
   "execution_count": 60,
   "id": "137ca5fe-7346-4f22-bc40-2af1b4deba35",
   "metadata": {},
   "outputs": [],
   "source": [
    "from tensorflow.keras.optimizers import RMSprop\n",
    "rms = RMSprop(learning_rate=0.01)\n",
    "model.compile(optimizer=rms, loss = 'categorical_crossentropy', metrics = ['accuracy'])"
   ]
  },
  {
   "cell_type": "code",
   "execution_count": 63,
   "id": "3ddc99bc-8841-41c3-9d47-6a5af586aafb",
   "metadata": {},
   "outputs": [
    {
     "name": "stdout",
     "output_type": "stream",
     "text": [
      "Epoch 1/10\n",
      "120/120 - 0s - loss: 0.0788 - accuracy: 0.9667\n",
      "Epoch 2/10\n",
      "120/120 - 0s - loss: 0.0731 - accuracy: 0.9667\n",
      "Epoch 3/10\n",
      "120/120 - 0s - loss: 0.0776 - accuracy: 0.9750\n",
      "Epoch 4/10\n",
      "120/120 - 0s - loss: 0.0751 - accuracy: 0.9667\n",
      "Epoch 5/10\n",
      "120/120 - 0s - loss: 0.0716 - accuracy: 0.9667\n",
      "Epoch 6/10\n",
      "120/120 - 0s - loss: 0.0554 - accuracy: 0.9750\n",
      "Epoch 7/10\n",
      "120/120 - 0s - loss: 0.0777 - accuracy: 0.9667\n",
      "Epoch 8/10\n",
      "120/120 - 0s - loss: 0.0666 - accuracy: 0.9667\n",
      "Epoch 9/10\n",
      "120/120 - 0s - loss: 0.0617 - accuracy: 0.9667\n",
      "Epoch 10/10\n",
      "120/120 - 0s - loss: 0.0694 - accuracy: 0.9750\n"
     ]
    },
    {
     "data": {
      "text/plain": [
       "<tensorflow.python.keras.callbacks.History at 0x1f65cd61b70>"
      ]
     },
     "execution_count": 63,
     "metadata": {},
     "output_type": "execute_result"
    }
   ],
   "source": [
    "from tensorflow.keras.callbacks import TensorBoard\n",
    "import os\n",
    "if not os.path.isdir('./log/20210927_1/'):\n",
    "    os.mkdir('./log/20210927_1/')\n",
    "tensorboard = TensorBoard(log_dir = './log/20210927_1/')\n",
    "\n",
    "model.fit(x_train, y_train, epochs=10, batch_size = 1, callbacks=[tensorboard], verbose = 2)"
   ]
  },
  {
   "cell_type": "code",
   "execution_count": 64,
   "id": "2a8abaab-6575-41d8-b4e9-f600c83e18a7",
   "metadata": {},
   "outputs": [
    {
     "name": "stdout",
     "output_type": "stream",
     "text": [
      "1/1 [==============================] - 0s 253ms/step - loss: 0.0528 - accuracy: 0.9667\n"
     ]
    },
    {
     "data": {
      "text/plain": [
       "[0.052771423012018204, 0.9666666388511658]"
      ]
     },
     "execution_count": 64,
     "metadata": {},
     "output_type": "execute_result"
    }
   ],
   "source": [
    "model.evaluate(x_test, y_test)"
   ]
  },
  {
   "cell_type": "code",
   "execution_count": null,
   "id": "48ae4247-5d5c-430f-b2d6-7ecace4aa8a7",
   "metadata": {},
   "outputs": [],
   "source": []
  },
  {
   "cell_type": "code",
   "execution_count": null,
   "id": "cd2e40ea-b4bf-46cd-a64e-2b26dc1ea863",
   "metadata": {},
   "outputs": [],
   "source": []
  },
  {
   "cell_type": "code",
   "execution_count": null,
   "id": "613fd5cf-7556-469c-a880-bbf4faa23e21",
   "metadata": {},
   "outputs": [],
   "source": []
  },
  {
   "cell_type": "markdown",
   "id": "c041204c-8c3d-4781-9717-42ce7e7ea1c0",
   "metadata": {},
   "source": [
    "# mnist conv"
   ]
  },
  {
   "cell_type": "code",
   "execution_count": 1,
   "id": "3de9f06c-8680-47da-af67-ecf2a5fe437a",
   "metadata": {},
   "outputs": [],
   "source": [
    "from tensorflow.keras.datasets import mnist\n",
    "(x_train, y_train), (x_test, y_test) = mnist.load_data()\n",
    "x_train = x_train.astype('float32')\n",
    "x_test = x_test.astype('float32')\n",
    "\n",
    "x_train = x_train / 255.0\n",
    "x_test = x_test / 255.0\n",
    "\n",
    "x_train = x_train.reshape(-1,28,28,1)\n",
    "x_test = x_test.reshape(-1,28,28,1)\n",
    "\n",
    "from tensorflow.keras.utils import to_categorical\n",
    "y_train = to_categorical(y_train)\n",
    "y_test = to_categorical(y_test)"
   ]
  },
  {
   "cell_type": "code",
   "execution_count": 2,
   "id": "4846bc89-b2f2-4863-9d19-dede87ec77e1",
   "metadata": {},
   "outputs": [],
   "source": [
    "from tensorflow.keras.models import Model\n",
    "from tensorflow.keras.layers import Flatten, Conv2D, Dense, MaxPool2D, BatchNormalization, Dropout, Input\n",
    "from tensorflow.keras.optimizers import RMSprop, Adam"
   ]
  },
  {
   "cell_type": "code",
   "execution_count": 3,
   "id": "c865e17b-7373-476c-bdf8-efabf4a8469f",
   "metadata": {},
   "outputs": [
    {
     "name": "stdout",
     "output_type": "stream",
     "text": [
      "Model: \"model\"\n",
      "_________________________________________________________________\n",
      "Layer (type)                 Output Shape              Param #   \n",
      "=================================================================\n",
      "input_1 (InputLayer)         [(None, 28, 28, 1)]       0         \n",
      "_________________________________________________________________\n",
      "conv2d_1 (Conv2D)            (None, 26, 26, 32)        320       \n",
      "_________________________________________________________________\n",
      "max_pooling2d_1 (MaxPooling2 (None, 13, 13, 32)        0         \n",
      "_________________________________________________________________\n",
      "dropout (Dropout)            (None, 13, 13, 32)        0         \n",
      "_________________________________________________________________\n",
      "flatten (Flatten)            (None, 5408)              0         \n",
      "_________________________________________________________________\n",
      "dense (Dense)                (None, 10)                54090     \n",
      "=================================================================\n",
      "Total params: 54,410\n",
      "Trainable params: 54,410\n",
      "Non-trainable params: 0\n",
      "_________________________________________________________________\n"
     ]
    }
   ],
   "source": [
    "def mnist_conv(input_shape = (28,28,1), target_class = 10):\n",
    "    inputs = Input(shape = input_shape)\n",
    "    x = Conv2D(filters = 16, kernel_size = (3,3), strides = (1,1), padding = 'valid', activation = 'relu')(inputs)\n",
    "    x = BatchNormalization()(x)\n",
    "    x = MaxPool2D()(x)\n",
    "    \n",
    "    x = Conv2D(filters = 32, kernel_size = (3,3), strides = (1,1), padding = 'valid', activation = 'relu')(inputs)\n",
    "    x = MaxPool2D()(x)\n",
    "    x = Dropout(rate = 0.2)(x)\n",
    "    \n",
    "    x = Flatten()(x)\n",
    "    outputs = Dense(units = target_class, activation = 'softmax')(x)\n",
    "    \n",
    "    model = Model(inputs = inputs, outputs = outputs)\n",
    "    \n",
    "    return model\n",
    "\n",
    "mnist_huhu = mnist_conv(input_shape = (28,28,1), target_class=10)\n",
    "mnist_huhu.summary()"
   ]
  },
  {
   "cell_type": "code",
   "execution_count": 4,
   "id": "046a1fda-936a-45e9-b942-bfb6e8e3cd55",
   "metadata": {},
   "outputs": [
    {
     "data": {
      "text/plain": [
       "(60000, 28, 28, 1)"
      ]
     },
     "execution_count": 4,
     "metadata": {},
     "output_type": "execute_result"
    }
   ],
   "source": [
    "x_train.shape"
   ]
  },
  {
   "cell_type": "code",
   "execution_count": 5,
   "id": "95bfcea3-c24a-457a-8b64-0d9d717cb36f",
   "metadata": {},
   "outputs": [
    {
     "data": {
      "text/plain": [
       "(10000, 28, 28, 1)"
      ]
     },
     "execution_count": 5,
     "metadata": {},
     "output_type": "execute_result"
    }
   ],
   "source": [
    "x_test.shape"
   ]
  },
  {
   "cell_type": "code",
   "execution_count": 8,
   "id": "40a78efc-f40c-41d1-bdf0-a1fc1253fcc6",
   "metadata": {
    "collapsed": true,
    "jupyter": {
     "outputs_hidden": true
    },
    "tags": []
   },
   "outputs": [
    {
     "name": "stdout",
     "output_type": "stream",
     "text": [
      "Epoch 1/200\n",
      "240/240 - 3s - loss: 0.2124 - accuracy: 0.9341 - val_loss: 0.0824 - val_accuracy: 0.9773\n",
      "Epoch 2/200\n",
      "240/240 - 1s - loss: 0.0770 - accuracy: 0.9764 - val_loss: 0.0723 - val_accuracy: 0.9790\n",
      "Epoch 3/200\n",
      "240/240 - 1s - loss: 0.0595 - accuracy: 0.9815 - val_loss: 0.0852 - val_accuracy: 0.9743\n",
      "Epoch 4/200\n",
      "240/240 - 1s - loss: 0.0486 - accuracy: 0.9849 - val_loss: 0.0698 - val_accuracy: 0.9799\n",
      "Epoch 5/200\n",
      "240/240 - 1s - loss: 0.0426 - accuracy: 0.9872 - val_loss: 0.0657 - val_accuracy: 0.9807\n",
      "Epoch 6/200\n",
      "240/240 - 1s - loss: 0.0392 - accuracy: 0.9879 - val_loss: 0.0677 - val_accuracy: 0.9822\n",
      "Epoch 7/200\n",
      "240/240 - 1s - loss: 0.0366 - accuracy: 0.9892 - val_loss: 0.0712 - val_accuracy: 0.9820\n",
      "Epoch 8/200\n",
      "240/240 - 1s - loss: 0.0322 - accuracy: 0.9903 - val_loss: 0.0737 - val_accuracy: 0.9822\n",
      "Epoch 9/200\n",
      "240/240 - 1s - loss: 0.0305 - accuracy: 0.9905 - val_loss: 0.0791 - val_accuracy: 0.9822\n",
      "Epoch 10/200\n",
      "240/240 - 1s - loss: 0.0280 - accuracy: 0.9913 - val_loss: 0.0771 - val_accuracy: 0.9835\n",
      "Epoch 11/200\n",
      "240/240 - 1s - loss: 0.0264 - accuracy: 0.9914 - val_loss: 0.0772 - val_accuracy: 0.9820\n",
      "Epoch 12/200\n",
      "240/240 - 1s - loss: 0.0230 - accuracy: 0.9927 - val_loss: 0.0800 - val_accuracy: 0.9837\n",
      "Epoch 13/200\n",
      "240/240 - 1s - loss: 0.0226 - accuracy: 0.9930 - val_loss: 0.0834 - val_accuracy: 0.9833\n",
      "Epoch 14/200\n",
      "240/240 - 1s - loss: 0.0215 - accuracy: 0.9929 - val_loss: 0.0831 - val_accuracy: 0.9834\n",
      "Epoch 15/200\n",
      "240/240 - 1s - loss: 0.0196 - accuracy: 0.9937 - val_loss: 0.0848 - val_accuracy: 0.9834\n",
      "Epoch 16/200\n",
      "240/240 - 1s - loss: 0.0203 - accuracy: 0.9942 - val_loss: 0.0880 - val_accuracy: 0.9837\n",
      "Epoch 17/200\n",
      "240/240 - 1s - loss: 0.0188 - accuracy: 0.9940 - val_loss: 0.0944 - val_accuracy: 0.9837\n",
      "Epoch 18/200\n",
      "240/240 - 1s - loss: 0.0196 - accuracy: 0.9935 - val_loss: 0.0989 - val_accuracy: 0.9833\n",
      "Epoch 19/200\n",
      "240/240 - 1s - loss: 0.0176 - accuracy: 0.9940 - val_loss: 0.1048 - val_accuracy: 0.9835\n",
      "Epoch 20/200\n",
      "240/240 - 1s - loss: 0.0169 - accuracy: 0.9948 - val_loss: 0.1000 - val_accuracy: 0.9821\n",
      "Epoch 21/200\n",
      "240/240 - 1s - loss: 0.0174 - accuracy: 0.9944 - val_loss: 0.1037 - val_accuracy: 0.9823\n",
      "Epoch 22/200\n",
      "240/240 - 1s - loss: 0.0163 - accuracy: 0.9951 - val_loss: 0.0941 - val_accuracy: 0.9843\n",
      "Epoch 23/200\n",
      "240/240 - 1s - loss: 0.0159 - accuracy: 0.9952 - val_loss: 0.1141 - val_accuracy: 0.9827\n",
      "Epoch 24/200\n",
      "240/240 - 1s - loss: 0.0151 - accuracy: 0.9954 - val_loss: 0.1080 - val_accuracy: 0.9839\n",
      "Epoch 25/200\n",
      "240/240 - 1s - loss: 0.0128 - accuracy: 0.9961 - val_loss: 0.1131 - val_accuracy: 0.9845\n",
      "Epoch 26/200\n",
      "240/240 - 1s - loss: 0.0154 - accuracy: 0.9950 - val_loss: 0.1154 - val_accuracy: 0.9826\n",
      "Epoch 27/200\n",
      "240/240 - 1s - loss: 0.0150 - accuracy: 0.9953 - val_loss: 0.1250 - val_accuracy: 0.9820\n",
      "Epoch 28/200\n",
      "240/240 - 1s - loss: 0.0149 - accuracy: 0.9957 - val_loss: 0.1195 - val_accuracy: 0.9841\n",
      "Epoch 29/200\n",
      "240/240 - 1s - loss: 0.0157 - accuracy: 0.9956 - val_loss: 0.1161 - val_accuracy: 0.9837\n",
      "Epoch 30/200\n",
      "240/240 - 1s - loss: 0.0151 - accuracy: 0.9955 - val_loss: 0.1329 - val_accuracy: 0.9837\n",
      "Epoch 31/200\n",
      "240/240 - 1s - loss: 0.0135 - accuracy: 0.9962 - val_loss: 0.1327 - val_accuracy: 0.9835\n",
      "Epoch 32/200\n",
      "240/240 - 1s - loss: 0.0163 - accuracy: 0.9953 - val_loss: 0.1272 - val_accuracy: 0.9843\n",
      "Epoch 33/200\n",
      "240/240 - 1s - loss: 0.0132 - accuracy: 0.9962 - val_loss: 0.1274 - val_accuracy: 0.9841\n",
      "Epoch 34/200\n",
      "240/240 - 1s - loss: 0.0134 - accuracy: 0.9963 - val_loss: 0.1270 - val_accuracy: 0.9826\n",
      "Epoch 35/200\n",
      "240/240 - 1s - loss: 0.0117 - accuracy: 0.9965 - val_loss: 0.1283 - val_accuracy: 0.9837\n",
      "Epoch 36/200\n",
      "240/240 - 1s - loss: 0.0142 - accuracy: 0.9961 - val_loss: 0.1253 - val_accuracy: 0.9838\n",
      "Epoch 37/200\n",
      "240/240 - 1s - loss: 0.0142 - accuracy: 0.9964 - val_loss: 0.1311 - val_accuracy: 0.9827\n",
      "Epoch 38/200\n",
      "240/240 - 1s - loss: 0.0142 - accuracy: 0.9960 - val_loss: 0.1255 - val_accuracy: 0.9837\n",
      "Epoch 39/200\n",
      "240/240 - 1s - loss: 0.0142 - accuracy: 0.9962 - val_loss: 0.1370 - val_accuracy: 0.9843\n",
      "Epoch 40/200\n",
      "240/240 - 1s - loss: 0.0135 - accuracy: 0.9961 - val_loss: 0.1401 - val_accuracy: 0.9836\n",
      "Epoch 41/200\n",
      "240/240 - 1s - loss: 0.0120 - accuracy: 0.9962 - val_loss: 0.1541 - val_accuracy: 0.9830\n",
      "Epoch 42/200\n",
      "240/240 - 1s - loss: 0.0140 - accuracy: 0.9962 - val_loss: 0.1394 - val_accuracy: 0.9844\n",
      "Epoch 43/200\n",
      "240/240 - 1s - loss: 0.0137 - accuracy: 0.9960 - val_loss: 0.1455 - val_accuracy: 0.9837\n",
      "Epoch 44/200\n",
      "240/240 - 1s - loss: 0.0119 - accuracy: 0.9967 - val_loss: 0.1361 - val_accuracy: 0.9845\n",
      "Epoch 45/200\n",
      "240/240 - 1s - loss: 0.0142 - accuracy: 0.9961 - val_loss: 0.1544 - val_accuracy: 0.9846\n",
      "Epoch 46/200\n",
      "240/240 - 1s - loss: 0.0130 - accuracy: 0.9967 - val_loss: 0.1654 - val_accuracy: 0.9831\n",
      "Epoch 47/200\n",
      "240/240 - 1s - loss: 0.0128 - accuracy: 0.9968 - val_loss: 0.1563 - val_accuracy: 0.9847\n",
      "Epoch 48/200\n",
      "240/240 - 1s - loss: 0.0123 - accuracy: 0.9963 - val_loss: 0.1642 - val_accuracy: 0.9831\n",
      "Epoch 49/200\n",
      "240/240 - 1s - loss: 0.0127 - accuracy: 0.9966 - val_loss: 0.1648 - val_accuracy: 0.9844\n",
      "Epoch 50/200\n",
      "240/240 - 1s - loss: 0.0126 - accuracy: 0.9967 - val_loss: 0.1707 - val_accuracy: 0.9827\n",
      "Epoch 51/200\n",
      "240/240 - 1s - loss: 0.0133 - accuracy: 0.9968 - val_loss: 0.1719 - val_accuracy: 0.9834\n",
      "Epoch 52/200\n",
      "240/240 - 1s - loss: 0.0122 - accuracy: 0.9969 - val_loss: 0.1854 - val_accuracy: 0.9849\n",
      "Epoch 53/200\n",
      "240/240 - 1s - loss: 0.0129 - accuracy: 0.9968 - val_loss: 0.1740 - val_accuracy: 0.9839\n",
      "Epoch 54/200\n",
      "240/240 - 1s - loss: 0.0112 - accuracy: 0.9970 - val_loss: 0.1778 - val_accuracy: 0.9845\n",
      "Epoch 55/200\n",
      "240/240 - 1s - loss: 0.0143 - accuracy: 0.9967 - val_loss: 0.1896 - val_accuracy: 0.9838\n",
      "Epoch 56/200\n",
      "240/240 - 1s - loss: 0.0115 - accuracy: 0.9970 - val_loss: 0.1814 - val_accuracy: 0.9829\n",
      "Epoch 57/200\n",
      "240/240 - 1s - loss: 0.0138 - accuracy: 0.9968 - val_loss: 0.1744 - val_accuracy: 0.9842\n",
      "Epoch 58/200\n",
      "240/240 - 1s - loss: 0.0125 - accuracy: 0.9973 - val_loss: 0.1939 - val_accuracy: 0.9820\n",
      "Epoch 59/200\n",
      "240/240 - 1s - loss: 0.0112 - accuracy: 0.9972 - val_loss: 0.2050 - val_accuracy: 0.9831\n",
      "Epoch 60/200\n",
      "240/240 - 1s - loss: 0.0143 - accuracy: 0.9967 - val_loss: 0.1810 - val_accuracy: 0.9838\n",
      "Epoch 61/200\n",
      "240/240 - 1s - loss: 0.0123 - accuracy: 0.9972 - val_loss: 0.1921 - val_accuracy: 0.9837\n",
      "Epoch 62/200\n",
      "240/240 - 1s - loss: 0.0145 - accuracy: 0.9968 - val_loss: 0.1749 - val_accuracy: 0.9849\n",
      "Epoch 63/200\n",
      "240/240 - 1s - loss: 0.0148 - accuracy: 0.9968 - val_loss: 0.1987 - val_accuracy: 0.9835\n",
      "Epoch 64/200\n",
      "240/240 - 1s - loss: 0.0130 - accuracy: 0.9967 - val_loss: 0.1966 - val_accuracy: 0.9831\n",
      "Epoch 65/200\n",
      "240/240 - 1s - loss: 0.0123 - accuracy: 0.9972 - val_loss: 0.2180 - val_accuracy: 0.9833\n",
      "Epoch 66/200\n",
      "240/240 - 1s - loss: 0.0132 - accuracy: 0.9969 - val_loss: 0.1936 - val_accuracy: 0.9842\n",
      "Epoch 67/200\n",
      "240/240 - 1s - loss: 0.0138 - accuracy: 0.9968 - val_loss: 0.1994 - val_accuracy: 0.9837\n",
      "Epoch 68/200\n",
      "240/240 - 1s - loss: 0.0152 - accuracy: 0.9966 - val_loss: 0.2056 - val_accuracy: 0.9831\n",
      "Epoch 69/200\n",
      "240/240 - 1s - loss: 0.0147 - accuracy: 0.9966 - val_loss: 0.1876 - val_accuracy: 0.9841\n",
      "Epoch 70/200\n",
      "240/240 - 1s - loss: 0.0124 - accuracy: 0.9969 - val_loss: 0.2089 - val_accuracy: 0.9832\n",
      "Epoch 71/200\n",
      "240/240 - 1s - loss: 0.0144 - accuracy: 0.9969 - val_loss: 0.2133 - val_accuracy: 0.9833\n",
      "Epoch 72/200\n",
      "240/240 - 1s - loss: 0.0158 - accuracy: 0.9966 - val_loss: 0.1873 - val_accuracy: 0.9833\n",
      "Epoch 73/200\n",
      "240/240 - 1s - loss: 0.0137 - accuracy: 0.9970 - val_loss: 0.2120 - val_accuracy: 0.9828\n",
      "Epoch 74/200\n",
      "240/240 - 1s - loss: 0.0164 - accuracy: 0.9968 - val_loss: 0.2235 - val_accuracy: 0.9837\n",
      "Epoch 75/200\n",
      "240/240 - 1s - loss: 0.0144 - accuracy: 0.9969 - val_loss: 0.2205 - val_accuracy: 0.9838\n",
      "Epoch 76/200\n",
      "240/240 - 1s - loss: 0.0121 - accuracy: 0.9970 - val_loss: 0.2133 - val_accuracy: 0.9841\n",
      "Epoch 77/200\n",
      "240/240 - 1s - loss: 0.0143 - accuracy: 0.9972 - val_loss: 0.2202 - val_accuracy: 0.9838\n",
      "Epoch 78/200\n",
      "240/240 - 1s - loss: 0.0132 - accuracy: 0.9970 - val_loss: 0.2200 - val_accuracy: 0.9840\n",
      "Epoch 79/200\n",
      "240/240 - 1s - loss: 0.0130 - accuracy: 0.9970 - val_loss: 0.2204 - val_accuracy: 0.9833\n",
      "Epoch 80/200\n",
      "240/240 - 1s - loss: 0.0139 - accuracy: 0.9968 - val_loss: 0.2299 - val_accuracy: 0.9832\n",
      "Epoch 81/200\n",
      "240/240 - 1s - loss: 0.0156 - accuracy: 0.9971 - val_loss: 0.2356 - val_accuracy: 0.9843\n",
      "Epoch 82/200\n",
      "240/240 - 1s - loss: 0.0137 - accuracy: 0.9972 - val_loss: 0.2204 - val_accuracy: 0.9844\n",
      "Epoch 83/200\n",
      "240/240 - 1s - loss: 0.0126 - accuracy: 0.9973 - val_loss: 0.2246 - val_accuracy: 0.9846\n",
      "Epoch 84/200\n",
      "240/240 - 1s - loss: 0.0134 - accuracy: 0.9972 - val_loss: 0.2348 - val_accuracy: 0.9839\n",
      "Epoch 85/200\n",
      "240/240 - 1s - loss: 0.0137 - accuracy: 0.9972 - val_loss: 0.2500 - val_accuracy: 0.9838\n",
      "Epoch 86/200\n",
      "240/240 - 1s - loss: 0.0132 - accuracy: 0.9970 - val_loss: 0.2610 - val_accuracy: 0.9836\n",
      "Epoch 87/200\n",
      "240/240 - 1s - loss: 0.0121 - accuracy: 0.9973 - val_loss: 0.2432 - val_accuracy: 0.9833\n",
      "Epoch 88/200\n",
      "240/240 - 1s - loss: 0.0150 - accuracy: 0.9970 - val_loss: 0.2522 - val_accuracy: 0.9843\n",
      "Epoch 89/200\n",
      "240/240 - 1s - loss: 0.0129 - accuracy: 0.9972 - val_loss: 0.2159 - val_accuracy: 0.9844\n",
      "Epoch 90/200\n",
      "240/240 - 1s - loss: 0.0147 - accuracy: 0.9969 - val_loss: 0.2618 - val_accuracy: 0.9823\n",
      "Epoch 91/200\n",
      "240/240 - 1s - loss: 0.0137 - accuracy: 0.9974 - val_loss: 0.2231 - val_accuracy: 0.9849\n",
      "Epoch 92/200\n",
      "240/240 - 1s - loss: 0.0156 - accuracy: 0.9972 - val_loss: 0.2405 - val_accuracy: 0.9833\n",
      "Epoch 93/200\n",
      "240/240 - 1s - loss: 0.0119 - accuracy: 0.9973 - val_loss: 0.2415 - val_accuracy: 0.9837\n",
      "Epoch 94/200\n",
      "240/240 - 1s - loss: 0.0132 - accuracy: 0.9973 - val_loss: 0.2436 - val_accuracy: 0.9829\n",
      "Epoch 95/200\n",
      "240/240 - 1s - loss: 0.0134 - accuracy: 0.9971 - val_loss: 0.2359 - val_accuracy: 0.9857\n",
      "Epoch 96/200\n",
      "240/240 - 1s - loss: 0.0141 - accuracy: 0.9975 - val_loss: 0.2373 - val_accuracy: 0.9845\n",
      "Epoch 97/200\n",
      "240/240 - 1s - loss: 0.0141 - accuracy: 0.9973 - val_loss: 0.2635 - val_accuracy: 0.9833\n",
      "Epoch 98/200\n",
      "240/240 - 1s - loss: 0.0160 - accuracy: 0.9969 - val_loss: 0.2533 - val_accuracy: 0.9843\n",
      "Epoch 99/200\n",
      "240/240 - 1s - loss: 0.0127 - accuracy: 0.9972 - val_loss: 0.2576 - val_accuracy: 0.9833\n",
      "Epoch 100/200\n",
      "240/240 - 1s - loss: 0.0131 - accuracy: 0.9976 - val_loss: 0.2597 - val_accuracy: 0.9832\n",
      "Epoch 101/200\n",
      "240/240 - 1s - loss: 0.0145 - accuracy: 0.9973 - val_loss: 0.2752 - val_accuracy: 0.9845\n",
      "Epoch 102/200\n",
      "240/240 - 1s - loss: 0.0150 - accuracy: 0.9972 - val_loss: 0.2500 - val_accuracy: 0.9837\n",
      "Epoch 103/200\n",
      "240/240 - 1s - loss: 0.0152 - accuracy: 0.9972 - val_loss: 0.2740 - val_accuracy: 0.9835\n",
      "Epoch 104/200\n",
      "240/240 - 1s - loss: 0.0144 - accuracy: 0.9971 - val_loss: 0.2514 - val_accuracy: 0.9847\n",
      "Epoch 105/200\n",
      "240/240 - 1s - loss: 0.0125 - accuracy: 0.9973 - val_loss: 0.2731 - val_accuracy: 0.9840\n",
      "Epoch 106/200\n",
      "240/240 - 1s - loss: 0.0131 - accuracy: 0.9975 - val_loss: 0.2789 - val_accuracy: 0.9840\n",
      "Epoch 107/200\n",
      "240/240 - 1s - loss: 0.0123 - accuracy: 0.9977 - val_loss: 0.2731 - val_accuracy: 0.9837\n",
      "Epoch 108/200\n",
      "240/240 - 1s - loss: 0.0125 - accuracy: 0.9975 - val_loss: 0.2887 - val_accuracy: 0.9842\n",
      "Epoch 109/200\n",
      "240/240 - 1s - loss: 0.0109 - accuracy: 0.9974 - val_loss: 0.2754 - val_accuracy: 0.9841\n",
      "Epoch 110/200\n",
      "240/240 - 1s - loss: 0.0123 - accuracy: 0.9972 - val_loss: 0.3087 - val_accuracy: 0.9818\n",
      "Epoch 111/200\n",
      "240/240 - 1s - loss: 0.0117 - accuracy: 0.9976 - val_loss: 0.3026 - val_accuracy: 0.9831\n",
      "Epoch 112/200\n",
      "240/240 - 1s - loss: 0.0148 - accuracy: 0.9972 - val_loss: 0.2699 - val_accuracy: 0.9843\n",
      "Epoch 113/200\n",
      "240/240 - 1s - loss: 0.0140 - accuracy: 0.9977 - val_loss: 0.2748 - val_accuracy: 0.9844\n",
      "Epoch 114/200\n",
      "240/240 - 1s - loss: 0.0185 - accuracy: 0.9970 - val_loss: 0.2762 - val_accuracy: 0.9839\n",
      "Epoch 115/200\n",
      "240/240 - 1s - loss: 0.0142 - accuracy: 0.9975 - val_loss: 0.2557 - val_accuracy: 0.9845\n",
      "Epoch 116/200\n",
      "240/240 - 1s - loss: 0.0153 - accuracy: 0.9973 - val_loss: 0.2903 - val_accuracy: 0.9833\n",
      "Epoch 117/200\n",
      "240/240 - 1s - loss: 0.0145 - accuracy: 0.9973 - val_loss: 0.2841 - val_accuracy: 0.9844\n",
      "Epoch 118/200\n",
      "240/240 - 1s - loss: 0.0131 - accuracy: 0.9977 - val_loss: 0.2868 - val_accuracy: 0.9840\n",
      "Epoch 119/200\n",
      "240/240 - 1s - loss: 0.0142 - accuracy: 0.9974 - val_loss: 0.2898 - val_accuracy: 0.9821\n",
      "Epoch 120/200\n",
      "240/240 - 1s - loss: 0.0161 - accuracy: 0.9970 - val_loss: 0.2875 - val_accuracy: 0.9843\n",
      "Epoch 121/200\n",
      "240/240 - 1s - loss: 0.0155 - accuracy: 0.9973 - val_loss: 0.2785 - val_accuracy: 0.9831\n",
      "Epoch 122/200\n",
      "240/240 - 1s - loss: 0.0185 - accuracy: 0.9971 - val_loss: 0.2798 - val_accuracy: 0.9844\n",
      "Epoch 123/200\n",
      "240/240 - 1s - loss: 0.0127 - accuracy: 0.9975 - val_loss: 0.2944 - val_accuracy: 0.9841\n",
      "Epoch 124/200\n",
      "240/240 - 1s - loss: 0.0148 - accuracy: 0.9975 - val_loss: 0.2963 - val_accuracy: 0.9842\n",
      "Epoch 125/200\n",
      "240/240 - 1s - loss: 0.0140 - accuracy: 0.9978 - val_loss: 0.2966 - val_accuracy: 0.9846\n",
      "Epoch 126/200\n",
      "240/240 - 1s - loss: 0.0183 - accuracy: 0.9971 - val_loss: 0.2958 - val_accuracy: 0.9841\n",
      "Epoch 127/200\n",
      "240/240 - 1s - loss: 0.0184 - accuracy: 0.9972 - val_loss: 0.2804 - val_accuracy: 0.9846\n",
      "Epoch 128/200\n",
      "240/240 - 1s - loss: 0.0148 - accuracy: 0.9972 - val_loss: 0.2825 - val_accuracy: 0.9833\n",
      "Epoch 129/200\n",
      "240/240 - 1s - loss: 0.0175 - accuracy: 0.9970 - val_loss: 0.2820 - val_accuracy: 0.9845\n",
      "Epoch 130/200\n",
      "240/240 - 1s - loss: 0.0132 - accuracy: 0.9976 - val_loss: 0.2864 - val_accuracy: 0.9835\n",
      "Epoch 131/200\n",
      "240/240 - 1s - loss: 0.0187 - accuracy: 0.9968 - val_loss: 0.3102 - val_accuracy: 0.9823\n",
      "Epoch 132/200\n",
      "240/240 - 1s - loss: 0.0139 - accuracy: 0.9975 - val_loss: 0.3069 - val_accuracy: 0.9838\n",
      "Epoch 133/200\n",
      "240/240 - 1s - loss: 0.0179 - accuracy: 0.9971 - val_loss: 0.3011 - val_accuracy: 0.9840\n",
      "Epoch 134/200\n",
      "240/240 - 1s - loss: 0.0161 - accuracy: 0.9971 - val_loss: 0.3107 - val_accuracy: 0.9838\n",
      "Epoch 135/200\n",
      "240/240 - 1s - loss: 0.0147 - accuracy: 0.9973 - val_loss: 0.3070 - val_accuracy: 0.9842\n",
      "Epoch 136/200\n",
      "240/240 - 1s - loss: 0.0163 - accuracy: 0.9974 - val_loss: 0.3091 - val_accuracy: 0.9827\n",
      "Epoch 137/200\n",
      "240/240 - 1s - loss: 0.0154 - accuracy: 0.9975 - val_loss: 0.3468 - val_accuracy: 0.9834\n",
      "Epoch 138/200\n",
      "240/240 - 1s - loss: 0.0132 - accuracy: 0.9973 - val_loss: 0.3249 - val_accuracy: 0.9846\n",
      "Epoch 139/200\n",
      "240/240 - 1s - loss: 0.0151 - accuracy: 0.9975 - val_loss: 0.2948 - val_accuracy: 0.9852\n",
      "Epoch 140/200\n",
      "240/240 - 1s - loss: 0.0168 - accuracy: 0.9974 - val_loss: 0.3147 - val_accuracy: 0.9840\n",
      "Epoch 141/200\n",
      "240/240 - 1s - loss: 0.0156 - accuracy: 0.9973 - val_loss: 0.3133 - val_accuracy: 0.9845\n",
      "Epoch 142/200\n",
      "240/240 - 1s - loss: 0.0167 - accuracy: 0.9970 - val_loss: 0.2958 - val_accuracy: 0.9838\n",
      "Epoch 143/200\n",
      "240/240 - 1s - loss: 0.0136 - accuracy: 0.9975 - val_loss: 0.3091 - val_accuracy: 0.9837\n",
      "Epoch 144/200\n",
      "240/240 - 1s - loss: 0.0134 - accuracy: 0.9977 - val_loss: 0.3312 - val_accuracy: 0.9826\n",
      "Epoch 145/200\n",
      "240/240 - 1s - loss: 0.0153 - accuracy: 0.9976 - val_loss: 0.3293 - val_accuracy: 0.9834\n",
      "Epoch 146/200\n",
      "240/240 - 1s - loss: 0.0177 - accuracy: 0.9972 - val_loss: 0.3245 - val_accuracy: 0.9830\n",
      "Epoch 147/200\n",
      "240/240 - 1s - loss: 0.0162 - accuracy: 0.9975 - val_loss: 0.3166 - val_accuracy: 0.9841\n",
      "Epoch 148/200\n",
      "240/240 - 1s - loss: 0.0145 - accuracy: 0.9973 - val_loss: 0.3142 - val_accuracy: 0.9836\n",
      "Epoch 149/200\n",
      "240/240 - 1s - loss: 0.0140 - accuracy: 0.9974 - val_loss: 0.3183 - val_accuracy: 0.9834\n",
      "Epoch 150/200\n",
      "240/240 - 1s - loss: 0.0171 - accuracy: 0.9973 - val_loss: 0.3342 - val_accuracy: 0.9840\n",
      "Epoch 151/200\n",
      "240/240 - 1s - loss: 0.0150 - accuracy: 0.9974 - val_loss: 0.3399 - val_accuracy: 0.9842\n",
      "Epoch 152/200\n",
      "240/240 - 1s - loss: 0.0172 - accuracy: 0.9972 - val_loss: 0.3231 - val_accuracy: 0.9831\n",
      "Epoch 153/200\n",
      "240/240 - 1s - loss: 0.0161 - accuracy: 0.9973 - val_loss: 0.3432 - val_accuracy: 0.9827\n",
      "Epoch 154/200\n",
      "240/240 - 1s - loss: 0.0186 - accuracy: 0.9973 - val_loss: 0.3112 - val_accuracy: 0.9841\n",
      "Epoch 155/200\n",
      "240/240 - 1s - loss: 0.0154 - accuracy: 0.9975 - val_loss: 0.3228 - val_accuracy: 0.9844\n",
      "Epoch 156/200\n",
      "240/240 - 1s - loss: 0.0188 - accuracy: 0.9970 - val_loss: 0.3301 - val_accuracy: 0.9837\n",
      "Epoch 157/200\n",
      "240/240 - 1s - loss: 0.0168 - accuracy: 0.9974 - val_loss: 0.3356 - val_accuracy: 0.9833\n",
      "Epoch 158/200\n",
      "240/240 - 1s - loss: 0.0174 - accuracy: 0.9974 - val_loss: 0.3171 - val_accuracy: 0.9833\n",
      "Epoch 159/200\n",
      "240/240 - 1s - loss: 0.0156 - accuracy: 0.9973 - val_loss: 0.3182 - val_accuracy: 0.9849\n",
      "Epoch 160/200\n",
      "240/240 - 1s - loss: 0.0164 - accuracy: 0.9975 - val_loss: 0.3149 - val_accuracy: 0.9839\n",
      "Epoch 161/200\n",
      "240/240 - 1s - loss: 0.0168 - accuracy: 0.9975 - val_loss: 0.3037 - val_accuracy: 0.9855\n",
      "Epoch 162/200\n",
      "240/240 - 1s - loss: 0.0154 - accuracy: 0.9977 - val_loss: 0.3417 - val_accuracy: 0.9836\n",
      "Epoch 163/200\n",
      "240/240 - 1s - loss: 0.0150 - accuracy: 0.9978 - val_loss: 0.3243 - val_accuracy: 0.9845\n",
      "Epoch 164/200\n",
      "240/240 - 1s - loss: 0.0193 - accuracy: 0.9972 - val_loss: 0.3436 - val_accuracy: 0.9833\n",
      "Epoch 165/200\n",
      "240/240 - 1s - loss: 0.0171 - accuracy: 0.9971 - val_loss: 0.3264 - val_accuracy: 0.9851\n",
      "Epoch 166/200\n",
      "240/240 - 1s - loss: 0.0169 - accuracy: 0.9974 - val_loss: 0.3256 - val_accuracy: 0.9843\n",
      "Epoch 167/200\n",
      "240/240 - 1s - loss: 0.0138 - accuracy: 0.9976 - val_loss: 0.3559 - val_accuracy: 0.9840\n",
      "Epoch 168/200\n",
      "240/240 - 1s - loss: 0.0176 - accuracy: 0.9974 - val_loss: 0.3454 - val_accuracy: 0.9835\n",
      "Epoch 169/200\n",
      "240/240 - 1s - loss: 0.0141 - accuracy: 0.9975 - val_loss: 0.3494 - val_accuracy: 0.9837\n",
      "Epoch 170/200\n",
      "240/240 - 1s - loss: 0.0178 - accuracy: 0.9970 - val_loss: 0.3192 - val_accuracy: 0.9837\n",
      "Epoch 171/200\n",
      "240/240 - 1s - loss: 0.0161 - accuracy: 0.9975 - val_loss: 0.3346 - val_accuracy: 0.9843\n",
      "Epoch 172/200\n",
      "240/240 - 1s - loss: 0.0165 - accuracy: 0.9974 - val_loss: 0.3241 - val_accuracy: 0.9837\n",
      "Epoch 173/200\n",
      "240/240 - 1s - loss: 0.0142 - accuracy: 0.9977 - val_loss: 0.3478 - val_accuracy: 0.9831\n",
      "Epoch 174/200\n",
      "240/240 - 1s - loss: 0.0176 - accuracy: 0.9974 - val_loss: 0.3449 - val_accuracy: 0.9843\n",
      "Epoch 175/200\n",
      "240/240 - 1s - loss: 0.0153 - accuracy: 0.9976 - val_loss: 0.3298 - val_accuracy: 0.9835\n",
      "Epoch 176/200\n",
      "240/240 - 1s - loss: 0.0183 - accuracy: 0.9969 - val_loss: 0.3455 - val_accuracy: 0.9830\n",
      "Epoch 177/200\n",
      "240/240 - 1s - loss: 0.0153 - accuracy: 0.9975 - val_loss: 0.3527 - val_accuracy: 0.9829\n",
      "Epoch 178/200\n",
      "240/240 - 1s - loss: 0.0201 - accuracy: 0.9973 - val_loss: 0.3429 - val_accuracy: 0.9831\n",
      "Epoch 179/200\n",
      "240/240 - 1s - loss: 0.0174 - accuracy: 0.9977 - val_loss: 0.3494 - val_accuracy: 0.9845\n",
      "Epoch 180/200\n",
      "240/240 - 1s - loss: 0.0149 - accuracy: 0.9979 - val_loss: 0.3612 - val_accuracy: 0.9842\n",
      "Epoch 181/200\n",
      "240/240 - 1s - loss: 0.0151 - accuracy: 0.9976 - val_loss: 0.3577 - val_accuracy: 0.9835\n",
      "Epoch 182/200\n",
      "240/240 - 1s - loss: 0.0149 - accuracy: 0.9975 - val_loss: 0.3878 - val_accuracy: 0.9837\n",
      "Epoch 183/200\n",
      "240/240 - 1s - loss: 0.0184 - accuracy: 0.9971 - val_loss: 0.3540 - val_accuracy: 0.9823\n",
      "Epoch 184/200\n",
      "240/240 - 1s - loss: 0.0162 - accuracy: 0.9976 - val_loss: 0.3618 - val_accuracy: 0.9838\n",
      "Epoch 185/200\n",
      "240/240 - 1s - loss: 0.0174 - accuracy: 0.9974 - val_loss: 0.3548 - val_accuracy: 0.9839\n",
      "Epoch 186/200\n",
      "240/240 - 1s - loss: 0.0207 - accuracy: 0.9972 - val_loss: 0.3564 - val_accuracy: 0.9848\n",
      "Epoch 187/200\n",
      "240/240 - 1s - loss: 0.0181 - accuracy: 0.9976 - val_loss: 0.4109 - val_accuracy: 0.9820\n",
      "Epoch 188/200\n",
      "240/240 - 1s - loss: 0.0143 - accuracy: 0.9977 - val_loss: 0.3821 - val_accuracy: 0.9833\n",
      "Epoch 189/200\n",
      "240/240 - 1s - loss: 0.0172 - accuracy: 0.9974 - val_loss: 0.3818 - val_accuracy: 0.9843\n",
      "Epoch 190/200\n",
      "240/240 - 1s - loss: 0.0213 - accuracy: 0.9972 - val_loss: 0.3599 - val_accuracy: 0.9835\n",
      "Epoch 191/200\n",
      "240/240 - 1s - loss: 0.0173 - accuracy: 0.9974 - val_loss: 0.3402 - val_accuracy: 0.9847\n",
      "Epoch 192/200\n",
      "240/240 - 1s - loss: 0.0147 - accuracy: 0.9973 - val_loss: 0.3700 - val_accuracy: 0.9844\n",
      "Epoch 193/200\n",
      "240/240 - 1s - loss: 0.0193 - accuracy: 0.9973 - val_loss: 0.3865 - val_accuracy: 0.9837\n",
      "Epoch 194/200\n",
      "240/240 - 1s - loss: 0.0152 - accuracy: 0.9976 - val_loss: 0.3617 - val_accuracy: 0.9836\n",
      "Epoch 195/200\n",
      "240/240 - 1s - loss: 0.0170 - accuracy: 0.9973 - val_loss: 0.3625 - val_accuracy: 0.9834\n",
      "Epoch 196/200\n",
      "240/240 - 1s - loss: 0.0179 - accuracy: 0.9972 - val_loss: 0.3721 - val_accuracy: 0.9837\n",
      "Epoch 197/200\n",
      "240/240 - 1s - loss: 0.0145 - accuracy: 0.9980 - val_loss: 0.3634 - val_accuracy: 0.9848\n",
      "Epoch 198/200\n",
      "240/240 - 1s - loss: 0.0170 - accuracy: 0.9975 - val_loss: 0.3715 - val_accuracy: 0.9839\n",
      "Epoch 199/200\n",
      "240/240 - 1s - loss: 0.0147 - accuracy: 0.9979 - val_loss: 0.3748 - val_accuracy: 0.9846\n",
      "Epoch 200/200\n",
      "240/240 - 1s - loss: 0.0147 - accuracy: 0.9976 - val_loss: 0.3791 - val_accuracy: 0.9840\n"
     ]
    },
    {
     "data": {
      "text/plain": [
       "<tensorflow.python.keras.callbacks.History at 0x1953ac5a8d0>"
      ]
     },
     "execution_count": 8,
     "metadata": {},
     "output_type": "execute_result"
    }
   ],
   "source": [
    "from tensorflow.keras.optimizers import RMSprop\n",
    "rms = RMSprop(learning_rate=0.01)\n",
    "mnist_huhu.compile(optimizer=rms, loss = 'categorical_crossentropy', metrics = ['accuracy'])\n",
    "\n",
    "from tensorflow.keras.callbacks import TensorBoard\n",
    "import os\n",
    "if not os.path.isdir('./log/20210927_2/'):\n",
    "    os.mkdir('./log/20210927_2/')\n",
    "tb = TensorBoard(log_dir = './log/20210927_2/')\n",
    "mnist_huhu.fit(x_train, y_train, epochs=200, batch_size = 200, validation_split=0.2, callbacks=[tb], verbose = 2)"
   ]
  },
  {
   "cell_type": "code",
   "execution_count": 13,
   "id": "eb9c4a40-69d1-4d07-81f8-ba9937f3ddef",
   "metadata": {},
   "outputs": [
    {
     "data": {
      "text/plain": [
       "<tf.Tensor: shape=(10, 10), dtype=int32, numpy=\n",
       "array([[ 975,    0,    1,    0,    0,    0,    2,    1,    1,    0],\n",
       "       [   0, 1132,    1,    1,    0,    0,    1,    0,    0,    0],\n",
       "       [   1,    5, 1010,    1,    1,    0,    2,    7,    5,    0],\n",
       "       [   0,    1,    3,  999,    0,    4,    0,    0,    2,    1],\n",
       "       [   0,    1,    0,    0,  973,    0,    1,    1,    0,    6],\n",
       "       [   1,    0,    0,    8,    0,  879,    3,    0,    1,    0],\n",
       "       [   7,    3,    0,    1,    2,    3,  940,    0,    2,    0],\n",
       "       [   0,    8,   12,    1,    0,    0,    0, 1002,    1,    4],\n",
       "       [   4,    1,    3,    2,    0,    1,    3,    2,  957,    1],\n",
       "       [   4,    3,    0,    4,    8,    3,    0,    8,    2,  977]])>"
      ]
     },
     "execution_count": 13,
     "metadata": {},
     "output_type": "execute_result"
    }
   ],
   "source": [
    "import numpy as np\n",
    "import tensorflow as tf\n",
    "\n",
    "y_pred = mnist_huhu.predict(x_test)\n",
    "y_label = np.argmax(y_pred, axis = 1)\n",
    "\n",
    "tf.math.confusion_matrix(np.argmax(y_test, axis = 1), y_label)"
   ]
  },
  {
   "cell_type": "code",
   "execution_count": 14,
   "id": "4750e975-315d-4827-816f-2fa1e74df682",
   "metadata": {},
   "outputs": [
    {
     "name": "stdout",
     "output_type": "stream",
     "text": [
      "1875/1875 [==============================] - 3s 2ms/step - loss: 0.0761 - accuracy: 0.9967\n"
     ]
    },
    {
     "data": {
      "text/plain": [
       "[0.0760510042309761, 0.9967166781425476]"
      ]
     },
     "execution_count": 14,
     "metadata": {},
     "output_type": "execute_result"
    }
   ],
   "source": [
    "mnist_huhu.evaluate(x_train, y_train)"
   ]
  },
  {
   "cell_type": "code",
   "execution_count": 16,
   "id": "390d056d-7b9b-444b-bac1-80e6a9461293",
   "metadata": {},
   "outputs": [
    {
     "name": "stdout",
     "output_type": "stream",
     "text": [
      "313/313 [==============================] - 1s 2ms/step - loss: 0.3280 - accuracy: 0.9844\n"
     ]
    },
    {
     "data": {
      "text/plain": [
       "[0.3280166983604431, 0.9843999743461609]"
      ]
     },
     "execution_count": 16,
     "metadata": {},
     "output_type": "execute_result"
    }
   ],
   "source": [
    "mnist_huhu.evaluate(x_test, y_test)"
   ]
  },
  {
   "cell_type": "code",
   "execution_count": null,
   "id": "c2a0bd3e-e321-40c5-9d47-96faee920d6f",
   "metadata": {},
   "outputs": [],
   "source": []
  },
  {
   "cell_type": "code",
   "execution_count": null,
   "id": "03484061-f873-420f-b3bf-2d75c3a42d3f",
   "metadata": {},
   "outputs": [],
   "source": []
  },
  {
   "cell_type": "code",
   "execution_count": null,
   "id": "dc161de4-1607-4707-a020-bd8f3b74ef5b",
   "metadata": {},
   "outputs": [],
   "source": []
  },
  {
   "cell_type": "code",
   "execution_count": null,
   "id": "1e71f0e9-0981-42bf-ab86-5b9dc2dc87c5",
   "metadata": {},
   "outputs": [],
   "source": []
  },
  {
   "cell_type": "code",
   "execution_count": 37,
   "id": "11007e8f-8dae-4438-b363-95cef211fbee",
   "metadata": {},
   "outputs": [
    {
     "name": "stderr",
     "output_type": "stream",
     "text": [
      "C:\\Users\\JaeYoungCho\\anaconda3\\envs\\AI_Study\\lib\\site-packages\\matplotlib\\text.py:1215: FutureWarning: elementwise comparison failed; returning scalar instead, but in the future will perform elementwise comparison\n",
      "  if s != self._text:\n"
     ]
    },
    {
     "data": {
      "image/png": "[encoded data removed]",
      "text/plain": [
       "<Figure size 432x288 with 8 Axes>"
      ]
     },
     "metadata": {
      "needs_background": "light"
     },
     "output_type": "display_data"
    }
   ],
   "source": [
    "from tensorflow.keras.datasets import cifar100\n",
    "import numpy as np\n",
    "from tensorflow.keras.utils import to_categorical\n",
    "import matplotlib.pyplot as plt\n",
    "(x_train, y_train), (x_test, y_test) = cifar100.load_data()\n",
    "\n",
    "for i in range(8):\n",
    "    plt.subplot(2,4,i+1)\n",
    "    plt.imshow(x_train[i])\n",
    "    plt.axis('off')\n",
    "    title = y_train[i]\n",
    "    plt.gca().set_title(title)\n",
    "\n",
    "x_train = x_train.astype('float32')\n",
    "x_test = x_test.astype('float32')\n",
    "\n",
    "def normalize(image):\n",
    "    mean = np.mean(image, axis = (0,1,2))\n",
    "    std = np.std(image, axis = (0,1,2))\n",
    "    image = (image - mean) / std\n",
    "    return image\n",
    "\n",
    "x_train = normalize(x_train)\n",
    "x_test = normalize(x_test)\n",
    "\n",
    "y_train = to_categorical(y_train)\n",
    "y_test = to_categorical(y_test)"
   ]
  },
  {
   "cell_type": "code",
   "execution_count": 38,
   "id": "c64ee3c5-e0f8-489c-9f3e-d91248430903",
   "metadata": {},
   "outputs": [],
   "source": [
    "from tensorflow.keras.layers import Input, Conv2D, Flatten, Dense, BatchNormalization, Dropout, MaxPool2D\n",
    "from tensorflow.keras.models import Model\n",
    "from tensorflow.keras.optimizers import RMSprop\n",
    "from tensorflow.keras.callbacks import TensorBoard\n",
    "import os"
   ]
  },
  {
   "cell_type": "code",
   "execution_count": 42,
   "id": "c374cd99-4b45-44e0-b43e-964fdbf012fd",
   "metadata": {},
   "outputs": [
    {
     "name": "stdout",
     "output_type": "stream",
     "text": [
      "Epoch 1/100\n",
      "125/125 - 2s - loss: 5.2878 - accuracy: 0.1085 - val_loss: 3.5779 - val_accuracy: 0.1703\n",
      "Epoch 2/100\n",
      "125/125 - 2s - loss: 3.2551 - accuracy: 0.2222 - val_loss: 3.1090 - val_accuracy: 0.2519\n",
      "Epoch 3/100\n",
      "125/125 - 2s - loss: 2.9218 - accuracy: 0.2846 - val_loss: 2.8238 - val_accuracy: 0.3120\n",
      "Epoch 4/100\n",
      "125/125 - 2s - loss: 2.7422 - accuracy: 0.3202 - val_loss: 2.7220 - val_accuracy: 0.3461\n",
      "Epoch 5/100\n",
      "125/125 - 2s - loss: 2.6341 - accuracy: 0.3418 - val_loss: 2.5184 - val_accuracy: 0.3649\n",
      "Epoch 6/100\n",
      "125/125 - 2s - loss: 2.5434 - accuracy: 0.3586 - val_loss: 2.5922 - val_accuracy: 0.3583\n",
      "Epoch 7/100\n",
      "125/125 - 2s - loss: 2.4904 - accuracy: 0.3695 - val_loss: 2.3631 - val_accuracy: 0.4040\n",
      "Epoch 8/100\n",
      "125/125 - 2s - loss: 2.4414 - accuracy: 0.3801 - val_loss: 2.4204 - val_accuracy: 0.3872\n",
      "Epoch 9/100\n",
      "125/125 - 2s - loss: 2.3943 - accuracy: 0.3918 - val_loss: 2.3337 - val_accuracy: 0.4046\n",
      "Epoch 10/100\n",
      "125/125 - 2s - loss: 2.3596 - accuracy: 0.3967 - val_loss: 2.2056 - val_accuracy: 0.4357\n",
      "Epoch 11/100\n",
      "125/125 - 2s - loss: 2.3310 - accuracy: 0.4032 - val_loss: 2.2277 - val_accuracy: 0.4338\n",
      "Epoch 12/100\n",
      "125/125 - 2s - loss: 2.2958 - accuracy: 0.4100 - val_loss: 2.2652 - val_accuracy: 0.4240\n",
      "Epoch 13/100\n",
      "125/125 - 2s - loss: 2.2764 - accuracy: 0.4151 - val_loss: 2.1612 - val_accuracy: 0.4398\n",
      "Epoch 14/100\n",
      "125/125 - 2s - loss: 2.2584 - accuracy: 0.4175 - val_loss: 2.1387 - val_accuracy: 0.4504\n",
      "Epoch 15/100\n",
      "125/125 - 2s - loss: 2.2380 - accuracy: 0.4221 - val_loss: 2.1682 - val_accuracy: 0.4430\n",
      "Epoch 16/100\n",
      "125/125 - 2s - loss: 2.2228 - accuracy: 0.4247 - val_loss: 2.3567 - val_accuracy: 0.4023\n",
      "Epoch 17/100\n",
      "125/125 - 2s - loss: 2.2077 - accuracy: 0.4289 - val_loss: 2.1626 - val_accuracy: 0.4437\n",
      "Epoch 18/100\n",
      "125/125 - 2s - loss: 2.1867 - accuracy: 0.4325 - val_loss: 2.0771 - val_accuracy: 0.4633\n",
      "Epoch 19/100\n",
      "125/125 - 2s - loss: 2.1720 - accuracy: 0.4369 - val_loss: 2.1113 - val_accuracy: 0.4517\n",
      "Epoch 20/100\n",
      "125/125 - 2s - loss: 2.1654 - accuracy: 0.4366 - val_loss: 2.1091 - val_accuracy: 0.4542\n",
      "Epoch 21/100\n",
      "125/125 - 2s - loss: 2.1544 - accuracy: 0.4427 - val_loss: 2.0916 - val_accuracy: 0.4562\n",
      "Epoch 22/100\n",
      "125/125 - 2s - loss: 2.1416 - accuracy: 0.4414 - val_loss: 2.1129 - val_accuracy: 0.4552\n",
      "Epoch 23/100\n",
      "125/125 - 2s - loss: 2.1296 - accuracy: 0.4485 - val_loss: 2.0447 - val_accuracy: 0.4653\n",
      "Epoch 24/100\n",
      "125/125 - 2s - loss: 2.1237 - accuracy: 0.4471 - val_loss: 2.0782 - val_accuracy: 0.4587\n",
      "Epoch 25/100\n",
      "125/125 - 2s - loss: 2.1041 - accuracy: 0.4491 - val_loss: 2.1025 - val_accuracy: 0.4600\n",
      "Epoch 26/100\n",
      "125/125 - 2s - loss: 2.0988 - accuracy: 0.4502 - val_loss: 2.0557 - val_accuracy: 0.4640\n",
      "Epoch 27/100\n",
      "125/125 - 2s - loss: 2.0885 - accuracy: 0.4542 - val_loss: 2.0321 - val_accuracy: 0.4666\n",
      "Epoch 28/100\n",
      "125/125 - 2s - loss: 2.0890 - accuracy: 0.4554 - val_loss: 2.0187 - val_accuracy: 0.4751\n",
      "Epoch 29/100\n",
      "125/125 - 2s - loss: 2.0852 - accuracy: 0.4548 - val_loss: 2.0425 - val_accuracy: 0.4688\n",
      "Epoch 30/100\n",
      "125/125 - 2s - loss: 2.0733 - accuracy: 0.4589 - val_loss: 2.0447 - val_accuracy: 0.4681\n",
      "Epoch 31/100\n",
      "125/125 - 2s - loss: 2.0690 - accuracy: 0.4571 - val_loss: 2.0124 - val_accuracy: 0.4759\n",
      "Epoch 32/100\n",
      "125/125 - 2s - loss: 2.0652 - accuracy: 0.4587 - val_loss: 2.0673 - val_accuracy: 0.4672\n",
      "Epoch 33/100\n",
      "125/125 - 2s - loss: 2.0503 - accuracy: 0.4630 - val_loss: 2.0186 - val_accuracy: 0.4750\n",
      "Epoch 34/100\n",
      "125/125 - 2s - loss: 2.0397 - accuracy: 0.4650 - val_loss: 2.0108 - val_accuracy: 0.4738\n",
      "Epoch 35/100\n",
      "125/125 - 2s - loss: 2.0375 - accuracy: 0.4645 - val_loss: 2.1022 - val_accuracy: 0.4527\n",
      "Epoch 36/100\n",
      "125/125 - 2s - loss: 2.0390 - accuracy: 0.4646 - val_loss: 2.0048 - val_accuracy: 0.4760\n",
      "Epoch 37/100\n",
      "125/125 - 2s - loss: 2.0302 - accuracy: 0.4647 - val_loss: 2.0318 - val_accuracy: 0.4741\n",
      "Epoch 38/100\n",
      "125/125 - 2s - loss: 2.0388 - accuracy: 0.4649 - val_loss: 1.9677 - val_accuracy: 0.4880\n",
      "Epoch 39/100\n",
      "125/125 - 2s - loss: 2.0243 - accuracy: 0.4660 - val_loss: 2.0542 - val_accuracy: 0.4681\n",
      "Epoch 40/100\n",
      "125/125 - 2s - loss: 2.0194 - accuracy: 0.4676 - val_loss: 1.9661 - val_accuracy: 0.4921\n",
      "Epoch 41/100\n",
      "125/125 - 2s - loss: 2.0121 - accuracy: 0.4716 - val_loss: 2.0233 - val_accuracy: 0.4789\n",
      "Epoch 42/100\n",
      "125/125 - 2s - loss: 2.0127 - accuracy: 0.4704 - val_loss: 2.0191 - val_accuracy: 0.4758\n",
      "Epoch 43/100\n",
      "125/125 - 2s - loss: 2.0086 - accuracy: 0.4725 - val_loss: 1.9627 - val_accuracy: 0.4831\n",
      "Epoch 44/100\n",
      "125/125 - 2s - loss: 2.0001 - accuracy: 0.4745 - val_loss: 1.9473 - val_accuracy: 0.4893\n",
      "Epoch 45/100\n",
      "125/125 - 2s - loss: 1.9954 - accuracy: 0.4750 - val_loss: 1.9886 - val_accuracy: 0.4835\n",
      "Epoch 46/100\n",
      "125/125 - 2s - loss: 1.9819 - accuracy: 0.4754 - val_loss: 2.0264 - val_accuracy: 0.4684\n",
      "Epoch 47/100\n",
      "125/125 - 2s - loss: 1.9870 - accuracy: 0.4752 - val_loss: 1.9305 - val_accuracy: 0.4961\n",
      "Epoch 48/100\n",
      "125/125 - 2s - loss: 1.9827 - accuracy: 0.4798 - val_loss: 1.9886 - val_accuracy: 0.4817\n",
      "Epoch 49/100\n",
      "125/125 - 2s - loss: 1.9768 - accuracy: 0.4773 - val_loss: 2.0866 - val_accuracy: 0.4584\n",
      "Epoch 50/100\n",
      "125/125 - 2s - loss: 1.9791 - accuracy: 0.4784 - val_loss: 1.9645 - val_accuracy: 0.4918\n",
      "Epoch 51/100\n",
      "125/125 - 2s - loss: 1.9743 - accuracy: 0.4776 - val_loss: 1.9547 - val_accuracy: 0.4872\n",
      "Epoch 52/100\n",
      "125/125 - 2s - loss: 1.9717 - accuracy: 0.4775 - val_loss: 1.9459 - val_accuracy: 0.4863\n",
      "Epoch 53/100\n",
      "125/125 - 2s - loss: 1.9661 - accuracy: 0.4798 - val_loss: 2.0259 - val_accuracy: 0.4700\n",
      "Epoch 54/100\n",
      "125/125 - 2s - loss: 1.9685 - accuracy: 0.4820 - val_loss: 1.9993 - val_accuracy: 0.4746\n",
      "Epoch 55/100\n",
      "125/125 - 2s - loss: 1.9671 - accuracy: 0.4818 - val_loss: 1.9105 - val_accuracy: 0.4929\n",
      "Epoch 56/100\n",
      "125/125 - 2s - loss: 1.9621 - accuracy: 0.4814 - val_loss: 1.9894 - val_accuracy: 0.4820\n",
      "Epoch 57/100\n",
      "125/125 - 2s - loss: 1.9596 - accuracy: 0.4842 - val_loss: 1.9329 - val_accuracy: 0.4941\n",
      "Epoch 58/100\n",
      "125/125 - 2s - loss: 1.9507 - accuracy: 0.4831 - val_loss: 1.9625 - val_accuracy: 0.4877\n",
      "Epoch 59/100\n",
      "125/125 - 2s - loss: 1.9565 - accuracy: 0.4852 - val_loss: 1.9734 - val_accuracy: 0.4824\n",
      "Epoch 60/100\n",
      "125/125 - 2s - loss: 1.9516 - accuracy: 0.4849 - val_loss: 1.9569 - val_accuracy: 0.4871\n",
      "Epoch 61/100\n",
      "125/125 - 2s - loss: 1.9546 - accuracy: 0.4825 - val_loss: 1.9201 - val_accuracy: 0.4934\n",
      "Epoch 62/100\n",
      "125/125 - 2s - loss: 1.9549 - accuracy: 0.4839 - val_loss: 2.0362 - val_accuracy: 0.4655\n",
      "Epoch 63/100\n",
      "125/125 - 2s - loss: 1.9471 - accuracy: 0.4842 - val_loss: 1.9941 - val_accuracy: 0.4773\n",
      "Epoch 64/100\n",
      "125/125 - 2s - loss: 1.9487 - accuracy: 0.4841 - val_loss: 1.9448 - val_accuracy: 0.4905\n",
      "Epoch 65/100\n",
      "125/125 - 2s - loss: 1.9381 - accuracy: 0.4843 - val_loss: 1.9410 - val_accuracy: 0.4886\n",
      "Epoch 66/100\n",
      "125/125 - 2s - loss: 1.9367 - accuracy: 0.4854 - val_loss: 1.9441 - val_accuracy: 0.4866\n",
      "Epoch 67/100\n",
      "125/125 - 2s - loss: 1.9475 - accuracy: 0.4865 - val_loss: 1.9264 - val_accuracy: 0.4876\n",
      "Epoch 68/100\n",
      "125/125 - 2s - loss: 1.9324 - accuracy: 0.4874 - val_loss: 1.9428 - val_accuracy: 0.4858\n",
      "Epoch 69/100\n",
      "125/125 - 2s - loss: 1.9270 - accuracy: 0.4894 - val_loss: 1.9890 - val_accuracy: 0.4856\n",
      "Epoch 70/100\n",
      "125/125 - 2s - loss: 1.9231 - accuracy: 0.4912 - val_loss: 1.9006 - val_accuracy: 0.5000\n",
      "Epoch 71/100\n",
      "125/125 - 2s - loss: 1.9206 - accuracy: 0.4914 - val_loss: 1.9446 - val_accuracy: 0.4882\n",
      "Epoch 72/100\n",
      "125/125 - 2s - loss: 1.9241 - accuracy: 0.4886 - val_loss: 1.9591 - val_accuracy: 0.4835\n",
      "Epoch 73/100\n",
      "125/125 - 2s - loss: 1.9182 - accuracy: 0.4902 - val_loss: 1.9808 - val_accuracy: 0.4829\n",
      "Epoch 74/100\n",
      "125/125 - 2s - loss: 1.9315 - accuracy: 0.4858 - val_loss: 1.9359 - val_accuracy: 0.4900\n",
      "Epoch 75/100\n",
      "125/125 - 2s - loss: 1.9175 - accuracy: 0.4915 - val_loss: 1.9369 - val_accuracy: 0.4879\n",
      "Epoch 76/100\n",
      "125/125 - 2s - loss: 1.9188 - accuracy: 0.4886 - val_loss: 1.9356 - val_accuracy: 0.4912\n",
      "Epoch 77/100\n",
      "125/125 - 2s - loss: 1.9179 - accuracy: 0.4912 - val_loss: 1.8984 - val_accuracy: 0.5011\n",
      "Epoch 78/100\n",
      "125/125 - 2s - loss: 1.9106 - accuracy: 0.4894 - val_loss: 2.0218 - val_accuracy: 0.4730\n",
      "Epoch 79/100\n",
      "125/125 - 2s - loss: 1.9188 - accuracy: 0.4891 - val_loss: 1.9514 - val_accuracy: 0.4941\n",
      "Epoch 80/100\n",
      "125/125 - 2s - loss: 1.9086 - accuracy: 0.4924 - val_loss: 1.8952 - val_accuracy: 0.5053\n",
      "Epoch 81/100\n",
      "125/125 - 2s - loss: 1.9107 - accuracy: 0.4903 - val_loss: 1.9041 - val_accuracy: 0.5018\n",
      "Epoch 82/100\n",
      "125/125 - 2s - loss: 1.9030 - accuracy: 0.4922 - val_loss: 1.9011 - val_accuracy: 0.4981\n",
      "Epoch 83/100\n",
      "125/125 - 2s - loss: 1.9080 - accuracy: 0.4941 - val_loss: 1.9111 - val_accuracy: 0.4957\n",
      "Epoch 84/100\n",
      "125/125 - 2s - loss: 1.9039 - accuracy: 0.4929 - val_loss: 1.9305 - val_accuracy: 0.4976\n",
      "Epoch 85/100\n",
      "125/125 - 2s - loss: 1.9122 - accuracy: 0.4912 - val_loss: 1.8944 - val_accuracy: 0.4984\n",
      "Epoch 86/100\n",
      "125/125 - 2s - loss: 1.9049 - accuracy: 0.4919 - val_loss: 1.8949 - val_accuracy: 0.5047\n",
      "Epoch 87/100\n",
      "125/125 - 2s - loss: 1.9010 - accuracy: 0.4935 - val_loss: 1.9047 - val_accuracy: 0.4974\n",
      "Epoch 88/100\n",
      "125/125 - 2s - loss: 1.9038 - accuracy: 0.4914 - val_loss: 1.9090 - val_accuracy: 0.4989\n",
      "Epoch 89/100\n",
      "125/125 - 2s - loss: 1.8979 - accuracy: 0.4956 - val_loss: 1.9101 - val_accuracy: 0.4971\n",
      "Epoch 90/100\n",
      "125/125 - 2s - loss: 1.8915 - accuracy: 0.4969 - val_loss: 1.9074 - val_accuracy: 0.5010\n",
      "Epoch 91/100\n",
      "125/125 - 2s - loss: 1.8966 - accuracy: 0.4962 - val_loss: 1.9205 - val_accuracy: 0.4902\n",
      "Epoch 92/100\n",
      "125/125 - 2s - loss: 1.8845 - accuracy: 0.4963 - val_loss: 1.9071 - val_accuracy: 0.4994\n",
      "Epoch 93/100\n",
      "125/125 - 2s - loss: 1.8946 - accuracy: 0.4976 - val_loss: 1.9465 - val_accuracy: 0.4877\n",
      "Epoch 94/100\n",
      "125/125 - 2s - loss: 1.8978 - accuracy: 0.4943 - val_loss: 1.9100 - val_accuracy: 0.4956\n",
      "Epoch 95/100\n",
      "125/125 - 2s - loss: 1.8923 - accuracy: 0.4962 - val_loss: 1.8863 - val_accuracy: 0.5026\n",
      "Epoch 96/100\n",
      "125/125 - 2s - loss: 1.8932 - accuracy: 0.4926 - val_loss: 1.8818 - val_accuracy: 0.5043\n",
      "Epoch 97/100\n",
      "125/125 - 2s - loss: 1.8844 - accuracy: 0.4981 - val_loss: 1.8766 - val_accuracy: 0.5036\n",
      "Epoch 98/100\n",
      "125/125 - 2s - loss: 1.8851 - accuracy: 0.4991 - val_loss: 1.9026 - val_accuracy: 0.5051\n",
      "Epoch 99/100\n",
      "125/125 - 2s - loss: 1.8850 - accuracy: 0.4972 - val_loss: 1.8888 - val_accuracy: 0.4984\n",
      "Epoch 100/100\n",
      "125/125 - 2s - loss: 1.8866 - accuracy: 0.4970 - val_loss: 1.8902 - val_accuracy: 0.5040\n"
     ]
    },
    {
     "data": {
      "text/plain": [
       "<tensorflow.python.keras.callbacks.History at 0x1935a1ac9b0>"
      ]
     },
     "execution_count": 42,
     "metadata": {},
     "output_type": "execute_result"
    }
   ],
   "source": [
    "def cifar_100_cnn(input_shape = (32,32,3), target_class = 100):\n",
    "    inputs = Input(shape = input_shape)\n",
    "    x = Conv2D(filters = 16, kernel_size = (3,3), padding = 'same', activation = 'relu')(inputs)\n",
    "    x = BatchNormalization()(x)\n",
    "    x = MaxPool2D()(x)\n",
    "    \n",
    "    x = Conv2D(filters = 32, kernel_size = (3,3), padding = 'same', activation = 'relu')(x)\n",
    "    x = BatchNormalization()(x)\n",
    "    x = MaxPool2D()(x)\n",
    "    x = Dropout(rate = 0.25)(x)\n",
    "    \n",
    "    x = Conv2D(filters = 64, kernel_size = (3,3), padding = 'same', activation = 'relu')(x)\n",
    "    x = BatchNormalization()(x)\n",
    "    x = MaxPool2D()(x)\n",
    "    x = Dropout(rate=0.5)(x)\n",
    "    \n",
    "    x = Flatten()(x)\n",
    "    outputs = Dense(units = target_class, activation = 'softmax')(x)\n",
    "    \n",
    "    model = Model(inputs= inputs, outputs = outputs)\n",
    "\n",
    "    return model\n",
    "\n",
    "cifar100_hihi = cifar_100_cnn()\n",
    "cifar100_hihi.compile(optimizer=rms, loss = 'categorical_crossentropy', metrics = ['accuracy'])\n",
    "\n",
    "if not os.path.isdir('./log/20210927_4'):\n",
    "    os.mkdir('./log/20210927_4')\n",
    "\n",
    "tb = TensorBoard(log_dir = './log/20210927_4')\n",
    "\n",
    "cifar100_hihi.fit(x_train, y_train, epochs=100, batch_size=400, validation_data = (x_test, y_test), callbacks=[tb], verbose=2)"
   ]
  },
  {
   "cell_type": "code",
   "execution_count": 43,
   "id": "4b083b6e-7a81-4853-bfb0-2cea75c433b4",
   "metadata": {},
   "outputs": [],
   "source": [
    "y_pred = cifar100_hihi.predict(x_train)\n",
    "y_label = np.argmax(y_pred, axis = 1)"
   ]
  },
  {
   "cell_type": "code",
   "execution_count": 47,
   "id": "61c94e56-6ed3-4670-9d01-e26059a4a0fa",
   "metadata": {},
   "outputs": [
    {
     "data": {
      "text/plain": [
       "<tf.Tensor: shape=(100, 100), dtype=int32, numpy=\n",
       "array([[459,   0,   1, ...,   0,   0,   0],\n",
       "       [  3, 415,   0, ...,   1,   0,   0],\n",
       "       [  4,   6, 269, ...,   5,   8,   1],\n",
       "       ...,\n",
       "       [  0,   2,   0, ..., 378,   0,   0],\n",
       "       [  3,   0,  19, ...,   2, 226,   0],\n",
       "       [  1,   2,   2, ...,   3,   0, 273]])>"
      ]
     },
     "execution_count": 47,
     "metadata": {},
     "output_type": "execute_result"
    }
   ],
   "source": [
    "tf.math.confusion_matrix(np.argmax(y_train,axis = 1),y_label)"
   ]
  },
  {
   "cell_type": "code",
   "execution_count": 48,
   "id": "196c86a5-22ff-4c01-98b8-9001628f684d",
   "metadata": {},
   "outputs": [
    {
     "name": "stdout",
     "output_type": "stream",
     "text": [
      "1563/1563 [==============================] - 4s 2ms/step - loss: 1.3224 - accuracy: 0.6520\n"
     ]
    },
    {
     "data": {
      "text/plain": [
       "[1.32241690158844, 0.6520199775695801]"
      ]
     },
     "execution_count": 48,
     "metadata": {},
     "output_type": "execute_result"
    }
   ],
   "source": [
    "cifar100_hihi.evaluate(x_train, y_train)"
   ]
  },
  {
   "cell_type": "code",
   "execution_count": 49,
   "id": "ae64d0bd-7102-4305-881f-67b41d2bcaef",
   "metadata": {},
   "outputs": [
    {
     "name": "stdout",
     "output_type": "stream",
     "text": [
      "313/313 [==============================] - 1s 2ms/step - loss: 1.8902 - accuracy: 0.5040\n"
     ]
    },
    {
     "data": {
      "text/plain": [
       "[1.8902223110198975, 0.5040000081062317]"
      ]
     },
     "execution_count": 49,
     "metadata": {},
     "output_type": "execute_result"
    }
   ],
   "source": [
    "cifar100_hihi.evaluate(x_test,y_test)"
   ]
  },
  {
   "cell_type": "code",
   "execution_count": null,
   "id": "e8642b9d-453e-4b26-8b22-07a41ca9854f",
   "metadata": {},
   "outputs": [],
   "source": []
  }
 ],
 "metadata": {
  "kernelspec": {
   "display_name": "Python 3 (ipykernel)",
   "language": "python",
   "name": "python3"
  },
  "language_info": {
   "codemirror_mode": {
    "name": "ipython",
    "version": 3
   },
   "file_extension": ".py",
   "mimetype": "text/x-python",
   "name": "python",
   "nbconvert_exporter": "python",
   "pygments_lexer": "ipython3",
   "version": "3.7.1"
  }
 },
 "nbformat": 4,
 "nbformat_minor": 5
}
