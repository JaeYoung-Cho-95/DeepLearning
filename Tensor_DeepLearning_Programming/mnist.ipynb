{
 "cells": [
  {
   "cell_type": "markdown",
   "id": "05212adb-be8f-4dd2-91aa-80b96fb195e8",
   "metadata": {},
   "source": [
    "# conv 를 사용하지 않습니다"
   ]
  },
  {
   "cell_type": "code",
   "execution_count": 2,
   "id": "07caaa12-8d18-450e-87b9-cbe23d34e385",
   "metadata": {},
   "outputs": [],
   "source": [
    "from tensorflow.keras.datasets import mnist\n",
    "(x_train,y_train),(x_test,y_test) = mnist.load_data()"
   ]
  },
  {
   "cell_type": "code",
   "execution_count": 5,
   "id": "af12874f-30e5-4f94-8455-041b8f6c6c4f",
   "metadata": {},
   "outputs": [
    {
     "data": {
      "text/plain": [
       "((60000, 28, 28), (60000,), (10000, 28, 28), (10000,))"
      ]
     },
     "execution_count": 5,
     "metadata": {},
     "output_type": "execute_result"
    }
   ],
   "source": [
    "x_train.shape, y_train.shape, x_test.shape, y_test.shape"
   ]
  },
  {
   "cell_type": "code",
   "execution_count": 7,
   "id": "58e96a00-6cc7-44df-ae4b-036516c31da9",
   "metadata": {},
   "outputs": [],
   "source": [
    "import numpy as np\n",
    "n_label, count = np.unique(y_train, return_counts = True)"
   ]
  },
  {
   "cell_type": "code",
   "execution_count": 22,
   "id": "799f5686-5142-454e-8a03-806400fc3cdb",
   "metadata": {},
   "outputs": [
    {
     "data": {
      "text/plain": [
       "<BarContainer object of 10 artists>"
      ]
     },
     "execution_count": 22,
     "metadata": {},
     "output_type": "execute_result"
    },
    {
     "data": {
      "image/png": "[encoded data removed]",
      "text/plain": [
       "<Figure size 432x288 with 1 Axes>"
      ]
     },
     "metadata": {
      "needs_background": "light"
     },
     "output_type": "display_data"
    }
   ],
   "source": [
    "plt.bar(x=n_label,height=count)"
   ]
  },
  {
   "cell_type": "code",
   "execution_count": 23,
   "id": "7e1c39a4-82a7-4075-a3b8-969dca2ded81",
   "metadata": {},
   "outputs": [
    {
     "data": {
      "image/png": "[encoded data removed]",
      "text/plain": [
       "<Figure size 576x288 with 8 Axes>"
      ]
     },
     "metadata": {
      "needs_background": "light"
     },
     "output_type": "display_data"
    }
   ],
   "source": [
    "import matplotlib.pyplot as plt\n",
    "fig = plt.figure(figsize = (8,4))\n",
    "for i in range(8):\n",
    "    plt.subplot(2,4,i+1)\n",
    "    plt.imshow(x_train[i], cmap = 'gray')\n",
    "    plt.axis('off')"
   ]
  },
  {
   "cell_type": "code",
   "execution_count": 26,
   "id": "ba1dbc71-c49b-4682-981c-80e6e7194e9e",
   "metadata": {},
   "outputs": [],
   "source": [
    "# 정규화\n",
    "x_train = x_train.astype('float32')\n",
    "x_test = x_test.astype('float32')\n",
    "x_train = x_train / 255.0\n",
    "x_test = x_test / 255.0"
   ]
  },
  {
   "cell_type": "code",
   "execution_count": 28,
   "id": "d7e6a787-e1a1-42f2-b3ba-98c6f930abb6",
   "metadata": {},
   "outputs": [],
   "source": [
    "# one_hot_encoding\n",
    "from tensorflow.keras.utils import to_categorical\n",
    "y_train = to_categorical(y_train)\n",
    "y_test = to_categorical(y_test)"
   ]
  },
  {
   "cell_type": "code",
   "execution_count": 30,
   "id": "08e733b6-6e74-4638-97a0-f9c59f34993d",
   "metadata": {},
   "outputs": [
    {
     "data": {
      "text/plain": [
       "((60000, 28, 28), (60000, 10), (10000, 28, 28), (10000, 10))"
      ]
     },
     "execution_count": 30,
     "metadata": {},
     "output_type": "execute_result"
    }
   ],
   "source": [
    "x_train.shape, y_train.shape, x_test.shape, y_test.shape"
   ]
  },
  {
   "cell_type": "code",
   "execution_count": 32,
   "id": "3b8d9f2f-d199-43cc-b4ff-f4fea88274cd",
   "metadata": {},
   "outputs": [],
   "source": [
    "from tensorflow.keras.layers import Dense, Flatten\n",
    "from tensorflow.keras.optimizers import Adam\n",
    "from tensorflow.keras.models import Sequential, Model"
   ]
  },
  {
   "cell_type": "code",
   "execution_count": 44,
   "id": "00856440-f562-4e8e-a670-6897adb0b3b3",
   "metadata": {},
   "outputs": [
    {
     "name": "stdout",
     "output_type": "stream",
     "text": [
      "Model: \"sequential_3\"\n",
      "_________________________________________________________________\n",
      "Layer (type)                 Output Shape              Param #   \n",
      "=================================================================\n",
      "flatten_3 (Flatten)          (None, 784)               0         \n",
      "_________________________________________________________________\n",
      "dense_8 (Dense)              (None, 20)                15700     \n",
      "_________________________________________________________________\n",
      "dense_9 (Dense)              (None, 10)                210       \n",
      "=================================================================\n",
      "Total params: 15,910\n",
      "Trainable params: 15,910\n",
      "Non-trainable params: 0\n",
      "_________________________________________________________________\n"
     ]
    }
   ],
   "source": [
    "model = Sequential()\n",
    "model.add(Flatten(input_shape = (28,28)))\n",
    "model.add(Dense(20, activation = 'sigmoid'))\n",
    "model.add(Dense(10, activation = 'softmax'))\n",
    "model.summary()"
   ]
  },
  {
   "cell_type": "code",
   "execution_count": 45,
   "id": "581ee595-5149-4276-b3be-54232caa76e1",
   "metadata": {
    "tags": []
   },
   "outputs": [
    {
     "name": "stdout",
     "output_type": "stream",
     "text": [
      "Epoch 1/100\n",
      "120/120 [==============================] - 1s 3ms/step - loss: 2.3715 - acc: 0.1005 - val_loss: 2.2945 - val_acc: 0.0956\n",
      "Epoch 2/100\n",
      "120/120 [==============================] - 0s 2ms/step - loss: 2.2905 - acc: 0.1304 - val_loss: 2.2845 - val_acc: 0.1060\n",
      "Epoch 3/100\n",
      "120/120 [==============================] - 0s 2ms/step - loss: 2.2807 - acc: 0.1154 - val_loss: 2.2724 - val_acc: 0.1212\n",
      "Epoch 4/100\n",
      "120/120 [==============================] - 0s 2ms/step - loss: 2.2687 - acc: 0.1892 - val_loss: 2.2605 - val_acc: 0.1500\n",
      "Epoch 5/100\n",
      "120/120 [==============================] - 0s 2ms/step - loss: 2.2564 - acc: 0.1974 - val_loss: 2.2449 - val_acc: 0.2776\n",
      "Epoch 6/100\n",
      "120/120 [==============================] - 0s 2ms/step - loss: 2.2411 - acc: 0.2667 - val_loss: 2.2272 - val_acc: 0.2989\n",
      "Epoch 7/100\n",
      "120/120 [==============================] - 0s 2ms/step - loss: 2.2220 - acc: 0.3076 - val_loss: 2.2054 - val_acc: 0.3311\n",
      "Epoch 8/100\n",
      "120/120 [==============================] - 0s 2ms/step - loss: 2.2003 - acc: 0.3145 - val_loss: 2.1799 - val_acc: 0.3864\n",
      "Epoch 9/100\n",
      "120/120 [==============================] - 0s 2ms/step - loss: 2.1733 - acc: 0.3880 - val_loss: 2.1493 - val_acc: 0.4038\n",
      "Epoch 10/100\n",
      "120/120 [==============================] - 0s 2ms/step - loss: 2.1412 - acc: 0.4026 - val_loss: 2.1143 - val_acc: 0.4246\n",
      "Epoch 11/100\n",
      "120/120 [==============================] - 0s 2ms/step - loss: 2.1060 - acc: 0.4402 - val_loss: 2.0741 - val_acc: 0.4478\n",
      "Epoch 12/100\n",
      "120/120 [==============================] - 0s 2ms/step - loss: 2.0652 - acc: 0.4565 - val_loss: 2.0302 - val_acc: 0.4922\n",
      "Epoch 13/100\n",
      "120/120 [==============================] - 0s 2ms/step - loss: 2.0214 - acc: 0.4664 - val_loss: 1.9827 - val_acc: 0.5192\n",
      "Epoch 14/100\n",
      "120/120 [==============================] - 0s 2ms/step - loss: 1.9733 - acc: 0.4836 - val_loss: 1.9316 - val_acc: 0.5378\n",
      "Epoch 15/100\n",
      "120/120 [==============================] - 0s 2ms/step - loss: 1.9240 - acc: 0.5171 - val_loss: 1.8794 - val_acc: 0.5320\n",
      "Epoch 16/100\n",
      "120/120 [==============================] - 0s 2ms/step - loss: 1.8704 - acc: 0.5258 - val_loss: 1.8236 - val_acc: 0.5757\n",
      "Epoch 17/100\n",
      "120/120 [==============================] - 0s 3ms/step - loss: 1.8172 - acc: 0.5569 - val_loss: 1.7680 - val_acc: 0.5558\n",
      "Epoch 18/100\n",
      "120/120 [==============================] - 0s 2ms/step - loss: 1.7629 - acc: 0.5635 - val_loss: 1.7123 - val_acc: 0.6191\n",
      "Epoch 19/100\n",
      "120/120 [==============================] - 0s 2ms/step - loss: 1.7042 - acc: 0.5969 - val_loss: 1.6543 - val_acc: 0.6306\n",
      "Epoch 20/100\n",
      "120/120 [==============================] - 0s 2ms/step - loss: 1.6469 - acc: 0.6187 - val_loss: 1.5976 - val_acc: 0.6405\n",
      "Epoch 21/100\n",
      "120/120 [==============================] - 0s 2ms/step - loss: 1.5916 - acc: 0.6367 - val_loss: 1.5430 - val_acc: 0.6493\n",
      "Epoch 22/100\n",
      "120/120 [==============================] - 0s 2ms/step - loss: 1.5421 - acc: 0.6483 - val_loss: 1.4883 - val_acc: 0.6698\n",
      "Epoch 23/100\n",
      "120/120 [==============================] - 0s 2ms/step - loss: 1.4863 - acc: 0.6615 - val_loss: 1.4354 - val_acc: 0.6741\n",
      "Epoch 24/100\n",
      "120/120 [==============================] - 0s 2ms/step - loss: 1.4343 - acc: 0.6682 - val_loss: 1.3840 - val_acc: 0.7025\n",
      "Epoch 25/100\n",
      "120/120 [==============================] - 0s 2ms/step - loss: 1.3850 - acc: 0.6857 - val_loss: 1.3347 - val_acc: 0.7166\n",
      "Epoch 26/100\n",
      "120/120 [==============================] - 0s 2ms/step - loss: 1.3374 - acc: 0.6967 - val_loss: 1.2877 - val_acc: 0.7205\n",
      "Epoch 27/100\n",
      "120/120 [==============================] - 0s 2ms/step - loss: 1.2920 - acc: 0.7072 - val_loss: 1.2420 - val_acc: 0.7370\n",
      "Epoch 28/100\n",
      "120/120 [==============================] - 0s 3ms/step - loss: 1.2492 - acc: 0.7157 - val_loss: 1.1991 - val_acc: 0.7350\n",
      "Epoch 29/100\n",
      "120/120 [==============================] - 0s 2ms/step - loss: 1.2084 - acc: 0.7238 - val_loss: 1.1584 - val_acc: 0.7498\n",
      "Epoch 30/100\n",
      "120/120 [==============================] - 0s 2ms/step - loss: 1.1645 - acc: 0.7347 - val_loss: 1.1191 - val_acc: 0.7626\n",
      "Epoch 31/100\n",
      "120/120 [==============================] - 0s 2ms/step - loss: 1.1361 - acc: 0.7417 - val_loss: 1.0823 - val_acc: 0.7594\n",
      "Epoch 32/100\n",
      "120/120 [==============================] - 0s 2ms/step - loss: 1.0913 - acc: 0.7511 - val_loss: 1.0470 - val_acc: 0.7758\n",
      "Epoch 33/100\n",
      "120/120 [==============================] - 0s 2ms/step - loss: 1.0563 - acc: 0.7601 - val_loss: 1.0145 - val_acc: 0.7797\n",
      "Epoch 34/100\n",
      "120/120 [==============================] - 0s 2ms/step - loss: 1.0296 - acc: 0.7623 - val_loss: 0.9828 - val_acc: 0.7889\n",
      "Epoch 35/100\n",
      "120/120 [==============================] - 0s 2ms/step - loss: 1.0001 - acc: 0.7677 - val_loss: 0.9535 - val_acc: 0.7937\n",
      "Epoch 36/100\n",
      "120/120 [==============================] - 0s 2ms/step - loss: 0.9731 - acc: 0.7747 - val_loss: 0.9254 - val_acc: 0.7967\n",
      "Epoch 37/100\n",
      "120/120 [==============================] - 0s 2ms/step - loss: 0.9467 - acc: 0.7754 - val_loss: 0.8994 - val_acc: 0.8064\n",
      "Epoch 38/100\n",
      "120/120 [==============================] - 0s 2ms/step - loss: 0.9121 - acc: 0.7878 - val_loss: 0.8734 - val_acc: 0.8087\n",
      "Epoch 39/100\n",
      "120/120 [==============================] - 0s 2ms/step - loss: 0.8918 - acc: 0.7939 - val_loss: 0.8494 - val_acc: 0.8092\n",
      "Epoch 40/100\n",
      "120/120 [==============================] - 0s 2ms/step - loss: 0.8692 - acc: 0.7926 - val_loss: 0.8269 - val_acc: 0.8163\n",
      "Epoch 41/100\n",
      "120/120 [==============================] - 0s 2ms/step - loss: 0.8494 - acc: 0.7967 - val_loss: 0.8053 - val_acc: 0.8183\n",
      "Epoch 42/100\n",
      "120/120 [==============================] - 0s 2ms/step - loss: 0.8312 - acc: 0.8001 - val_loss: 0.7854 - val_acc: 0.8237\n",
      "Epoch 43/100\n",
      "120/120 [==============================] - 0s 2ms/step - loss: 0.8038 - acc: 0.8091 - val_loss: 0.7656 - val_acc: 0.8251\n",
      "Epoch 44/100\n",
      "120/120 [==============================] - 0s 2ms/step - loss: 0.7860 - acc: 0.8080 - val_loss: 0.7474 - val_acc: 0.8230\n",
      "Epoch 45/100\n",
      "120/120 [==============================] - 0s 2ms/step - loss: 0.7701 - acc: 0.8102 - val_loss: 0.7302 - val_acc: 0.8297\n",
      "Epoch 46/100\n",
      "120/120 [==============================] - 0s 2ms/step - loss: 0.7528 - acc: 0.8155 - val_loss: 0.7136 - val_acc: 0.8319\n",
      "Epoch 47/100\n",
      "120/120 [==============================] - 0s 2ms/step - loss: 0.7368 - acc: 0.8193 - val_loss: 0.6982 - val_acc: 0.8352\n",
      "Epoch 48/100\n",
      "120/120 [==============================] - 0s 2ms/step - loss: 0.7221 - acc: 0.8201 - val_loss: 0.6831 - val_acc: 0.8362\n",
      "Epoch 49/100\n",
      "120/120 [==============================] - 0s 2ms/step - loss: 0.7058 - acc: 0.8257 - val_loss: 0.6688 - val_acc: 0.8404\n",
      "Epoch 50/100\n",
      "120/120 [==============================] - 0s 2ms/step - loss: 0.6915 - acc: 0.8282 - val_loss: 0.6550 - val_acc: 0.8432\n",
      "Epoch 51/100\n",
      "120/120 [==============================] - 0s 2ms/step - loss: 0.6743 - acc: 0.8317 - val_loss: 0.6420 - val_acc: 0.8462\n",
      "Epoch 52/100\n",
      "120/120 [==============================] - 0s 2ms/step - loss: 0.6694 - acc: 0.8309 - val_loss: 0.6302 - val_acc: 0.8477\n",
      "Epoch 53/100\n",
      "120/120 [==============================] - 0s 2ms/step - loss: 0.6551 - acc: 0.8390 - val_loss: 0.6183 - val_acc: 0.8486\n",
      "Epoch 54/100\n",
      "120/120 [==============================] - 0s 2ms/step - loss: 0.6438 - acc: 0.8382 - val_loss: 0.6071 - val_acc: 0.8520\n",
      "Epoch 55/100\n",
      "120/120 [==============================] - 0s 2ms/step - loss: 0.6311 - acc: 0.8421 - val_loss: 0.5962 - val_acc: 0.8534\n",
      "Epoch 56/100\n",
      "120/120 [==============================] - 0s 2ms/step - loss: 0.6256 - acc: 0.8394 - val_loss: 0.5859 - val_acc: 0.8551\n",
      "Epoch 57/100\n",
      "120/120 [==============================] - 0s 2ms/step - loss: 0.6165 - acc: 0.8412 - val_loss: 0.5763 - val_acc: 0.8568\n",
      "Epoch 58/100\n",
      "120/120 [==============================] - 0s 2ms/step - loss: 0.5963 - acc: 0.8470 - val_loss: 0.5668 - val_acc: 0.8587\n",
      "Epoch 59/100\n",
      "120/120 [==============================] - 0s 2ms/step - loss: 0.5993 - acc: 0.8448 - val_loss: 0.5582 - val_acc: 0.8608\n",
      "Epoch 60/100\n",
      "120/120 [==============================] - 0s 2ms/step - loss: 0.5839 - acc: 0.8487 - val_loss: 0.5492 - val_acc: 0.8620\n",
      "Epoch 61/100\n",
      "120/120 [==============================] - 0s 2ms/step - loss: 0.5815 - acc: 0.8481 - val_loss: 0.5411 - val_acc: 0.8635\n",
      "Epoch 62/100\n",
      "120/120 [==============================] - 0s 2ms/step - loss: 0.5686 - acc: 0.8549 - val_loss: 0.5332 - val_acc: 0.8653\n",
      "Epoch 63/100\n",
      "120/120 [==============================] - 0s 2ms/step - loss: 0.5590 - acc: 0.8527 - val_loss: 0.5253 - val_acc: 0.8664\n",
      "Epoch 64/100\n",
      "120/120 [==============================] - 0s 2ms/step - loss: 0.5520 - acc: 0.8551 - val_loss: 0.5183 - val_acc: 0.8678\n",
      "Epoch 65/100\n",
      "120/120 [==============================] - 0s 2ms/step - loss: 0.5482 - acc: 0.8565 - val_loss: 0.5114 - val_acc: 0.8693\n",
      "Epoch 66/100\n",
      "120/120 [==============================] - 0s 2ms/step - loss: 0.5343 - acc: 0.8607 - val_loss: 0.5044 - val_acc: 0.8706\n",
      "Epoch 67/100\n",
      "120/120 [==============================] - 0s 2ms/step - loss: 0.5326 - acc: 0.8594 - val_loss: 0.4980 - val_acc: 0.8717\n",
      "Epoch 68/100\n",
      "120/120 [==============================] - 0s 2ms/step - loss: 0.5250 - acc: 0.8597 - val_loss: 0.4918 - val_acc: 0.8740\n",
      "Epoch 69/100\n",
      "120/120 [==============================] - 0s 2ms/step - loss: 0.5167 - acc: 0.8643 - val_loss: 0.4862 - val_acc: 0.8727\n",
      "Epoch 70/100\n",
      "120/120 [==============================] - 0s 2ms/step - loss: 0.5093 - acc: 0.8655 - val_loss: 0.4803 - val_acc: 0.8750\n",
      "Epoch 71/100\n",
      "120/120 [==============================] - 0s 2ms/step - loss: 0.5084 - acc: 0.8656 - val_loss: 0.4749 - val_acc: 0.8771\n",
      "Epoch 72/100\n",
      "120/120 [==============================] - 0s 2ms/step - loss: 0.5004 - acc: 0.8666 - val_loss: 0.4695 - val_acc: 0.8781\n",
      "Epoch 73/100\n",
      "120/120 [==============================] - 0s 2ms/step - loss: 0.4910 - acc: 0.8687 - val_loss: 0.4644 - val_acc: 0.8789\n",
      "Epoch 74/100\n",
      "120/120 [==============================] - 0s 2ms/step - loss: 0.4858 - acc: 0.8696 - val_loss: 0.4596 - val_acc: 0.8792\n",
      "Epoch 75/100\n",
      "120/120 [==============================] - 0s 2ms/step - loss: 0.4831 - acc: 0.8694 - val_loss: 0.4550 - val_acc: 0.8810\n",
      "Epoch 76/100\n",
      "120/120 [==============================] - 0s 2ms/step - loss: 0.4729 - acc: 0.8732 - val_loss: 0.4502 - val_acc: 0.8805\n",
      "Epoch 77/100\n",
      "120/120 [==============================] - 0s 2ms/step - loss: 0.4751 - acc: 0.8696 - val_loss: 0.4460 - val_acc: 0.8823\n",
      "Epoch 78/100\n",
      "120/120 [==============================] - 0s 3ms/step - loss: 0.4709 - acc: 0.8736 - val_loss: 0.4418 - val_acc: 0.8834\n",
      "Epoch 79/100\n",
      "120/120 [==============================] - 0s 2ms/step - loss: 0.4593 - acc: 0.8768 - val_loss: 0.4378 - val_acc: 0.8846\n",
      "Epoch 80/100\n",
      "120/120 [==============================] - 0s 3ms/step - loss: 0.4594 - acc: 0.8779 - val_loss: 0.4337 - val_acc: 0.8852\n",
      "Epoch 81/100\n",
      "120/120 [==============================] - 0s 3ms/step - loss: 0.4601 - acc: 0.8740 - val_loss: 0.4301 - val_acc: 0.8852\n",
      "Epoch 82/100\n",
      "120/120 [==============================] - 0s 2ms/step - loss: 0.4536 - acc: 0.8760 - val_loss: 0.4265 - val_acc: 0.8867\n",
      "Epoch 83/100\n",
      "120/120 [==============================] - 0s 2ms/step - loss: 0.4450 - acc: 0.8795 - val_loss: 0.4227 - val_acc: 0.8881\n",
      "Epoch 84/100\n",
      "120/120 [==============================] - 0s 2ms/step - loss: 0.4509 - acc: 0.8766 - val_loss: 0.4193 - val_acc: 0.8882\n",
      "Epoch 85/100\n",
      "120/120 [==============================] - 0s 2ms/step - loss: 0.4437 - acc: 0.8779 - val_loss: 0.4163 - val_acc: 0.8882\n",
      "Epoch 86/100\n",
      "120/120 [==============================] - 0s 2ms/step - loss: 0.4398 - acc: 0.8814 - val_loss: 0.4129 - val_acc: 0.8892\n",
      "Epoch 87/100\n",
      "120/120 [==============================] - 0s 2ms/step - loss: 0.4331 - acc: 0.8813 - val_loss: 0.4098 - val_acc: 0.8898\n",
      "Epoch 88/100\n",
      "120/120 [==============================] - 0s 2ms/step - loss: 0.4260 - acc: 0.8832 - val_loss: 0.4070 - val_acc: 0.8911\n",
      "Epoch 89/100\n",
      "120/120 [==============================] - 0s 2ms/step - loss: 0.4315 - acc: 0.8820 - val_loss: 0.4038 - val_acc: 0.8902\n",
      "Epoch 90/100\n",
      "120/120 [==============================] - 0s 2ms/step - loss: 0.4311 - acc: 0.8791 - val_loss: 0.4010 - val_acc: 0.8908\n",
      "Epoch 91/100\n",
      "120/120 [==============================] - 0s 2ms/step - loss: 0.4306 - acc: 0.8828 - val_loss: 0.3983 - val_acc: 0.8923\n",
      "Epoch 92/100\n",
      "120/120 [==============================] - 0s 2ms/step - loss: 0.4189 - acc: 0.8848 - val_loss: 0.3958 - val_acc: 0.8918\n",
      "Epoch 93/100\n",
      "120/120 [==============================] - 0s 2ms/step - loss: 0.4177 - acc: 0.8840 - val_loss: 0.3930 - val_acc: 0.8924\n",
      "Epoch 94/100\n",
      "120/120 [==============================] - 0s 3ms/step - loss: 0.4087 - acc: 0.8884 - val_loss: 0.3905 - val_acc: 0.8932\n",
      "Epoch 95/100\n",
      "120/120 [==============================] - 0s 2ms/step - loss: 0.4144 - acc: 0.8866 - val_loss: 0.3882 - val_acc: 0.8938\n",
      "Epoch 96/100\n",
      "120/120 [==============================] - 0s 2ms/step - loss: 0.4161 - acc: 0.8853 - val_loss: 0.3860 - val_acc: 0.8943\n",
      "Epoch 97/100\n",
      "120/120 [==============================] - 0s 2ms/step - loss: 0.4102 - acc: 0.8862 - val_loss: 0.3837 - val_acc: 0.8949\n",
      "Epoch 98/100\n",
      "120/120 [==============================] - 0s 2ms/step - loss: 0.4048 - acc: 0.8880 - val_loss: 0.3815 - val_acc: 0.8953\n",
      "Epoch 99/100\n",
      "120/120 [==============================] - 0s 2ms/step - loss: 0.3975 - acc: 0.8884 - val_loss: 0.3792 - val_acc: 0.8950\n",
      "Epoch 100/100\n",
      "120/120 [==============================] - 0s 2ms/step - loss: 0.4040 - acc: 0.8881 - val_loss: 0.3770 - val_acc: 0.8957\n"
     ]
    },
    {
     "data": {
      "text/plain": [
       "<tensorflow.python.keras.callbacks.History at 0x2088a5079b0>"
      ]
     },
     "execution_count": 45,
     "metadata": {},
     "output_type": "execute_result"
    }
   ],
   "source": [
    "model.compile(optimizer=Adam(), loss='categorical_crossentropy',metrics=['acc'])\n",
    "model.fit(x_train,y_train,validation_split=0.2,epochs=100,batch_size=400,verbose=1)"
   ]
  },
  {
   "cell_type": "code",
   "execution_count": 43,
   "id": "3b5d8c7b-8550-4562-9198-a345ab30630a",
   "metadata": {
    "tags": []
   },
   "outputs": [
    {
     "name": "stdout",
     "output_type": "stream",
     "text": [
      "Epoch 1/100\n",
      "120/120 [==============================] - 1s 4ms/step - loss: 3.5750 - acc: 0.5631 - val_loss: 0.8183 - val_acc: 0.7405\n",
      "Epoch 2/100\n",
      "120/120 [==============================] - 0s 4ms/step - loss: 0.6595 - acc: 0.7997 - val_loss: 0.5833 - val_acc: 0.8102\n",
      "Epoch 3/100\n",
      "120/120 [==============================] - 0s 4ms/step - loss: 0.5356 - acc: 0.8361 - val_loss: 0.3577 - val_acc: 0.8914\n",
      "Epoch 4/100\n",
      "120/120 [==============================] - 0s 4ms/step - loss: 0.4146 - acc: 0.8775 - val_loss: 0.3263 - val_acc: 0.9037\n",
      "Epoch 5/100\n",
      "120/120 [==============================] - 0s 4ms/step - loss: 0.3829 - acc: 0.8864 - val_loss: 0.2668 - val_acc: 0.9207\n",
      "Epoch 6/100\n",
      "120/120 [==============================] - 0s 4ms/step - loss: 0.3538 - acc: 0.8944 - val_loss: 0.2202 - val_acc: 0.9351\n",
      "Epoch 7/100\n",
      "120/120 [==============================] - 0s 4ms/step - loss: 0.3281 - acc: 0.9028 - val_loss: 0.2565 - val_acc: 0.9263\n",
      "Epoch 8/100\n",
      "120/120 [==============================] - 0s 4ms/step - loss: 0.3206 - acc: 0.9030 - val_loss: 0.3184 - val_acc: 0.9128\n",
      "Epoch 9/100\n",
      "120/120 [==============================] - 0s 4ms/step - loss: 0.3038 - acc: 0.9121 - val_loss: 0.3252 - val_acc: 0.9053\n",
      "Epoch 10/100\n",
      "120/120 [==============================] - 0s 4ms/step - loss: 0.3000 - acc: 0.9126 - val_loss: 0.2541 - val_acc: 0.9261\n",
      "Epoch 11/100\n",
      "120/120 [==============================] - 0s 4ms/step - loss: 0.2868 - acc: 0.9152 - val_loss: 0.2933 - val_acc: 0.9178\n",
      "Epoch 12/100\n",
      "120/120 [==============================] - 0s 4ms/step - loss: 0.2711 - acc: 0.9220 - val_loss: 0.2817 - val_acc: 0.9214\n",
      "Epoch 13/100\n",
      "120/120 [==============================] - 0s 4ms/step - loss: 0.2634 - acc: 0.9222 - val_loss: 0.3084 - val_acc: 0.9126\n",
      "Epoch 14/100\n",
      "120/120 [==============================] - 0s 4ms/step - loss: 0.2803 - acc: 0.9182 - val_loss: 0.2267 - val_acc: 0.9338\n",
      "Epoch 15/100\n",
      "120/120 [==============================] - 0s 4ms/step - loss: 0.2575 - acc: 0.9250 - val_loss: 0.3498 - val_acc: 0.9054\n",
      "Epoch 16/100\n",
      "120/120 [==============================] - 0s 4ms/step - loss: 0.2673 - acc: 0.9214 - val_loss: 0.2165 - val_acc: 0.9371\n",
      "Epoch 17/100\n",
      "120/120 [==============================] - 0s 4ms/step - loss: 0.2372 - acc: 0.9304 - val_loss: 0.2472 - val_acc: 0.9304\n",
      "Epoch 18/100\n",
      "120/120 [==============================] - 0s 4ms/step - loss: 0.2428 - acc: 0.9272 - val_loss: 0.2195 - val_acc: 0.9416\n",
      "Epoch 19/100\n",
      "120/120 [==============================] - 0s 4ms/step - loss: 0.2471 - acc: 0.9265 - val_loss: 0.3120 - val_acc: 0.9177\n",
      "Epoch 20/100\n",
      "120/120 [==============================] - 0s 4ms/step - loss: 0.2534 - acc: 0.9259 - val_loss: 0.2600 - val_acc: 0.9278\n",
      "Epoch 21/100\n",
      "120/120 [==============================] - 0s 4ms/step - loss: 0.2361 - acc: 0.9308 - val_loss: 0.2616 - val_acc: 0.9239\n",
      "Epoch 22/100\n",
      "120/120 [==============================] - 0s 4ms/step - loss: 0.2378 - acc: 0.9303 - val_loss: 0.3455 - val_acc: 0.9050\n",
      "Epoch 23/100\n",
      "120/120 [==============================] - 0s 4ms/step - loss: 0.2352 - acc: 0.9301 - val_loss: 0.2788 - val_acc: 0.9237\n",
      "Epoch 24/100\n",
      "120/120 [==============================] - 0s 4ms/step - loss: 0.2326 - acc: 0.9295 - val_loss: 0.2206 - val_acc: 0.9404\n",
      "Epoch 25/100\n",
      "120/120 [==============================] - 0s 4ms/step - loss: 0.2326 - acc: 0.9318 - val_loss: 0.2671 - val_acc: 0.9265\n",
      "Epoch 26/100\n",
      "120/120 [==============================] - 0s 4ms/step - loss: 0.2331 - acc: 0.9317 - val_loss: 0.2615 - val_acc: 0.9226\n",
      "Epoch 27/100\n",
      "120/120 [==============================] - 0s 4ms/step - loss: 0.2354 - acc: 0.9316 - val_loss: 0.2348 - val_acc: 0.9373\n",
      "Epoch 28/100\n",
      "120/120 [==============================] - 0s 4ms/step - loss: 0.2302 - acc: 0.9323 - val_loss: 0.2661 - val_acc: 0.9302\n",
      "Epoch 29/100\n",
      "120/120 [==============================] - 0s 4ms/step - loss: 0.2314 - acc: 0.9338 - val_loss: 0.5463 - val_acc: 0.8305\n",
      "Epoch 30/100\n",
      "120/120 [==============================] - 0s 4ms/step - loss: 0.2348 - acc: 0.9317 - val_loss: 0.2129 - val_acc: 0.9390\n",
      "Epoch 31/100\n",
      "120/120 [==============================] - 0s 4ms/step - loss: 0.2045 - acc: 0.9410 - val_loss: 0.2271 - val_acc: 0.9393\n",
      "Epoch 32/100\n",
      "120/120 [==============================] - ETA: 0s - loss: 0.2256 - acc: 0.935 - 0s 4ms/step - loss: 0.2252 - acc: 0.9360 - val_loss: 0.2796 - val_acc: 0.9288\n",
      "Epoch 33/100\n",
      "120/120 [==============================] - 0s 4ms/step - loss: 0.2294 - acc: 0.9331 - val_loss: 0.2560 - val_acc: 0.9299\n",
      "Epoch 34/100\n",
      "120/120 [==============================] - 0s 4ms/step - loss: 0.2063 - acc: 0.9390 - val_loss: 0.2390 - val_acc: 0.9386\n",
      "Epoch 35/100\n",
      "120/120 [==============================] - 0s 4ms/step - loss: 0.2075 - acc: 0.9395 - val_loss: 0.2330 - val_acc: 0.9337\n",
      "Epoch 36/100\n",
      "120/120 [==============================] - 0s 4ms/step - loss: 0.2216 - acc: 0.9360 - val_loss: 0.2962 - val_acc: 0.9257\n",
      "Epoch 37/100\n",
      "120/120 [==============================] - 0s 4ms/step - loss: 0.2123 - acc: 0.9380 - val_loss: 0.3745 - val_acc: 0.9118\n",
      "Epoch 38/100\n",
      "120/120 [==============================] - 0s 4ms/step - loss: 0.2117 - acc: 0.9370 - val_loss: 0.2137 - val_acc: 0.9434\n",
      "Epoch 39/100\n",
      "120/120 [==============================] - 0s 4ms/step - loss: 0.2072 - acc: 0.9417 - val_loss: 0.3035 - val_acc: 0.9212\n",
      "Epoch 40/100\n",
      "120/120 [==============================] - 0s 4ms/step - loss: 0.2029 - acc: 0.9409 - val_loss: 0.2764 - val_acc: 0.9271\n",
      "Epoch 41/100\n",
      "120/120 [==============================] - 0s 4ms/step - loss: 0.2089 - acc: 0.9395 - val_loss: 0.2778 - val_acc: 0.9288\n",
      "Epoch 42/100\n",
      "120/120 [==============================] - 0s 4ms/step - loss: 0.2105 - acc: 0.9403 - val_loss: 0.3970 - val_acc: 0.8951\n",
      "Epoch 43/100\n",
      "120/120 [==============================] - 0s 4ms/step - loss: 0.2179 - acc: 0.9377 - val_loss: 0.3830 - val_acc: 0.9072\n",
      "Epoch 44/100\n",
      "120/120 [==============================] - 0s 4ms/step - loss: 0.2186 - acc: 0.9381 - val_loss: 0.2820 - val_acc: 0.9270\n",
      "Epoch 45/100\n",
      "120/120 [==============================] - 0s 4ms/step - loss: 0.1991 - acc: 0.9411 - val_loss: 0.2434 - val_acc: 0.9365\n",
      "Epoch 46/100\n",
      "120/120 [==============================] - 0s 4ms/step - loss: 0.2102 - acc: 0.9384 - val_loss: 0.2503 - val_acc: 0.9340\n",
      "Epoch 47/100\n",
      "120/120 [==============================] - 0s 4ms/step - loss: 0.1939 - acc: 0.9438 - val_loss: 0.2736 - val_acc: 0.9364\n",
      "Epoch 48/100\n",
      "120/120 [==============================] - 0s 4ms/step - loss: 0.2040 - acc: 0.9411 - val_loss: 0.2711 - val_acc: 0.9322\n",
      "Epoch 49/100\n",
      "120/120 [==============================] - 0s 4ms/step - loss: 0.1909 - acc: 0.9435 - val_loss: 0.2982 - val_acc: 0.9264\n",
      "Epoch 50/100\n",
      "120/120 [==============================] - 0s 4ms/step - loss: 0.1948 - acc: 0.9421 - val_loss: 0.2592 - val_acc: 0.9312\n",
      "Epoch 51/100\n",
      "120/120 [==============================] - 0s 4ms/step - loss: 0.1938 - acc: 0.9429 - val_loss: 0.2345 - val_acc: 0.9374\n",
      "Epoch 52/100\n",
      "120/120 [==============================] - 0s 4ms/step - loss: 0.1969 - acc: 0.9441 - val_loss: 0.2902 - val_acc: 0.9300\n",
      "Epoch 53/100\n",
      "120/120 [==============================] - 0s 4ms/step - loss: 0.2070 - acc: 0.9415 - val_loss: 0.2509 - val_acc: 0.9370\n",
      "Epoch 54/100\n",
      "120/120 [==============================] - 0s 4ms/step - loss: 0.1971 - acc: 0.9438 - val_loss: 0.2900 - val_acc: 0.9312\n",
      "Epoch 55/100\n",
      "120/120 [==============================] - 0s 4ms/step - loss: 0.2057 - acc: 0.9388 - val_loss: 0.2342 - val_acc: 0.9412\n",
      "Epoch 56/100\n",
      "120/120 [==============================] - 0s 4ms/step - loss: 0.1892 - acc: 0.9447 - val_loss: 0.2532 - val_acc: 0.9392\n",
      "Epoch 57/100\n",
      "120/120 [==============================] - 0s 4ms/step - loss: 0.1994 - acc: 0.9416 - val_loss: 0.3457 - val_acc: 0.9160\n",
      "Epoch 58/100\n",
      "120/120 [==============================] - 0s 4ms/step - loss: 0.1943 - acc: 0.9449 - val_loss: 0.2542 - val_acc: 0.9355\n",
      "Epoch 59/100\n",
      "120/120 [==============================] - 0s 4ms/step - loss: 0.1828 - acc: 0.9472 - val_loss: 0.2697 - val_acc: 0.9328\n",
      "Epoch 60/100\n",
      "120/120 [==============================] - 0s 4ms/step - loss: 0.1933 - acc: 0.9444 - val_loss: 0.2556 - val_acc: 0.9358\n",
      "Epoch 61/100\n",
      "120/120 [==============================] - 0s 4ms/step - loss: 0.1870 - acc: 0.9452 - val_loss: 0.2666 - val_acc: 0.9339\n",
      "Epoch 62/100\n",
      "120/120 [==============================] - 0s 4ms/step - loss: 0.2034 - acc: 0.9438 - val_loss: 0.2747 - val_acc: 0.9379\n",
      "Epoch 63/100\n",
      "120/120 [==============================] - 0s 4ms/step - loss: 0.1840 - acc: 0.9469 - val_loss: 0.2737 - val_acc: 0.9367\n",
      "Epoch 64/100\n",
      "120/120 [==============================] - 0s 4ms/step - loss: 0.1893 - acc: 0.9461 - val_loss: 0.2732 - val_acc: 0.9379\n",
      "Epoch 65/100\n",
      "120/120 [==============================] - 0s 4ms/step - loss: 0.1952 - acc: 0.9433 - val_loss: 0.2908 - val_acc: 0.9328\n",
      "Epoch 66/100\n",
      "120/120 [==============================] - 1s 5ms/step - loss: 0.1882 - acc: 0.9450 - val_loss: 0.3141 - val_acc: 0.9294\n",
      "Epoch 67/100\n",
      "120/120 [==============================] - 0s 4ms/step - loss: 0.1881 - acc: 0.9455 - val_loss: 0.3420 - val_acc: 0.9233\n",
      "Epoch 68/100\n",
      "120/120 [==============================] - 0s 4ms/step - loss: 0.1937 - acc: 0.9447 - val_loss: 0.2742 - val_acc: 0.9377\n",
      "Epoch 69/100\n",
      "120/120 [==============================] - 0s 4ms/step - loss: 0.1883 - acc: 0.9462 - val_loss: 0.2421 - val_acc: 0.9423\n",
      "Epoch 70/100\n",
      "120/120 [==============================] - 0s 4ms/step - loss: 0.1926 - acc: 0.9445 - val_loss: 0.2694 - val_acc: 0.9400\n",
      "Epoch 71/100\n",
      "120/120 [==============================] - 0s 4ms/step - loss: 0.1917 - acc: 0.9456 - val_loss: 0.2945 - val_acc: 0.9352\n",
      "Epoch 72/100\n",
      "120/120 [==============================] - 0s 4ms/step - loss: 0.1827 - acc: 0.9466 - val_loss: 0.3793 - val_acc: 0.9107\n",
      "Epoch 73/100\n",
      "120/120 [==============================] - 0s 4ms/step - loss: 0.1803 - acc: 0.9481 - val_loss: 0.2603 - val_acc: 0.9377\n",
      "Epoch 74/100\n",
      "120/120 [==============================] - 0s 4ms/step - loss: 0.1913 - acc: 0.9459 - val_loss: 0.2469 - val_acc: 0.9382\n",
      "Epoch 75/100\n",
      "120/120 [==============================] - 0s 4ms/step - loss: 0.1841 - acc: 0.9472 - val_loss: 0.3113 - val_acc: 0.9324\n",
      "Epoch 76/100\n",
      "120/120 [==============================] - 0s 4ms/step - loss: 0.1980 - acc: 0.9449 - val_loss: 0.2809 - val_acc: 0.9336\n",
      "Epoch 77/100\n",
      "120/120 [==============================] - 0s 4ms/step - loss: 0.1911 - acc: 0.9465 - val_loss: 0.2655 - val_acc: 0.9366\n",
      "Epoch 78/100\n",
      "120/120 [==============================] - 0s 4ms/step - loss: 0.1858 - acc: 0.9455 - val_loss: 0.2522 - val_acc: 0.9392\n",
      "Epoch 79/100\n",
      "120/120 [==============================] - 0s 4ms/step - loss: 0.1864 - acc: 0.9449 - val_loss: 0.2424 - val_acc: 0.9432\n",
      "Epoch 80/100\n",
      "120/120 [==============================] - 0s 4ms/step - loss: 0.1740 - acc: 0.9502 - val_loss: 0.2454 - val_acc: 0.9398\n",
      "Epoch 81/100\n",
      "120/120 [==============================] - 0s 4ms/step - loss: 0.1785 - acc: 0.9461 - val_loss: 0.4636 - val_acc: 0.8744\n",
      "Epoch 82/100\n",
      "120/120 [==============================] - 0s 4ms/step - loss: 0.1975 - acc: 0.9432 - val_loss: 0.2923 - val_acc: 0.9328\n",
      "Epoch 83/100\n",
      "120/120 [==============================] - 0s 4ms/step - loss: 0.1890 - acc: 0.9466 - val_loss: 0.3062 - val_acc: 0.9312\n",
      "Epoch 84/100\n",
      "120/120 [==============================] - 0s 4ms/step - loss: 0.1866 - acc: 0.9457 - val_loss: 0.2559 - val_acc: 0.9385\n",
      "Epoch 85/100\n",
      "120/120 [==============================] - 0s 4ms/step - loss: 0.1742 - acc: 0.9491 - val_loss: 0.2613 - val_acc: 0.9359\n",
      "Epoch 86/100\n",
      "120/120 [==============================] - 0s 4ms/step - loss: 0.1855 - acc: 0.9464 - val_loss: 0.2950 - val_acc: 0.9297\n",
      "Epoch 87/100\n",
      "120/120 [==============================] - 0s 4ms/step - loss: 0.1830 - acc: 0.9460 - val_loss: 0.2805 - val_acc: 0.9333\n",
      "Epoch 88/100\n",
      "120/120 [==============================] - 0s 4ms/step - loss: 0.1828 - acc: 0.9485 - val_loss: 0.3117 - val_acc: 0.9262\n",
      "Epoch 89/100\n",
      "120/120 [==============================] - 0s 4ms/step - loss: 0.1857 - acc: 0.9465 - val_loss: 0.2860 - val_acc: 0.9353\n",
      "Epoch 90/100\n",
      "120/120 [==============================] - 0s 4ms/step - loss: 0.1866 - acc: 0.9471 - val_loss: 0.3041 - val_acc: 0.9352\n",
      "Epoch 91/100\n",
      "120/120 [==============================] - 0s 4ms/step - loss: 0.1805 - acc: 0.9467 - val_loss: 0.2734 - val_acc: 0.9373\n",
      "Epoch 92/100\n",
      "120/120 [==============================] - 0s 4ms/step - loss: 0.1855 - acc: 0.9479 - val_loss: 0.2633 - val_acc: 0.9427\n",
      "Epoch 93/100\n",
      "120/120 [==============================] - 0s 4ms/step - loss: 0.1672 - acc: 0.9510 - val_loss: 0.2507 - val_acc: 0.9416\n",
      "Epoch 94/100\n",
      "120/120 [==============================] - 0s 4ms/step - loss: 0.1810 - acc: 0.9483 - val_loss: 0.2492 - val_acc: 0.9400\n",
      "Epoch 95/100\n",
      "120/120 [==============================] - 0s 4ms/step - loss: 0.1779 - acc: 0.9482 - val_loss: 0.3617 - val_acc: 0.9190\n",
      "Epoch 96/100\n",
      "120/120 [==============================] - 0s 4ms/step - loss: 0.1953 - acc: 0.9432 - val_loss: 0.3090 - val_acc: 0.9269\n",
      "Epoch 97/100\n",
      "120/120 [==============================] - 0s 4ms/step - loss: 0.1834 - acc: 0.9474 - val_loss: 0.2882 - val_acc: 0.9333\n",
      "Epoch 98/100\n",
      "120/120 [==============================] - 0s 4ms/step - loss: 0.1795 - acc: 0.9490 - val_loss: 0.2861 - val_acc: 0.9398\n",
      "Epoch 99/100\n",
      "120/120 [==============================] - 0s 4ms/step - loss: 0.1820 - acc: 0.9485 - val_loss: 0.2761 - val_acc: 0.9399\n",
      "Epoch 100/100\n",
      "120/120 [==============================] - 0s 4ms/step - loss: 0.1781 - acc: 0.9483 - val_loss: 0.3309 - val_acc: 0.9204\n"
     ]
    },
    {
     "data": {
      "text/plain": [
       "<tensorflow.python.keras.callbacks.History at 0x2088a4cdcf8>"
      ]
     },
     "execution_count": 43,
     "metadata": {},
     "output_type": "execute_result"
    }
   ],
   "source": [
    "from tensorflow.keras.optimizers import RMSprop\n",
    "model.compile(optimizer=RMSprop(learning_rate=0.1), loss='categorical_crossentropy',metrics=['acc'])\n",
    "model.fit(x_train,y_train,validation_split=0.2,epochs=100,batch_size=400,verbose=1)"
   ]
  },
  {
   "cell_type": "code",
   "execution_count": null,
   "id": "f56306e4-621e-46df-b1ba-d22dc55c01a0",
   "metadata": {},
   "outputs": [],
   "source": []
  }
 ],
 "metadata": {
  "kernelspec": {
   "display_name": "Python 3 (ipykernel)",
   "language": "python",
   "name": "python3"
  },
  "language_info": {
   "codemirror_mode": {
    "name": "ipython",
    "version": 3
   },
   "file_extension": ".py",
   "mimetype": "text/x-python",
   "name": "python",
   "nbconvert_exporter": "python",
   "pygments_lexer": "ipython3",
   "version": "3.7.1"
  }
 },
 "nbformat": 4,
 "nbformat_minor": 5
}
